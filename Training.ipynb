{
 "cells": [
  {
   "cell_type": "markdown",
   "metadata": {},
   "source": [
    "# | [Day 1](#day1)\n",
    "__Python basics (List, Tuple, Dictionary)__\n",
    "\n",
    "# | [Day 2](#day2)\n",
    "__`while..else`, STRINGs, Sttring formatting (History), Classes__\n",
    "\n",
    "# | [Day 3](#day3)\n",
    "__Class Inheritance, Scopes, Set, Exceptions, DateTime, Math__\n",
    "\n",
    "# | [Day 4](#day4)\n",
    "__File Handling (with context manager), List Comprehension__"
   ]
  },
  {
   "cell_type": "markdown",
   "metadata": {},
   "source": [
    "<br>\n",
    "\n",
    "# <a id=\"day1\"> Day 1 </a>\n",
    "\n",
    "## LIST"
   ]
  },
  {
   "cell_type": "code",
   "execution_count": 1,
   "metadata": {},
   "outputs": [],
   "source": [
    "numbers = [10, 20, 30, 40, 50]"
   ]
  },
  {
   "cell_type": "code",
   "execution_count": 2,
   "metadata": {},
   "outputs": [
    {
     "data": {
      "text/plain": [
       "[10, 20, 30, 40]"
      ]
     },
     "execution_count": 2,
     "metadata": {},
     "output_type": "execute_result"
    }
   ],
   "source": [
    "del numbers[-1]\n",
    "numbers"
   ]
  },
  {
   "cell_type": "code",
   "execution_count": 3,
   "metadata": {},
   "outputs": [
    {
     "data": {
      "text/plain": [
       "[20, 30, 40]"
      ]
     },
     "execution_count": 3,
     "metadata": {},
     "output_type": "execute_result"
    }
   ],
   "source": [
    "numbers.remove(10)\n",
    "numbers"
   ]
  },
  {
   "cell_type": "code",
   "execution_count": 4,
   "metadata": {},
   "outputs": [
    {
     "name": "stdout",
     "output_type": "stream",
     "text": [
      "40\n"
     ]
    },
    {
     "data": {
      "text/plain": [
       "[20, 30]"
      ]
     },
     "execution_count": 4,
     "metadata": {},
     "output_type": "execute_result"
    }
   ],
   "source": [
    "print(numbers.pop())\n",
    "numbers"
   ]
  },
  {
   "cell_type": "code",
   "execution_count": 5,
   "metadata": {},
   "outputs": [
    {
     "data": {
      "text/plain": [
       "[10, 20, 30]"
      ]
     },
     "execution_count": 5,
     "metadata": {},
     "output_type": "execute_result"
    }
   ],
   "source": [
    "numbers.insert(0, 10)\n",
    "numbers"
   ]
  },
  {
   "cell_type": "markdown",
   "metadata": {},
   "source": [
    "<br><br>\n",
    "\n",
    "## TUPLE"
   ]
  },
  {
   "cell_type": "code",
   "execution_count": 6,
   "metadata": {},
   "outputs": [
    {
     "data": {
      "text/plain": [
       "tuple"
      ]
     },
     "execution_count": 6,
     "metadata": {},
     "output_type": "execute_result"
    }
   ],
   "source": [
    "t = ('python',)\n",
    "type(t)"
   ]
  },
  {
   "cell_type": "markdown",
   "metadata": {},
   "source": [
    "<br><br>\n",
    "\n",
    "## DICTIONARY"
   ]
  },
  {
   "cell_type": "code",
   "execution_count": 7,
   "metadata": {},
   "outputs": [
    {
     "data": {
      "text/plain": [
       "{'a': 1, 'b': 2}"
      ]
     },
     "execution_count": 7,
     "metadata": {},
     "output_type": "execute_result"
    }
   ],
   "source": [
    "d = {}\n",
    "d['a'] = 1\n",
    "d['b'] = 2\n",
    "\n",
    "d"
   ]
  },
  {
   "cell_type": "code",
   "execution_count": 8,
   "metadata": {},
   "outputs": [
    {
     "data": {
      "text/plain": [
       "{}"
      ]
     },
     "execution_count": 8,
     "metadata": {},
     "output_type": "execute_result"
    }
   ],
   "source": [
    "d.clear()\n",
    "d"
   ]
  },
  {
   "cell_type": "markdown",
   "metadata": {},
   "source": [
    "<br><br>\n",
    "\n",
    "## FUNCTION `*args`"
   ]
  },
  {
   "cell_type": "code",
   "execution_count": 9,
   "metadata": {},
   "outputs": [
    {
     "name": "stdout",
     "output_type": "stream",
     "text": [
      "Welcome .veena ..veenas ...veenaas\n"
     ]
    }
   ],
   "source": [
    "def special_greeting(message, *names):\n",
    "    print(message, *names)\n",
    "    \n",
    "special_greeting('Welcome', '.veena', '..veenas' , '...veenaas')"
   ]
  },
  {
   "cell_type": "code",
   "execution_count": 10,
   "metadata": {},
   "outputs": [
    {
     "name": "stdout",
     "output_type": "stream",
     "text": [
      "Welcome veena veenas veenaas\n"
     ]
    }
   ],
   "source": [
    "def special_greeting(message, *names):\n",
    "    print(message, *names)\n",
    "    \n",
    "special_greeting('Welcome', *['veena', 'veenas' , 'veenaas'])"
   ]
  },
  {
   "cell_type": "markdown",
   "metadata": {},
   "source": [
    "<br><br>\n",
    "\n",
    "# <a id=\"day2\"> Day 2 </a>"
   ]
  },
  {
   "cell_type": "markdown",
   "metadata": {},
   "source": [
    "## `while`..`else`"
   ]
  },
  {
   "cell_type": "code",
   "execution_count": 11,
   "metadata": {},
   "outputs": [
    {
     "name": "stdout",
     "output_type": "stream",
     "text": [
      "0\n",
      "1\n",
      "2\n",
      "3\n",
      "4\n",
      "5\n",
      "Final value of i = 6\n"
     ]
    }
   ],
   "source": [
    "i = 0\n",
    "\n",
    "while i < 6:\n",
    "    print(i)\n",
    "    i += 1\n",
    "else:\n",
    "    print(f\"Final value of i = {i}\")"
   ]
  },
  {
   "cell_type": "markdown",
   "metadata": {},
   "source": [
    "Similar to `while`, `for` loops have `else` clause."
   ]
  },
  {
   "cell_type": "markdown",
   "metadata": {},
   "source": [
    "<br>\n",
    "\n",
    "## STRINGs"
   ]
  },
  {
   "cell_type": "code",
   "execution_count": 12,
   "metadata": {},
   "outputs": [
    {
     "data": {
      "text/plain": [
       "str"
      ]
     },
     "execution_count": 12,
     "metadata": {},
     "output_type": "execute_result"
    }
   ],
   "source": [
    "s_multiline = \"\"\"string\"\"\"\n",
    "type(s_multiline)"
   ]
  },
  {
   "cell_type": "markdown",
   "metadata": {},
   "source": [
    "<br>In Windows systems, strings on new line always end in `\\r\\n`.\n",
    "<br>In Linux systems, strings always end only in `\\n`.\n"
   ]
  },
  {
   "cell_type": "code",
   "execution_count": 13,
   "metadata": {},
   "outputs": [
    {
     "name": "stdout",
     "output_type": "stream",
     "text": [
      "\\s = space\n",
      "\n"
     ]
    }
   ],
   "source": [
    "print(\"\\s = space\", end='\\n\\n')"
   ]
  },
  {
   "cell_type": "code",
   "execution_count": 14,
   "metadata": {},
   "outputs": [
    {
     "name": "stdout",
     "output_type": "stream",
     "text": [
      "\t = tab\n",
      "\n"
     ]
    }
   ],
   "source": [
    "print(\"\\t = tab\", end='\\n\\n')"
   ]
  },
  {
   "cell_type": "code",
   "execution_count": 15,
   "metadata": {},
   "outputs": [
    {
     "name": "stdout",
     "output_type": "stream",
     "text": [
      "Line 1 Line 2 Line 3\n",
      "\\ = line continuation\n",
      "\n"
     ]
    }
   ],
   "source": [
    "print(\"Line 1 \\\n",
    "Line 2 \\\n",
    "Line 3\\n\\\n",
    "\\\\ = line continuation\", end='\\n\\n')"
   ]
  },
  {
   "cell_type": "code",
   "execution_count": 16,
   "metadata": {},
   "outputs": [
    {
     "name": "stdout",
     "output_type": "stream",
     "text": [
      "Welcome\tto\tPython\n"
     ]
    }
   ],
   "source": [
    "print(\"Welcome\\tto\\tPython\")"
   ]
  },
  {
   "cell_type": "markdown",
   "metadata": {},
   "source": [
    "The second `\\t` always adds extra space.\n",
    "<br><br>\n"
   ]
  },
  {
   "cell_type": "code",
   "execution_count": 17,
   "metadata": {},
   "outputs": [
    {
     "name": "stdout",
     "output_type": "stream",
     "text": [
      "Unicode strings - TO BE DISCUSSED LATER\n",
      "\n"
     ]
    }
   ],
   "source": [
    "print(\"Unicode strings - TO BE DISCUSSED LATER\", end='\\n\\n')"
   ]
  },
  {
   "cell_type": "code",
   "execution_count": 18,
   "metadata": {},
   "outputs": [
    {
     "name": "stdout",
     "output_type": "stream",
     "text": [
      " Earthlingss    \n",
      "False False\n",
      "1\n",
      "2 -1\n",
      "2\n",
      "earthlingss\n",
      "earthlingss\n"
     ]
    }
   ],
   "source": [
    "s = \" earthlingss    \"\n",
    "print(s.title())\n",
    "print(s.startswith('Ea'), s.startswith('ea'))\n",
    "print(s.count('a'))\n",
    "\n",
    "# User find over index (.index() errors if match not found while .find() returns -1 when not found)\n",
    "print(s.find('a'), s.find('H'))\n",
    "print(s.index('a'))\n",
    "\n",
    "print(s.lstrip().rstrip())\n",
    "\n",
    "print(s.lstrip().rstrip().zfill(10))"
   ]
  },
  {
   "cell_type": "code",
   "execution_count": 19,
   "metadata": {},
   "outputs": [
    {
     "name": "stdout",
     "output_type": "stream",
     "text": [
      "0000000123\n",
      "\n"
     ]
    }
   ],
   "source": [
    "print('123'.zfill(10), end='\\n\\n')"
   ]
  },
  {
   "cell_type": "markdown",
   "metadata": {},
   "source": [
    "### _String formatting (History)_"
   ]
  },
  {
   "cell_type": "code",
   "execution_count": 20,
   "metadata": {},
   "outputs": [
    {
     "name": "stdout",
     "output_type": "stream",
     "text": [
      "Veena is 18 years old.\n",
      "Veena is 18 years old. As she's 18 years old, she can vote!\n",
      "Veena is 18 years old. As she's 18 years old, she can vote!\n",
      "Veena is 18 years old. As she's 18 years old, she can vote!\n",
      "Veena is 18 years old, and she can vote!\n",
      "Veena is 18 years old, and she can vote!\n"
     ]
    }
   ],
   "source": [
    "name, age = 'Veena', 18\n",
    "\n",
    "print(\"%s is %d years old.\" % (name, age))\n",
    "print(\"{} is {} years old. As she's {} years old, she can vote!\".format(name, age, age))\n",
    "print(\"{0} is {1} years old. As she's {1} years old, she can vote!\".format(name, age))\n",
    "print(\"{name} is {age} years old. As she's {age} years old, she can vote!\".format(name=name, age=age))\n",
    "print(f\"{name} is {age} years old, and she can vote!\")\n",
    "print(F\"{name} is {age} years old, and she can vote!\")"
   ]
  },
  {
   "cell_type": "code",
   "execution_count": 21,
   "metadata": {},
   "outputs": [
    {
     "name": "stdout",
     "output_type": "stream",
     "text": [
      "Joe is 20 years old, and he can vote!\n"
     ]
    }
   ],
   "source": [
    "print(f\"{'Joe'} is {age+2} years old, and he can vote!\")"
   ]
  },
  {
   "cell_type": "markdown",
   "metadata": {},
   "source": [
    "<br><br>\n",
    "\n",
    "## Classes"
   ]
  },
  {
   "cell_type": "code",
   "execution_count": 22,
   "metadata": {},
   "outputs": [
    {
     "name": "stdout",
     "output_type": "stream",
     "text": [
      "I know just enough about Classes and Objects in Python, but I'll still try something!\n"
     ]
    }
   ],
   "source": [
    "print(\"I know just enough about Classes and Objects in Python, but I'll still try something!\")"
   ]
  },
  {
   "cell_type": "code",
   "execution_count": 23,
   "metadata": {},
   "outputs": [],
   "source": [
    "class Car:\n",
    "    \"\"\"Simple Car Model\"\"\"\n",
    "    __slots__ = ('brand', 'model', 'year', 'color')\n",
    "    \n",
    "    def __init__(self, brand, model, year, color):\n",
    "        self.brand = brand\n",
    "        self.model = model\n",
    "        self.year = year\n",
    "        self.color = color\n",
    "        \n",
    "    def __str__(self):\n",
    "        return f\"{self.brand}/{self.model}/{self.year}/{self.color}\"\n",
    "    \n",
    "    def __repr__(self):\n",
    "        return f\"{self.__class__.__name__} {self.__str__()!r}\""
   ]
  },
  {
   "cell_type": "code",
   "execution_count": 24,
   "metadata": {},
   "outputs": [
    {
     "name": "stdout",
     "output_type": "stream",
     "text": [
      "Honda/Civic/2014/Black\n"
     ]
    },
    {
     "data": {
      "text/plain": [
       "Car 'Honda/Civic/2014/Black'"
      ]
     },
     "execution_count": 24,
     "metadata": {},
     "output_type": "execute_result"
    }
   ],
   "source": [
    "honda = Car('Honda', 'Civic', 2014, 'Black')\n",
    "\n",
    "print(honda)\n",
    "honda"
   ]
  },
  {
   "cell_type": "code",
   "execution_count": 25,
   "metadata": {},
   "outputs": [
    {
     "name": "stdout",
     "output_type": "stream",
     "text": [
      "Your Order is (Amount:200, Discount:10)\n"
     ]
    },
    {
     "data": {
      "text/plain": [
       "Order (Amount:200, Discount:10)"
      ]
     },
     "execution_count": 25,
     "metadata": {},
     "output_type": "execute_result"
    }
   ],
   "source": [
    "class Order:\n",
    "    \"\"\"Simple Order!\"\"\"\n",
    "    \n",
    "    def __init__(self, amount, discount=0):\n",
    "        self.amount = amount\n",
    "        self.discount = discount\n",
    "        \n",
    "    def calculate(self):\n",
    "        return self.amount - (self.amount)*(self.discount/100)\n",
    "\n",
    "    def __str__(self):\n",
    "        return f\"Your {self.__class__.__name__} is (Amount:{self.amount}, Discount:{self.discount})\"\n",
    "    \n",
    "    def __repr__(self):\n",
    "        return f\"{self.__class__.__name__} (Amount:{self.amount}, Discount:{self.discount})\"\n",
    "    \n",
    "order = Order(200, 10)\n",
    "print(order)\n",
    "order"
   ]
  },
  {
   "cell_type": "code",
   "execution_count": 26,
   "metadata": {},
   "outputs": [
    {
     "name": "stdout",
     "output_type": "stream",
     "text": [
      "Your Order is (Amount:500, Discount:10) Grand Total: 450.0\n",
      "Your Order is (Amount:1000, Discount:20) Grand Total: 800.0\n",
      "Your Order is (Amount:100, Discount:5) Grand Total: 95.0\n"
     ]
    }
   ],
   "source": [
    "orders = [(500, 10), (1000, 20), (100, 5)]\n",
    "\n",
    "for order in orders:\n",
    "    o = Order(*order)\n",
    "    print(o, f\"Grand Total: {o.calculate()}\")\n"
   ]
  },
  {
   "cell_type": "markdown",
   "metadata": {},
   "source": [
    "<br><br>\n",
    "\n",
    "# <a id=\"day3\"> Day 3 </a>"
   ]
  },
  {
   "cell_type": "markdown",
   "metadata": {},
   "source": [
    "## Class variables (static variables)"
   ]
  },
  {
   "cell_type": "code",
   "execution_count": 27,
   "metadata": {},
   "outputs": [
    {
     "name": "stdout",
     "output_type": "stream",
     "text": [
      "Welcome! Cognizant, Balance: 140,000,000,000,000\n",
      "Welcome! Tesla, Balance: 1,000,000,000,000,000,000,000\n",
      "\n",
      "CapitalOne, You have 2 loyal customers!\n"
     ]
    }
   ],
   "source": [
    "class CapitalOne:\n",
    "    \"\"\" Static variables (other languages) <==> Class variablea (Python)\n",
    "    \"\"\"\n",
    "    _customers = 0\n",
    "    __slots__ = ('__name', '__balance')\n",
    "    \n",
    "    def __init__(self, name, balance):\n",
    "        self.__name = name\n",
    "        self.__balance = balance\n",
    "        self._customer_add()\n",
    "        \n",
    "    def _customer_add(self):\n",
    "        CapitalOne._customers += 1\n",
    "        \n",
    "    @classmethod\n",
    "    def customers(cls):\n",
    "        return f\"{cls.__name__}, You have {cls._customers} loyal customer{'s' if cls._customers > 1 else ''}!\"\n",
    "        \n",
    "    def __str__(self):\n",
    "        return f\"{self.info()} {self.__name}, Balance: {self.__balance:,}\"\n",
    "    \n",
    "    def __repr__(self):\n",
    "        return f\"{self.__class__.__name__} (Customer: {self.__name}, Balance: {self.__balance:,})\"\n",
    "    \n",
    "    @staticmethod\n",
    "    def info():\n",
    "        \"\"\"staticmethod is a class method that doesn't need a cls reference\"\"\"\n",
    "        return \"Welcome!\"\n",
    "\n",
    "\n",
    "cognizant = CapitalOne('Cognizant', 140_000_000_000_000)\n",
    "tesla = CapitalOne('Tesla', 1000_000_000_000_000_000_000)\n",
    "\n",
    "print(cognizant)\n",
    "print(tesla)\n",
    "print()\n",
    "print(CapitalOne.customers())"
   ]
  },
  {
   "cell_type": "markdown",
   "metadata": {},
   "source": [
    "<br>\n",
    "\n",
    "## Class Inheritance"
   ]
  },
  {
   "cell_type": "code",
   "execution_count": 28,
   "metadata": {},
   "outputs": [
    {
     "name": "stdout",
     "output_type": "stream",
     "text": [
      "Welcome! Cognizant, Balance: 140,000,000,000,000\n",
      "Welcome! Tesla, Balance: 1,000,000,000,000,000,000,000\n",
      "\n",
      "BankOfAmerica, You have 2 loyal customers!\n"
     ]
    },
    {
     "data": {
      "text/plain": [
       "Welcome!, Tesla,\n",
       "          You're with Bank Of America,\n",
       "          Your balance: 1,000,000,000,000,000,000,000)"
      ]
     },
     "execution_count": 28,
     "metadata": {},
     "output_type": "execute_result"
    }
   ],
   "source": [
    "class Bank:\n",
    "    \"\"\"Banking Base class\n",
    "    \"\"\"\n",
    "    name = \"Set your name\"\n",
    "    address = \"Set your address\"\n",
    "    currency = \"Set your currency\"\n",
    "    \n",
    "    def __init__(self, name, address, currency):\n",
    "        Bank.name = name\n",
    "        Bank.address = address\n",
    "        Bank.currency = currency\n",
    "        \n",
    "    def __str__(self):\n",
    "        return f\"{Bank.name}/{Bank.address}/{Bank.currency}\"\n",
    "    \n",
    "    def __repr__(self):\n",
    "        return self.__str__()\n",
    "    \n",
    "    \n",
    "    \n",
    "class BankOfAmerica(Bank):\n",
    "    \"\"\" Static variables (other languages) <==> Class variablea (Python)\n",
    "    \"\"\"\n",
    "    _customers = 0\n",
    "    __slots__ = ('__name', '__balance')\n",
    "    \n",
    "    \n",
    "    def __init__(self, name, balance):\n",
    "        super().__init__(\"Bank Of America\",\n",
    "                         \"Colony 1, USA 12345\",\n",
    "                         \"$\")\n",
    "        self.__name = name\n",
    "        self.__balance = balance\n",
    "        self._customer_add()\n",
    "        \n",
    "    @classmethod\n",
    "    def _customer_add(cls):\n",
    "        cls._customers += 1\n",
    "        \n",
    "    @classmethod\n",
    "    def customers(cls):\n",
    "        return f\"{cls.__name__}, You have {cls._customers} loyal customer{'s' if cls._customers > 1 else ''}!\"\n",
    "        \n",
    "    def __str__(self):\n",
    "        return f\"{self.info()} {self.__name}, Balance: {self.__balance:,}\"\n",
    "    \n",
    "    def __repr__(self):\n",
    "        return f\"\"\"{self.info()}, {self.__name},\n",
    "          You're with {super().name},\n",
    "          Your balance: {self.__balance:,})\"\"\"\n",
    "    \n",
    "    @staticmethod\n",
    "    def info():\n",
    "        \"\"\"staticmethod is a class method that doesn't need a cls reference\n",
    "        \"\"\"\n",
    "        return \"Welcome!\"\n",
    "\n",
    "\n",
    "cognizant = BankOfAmerica('Cognizant', 140_000_000_000_000)\n",
    "tesla = BankOfAmerica('Tesla', 1000_000_000_000_000_000_000)\n",
    "\n",
    "print(cognizant)\n",
    "print(tesla)\n",
    "print()\n",
    "print(BankOfAmerica.customers())\n",
    "tesla\n",
    "\n",
    "\n",
    "# del BankOfAmerica\n",
    "# del Bank"
   ]
  },
  {
   "cell_type": "markdown",
   "metadata": {},
   "source": [
    "`isinstance()`, `issubclass()`"
   ]
  },
  {
   "cell_type": "code",
   "execution_count": 29,
   "metadata": {},
   "outputs": [
    {
     "name": "stdout",
     "output_type": "stream",
     "text": [
      "\n",
      "isinstance(tesla, BankOfAmerica) ? True\n",
      "isinstance(tesla, Bank) ? True\n",
      "\n",
      "issubclass(BankOfAmerica, Bank) ? True\n",
      "issubclass(Bank, BankOfAmerica) ? False\n"
     ]
    }
   ],
   "source": [
    "print()\n",
    "print(f\"isinstance(tesla, BankOfAmerica) ? {isinstance(tesla, BankOfAmerica)}\")\n",
    "print(f\"isinstance(tesla, Bank) ? {isinstance(tesla, Bank)}\")\n",
    "print()\n",
    "print(f\"issubclass(BankOfAmerica, Bank) ? {issubclass(BankOfAmerica, Bank)}\")\n",
    "print(f\"issubclass(Bank, BankOfAmerica) ? {issubclass(Bank, BankOfAmerica)}\")"
   ]
  },
  {
   "cell_type": "markdown",
   "metadata": {},
   "source": [
    "<br>\n",
    "\n",
    "## SCOPE"
   ]
  },
  {
   "cell_type": "code",
   "execution_count": 30,
   "metadata": {},
   "outputs": [
    {
     "name": "stdout",
     "output_type": "stream",
     "text": [
      "global\n",
      "changed in local\n"
     ]
    }
   ],
   "source": [
    "# globals\n",
    "name = \"global\"\n",
    "\n",
    "def change_scope():\n",
    "    global name\n",
    "    name = \"changed in local\"\n",
    "\n",
    "\n",
    "print(name)\n",
    "change_scope()    \n",
    "print(name)"
   ]
  },
  {
   "cell_type": "markdown",
   "metadata": {},
   "source": [
    "<br>\n",
    "\n",
    "## SET"
   ]
  },
  {
   "cell_type": "code",
   "execution_count": 31,
   "metadata": {},
   "outputs": [
    {
     "data": {
      "text/plain": [
       "set()"
      ]
     },
     "execution_count": 31,
     "metadata": {},
     "output_type": "execute_result"
    }
   ],
   "source": [
    "language = {'Python', 'SQL', 'Java', 'JS', 'Perl'}\n",
    "\n",
    "language.add('NoSQL')\n",
    "language.remove('Python')  # Errors, if not found\n",
    "language.discard('JS') # Silent return, if item not found\n",
    "\n",
    "language.clear()  # Empty the Set\n",
    "language"
   ]
  },
  {
   "cell_type": "markdown",
   "metadata": {},
   "source": [
    "<br>\n",
    "\n",
    "## EXCEPTION"
   ]
  },
  {
   "cell_type": "code",
   "execution_count": 32,
   "metadata": {},
   "outputs": [
    {
     "name": "stdout",
     "output_type": "stream",
     "text": [
      "1.0\n",
      "Oh no!\n",
      "Cleaning up!\n"
     ]
    }
   ],
   "source": [
    "try:\n",
    "    print(1/1)\n",
    "except:\n",
    "    print(\"Catch me if you can!\")\n",
    "else:\n",
    "    print(\"Oh no!\")\n",
    "finally:\n",
    "    print(\"Cleaning up!\")"
   ]
  },
  {
   "cell_type": "code",
   "execution_count": 33,
   "metadata": {},
   "outputs": [
    {
     "name": "stdout",
     "output_type": "stream",
     "text": [
      "Catch me if you can!\n",
      "Cleaning up!\n"
     ]
    }
   ],
   "source": [
    "try:\n",
    "    print(1/0)\n",
    "except:\n",
    "    print(\"Catch me if you can!\")\n",
    "else:\n",
    "    print(\"Oh no!\")\n",
    "finally:\n",
    "    print(\"Cleaning up!\")\n"
   ]
  },
  {
   "cell_type": "code",
   "execution_count": 34,
   "metadata": {},
   "outputs": [
    {
     "name": "stdout",
     "output_type": "stream",
     "text": [
      "<attribute 'args' of 'BaseException' objects>\n"
     ]
    }
   ],
   "source": [
    "try:\n",
    "    raise TypeError(\"I'm trying something new\")\n",
    "except TypeError:\n",
    "    print(TypeError.args)"
   ]
  },
  {
   "cell_type": "code",
   "execution_count": 35,
   "metadata": {},
   "outputs": [
    {
     "name": "stdout",
     "output_type": "stream",
     "text": [
      "Generic Exception\n"
     ]
    }
   ],
   "source": [
    "try:\n",
    "    raise Exception(\"I'm not being specific!\")\n",
    "except Exception:\n",
    "    print(\"Generic Exception\")"
   ]
  },
  {
   "cell_type": "code",
   "execution_count": 36,
   "metadata": {},
   "outputs": [
    {
     "name": "stdout",
     "output_type": "stream",
     "text": [
      "Catch me if you can! <class '__main__.CustomError'>\n"
     ]
    }
   ],
   "source": [
    "class CustomError(Exception):\n",
    "    def __init__(self, message):\n",
    "        self.message = message\n",
    "\n",
    "\n",
    "try:\n",
    "#     raise\n",
    "    raise CustomError(\"Catch me if you can!\")\n",
    "except CustomError as e:\n",
    "    print(e, type(e))\n",
    "except Exception as e:\n",
    "    print(e, type(e))"
   ]
  },
  {
   "cell_type": "markdown",
   "metadata": {},
   "source": [
    "<br>\n",
    "\n",
    "## DateTime"
   ]
  },
  {
   "cell_type": "code",
   "execution_count": 37,
   "metadata": {},
   "outputs": [
    {
     "name": "stdout",
     "output_type": "stream",
     "text": [
      "2021-04-30 23:53:35.183373\n"
     ]
    }
   ],
   "source": [
    "import datetime as dt\n",
    "\n",
    "\n",
    "today = dt.datetime.now()\n",
    "print(today)"
   ]
  },
  {
   "cell_type": "markdown",
   "metadata": {},
   "source": [
    "<br>\n",
    "\n",
    "## Math, Random"
   ]
  },
  {
   "cell_type": "code",
   "execution_count": 38,
   "metadata": {},
   "outputs": [
    {
     "name": "stdout",
     "output_type": "stream",
     "text": [
      "0.2335600547204243\n"
     ]
    }
   ],
   "source": [
    "import random\n",
    "\n",
    "print(random.random())\n",
    "\n",
    "\n",
    "del random"
   ]
  },
  {
   "cell_type": "markdown",
   "metadata": {},
   "source": [
    "<br><br>\n",
    "\n",
    "# Day 4"
   ]
  },
  {
   "cell_type": "markdown",
   "metadata": {},
   "source": [
    "## File handling"
   ]
  },
  {
   "cell_type": "code",
   "execution_count": 39,
   "metadata": {},
   "outputs": [
    {
     "name": "stdout",
     "output_type": "stream",
     "text": [
      " Volume in drive C has no label.\n",
      " Volume Serial Number is A88C-3222\n",
      "\n",
      " Directory of C:\\Users\\Administrator\\veena\\data\n",
      "\n",
      "04/30/2021  09:02 PM    <DIR>          .\n",
      "04/30/2021  09:02 PM    <DIR>          ..\n",
      "04/30/2021  09:02 PM            38,049 all_us_counties.csv\n",
      "04/30/2021  09:00 PM               656 all_us_states.csv\n",
      "04/30/2021  09:02 PM         2,072,181 all_us_zipcodes.csv\n",
      "               3 File(s)      2,110,886 bytes\n",
      "               2 Dir(s)  493,276,196,864 bytes free\n"
     ]
    }
   ],
   "source": [
    "!dir data"
   ]
  },
  {
   "cell_type": "code",
   "execution_count": 40,
   "metadata": {},
   "outputs": [
    {
     "name": "stdout",
     "output_type": "stream",
     "text": [
      "[State: abbr = name, State: AL = Alabama, State: AK = Alaska, State: AZ = Arizona, State: AR = Arkansas, State: CA = California, State: CO = Colorado, State: CT = Connecticut, State: DE = Delaware, State: DC = District of Columbia, State: FL = Florida, State: GA = Georgia, State: HI = Hawaii, State: ID = Idaho, State: IL = Illinois, State: IN = Indiana, State: IA = Iowa, State: KS = Kansas, State: KY = Kentucky, State: LA = Louisiana, State: ME = Maine, State: MD = Maryland, State: MA = Massachusetts, State: MI = Michigan, State: MN = Minnesota, State: MS = Mississippi, State: MO = Missouri, State: MT = Montana, State: NE = Nebraska, State: NV = Nevada, State: NH = New Hampshire, State: NJ = New Jersey, State: NM = New Mexico, State: NY = New York, State: NC = North Carolina, State: ND = North Dakota, State: OH = Ohio, State: OK = Oklahoma, State: OR = Oregon, State: PA = Pennsylvania, State: RI = Rhode Island, State: SC = South Carolina, State: SD = South Dakota, State: TN = Tennessee, State: TX = Texas, State: UT = Utah, State: VT = Vermont, State: VA = Virginia, State: WA = Washington, State: WV = West Virginia, State: WI = Wisconsin, State: WY = Wyoming]\n"
     ]
    }
   ],
   "source": [
    "class State:\n",
    "    def __init__(self, code, name):\n",
    "        self.code = code\n",
    "        self.name = name\n",
    "        \n",
    "    def __str__(self):\n",
    "        return f\"{self.code} = {self.name}\"\n",
    "    \n",
    "    def __repr__(self):\n",
    "        return f\"{self.__class__.__name__}: {self.__str__()}\"\n",
    "\n",
    "\n",
    "states = []\n",
    "with open(\"data/all_us_states.csv\") as f:\n",
    "    states.extend(State(*state_info.strip().split(',')) for state_info in f)\n",
    "    # .readlines() reads all of file into memory. NO! Simply iterate over file handle.\n",
    "\n",
    "print(states)"
   ]
  },
  {
   "cell_type": "markdown",
   "metadata": {},
   "source": [
    "<br>\n",
    "\n",
    "## List Comprehension"
   ]
  },
  {
   "cell_type": "code",
   "execution_count": 45,
   "metadata": {},
   "outputs": [
    {
     "data": {
      "text/plain": [
       "[5, 7, 9]"
      ]
     },
     "execution_count": 45,
     "metadata": {},
     "output_type": "execute_result"
    }
   ],
   "source": [
    "odds = [o for o in range(10) if o%2 if o>4]\n",
    "odds\n"
   ]
  },
  {
   "cell_type": "markdown",
   "metadata": {},
   "source": [
    "<br><br>\n",
    "\n",
    "## Spark\n",
    "\n",
    "__Requirements:__\n",
    "\n",
    "<br>Java 1.8 only (a.k.a Java 8) (as Spark works only on 1.8)\n",
    "<br>Oracle Java (stable, performant, no support for unpaid version)\n",
    "<br>Open source community (AdaptJava JDK 8) https://adoptopenjdk.net/\n",
    "<br>* JDK (compiler+JRE)\n",
    "<br>* JRE (no compiler, just a runtime environment)\n",
    "<br>* Language |Statically-typed Compiled language\n",
    "<br>* Runtime\n",
    "\n",
    "<br>Spark 2.x\n",
    "<br>* Java\n",
    "<br>* Scala (largely writen in Java)\n",
    "<br>* Python\n",
    "<br>* R\n",
    "<br>* SQL\n",
    "\n",
    "<br>Hadoop\n",
    "<br>* HDFS/Hive/YARN/Kafka\n"
   ]
  },
  {
   "cell_type": "markdown",
   "metadata": {},
   "source": [
    "<br>\n",
    "\n",
    "__Installation in order:__\n",
    "<br>1. Install AdaptJDK 8 (check JAVA_HOME (system variable) with `echo %JAVA_HOME%`)\n",
    "\n",
    "<br>2. Install Spark 2.7 only (google spark download)\n",
    "<br>* Set SPARK_HOME (system variable) to the spark installation directory\n",
    "<br>* Set PATH (user variable) to Spark's bin directory\n",
    "<br>* Launch spark-shell (allow access if prompted)\n",
    "<br>`$spark-shell`\n",
    "<br>* Launch pyspark\n",
    "<br>`$pyspark`\n",
    "\n",
    "<br>3. Install Python 3.7 only\n",
    "<br>* Downgrading to 3.7 on conda:\n",
    "<br>`conda create -n py37 anaconda=2020.07 python=3.7`\n",
    "<br>`condat activate py37`\n",
    "<br>`conda deactivate`\n",
    "\n",
    "<br>4. Install `winutils` (google `github winutils`) (https://github.com/steveloughran/winutils)\n",
    "<br>Extract Hadoop2.7.x folder\n",
    "<br>Set `HADOOP_HOME` to its bin directory"
   ]
  }
 ],
 "metadata": {
  "kernelspec": {
   "display_name": "Python 3",
   "language": "python",
   "name": "python3"
  },
  "language_info": {
   "codemirror_mode": {
    "name": "ipython",
    "version": 3
   },
   "file_extension": ".py",
   "mimetype": "text/x-python",
   "name": "python",
   "nbconvert_exporter": "python",
   "pygments_lexer": "ipython3",
   "version": "3.8.5"
  }
 },
 "nbformat": 4,
 "nbformat_minor": 4
}
