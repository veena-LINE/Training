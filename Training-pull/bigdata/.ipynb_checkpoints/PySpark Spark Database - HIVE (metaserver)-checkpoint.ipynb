{
 "cells": [
  {
   "cell_type": "code",
   "execution_count": 1,
   "metadata": {},
   "outputs": [],
   "source": [
    "import findspark\n",
    "findspark.init()"
   ]
  },
  {
   "cell_type": "code",
   "execution_count": 2,
   "metadata": {},
   "outputs": [],
   "source": [
    "# winutils.exe  chmod 777  C:\\spark-temp\n",
    "\n",
    "from pyspark.conf import SparkConf\n",
    "conf = SparkConf()\n",
    "\n",
    "\n",
    "# config.setMaster(\"spark://192.168.11.71:7077\").setAppName(\"HiveApp\")\n",
    "(\n",
    "    conf.setMaster(\"local[1]\").setAppName(\"HiveApp\")\n",
    "    .set(\"spark.executor.memory\", \"4G\")\n",
    "    .set(\"spark.executor.cores\", 2)\n",
    "    .set(\"spark.cores.max\", 2)\n",
    "    .set(\"spark.driver.memory\", \"4G\")\n",
    "\n",
    "    .set(\"hive.metastore.uris\", \"thrift://192.168.93.128:9083\")\n",
    "\n",
    "    # .set(\"spark.sql.warehouse.dir\", \"/home/ubuntu/spark-warehose\")\n",
    "    .set(\"spark.sql.warehouse.dir\", \"hdfs://192.168.93.128:9000/user/hive/warehouse\")  # spark warehouse\n",
    "\n",
    "    # .set(\"hive.metastore.warehouse.dir\", \"hdfs://192.168.93.128:9000/user/hive/warehouse\")  # ?\n",
    "    # .set(\"spark.local.dir\", \"c:/spark-temp\")\n",
    ")\n",
    "\n",
    "\n",
    "from pyspark.sql import SparkSession, HiveContext\n",
    "ss = (\n",
    "    SparkSession.builder\n",
    "    .config(conf=conf)\n",
    "    .enableHiveSupport()\n",
    "    .getOrCreate()\n",
    ")"
   ]
  },
  {
   "cell_type": "code",
   "execution_count": 3,
   "metadata": {},
   "outputs": [
    {
     "data": {
      "text/plain": [
       "DataFrame[]"
      ]
     },
     "execution_count": 3,
     "metadata": {},
     "output_type": "execute_result"
    }
   ],
   "source": [
    "ss.sql(\"DROP TABLE IF EXISTS hive_table\")\n",
    "ss.sql(\"\"\"\n",
    "CREATE TABLE IF NOT EXISTS hive_table(number int, Ordinal_Number string, Cardinal_Number string)\n",
    "ROW FORMAT DELIMITED FIELDS TERMINATED BY ','\n",
    "LINES TERMINATED BY '\\n'\n",
    "\"\"\")"
   ]
  },
  {
   "cell_type": "code",
   "execution_count": 4,
   "metadata": {},
   "outputs": [
    {
     "name": "stdout",
     "output_type": "stream",
     "text": [
      "+------------+\n",
      "|databaseName|\n",
      "+------------+\n",
      "|     default|\n",
      "|   orders_db|\n",
      "+------------+\n",
      "\n"
     ]
    }
   ],
   "source": [
    "ss.sql(\"SHOW DATABASES\").show()"
   ]
  },
  {
   "cell_type": "code",
   "execution_count": 5,
   "metadata": {},
   "outputs": [
    {
     "data": {
      "text/plain": [
       "DataFrame[]"
      ]
     },
     "execution_count": 5,
     "metadata": {},
     "output_type": "execute_result"
    }
   ],
   "source": [
    "ss.sql(\"CREATE TABLE IF NOT EXISTS src(key INT, value STRING) USING hive\")"
   ]
  },
  {
   "cell_type": "code",
   "execution_count": 6,
   "metadata": {},
   "outputs": [
    {
     "name": "stdout",
     "output_type": "stream",
     "text": [
      "+---+-----+\n",
      "|key|value|\n",
      "+---+-----+\n",
      "|  1|  ONE|\n",
      "|  1|  ONE|\n",
      "|  1|  ONE|\n",
      "|  1|  ONE|\n",
      "|  1|  ONE|\n",
      "|  1|  ONE|\n",
      "+---+-----+\n",
      "\n"
     ]
    }
   ],
   "source": [
    "ss.sql(\"INSERT INTO TABLE src values(1, 'ONE')\")\n",
    "ss.sql(\"SELECT * FROM src\").show()"
   ]
  },
  {
   "cell_type": "code",
   "execution_count": 7,
   "metadata": {},
   "outputs": [
    {
     "name": "stdout",
     "output_type": "stream",
     "text": [
      "+--------+-------------+-----------+\n",
      "|database|    tableName|isTemporary|\n",
      "+--------+-------------+-----------+\n",
      "| default|        brand|      false|\n",
      "| default|   brand_test|      false|\n",
      "| default|    employees|      false|\n",
      "| default|employees_ext|      false|\n",
      "| default|   hive_table|      false|\n",
      "| default|          src|      false|\n",
      "+--------+-------------+-----------+\n",
      "\n"
     ]
    }
   ],
   "source": [
    "ss.sql(\"SHOW TABLES\").show()"
   ]
  },
  {
   "cell_type": "markdown",
   "metadata": {},
   "source": [
    "---"
   ]
  },
  {
   "cell_type": "code",
   "execution_count": 8,
   "metadata": {},
   "outputs": [
    {
     "name": "stdout",
     "output_type": "stream",
     "text": [
      "+----------+------------+--------+\n",
      "|product_id|product_name|brand_id|\n",
      "+----------+------------+--------+\n",
      "|         1|      iPhone|     100|\n",
      "|         2|      Galaxy|     200|\n",
      "|         3|       RedMi|     300|\n",
      "|         4|       Pixel|     400|\n",
      "+----------+------------+--------+\n",
      "\n",
      "+--------+----------+\n",
      "|brand_id|brand_name|\n",
      "+--------+----------+\n",
      "|     100|     Apple|\n",
      "|     200|   Samsung|\n",
      "|     400|    Google|\n",
      "|     500|      Sony|\n",
      "+--------+----------+\n",
      "\n"
     ]
    },
    {
     "data": {
      "text/plain": [
       "(None, None)"
      ]
     },
     "execution_count": 8,
     "metadata": {},
     "output_type": "execute_result"
    }
   ],
   "source": [
    "products = (\n",
    "    # (product_id, product_name, brand_id)  \n",
    "    (1, 'iPhone', 100),\n",
    "    (2, 'Galaxy', 200),\n",
    "    (3, 'RedMi', 300),  # orphan record, no matching brand\n",
    "    (4, 'Pixel', 400),\n",
    ")\n",
    "brands = (\n",
    "    #(brand_id, brand_name)\n",
    "    (100, \"Apple\"),\n",
    "    (200, \"Samsung\"),\n",
    "    (400, \"Google\"),\n",
    "    (500, \"Sony\"),  # no matching product\n",
    ")\n",
    " \n",
    "df_product = ss.createDataFrame(data=products, schema=(\"product_id\", \"product_name\", \"brand_id\"))\n",
    "df_brand = ss.createDataFrame(data=brands, schema=(\"brand_id\", \"brand_name\"))\n",
    "\n",
    "df_product.show(), df_brand.show()"
   ]
  },
  {
   "cell_type": "code",
   "execution_count": 9,
   "metadata": {},
   "outputs": [
    {
     "data": {
      "text/plain": [
       "DataFrame[]"
      ]
     },
     "execution_count": 9,
     "metadata": {},
     "output_type": "execute_result"
    }
   ],
   "source": [
    "ss.sql(\"CREATE DATABASE IF NOT EXISTS products_db\")"
   ]
  },
  {
   "cell_type": "code",
   "execution_count": 12,
   "metadata": {},
   "outputs": [
    {
     "data": {
      "text/plain": [
       "DataFrame[]"
      ]
     },
     "execution_count": 12,
     "metadata": {},
     "output_type": "execute_result"
    }
   ],
   "source": [
    "ss.sql(\"CREATE TABLE dummy(id Int, name String) USING hive\")"
   ]
  },
  {
   "cell_type": "code",
   "execution_count": 13,
   "metadata": {},
   "outputs": [
    {
     "data": {
      "text/plain": [
       "DataFrame[id: int, name: string]"
      ]
     },
     "execution_count": 13,
     "metadata": {},
     "output_type": "execute_result"
    }
   ],
   "source": [
    "ss.sql(\"SELECT * FROM dummy\")"
   ]
  },
  {
   "cell_type": "code",
   "execution_count": 11,
   "metadata": {},
   "outputs": [],
   "source": [
    "\"\"\"\n",
    "WRITE DF into DB table\n",
    "\"\"\"\n",
    "\n",
    "\n",
    "\"\"\"\n",
    "Writes to `default` DB in the metastore_db --> (Writes to C:/spark/brand_test/ (.parquet files))\n",
    "\"\"\"\n",
    "df_brand.write.mode(\"overwrite\").saveAsTable(\"brand_test\")\n",
    "\n",
    "\"\"\"\n",
    "Writes to the specified database --> (Writes to C:/spark/product_db/brand/ (.parquet files))\n",
    "Creates table in Hive's metastore_db\n",
    "\"\"\"\n",
    "df_brand.write.mode(\"overwrite\").saveAsTable(\"brands\")"
   ]
  }
 ],
 "metadata": {
  "kernelspec": {
   "display_name": "Python 3",
   "language": "python",
   "name": "python3"
  },
  "language_info": {
   "codemirror_mode": {
    "name": "ipython",
    "version": 3
   },
   "file_extension": ".py",
   "mimetype": "text/x-python",
   "name": "python",
   "nbconvert_exporter": "python",
   "pygments_lexer": "ipython3",
   "version": "3.7.7"
  }
 },
 "nbformat": 4,
 "nbformat_minor": 4
}
