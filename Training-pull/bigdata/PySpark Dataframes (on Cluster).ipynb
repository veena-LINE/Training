{
 "cells": [
  {
   "cell_type": "markdown",
   "metadata": {},
   "source": [
    "What's needed to create a spark Dataframe?\n",
    "\n",
    "1. pyspark.sql.SparkSession()"
   ]
  },
  {
   "cell_type": "code",
   "execution_count": 1,
   "metadata": {},
   "outputs": [],
   "source": [
    "import findspark\n",
    "findspark.init()"
   ]
  },
  {
   "cell_type": "code",
   "execution_count": 2,
   "metadata": {},
   "outputs": [],
   "source": [
    "\"\"\"\n",
    "Since Spark 2.x, Spark unified Spark APIs, DF, Datasets, & SQL.\n",
    "SparkSession uses SparkContext internally.\n",
    "\"\"\"\n",
    "\n",
    "# Driver's running here, but connected to the Cluster instead \n",
    "from pyspark.sql import SparkSession\n",
    "ss = SparkSession.builder.master(\"spark://192.168.11.77:7077\").appName(\"sparkDF1onCluster\").getOrCreate()\n",
    "\n"
   ]
  },
  {
   "cell_type": "markdown",
   "metadata": {},
   "source": [
    "---"
   ]
  },
  {
   "cell_type": "code",
   "execution_count": 3,
   "metadata": {},
   "outputs": [],
   "source": [
    "end='\\n'*2"
   ]
  },
  {
   "cell_type": "code",
   "execution_count": 4,
   "metadata": {},
   "outputs": [
    {
     "name": "stdout",
     "output_type": "stream",
     "text": [
      "  Name Gender  Salary\n",
      "0    A      F    1000\n",
      "1    B      M    2000\n",
      "2    C      F    1500\n",
      "3    D      M    1999\n",
      "\n",
      "-- Schema --\n",
      "root\n",
      " |-- Name: string (nullable = true)\n",
      " |-- Gender: string (nullable = true)\n",
      " |-- Salary: long (nullable = true)\n",
      "\n",
      "\n",
      "\n",
      "-- Data --\n",
      "+----+------+------+\n",
      "|Name|Gender|Salary|\n",
      "+----+------+------+\n",
      "|   A|     F|  1000|\n",
      "|   B|     M|  1500|\n",
      "|   C|     F|  2000|\n",
      "+----+------+------+\n",
      "\n"
     ]
    }
   ],
   "source": [
    "\"\"\"\n",
    "RDD - Raw, low-level abstraction\n",
    "DataFrame - Structured RDD\n",
    "\"\"\"\n",
    "import pandas as pd\n",
    "\n",
    "data = {\"Name\": (\"A\", \"B\", \"C\", \"D\"), \"Gender\": (\"F\", \"M\", \"F\", \"M\"), \"Salary\": (1000, 2000, 1500, 1999)}\n",
    "print(pd.DataFrame(data), end=end)\n",
    "\n",
    "\n",
    "\n",
    "\"\"\"\n",
    "RDD DataFrame\n",
    "\"\"\"\n",
    "data = ((\"A\", \"F\", 1000), (\"B\", \"M\", 1500), (\"C\", \"F\", 2000))\n",
    "columns = (\"Name\", \"Gender\", \"Salary\")\n",
    "\n",
    "emp_df = ss.createDataFrame(data=data, schema=columns)\n",
    "\n",
    "print(\"-- Schema --\")\n",
    "emp_df.printSchema()\n",
    "\n",
    "print(end=end)\n",
    "\n",
    "print(\"-- Data --\")\n",
    "emp_df.show()  # Default: First 20"
   ]
  },
  {
   "cell_type": "code",
   "execution_count": 5,
   "metadata": {},
   "outputs": [],
   "source": [
    "\" Disconnect from Cluster Master \"\n",
    "ss.stop()"
   ]
  }
 ],
 "metadata": {
  "kernelspec": {
   "display_name": "Python 3",
   "language": "python",
   "name": "python3"
  },
  "language_info": {
   "codemirror_mode": {
    "name": "ipython",
    "version": 3
   },
   "file_extension": ".py",
   "mimetype": "text/x-python",
   "name": "python",
   "nbconvert_exporter": "python",
   "pygments_lexer": "ipython3",
   "version": "3.7.7"
  }
 },
 "nbformat": 4,
 "nbformat_minor": 4
}
