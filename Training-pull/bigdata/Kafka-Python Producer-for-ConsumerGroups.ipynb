{
 "cells": [
  {
   "cell_type": "markdown",
   "metadata": {},
   "source": [
    "# Requirement\n",
    "\n",
    "Refer Kafka-Python.ipynb"
   ]
  },
  {
   "cell_type": "markdown",
   "metadata": {},
   "source": [
    "# Create Topic\n",
    "```bash\n",
    "kafka-topics.sh --create --bootstrap-server localhost:9092 --replication-factor 1 --partitions 4 --topic sales\n",
    "kafka-topics.sh --list --bootstrap-server localhost:9092\n",
    "kafka-topics.sh --describe --bootstrap-server localhost:9092 --topic transactions\n",
    "```"
   ]
  },
  {
   "cell_type": "code",
   "execution_count": 1,
   "metadata": {},
   "outputs": [],
   "source": [
    "import time\n",
    "from kafka import KafkaProducer\n",
    "from kafka.errors import KafkaError"
   ]
  },
  {
   "cell_type": "code",
   "execution_count": 2,
   "metadata": {},
   "outputs": [],
   "source": [
    "topic = 'sales'"
   ]
  },
  {
   "cell_type": "code",
   "execution_count": 9,
   "metadata": {},
   "outputs": [],
   "source": [
    "# broker runs in linux machine\n",
    "#  $KAFKA_HOME/bin/kafka-topics.sh  --create --bootstrap-server localhost:9092 --replication-factor 1 --partitions 4 --topic sales\n",
    "\n",
    "producer = KafkaProducer(bootstrap_servers=['192.168.93.128:9092'])\n",
    "\n",
    "topic = \"sales\"\n",
    "encoding = 'utf-8'\n",
    "\n",
    "for _ in range(1000):\n",
    "    key = f\"sale-{_}\"\n",
    "    value = f\"Sale Amount {i * 10}\"\n",
    "    key = bytes(key, encoding)\n",
    "    value = bytes(value, encoding)\n",
    "    future = producer.send(topic, key=key, value=value)\n",
    "    print(f\"sending {key} {value}\")\n",
    "    \n",
    "    try:\n",
    "       record_metadata = future.get(timeout=10)\n",
    "       print(f\"partition {record_metadata.partition}, offset {record_metadata.offset}\") \n",
    "    except KafkaError:\n",
    "        print(\"Error\")\n",
    "        \n",
    "    time.sleep(5) # sleep/pause for 5 seconds"
   ]
  }
 ],
 "metadata": {
  "kernelspec": {
   "display_name": "Python 3",
   "language": "python",
   "name": "python3"
  },
  "language_info": {
   "codemirror_mode": {
    "name": "ipython",
    "version": 3
   },
   "file_extension": ".py",
   "mimetype": "text/x-python",
   "name": "python",
   "nbconvert_exporter": "python",
   "pygments_lexer": "ipython3",
   "version": "3.7.7"
  }
 },
 "nbformat": 4,
 "nbformat_minor": 4
}
