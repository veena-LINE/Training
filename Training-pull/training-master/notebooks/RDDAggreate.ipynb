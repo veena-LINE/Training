{
 "cells": [
  {
   "cell_type": "code",
   "execution_count": 1,
   "metadata": {},
   "outputs": [],
   "source": [
    "import findspark\n",
    "findspark.init()"
   ]
  },
  {
   "cell_type": "code",
   "execution_count": 2,
   "metadata": {},
   "outputs": [],
   "source": [
    "from pyspark import SparkContext\n",
    "\n",
    "sc = SparkContext(\"local[*]\", \"rating\")"
   ]
  },
  {
   "cell_type": "code",
   "execution_count": 25,
   "metadata": {},
   "outputs": [
    {
     "name": "stdout",
     "output_type": "stream",
     "text": [
      "[(1, 4.0), (3, 4.0)]\n",
      "[(1, (4.0, 1)), (3, (7.0, 2))]\n"
     ]
    },
    {
     "data": {
      "text/plain": [
       "[(1, 4.0), (3, 3.5)]"
      ]
     },
     "execution_count": 25,
     "metadata": {},
     "output_type": "execute_result"
    }
   ],
   "source": [
    "import datetime\n",
    "# datetime.datetime.fromtimestamp(timestamp)\n",
    "ratings = [\n",
    "('1','1','4.0','964982703'),\n",
    "('1','3','4.0','964981247'),\n",
    "('1','3','3.0','964981247')\n",
    "]\n",
    "\n",
    "rdd = sc.parallelize(ratings)\n",
    "\n",
    "result = rdd.map ( lambda t: ( int (t[0]), int(t[1]), float(t[2]),  datetime.datetime.fromtimestamp( int(t[3])) ) )\\\n",
    "            .map (lambda t: (t[1], t)  )\\\n",
    "            .map (lambda t: (t[0], t[1][2])) # pick rating as value, movieId as key\n",
    "print(result.take(2))\n",
    "\n",
    "seqOp = (lambda x, y: (x[0] + y, x[1] + 1))\n",
    "combOp = (lambda x, y: (x[0] + y[0], x[1] + y[1]))\n",
    "\n",
    "\n",
    "#[(1, 4.0), (3, 4.0)]\n",
    "#[(1, (4.0, 1)), (3, (7.0, 2))]\n",
    "\n",
    "aggRdd = result.aggregateByKey((0, 0), seqOp, combOp)\n",
    "\n",
    "print(aggRdd.collect())\n",
    "\n",
    "# we need avg\n",
    "aggRdd.map ( lambda t: (t[0], t[1][0]/t[1][1])).collect()\n",
    "\n",
    "# aggRdd.join(movieRdd)\n"
   ]
  },
  {
   "cell_type": "code",
   "execution_count": 6,
   "metadata": {},
   "outputs": [
    {
     "data": {
      "text/plain": [
       "(10, 4)"
      ]
     },
     "execution_count": 6,
     "metadata": {},
     "output_type": "execute_result"
    }
   ],
   "source": [
    "seqOp = (lambda x, y: (x[0] + y, x[1] + 1))\n",
    "combOp = (lambda x, y: (x[0] + y[0], x[1] + y[1]))\n",
    "sc.parallelize([1, 2, 3, 4]).aggregate((0, 0), seqOp, combOp)"
   ]
  },
  {
   "cell_type": "code",
   "execution_count": 7,
   "metadata": {},
   "outputs": [
    {
     "data": {
      "text/plain": [
       "(60, 3)"
      ]
     },
     "execution_count": 7,
     "metadata": {},
     "output_type": "execute_result"
    }
   ],
   "source": [
    "sc.parallelize([10,20,30]).aggregate((0, 0), seqOp, combOp)"
   ]
  },
  {
   "cell_type": "code",
   "execution_count": 19,
   "metadata": {},
   "outputs": [
    {
     "data": {
      "text/plain": [
       "[(1, (4.0, 1)), (3, (4.0, 1))]"
      ]
     },
     "execution_count": 19,
     "metadata": {},
     "output_type": "execute_result"
    }
   ],
   "source": [
    "result.aggregateByKey((0, 0), seqOp, combOp).collect()"
   ]
  },
  {
   "cell_type": "code",
   "execution_count": 16,
   "metadata": {},
   "outputs": [
    {
     "data": {
      "text/plain": [
       "[('a', (9, 2)), ('b', (2, 1))]"
      ]
     },
     "execution_count": 16,
     "metadata": {},
     "output_type": "execute_result"
    }
   ],
   "source": [
    "rdd = sc.parallelize([('a',7),('a',2),('b',2)])\n",
    "rdd.aggregateByKey((0,0),seqOp,combOp)\\\n",
    " .collect()"
   ]
  },
  {
   "cell_type": "code",
   "execution_count": null,
   "metadata": {},
   "outputs": [],
   "source": []
  }
 ],
 "metadata": {
  "kernelspec": {
   "display_name": "Python 3",
   "language": "python",
   "name": "python3"
  },
  "language_info": {
   "codemirror_mode": {
    "name": "ipython",
    "version": 3
   },
   "file_extension": ".py",
   "mimetype": "text/x-python",
   "name": "python",
   "nbconvert_exporter": "python",
   "pygments_lexer": "ipython3",
   "version": "3.7.7"
  }
 },
 "nbformat": 4,
 "nbformat_minor": 4
}
