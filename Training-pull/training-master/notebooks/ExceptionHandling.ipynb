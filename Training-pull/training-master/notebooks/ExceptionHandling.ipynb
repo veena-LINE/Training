{
 "cells": [
  {
   "cell_type": "code",
   "execution_count": 3,
   "metadata": {},
   "outputs": [
    {
     "ename": "ZeroDivisionError",
     "evalue": "division by zero",
     "output_type": "error",
     "traceback": [
      "\u001b[1;31m---------------------------------------------------------------------------\u001b[0m",
      "\u001b[1;31mZeroDivisionError\u001b[0m                         Traceback (most recent call last)",
      "\u001b[1;32m<ipython-input-3-d5d232d64b07>\u001b[0m in \u001b[0;36m<module>\u001b[1;34m\u001b[0m\n\u001b[0;32m      1\u001b[0m \u001b[1;31m# when error happens while processing data, files..., the apis throw exception, that halts the program\u001b[0m\u001b[1;33m\u001b[0m\u001b[1;33m\u001b[0m\u001b[1;33m\u001b[0m\u001b[0m\n\u001b[0;32m      2\u001b[0m \u001b[1;33m\u001b[0m\u001b[0m\n\u001b[1;32m----> 3\u001b[1;33m \u001b[1;36m42\u001b[0m \u001b[1;33m/\u001b[0m \u001b[1;36m0\u001b[0m \u001b[1;31m# ZeroDivisionError\u001b[0m\u001b[1;33m\u001b[0m\u001b[1;33m\u001b[0m\u001b[0m\n\u001b[0m\u001b[0;32m      4\u001b[0m \u001b[0mprint\u001b[0m\u001b[1;33m(\u001b[0m\u001b[1;34m\"My next line\"\u001b[0m\u001b[1;33m)\u001b[0m\u001b[1;33m\u001b[0m\u001b[1;33m\u001b[0m\u001b[0m\n",
      "\u001b[1;31mZeroDivisionError\u001b[0m: division by zero"
     ]
    }
   ],
   "source": [
    "# when error happens while processing data, files..., the apis throw exception, that halts the program\n",
    "\n",
    "42 / 0 # ZeroDivisionError  \n",
    "print(\"My next line\")"
   ]
  },
  {
   "cell_type": "code",
   "execution_count": 2,
   "metadata": {},
   "outputs": [
    {
     "ename": "NameError",
     "evalue": "name 'name' is not defined",
     "output_type": "error",
     "traceback": [
      "\u001b[1;31m---------------------------------------------------------------------------\u001b[0m",
      "\u001b[1;31mNameError\u001b[0m                                 Traceback (most recent call last)",
      "\u001b[1;32m<ipython-input-2-9ba126b17b03>\u001b[0m in \u001b[0;36m<module>\u001b[1;34m\u001b[0m\n\u001b[1;32m----> 1\u001b[1;33m \u001b[0mprint\u001b[0m\u001b[1;33m(\u001b[0m\u001b[0mname\u001b[0m\u001b[1;33m)\u001b[0m\u001b[1;33m\u001b[0m\u001b[1;33m\u001b[0m\u001b[0m\n\u001b[0m",
      "\u001b[1;31mNameError\u001b[0m: name 'name' is not defined"
     ]
    }
   ],
   "source": [
    "print(name)"
   ]
  },
  {
   "cell_type": "code",
   "execution_count": 4,
   "metadata": {},
   "outputs": [
    {
     "name": "stdout",
     "output_type": "stream",
     "text": [
      "error while div\n",
      "my next statement\n"
     ]
    }
   ],
   "source": [
    "# throw error, which is captured by except\n",
    "try:\n",
    "    42 / 0 # error thrown\n",
    "    print(\"won't print\")\n",
    "except: # error is captured here\n",
    "    print (\"error while div\")\n",
    "    \n",
    "print(\"my next statement\")"
   ]
  },
  {
   "cell_type": "code",
   "execution_count": 6,
   "metadata": {},
   "outputs": [
    {
     "name": "stdout",
     "output_type": "stream",
     "text": [
      "printing else part\n"
     ]
    }
   ],
   "source": [
    "# try except with else part\n",
    "# when there is error, except called\n",
    "# if no error, else is called\n",
    "\n",
    "try:\n",
    "    42 / 2 # no error\n",
    "except:\n",
    "    print (\"Wont print \")\n",
    "else: # since no error, this will be called\n",
    "    print(\"printing else part\")\n",
    "    "
   ]
  },
  {
   "cell_type": "code",
   "execution_count": 11,
   "metadata": {},
   "outputs": [
    {
     "name": "stdout",
     "output_type": "stream",
     "text": [
      "my next statement\n",
      "else block\n",
      "finally called\n"
     ]
    }
   ],
   "source": [
    "# try except with finally\n",
    "# finally is called on exception, also no error , used for clean up the resources\n",
    "# close the file, close the sql server connection, close web server connection\n",
    "\n",
    "try:\n",
    "    42 / 2\n",
    "    print(\"my next statement\")\n",
    "except: # called on error\n",
    "    print (\"except block\")\n",
    "else: # called on no error\n",
    "    print (\"else block\")\n",
    "finally: # called on success or error scenario both\n",
    "    print (\"finally called\")"
   ]
  },
  {
   "cell_type": "code",
   "execution_count": 15,
   "metadata": {},
   "outputs": [
    {
     "name": "stdout",
     "output_type": "stream",
     "text": [
      "5.0\n"
     ]
    },
    {
     "ename": "TypeError",
     "evalue": "a and b should be int only",
     "output_type": "error",
     "traceback": [
      "\u001b[1;31m---------------------------------------------------------------------------\u001b[0m",
      "\u001b[1;31mTypeError\u001b[0m                                 Traceback (most recent call last)",
      "\u001b[1;32m<ipython-input-15-56fff64e04ff>\u001b[0m in \u001b[0;36m<module>\u001b[1;34m\u001b[0m\n\u001b[0;32m     12\u001b[0m \u001b[1;33m\u001b[0m\u001b[0m\n\u001b[0;32m     13\u001b[0m \u001b[1;31m# raise type error\u001b[0m\u001b[1;33m\u001b[0m\u001b[1;33m\u001b[0m\u001b[1;33m\u001b[0m\u001b[0m\n\u001b[1;32m---> 14\u001b[1;33m \u001b[0mprint\u001b[0m \u001b[1;33m(\u001b[0m\u001b[0mdiv\u001b[0m\u001b[1;33m(\u001b[0m\u001b[1;34m\"apple\"\u001b[0m\u001b[1;33m,\u001b[0m \u001b[1;36m2\u001b[0m\u001b[1;33m)\u001b[0m\u001b[1;33m)\u001b[0m\u001b[1;33m\u001b[0m\u001b[1;33m\u001b[0m\u001b[0m\n\u001b[0m",
      "\u001b[1;32m<ipython-input-15-56fff64e04ff>\u001b[0m in \u001b[0;36mdiv\u001b[1;34m(a, b)\u001b[0m\n\u001b[0;32m      2\u001b[0m \u001b[1;32mdef\u001b[0m \u001b[0mdiv\u001b[0m\u001b[1;33m(\u001b[0m\u001b[0ma\u001b[0m\u001b[1;33m,\u001b[0m \u001b[0mb\u001b[0m\u001b[1;33m)\u001b[0m\u001b[1;33m:\u001b[0m\u001b[1;33m\u001b[0m\u001b[1;33m\u001b[0m\u001b[0m\n\u001b[0;32m      3\u001b[0m     \u001b[1;32mif\u001b[0m \u001b[1;32mnot\u001b[0m \u001b[0mtype\u001b[0m\u001b[1;33m(\u001b[0m\u001b[0ma\u001b[0m\u001b[1;33m)\u001b[0m \u001b[1;32mis\u001b[0m \u001b[0mint\u001b[0m \u001b[1;32mor\u001b[0m \u001b[1;32mnot\u001b[0m \u001b[0mtype\u001b[0m\u001b[1;33m(\u001b[0m\u001b[0mb\u001b[0m\u001b[1;33m)\u001b[0m \u001b[1;32mis\u001b[0m \u001b[0mint\u001b[0m\u001b[1;33m:\u001b[0m\u001b[1;33m\u001b[0m\u001b[1;33m\u001b[0m\u001b[0m\n\u001b[1;32m----> 4\u001b[1;33m         \u001b[1;32mraise\u001b[0m \u001b[0mTypeError\u001b[0m\u001b[1;33m(\u001b[0m\u001b[1;34m\"a and b should be int only\"\u001b[0m\u001b[1;33m)\u001b[0m\u001b[1;33m\u001b[0m\u001b[1;33m\u001b[0m\u001b[0m\n\u001b[0m\u001b[0;32m      5\u001b[0m \u001b[1;33m\u001b[0m\u001b[0m\n\u001b[0;32m      6\u001b[0m     \u001b[1;32mif\u001b[0m \u001b[1;33m(\u001b[0m\u001b[0mb\u001b[0m \u001b[1;33m==\u001b[0m \u001b[1;36m0\u001b[0m\u001b[1;33m)\u001b[0m\u001b[1;33m:\u001b[0m\u001b[1;33m\u001b[0m\u001b[1;33m\u001b[0m\u001b[0m\n",
      "\u001b[1;31mTypeError\u001b[0m: a and b should be int only"
     ]
    }
   ],
   "source": [
    "# raise a error ourself\n",
    "def div(a, b):\n",
    "    if not type(a) is int or not type(b) is int:\n",
    "        raise TypeError(\"a and b should be int only\")\n",
    "    \n",
    "    if (b == 0):\n",
    "        raise Exception(\"number can't be zero\")\n",
    "    # won't reach here if b == 0\n",
    "    return a / b \n",
    "\n",
    "print(div(10, 2)) # no error\n",
    "\n",
    "# raise type error\n",
    "print (div(\"apple\", 2))"
   ]
  },
  {
   "cell_type": "code",
   "execution_count": 20,
   "metadata": {},
   "outputs": [
    {
     "name": "stdout",
     "output_type": "stream",
     "text": [
      "Value error happend\n"
     ]
    }
   ],
   "source": [
    "# handle the exception of different kind\n",
    "def div(a, b):\n",
    "    if not type(a) is int or not type(b) is int:\n",
    "        raise TypeError(\"a and b should be int only\")\n",
    "    \n",
    "    if (b == 0):\n",
    "        raise Exception(\"number can't be zero\")\n",
    "        \n",
    "    if (b > 100):\n",
    "        raise ValueError(\"number can't be > 100 \")\n",
    "    # won't reach here if b == 0\n",
    "    return a / b \n",
    "\n",
    "try:\n",
    "    # div(10, 0) # cause Exception, except Exception: called\n",
    "    # div(\"10\", \"2\") # cause exception. except TypeError\n",
    "    div(10, 115) # cause ValueError, except ValueError\n",
    "except TypeError:\n",
    "    print (\"got type error, fix the csv file\")\n",
    "except ValueError: \n",
    "    print (\"Value error happend\")\n",
    "except Exception:\n",
    "    print (\"General exception, something wrong..\")\n",
    "#except ValueError: # this code will not reach, since Exception is Super type of ValueError\n",
    "#    print (\"Value error happend\")\n",
    "    "
   ]
  },
  {
   "cell_type": "code",
   "execution_count": 21,
   "metadata": {},
   "outputs": [
    {
     "name": "stdout",
     "output_type": "stream",
     "text": [
      "Auth error\n"
     ]
    }
   ],
   "source": [
    "# Create user defined exception\n",
    "\n",
    "class AuthError(Exception):\n",
    "    def __init__(self, arg):\n",
    "        self.args = arg\n",
    "        \n",
    "try:\n",
    "    raise AuthError(\"You need to be logged in\")\n",
    "except AuthError:\n",
    "    print(\"Auth error\")"
   ]
  },
  {
   "cell_type": "code",
   "execution_count": 25,
   "metadata": {},
   "outputs": [
    {
     "name": "stdout",
     "output_type": "stream",
     "text": [
      "zero div error:  division by zero\n"
     ]
    }
   ],
   "source": [
    "# accept error object through as variable ( into a variable)\n",
    "try: \n",
    "    42 / 0\n",
    "except ZeroDivisionError as e: # e is the instance of the error\n",
    "    print(\"zero div error: \", e)"
   ]
  },
  {
   "cell_type": "code",
   "execution_count": 29,
   "metadata": {},
   "outputs": [
    {
     "name": "stdout",
     "output_type": "stream",
     "text": [
      "General exception, something wrong.. number can't be zero\n"
     ]
    }
   ],
   "source": [
    "# handle the exception of different kind, capture error into variable\n",
    "def div(a, b):\n",
    "    if not type(a) is int or not type(b) is int:\n",
    "        raise TypeError(\"a and b should be int only\")\n",
    "    \n",
    "    if (b == 0):\n",
    "        raise Exception(\"number can't be zero\")\n",
    "        \n",
    "    if (b > 100):\n",
    "        raise ValueError(\"number can't be > 100 \")\n",
    "    # won't reach here if b == 0\n",
    "    return a / b \n",
    "\n",
    "try:\n",
    "    div(10, 0) # cause Exception, except Exception: called\n",
    "    #div(\"10\", \"2\") # cause exception. except TypeError\n",
    "    # div(10, 115) # cause ValueError, except ValueError\n",
    "except TypeError as te :\n",
    "    print (\"got type error, fix the csv file\", te)\n",
    "except ValueError as ve: \n",
    "    print (\"Value error happend\", ve, type(ve))\n",
    "except Exception as e:\n",
    "    print (\"General exception, something wrong..\", e)"
   ]
  },
  {
   "cell_type": "code",
   "execution_count": null,
   "metadata": {},
   "outputs": [],
   "source": []
  }
 ],
 "metadata": {
  "kernelspec": {
   "display_name": "Python 3",
   "language": "python",
   "name": "python3"
  },
  "language_info": {
   "codemirror_mode": {
    "name": "ipython",
    "version": 3
   },
   "file_extension": ".py",
   "mimetype": "text/x-python",
   "name": "python",
   "nbconvert_exporter": "python",
   "pygments_lexer": "ipython3",
   "version": "3.8.5"
  }
 },
 "nbformat": 4,
 "nbformat_minor": 4
}
