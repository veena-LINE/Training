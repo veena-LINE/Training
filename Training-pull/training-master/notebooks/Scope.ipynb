{
 "cells": [
  {
   "cell_type": "code",
   "execution_count": null,
   "metadata": {},
   "outputs": [],
   "source": [
    "# a variable that we created can be accessible in a region/boundary called scope"
   ]
  },
  {
   "cell_type": "code",
   "execution_count": 2,
   "metadata": {},
   "outputs": [
    {
     "name": "stdout",
     "output_type": "stream",
     "text": [
      "100\n"
     ]
    }
   ],
   "source": [
    "# global scope\n",
    "n = 100\n",
    "\n",
    "def show():\n",
    "    print(n) # n is coming from global scope\n",
    "    \n",
    "show()"
   ]
  },
  {
   "cell_type": "code",
   "execution_count": 5,
   "metadata": {},
   "outputs": [
    {
     "name": "stdout",
     "output_type": "stream",
     "text": [
      "10 20 30\n"
     ]
    }
   ],
   "source": [
    "# local scope\n",
    "\n",
    "def calc():\n",
    "    # a, b, c are local scope, available only inside calc\n",
    "    a = 10\n",
    "    b = 20\n",
    "    c = a + b\n",
    "    print (a, b, c)\n",
    "    \n",
    "calc()\n",
    "# ERROR \n",
    "# print (a, b, c) # a /b/c are not defined\n",
    "    \n"
   ]
  },
  {
   "cell_type": "code",
   "execution_count": 7,
   "metadata": {},
   "outputs": [
    {
     "name": "stdout",
     "output_type": "stream",
     "text": [
      "55\n",
      "100\n"
     ]
    }
   ],
   "source": [
    "# having same named global and local variable\n",
    "m = 100\n",
    "\n",
    "def show():\n",
    "    # m is local to function show, m is newly created\n",
    "    m = 55\n",
    "    print(m) # reference local m, 55\n",
    "    \n",
    "show()\n",
    "print(m) # reference global m, 100\n",
    "\n"
   ]
  },
  {
   "cell_type": "code",
   "execution_count": 8,
   "metadata": {},
   "outputs": [
    {
     "name": "stdout",
     "output_type": "stream",
     "text": [
      "before  100\n",
      "after  110\n",
      "x is  110\n"
     ]
    }
   ],
   "source": [
    "# having a global variable, to be used in a method, as is, modify the global variable in function\n",
    "\n",
    "x = 100\n",
    "def calc():\n",
    "    # carry forward global x here, it will not create new variable x, instead refer to global\n",
    "    global x\n",
    "    print(\"before \", x) # 100\n",
    "    # changing global variable x\n",
    "    x += 10\n",
    "    print (\"after \",x) #110\n",
    "    \n",
    "calc()\n",
    "print(\"x is \", x) # 110"
   ]
  },
  {
   "cell_type": "code",
   "execution_count": null,
   "metadata": {},
   "outputs": [],
   "source": []
  }
 ],
 "metadata": {
  "kernelspec": {
   "display_name": "Python 3",
   "language": "python",
   "name": "python3"
  },
  "language_info": {
   "codemirror_mode": {
    "name": "ipython",
    "version": 3
   },
   "file_extension": ".py",
   "mimetype": "text/x-python",
   "name": "python",
   "nbconvert_exporter": "python",
   "pygments_lexer": "ipython3",
   "version": "3.8.5"
  }
 },
 "nbformat": 4,
 "nbformat_minor": 4
}
