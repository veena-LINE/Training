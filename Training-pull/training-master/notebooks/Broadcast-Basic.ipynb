{
 "cells": [
  {
   "cell_type": "code",
   "execution_count": 2,
   "metadata": {},
   "outputs": [],
   "source": [
    "import findspark\n",
    "findspark.init()"
   ]
  },
  {
   "cell_type": "code",
   "execution_count": 3,
   "metadata": {},
   "outputs": [],
   "source": [
    "from pyspark import SparkContext\n",
    "sc = SparkContext(\"local\", \"BroadCastBasic\")\n",
    "sc.setLogLevel(\"WARN\")"
   ]
  },
  {
   "cell_type": "code",
   "execution_count": 4,
   "metadata": {},
   "outputs": [
    {
     "name": "stdout",
     "output_type": "stream",
     "text": [
      "<pyspark.broadcast.Broadcast object at 0x000001F7F7F7FF48>\n",
      "type  <class 'pyspark.broadcast.Broadcast'>\n"
     ]
    }
   ],
   "source": [
    "# Master Data\n",
    "# create a broadcast variable in driver program\n",
    "# when we run the the tasks, these data moved over all nodes\n",
    "category = sc.broadcast(['mobile', 'tablet', 'pc'])\n",
    "states = sc.broadcast(['CO', 'NY', 'OH', 'MH'])\n",
    "print (category)\n",
    "print (\"type \", type (category))"
   ]
  },
  {
   "cell_type": "code",
   "execution_count": 6,
   "metadata": {},
   "outputs": [
    {
     "name": "stdout",
     "output_type": "stream",
     "text": [
      "categories ['mobile', 'tablet', 'pc']\n",
      "categories type  <class 'list'>\n"
     ]
    }
   ],
   "source": [
    "# to access the value of broadcast\n",
    "print (\"categories\", category.value)\n",
    "print (\"categories type \", type(category.value ))"
   ]
  },
  {
   "cell_type": "code",
   "execution_count": 7,
   "metadata": {},
   "outputs": [
    {
     "name": "stdout",
     "output_type": "stream",
     "text": [
      "[10, 20, 30, 40, 50, 60, 70, 80, 90]\n"
     ]
    }
   ],
   "source": [
    "# not a safe method, it will fail in clustered enviornment\n",
    "x = 10\n",
    "\n",
    "rdd = sc.parallelize([1,2,3,4,5,6,7,8,9])\n",
    "result = rdd.map (lambda n: n * x)\\\n",
    "            .collect()  \n",
    "\n",
    "print(result)"
   ]
  },
  {
   "cell_type": "code",
   "execution_count": 10,
   "metadata": {},
   "outputs": [
    {
     "name": "stdout",
     "output_type": "stream",
     "text": [
      "x type  <class 'pyspark.broadcast.Broadcast'>\n",
      "[10, 20, 30, 40, 50, 60, 70, 80, 90]\n"
     ]
    }
   ],
   "source": [
    "# safe way write above code is broadcast\n",
    "# the value x is broadcast, copied into all worker node\n",
    "x =  sc.broadcast(10)\n",
    "print (\"x type \", type(x))\n",
    "\n",
    "rdd = sc.parallelize([1,2,3,4,5,6,7,8,9])\n",
    "result = rdd.map (lambda n: n * x.value)\\\n",
    "            .collect()  \n",
    "\n",
    "print(result)"
   ]
  },
  {
   "cell_type": "code",
   "execution_count": null,
   "metadata": {},
   "outputs": [],
   "source": []
  }
 ],
 "metadata": {
  "kernelspec": {
   "display_name": "Python 3",
   "language": "python",
   "name": "python3"
  },
  "language_info": {
   "codemirror_mode": {
    "name": "ipython",
    "version": 3
   },
   "file_extension": ".py",
   "mimetype": "text/x-python",
   "name": "python",
   "nbconvert_exporter": "python",
   "pygments_lexer": "ipython3",
   "version": "3.7.7"
  }
 },
 "nbformat": 4,
 "nbformat_minor": 4
}
