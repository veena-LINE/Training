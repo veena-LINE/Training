{
 "cells": [
  {
   "cell_type": "code",
   "execution_count": 1,
   "metadata": {},
   "outputs": [],
   "source": [
    "import findspark\n",
    "findspark.init()"
   ]
  },
  {
   "cell_type": "code",
   "execution_count": 2,
   "metadata": {},
   "outputs": [],
   "source": [
    "from pyspark.sql import SparkSession\n",
    "spark = SparkSession.builder.master(\"local[1]\")\\\n",
    "                            .appName(\"DFApp\").getOrCreate()"
   ]
  },
  {
   "cell_type": "code",
   "execution_count": 3,
   "metadata": {},
   "outputs": [],
   "source": [
    "# to get the spark context associated with Spark Session\n",
    "sc = spark.sparkContext"
   ]
  },
  {
   "cell_type": "code",
   "execution_count": 5,
   "metadata": {},
   "outputs": [
    {
     "name": "stdout",
     "output_type": "stream",
     "text": [
      "10\n",
      "40\n"
     ]
    }
   ],
   "source": [
    "rdd = sc.parallelize([10,20,30,40])\n",
    "print(rdd.min())\n",
    "print(rdd.max())"
   ]
  },
  {
   "cell_type": "code",
   "execution_count": null,
   "metadata": {},
   "outputs": [],
   "source": [
    "def add(a, b): \n",
    "    return a + b\n",
    "\n",
    "add(10, 20)\n",
    "add(b = 20, a = 10)\n",
    "a = 10\n",
    "b = 20\n",
    "add(b = b, a = a) # b = 20, a = 10"
   ]
  },
  {
   "cell_type": "code",
   "execution_count": 6,
   "metadata": {},
   "outputs": [],
   "source": [
    "ds = [ \n",
    "        ('Joe', 'M', 6000),\n",
    "        ('Mary', 'F', 8000)\n",
    "]\n",
    "\n",
    "# structured data { columns, data-types}\n",
    "columns = ['name', 'gender', 'salary']\n",
    "# create a dataframe, using data defined above \n",
    "df = spark.createDataFrame(data=ds, schema=columns)"
   ]
  },
  {
   "cell_type": "code",
   "execution_count": 7,
   "metadata": {},
   "outputs": [
    {
     "data": {
      "text/plain": [
       "[Row(name='Joe', gender='M', salary=6000),\n",
       " Row(name='Mary', gender='F', salary=8000)]"
      ]
     },
     "execution_count": 7,
     "metadata": {},
     "output_type": "execute_result"
    }
   ],
   "source": [
    "# behind every data frame, there is RDD\n",
    "# Data Frame is an API, RDD is low level abstraction behind data frame\n",
    "df.rdd.collect()"
   ]
  },
  {
   "cell_type": "code",
   "execution_count": 8,
   "metadata": {},
   "outputs": [
    {
     "data": {
      "text/plain": [
       "[Row(name='Mary', gender='F', salary=8000)]"
      ]
     },
     "execution_count": 8,
     "metadata": {},
     "output_type": "execute_result"
    }
   ],
   "source": [
    "# spark shall use RDD operations internally when we use DF API\n",
    "# exmaple to use DF RDD directly\n",
    "df.rdd.filter (lambda row: row['salary']> 7000).collect()"
   ]
  },
  {
   "cell_type": "code",
   "execution_count": 9,
   "metadata": {},
   "outputs": [
    {
     "name": "stdout",
     "output_type": "stream",
     "text": [
      "Partitions  1\n"
     ]
    }
   ],
   "source": [
    "# get the partitions of DF\n",
    "print(\"Partitions \", df.rdd.getNumPartitions())"
   ]
  },
  {
   "cell_type": "code",
   "execution_count": 11,
   "metadata": {},
   "outputs": [
    {
     "name": "stdout",
     "output_type": "stream",
     "text": [
      "+----+------+------+\n",
      "|name|gender|salary|\n",
      "+----+------+------+\n",
      "|Mary|     F|  8000|\n",
      "+----+------+------+\n",
      "\n",
      "+----+------+------+\n",
      "|name|gender|salary|\n",
      "+----+------+------+\n",
      "| Joe|     M|  6000|\n",
      "|Mary|     F|  8000|\n",
      "+----+------+------+\n",
      "\n"
     ]
    }
   ],
   "source": [
    "# Use DF API to filter the data\n",
    "# DF is immutable\n",
    "# filter returns new data frame\n",
    "df2 = df.filter (' salary > 7000 ')\n",
    "\n",
    "df2.show()\n",
    "\n",
    "# df records remains same, no change since data frame is immutable\n",
    "df.show()"
   ]
  },
  {
   "cell_type": "code",
   "execution_count": 12,
   "metadata": {},
   "outputs": [
    {
     "data": {
      "text/plain": [
       "[Row(name='Mary', gender='F', salary=8000)]"
      ]
     },
     "execution_count": 12,
     "metadata": {},
     "output_type": "execute_result"
    }
   ],
   "source": [
    "df2.rdd.collect()"
   ]
  },
  {
   "cell_type": "code",
   "execution_count": null,
   "metadata": {},
   "outputs": [],
   "source": []
  }
 ],
 "metadata": {
  "kernelspec": {
   "display_name": "Python 3",
   "language": "python",
   "name": "python3"
  },
  "language_info": {
   "codemirror_mode": {
    "name": "ipython",
    "version": 3
   },
   "file_extension": ".py",
   "mimetype": "text/x-python",
   "name": "python",
   "nbconvert_exporter": "python",
   "pygments_lexer": "ipython3",
   "version": "3.7.7"
  }
 },
 "nbformat": 4,
 "nbformat_minor": 4
}
