{
 "cells": [
  {
   "cell_type": "code",
   "execution_count": 1,
   "metadata": {},
   "outputs": [
    {
     "name": "stdout",
     "output_type": "stream",
     "text": [
      "0\n",
      "1\n",
      "2\n",
      "3\n",
      "4\n",
      "5\n",
      "6\n",
      "7\n",
      "8\n",
      "9\n"
     ]
    }
   ],
   "source": [
    "for n in range(10):\n",
    "    print (n)"
   ]
  },
  {
   "cell_type": "code",
   "execution_count": 2,
   "metadata": {},
   "outputs": [
    {
     "name": "stdout",
     "output_type": "stream",
     "text": [
      "[1, 3, 5, 7, 9]\n"
     ]
    }
   ],
   "source": [
    "# statement vs expressions\n",
    "\n",
    "# statement exeucte the line of code and doesn't return values\n",
    "# expressions execute the code, return the output\n",
    "\n",
    "# statement\n",
    "odds = []\n",
    "for n in range(10):\n",
    "    if n % 2 == 1:\n",
    "        odds.append(n)\n",
    "        \n",
    "print(odds)"
   ]
  },
  {
   "cell_type": "code",
   "execution_count": 4,
   "metadata": {},
   "outputs": [
    {
     "name": "stdout",
     "output_type": "stream",
     "text": [
      "[0, 1, 2, 3, 4, 5, 6, 7, 8, 9]\n"
     ]
    }
   ],
   "source": [
    "# for loop inside list, syntatic sugar\n",
    "# expression, not statement.\n",
    "#expression returns the result, returns  a list\n",
    "numbers = [n for n in range(10) ]\n",
    "print(numbers)"
   ]
  },
  {
   "cell_type": "code",
   "execution_count": 7,
   "metadata": {},
   "outputs": [
    {
     "name": "stdout",
     "output_type": "stream",
     "text": [
      "[1, 3, 5, 7, 9]\n"
     ]
    }
   ],
   "source": [
    "# for comprehension with if guard\n",
    "odds = [ n for n in range(10) if n % 2 == 1]\n",
    "print (odds)"
   ]
  },
  {
   "cell_type": "code",
   "execution_count": 8,
   "metadata": {},
   "outputs": [
    {
     "name": "stdout",
     "output_type": "stream",
     "text": [
      "[5, 7, 9]\n"
     ]
    }
   ],
   "source": [
    "# for/list comprehension wiht nested if\n",
    "odds = [ n for n in range(10) if n % 2 == 1 if n >= 5]\n",
    "print (odds)"
   ]
  },
  {
   "cell_type": "code",
   "execution_count": 17,
   "metadata": {},
   "outputs": [
    {
     "name": "stdout",
     "output_type": "stream",
     "text": [
      "[0, 1, 2, 3, 4]\n",
      "[0, 1, 4, 9, 16]\n",
      "['Even', 'Odd', 'Even', 'Odd', 'Even']\n"
     ]
    }
   ],
   "source": [
    "# expression \n",
    "result = [x  for x in range(5) ]\n",
    "print(result)\n",
    "result = [x * x  for x in range(5) ]\n",
    "print(result)\n",
    "\n",
    "result = [ \"Even\" if (x % 2 == 0) else \"Odd\" for x in range(5) ]\n",
    "print(result)\n",
    "\n"
   ]
  },
  {
   "cell_type": "code",
   "execution_count": 19,
   "metadata": {},
   "outputs": [
    {
     "data": {
      "text/plain": [
       "'Even'"
      ]
     },
     "execution_count": 19,
     "metadata": {},
     "output_type": "execute_result"
    }
   ],
   "source": [
    "# if expression, if returns output\n",
    "# Truth Part if (condition) else Else part\n",
    "result = \"Even\" if (10 % 2 == 0) else \"Odd\""
   ]
  },
  {
   "cell_type": "code",
   "execution_count": 21,
   "metadata": {},
   "outputs": [
    {
     "name": "stdout",
     "output_type": "stream",
     "text": [
      "['PYTHON', 'JAVA', 'C#']\n"
     ]
    }
   ],
   "source": [
    "# expression \n",
    "names = [\"python\", \"java\", \"c#\"]\n",
    "output = [name.upper() for name in names ]\n",
    "print(output)"
   ]
  },
  {
   "cell_type": "code",
   "execution_count": 26,
   "metadata": {},
   "outputs": [
    {
     "name": "stdout",
     "output_type": "stream",
     "text": [
      "[[], [], [], [], [], [], [], [], []]\n",
      "[[1], [2], [3], [4], [5], [6], [7], [8], [9]]\n",
      "[[0], [0, 1], [0, 1, 2], [0, 1, 2, 3], [0, 1, 2, 3, 4], [0, 1, 2, 3, 4, 5], [0, 1, 2, 3, 4, 5, 6], [0, 1, 2, 3, 4, 5, 6, 7], [0, 1, 2, 3, 4, 5, 6, 7, 8]]\n"
     ]
    }
   ],
   "source": [
    "# nested for/list comprehension\n",
    "nested =        [   []    for x in range(1, 10)  ]\n",
    "print (nested)\n",
    "\n",
    "nested =        [   [x]    for x in range(1, 10)  ]\n",
    "print (nested)\n",
    "\n",
    "nested =        [   [n for n in range(x) ]    for x in range(1, 10)  ]\n",
    "print (nested)"
   ]
  },
  {
   "cell_type": "code",
   "execution_count": null,
   "metadata": {},
   "outputs": [],
   "source": []
  }
 ],
 "metadata": {
  "kernelspec": {
   "display_name": "Python 3",
   "language": "python",
   "name": "python3"
  },
  "language_info": {
   "codemirror_mode": {
    "name": "ipython",
    "version": 3
   },
   "file_extension": ".py",
   "mimetype": "text/x-python",
   "name": "python",
   "nbconvert_exporter": "python",
   "pygments_lexer": "ipython3",
   "version": "3.8.5"
  }
 },
 "nbformat": 4,
 "nbformat_minor": 4
}
