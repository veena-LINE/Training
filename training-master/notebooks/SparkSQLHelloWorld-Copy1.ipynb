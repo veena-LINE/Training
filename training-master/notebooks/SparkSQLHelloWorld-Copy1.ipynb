{
 "cells": [
  {
   "cell_type": "code",
   "execution_count": 1,
   "metadata": {},
   "outputs": [],
   "source": [
    "# SQL, DF are just API , interfaces\n",
    "import findspark\n",
    "findspark.init()"
   ]
  },
  {
   "cell_type": "code",
   "execution_count": 2,
   "metadata": {},
   "outputs": [],
   "source": [
    "from pyspark.conf import SparkConf\n",
    "config = SparkConf()\n",
    "config.setMaster(\"spark://192.168.11.71:7077\").setAppName(\"SparkDataFrameHdfs\")\n",
    "#config.setMaster(\"local[2]\").setAppName(\"SparkDataFrameHdfs\")\n",
    "config.set(\"spark.executor.memory\", \"4g\")\n",
    "config.set(\"spark.executor.cores\", 4)\n",
    "config.set(\"spark.cores.max\", 4)\n",
    "config.set(\"spark.driver.memory\", \"4g\")\n",
    "\n",
    "\n",
    "from pyspark.sql import SparkSession\n",
    "spark = SparkSession.builder.config(conf=config).getOrCreate()"
   ]
  },
  {
   "cell_type": "code",
   "execution_count": 3,
   "metadata": {},
   "outputs": [],
   "source": [
    "from pyspark.sql.types import StructType, LongType,StringType, IntegerType, DoubleType\n",
    "\n",
    "movieSchema = StructType()\\\n",
    "         .add(\"movieId\", IntegerType(), True)\\\n",
    "         .add(\"title\", StringType(), True)\\\n",
    "         .add(\"genres\", StringType(), True)\\\n",
    "\n",
    "\n",
    "ratingSchema = StructType()\\\n",
    "         .add(\"userId\", IntegerType(), True)\\\n",
    "         .add(\"movieId\", IntegerType(), True)\\\n",
    "         .add(\"rating\", DoubleType(), True)\\\n",
    "         .add(\"timestamp\", StringType(), True)\\"
   ]
  },
  {
   "cell_type": "code",
   "execution_count": 4,
   "metadata": {},
   "outputs": [],
   "source": [
    "movieDf = spark.read.format(\"csv\")\\\n",
    "          .option(\"header\", True)\\\n",
    "          .schema(movieSchema)\\\n",
    "          .load(\"hdfs://192.168.93.128:9000/ml-latest-small/movies.csv\")\n",
    "\n",
    "ratingDf = spark.read.format(\"csv\")\\\n",
    "          .option(\"header\", True)\\\n",
    "          .schema(ratingSchema)\\\n",
    "          .load(\"hdfs://192.168.93.128:9000/ml-latest-small/ratings.csv\")"
   ]
  },
  {
   "cell_type": "code",
   "execution_count": 5,
   "metadata": {},
   "outputs": [
    {
     "name": "stdout",
     "output_type": "stream",
     "text": [
      "+-------+----------------+--------------------+\n",
      "|movieId|           title|              genres|\n",
      "+-------+----------------+--------------------+\n",
      "|      1|Toy Story (1995)|Adventure|Animati...|\n",
      "|      2|  Jumanji (1995)|Adventure|Childre...|\n",
      "+-------+----------------+--------------------+\n",
      "only showing top 2 rows\n",
      "\n",
      "+------+-------+------+---------+\n",
      "|userId|movieId|rating|timestamp|\n",
      "+------+-------+------+---------+\n",
      "|     1|      1|   4.0|964982703|\n",
      "|     1|      3|   4.0|964981247|\n",
      "+------+-------+------+---------+\n",
      "only showing top 2 rows\n",
      "\n"
     ]
    }
   ],
   "source": [
    "movieDf.show(2)\n",
    "ratingDf.show(2)"
   ]
  },
  {
   "cell_type": "code",
   "execution_count": 8,
   "metadata": {},
   "outputs": [],
   "source": [
    "# Spark SQL\n",
    "# DF, we need register dataframe as a spark sql view\n",
    "# movies is a temp view, created with in this application spark session\n",
    "movieDf.createOrReplaceTempView (\"movies\")\n",
    "ratingDf.createOrReplaceTempView(\"ratings\")"
   ]
  },
  {
   "cell_type": "code",
   "execution_count": 14,
   "metadata": {},
   "outputs": [
    {
     "name": "stdout",
     "output_type": "stream",
     "text": [
      "+-------+----------------+--------------------+\n",
      "|movieId|           title|              genres|\n",
      "+-------+----------------+--------------------+\n",
      "|      1|Toy Story (1995)|Adventure|Animati...|\n",
      "|      2|  Jumanji (1995)|Adventure|Childre...|\n",
      "+-------+----------------+--------------------+\n",
      "only showing top 2 rows\n",
      "\n",
      "root\n",
      " |-- movieId: integer (nullable = true)\n",
      " |-- title: string (nullable = true)\n",
      " |-- genres: string (nullable = true)\n",
      "\n",
      "+-------+----------------+--------------------+\n",
      "|movieId|           title|              genres|\n",
      "+-------+----------------+--------------------+\n",
      "|      1|Toy Story (1995)|Adventure|Animati...|\n",
      "|      2|  Jumanji (1995)|Adventure|Childre...|\n",
      "+-------+----------------+--------------------+\n",
      "only showing top 2 rows\n",
      "\n"
     ]
    }
   ],
   "source": [
    "# df.filter(\"Quality is NOT NULL\") # SQL Flavor\n",
    "# df.filter (col(\"Quality\").isNotNull) # python flavor\n",
    "df = spark.sql(\"select * from movies\")\n",
    "df.show(2)\n",
    "df.printSchema()\n",
    "#df.select(\"*\").show(2)\n",
    "\n"
   ]
  },
  {
   "cell_type": "code",
   "execution_count": 17,
   "metadata": {},
   "outputs": [
    {
     "name": "stdout",
     "output_type": "stream",
     "text": [
      "+------+-------+------+---------+\n",
      "|userId|movieId|rating|timestamp|\n",
      "+------+-------+------+---------+\n",
      "|     1|      1|   4.0|964982703|\n",
      "|     1|      3|   4.0|964981247|\n",
      "|     1|      6|   4.0|964982224|\n",
      "+------+-------+------+---------+\n",
      "only showing top 3 rows\n",
      "\n",
      "+-------+------+\n",
      "|movieId|rating|\n",
      "+-------+------+\n",
      "|      1|   4.0|\n",
      "|      3|   4.0|\n",
      "|      6|   4.0|\n",
      "+-------+------+\n",
      "only showing top 3 rows\n",
      "\n",
      "+---+------------------------------+\n",
      "| id|(rating + CAST(0.3 AS DOUBLE))|\n",
      "+---+------------------------------+\n",
      "|  1|                           4.3|\n",
      "|  3|                           4.3|\n",
      "|  6|                           4.3|\n",
      "+---+------------------------------+\n",
      "only showing top 3 rows\n",
      "\n"
     ]
    }
   ],
   "source": [
    "spark.sql(\"select * from ratings\").show(3)\n",
    "spark.sql(\"select movieId, rating from ratings\").show(3)\n",
    "spark.sql(\"select movieId as id, rating + .3 from ratings\").show(3)"
   ]
  },
  {
   "cell_type": "code",
   "execution_count": 19,
   "metadata": {},
   "outputs": [
    {
     "name": "stdout",
     "output_type": "stream",
     "text": [
      "+---+------+\n",
      "| id|rating|\n",
      "+---+------+\n",
      "|  1|   4.3|\n",
      "|  3|   4.3|\n",
      "|  6|   4.3|\n",
      "+---+------+\n",
      "only showing top 3 rows\n",
      "\n"
     ]
    }
   ],
   "source": [
    "spark.sql(\"\"\"select \n",
    "                    movieId as id, \n",
    "                    rating + .3 as rating \n",
    "                    from ratings\n",
    "          \"\"\").show(3)"
   ]
  },
  {
   "cell_type": "code",
   "execution_count": 21,
   "metadata": {},
   "outputs": [
    {
     "name": "stdout",
     "output_type": "stream",
     "text": [
      "+-------+----------------+\n",
      "|movieId|           title|\n",
      "+-------+----------------+\n",
      "|      1|Toy Story (1995)|\n",
      "|      2|  Jumanji (1995)|\n",
      "+-------+----------------+\n",
      "only showing top 2 rows\n",
      "\n"
     ]
    }
   ],
   "source": [
    "spark.sql(\"select movieId, title from movies\").show(2)"
   ]
  },
  {
   "cell_type": "code",
   "execution_count": 23,
   "metadata": {},
   "outputs": [
    {
     "name": "stdout",
     "output_type": "stream",
     "text": [
      "+-------+----------------+\n",
      "|movieId|           title|\n",
      "+-------+----------------+\n",
      "|      1|TOY STORY (1995)|\n",
      "|      2|  JUMANJI (1995)|\n",
      "+-------+----------------+\n",
      "only showing top 2 rows\n",
      "\n"
     ]
    }
   ],
   "source": [
    "spark.sql(\"select movieId, upper(title) as title from movies\").show(2)"
   ]
  },
  {
   "cell_type": "code",
   "execution_count": 24,
   "metadata": {},
   "outputs": [
    {
     "name": "stdout",
     "output_type": "stream",
     "text": [
      "+-------+----------------+\n",
      "|movieId|           title|\n",
      "+-------+----------------+\n",
      "|      1|toy story (1995)|\n",
      "|      2|  jumanji (1995)|\n",
      "+-------+----------------+\n",
      "only showing top 2 rows\n",
      "\n"
     ]
    }
   ],
   "source": [
    "spark.sql(\"select movieId, lower(title) as title from movies\").show(2)"
   ]
  },
  {
   "cell_type": "code",
   "execution_count": 25,
   "metadata": {},
   "outputs": [
    {
     "name": "stdout",
     "output_type": "stream",
     "text": [
      "+-------+----------------+\n",
      "|movieId|           title|\n",
      "+-------+----------------+\n",
      "|      1|Toy Story (1995)|\n",
      "|      2|  Jumanji (1995)|\n",
      "+-------+----------------+\n",
      "only showing top 2 rows\n",
      "\n"
     ]
    }
   ],
   "source": [
    "spark.sql(\"select movieId, initcap(lower(title)) as title from movies\").show(2)"
   ]
  },
  {
   "cell_type": "code",
   "execution_count": 35,
   "metadata": {},
   "outputs": [
    {
     "name": "stdout",
     "output_type": "stream",
     "text": [
      "+-------+----------------+-----+\n",
      "|movieId|           title|title|\n",
      "+-------+----------------+-----+\n",
      "|      1|Toy Story (1995)|  Sto|\n",
      "|      2|  Jumanji (1995)|  nji|\n",
      "+-------+----------------+-----+\n",
      "only showing top 2 rows\n",
      "\n"
     ]
    }
   ],
   "source": [
    "# substr - pick from starting position till the length/count\n",
    "spark.sql(\"select movieId, title, substr(title,5, 3) as title from movies\").show(2)"
   ]
  },
  {
   "cell_type": "code",
   "execution_count": 33,
   "metadata": {},
   "outputs": [
    {
     "name": "stdout",
     "output_type": "stream",
     "text": [
      "+-------+-----+\n",
      "|movieId|title|\n",
      "+-------+-----+\n",
      "|      1| Toy |\n",
      "|      2| Juma|\n",
      "+-------+-----+\n",
      "only showing top 2 rows\n",
      "\n",
      "+-------+-----+\n",
      "|movieId|title|\n",
      "+-------+-----+\n",
      "|      1| 995)|\n",
      "|      2| 995)|\n",
      "+-------+-----+\n",
      "only showing top 2 rows\n",
      "\n"
     ]
    }
   ],
   "source": [
    "# left pick first few chars from left\n",
    "# right - fict few chars from right\n",
    "spark.sql(\"select movieId, left(title,4) as title from movies\").show(2)\n",
    "spark.sql(\"select movieId, right(title,4) as title from movies\").show(2)"
   ]
  },
  {
   "cell_type": "code",
   "execution_count": 37,
   "metadata": {},
   "outputs": [
    {
     "name": "stdout",
     "output_type": "stream",
     "text": [
      "+-------+-------------+\n",
      "|movieId|count(userId)|\n",
      "+-------+-------------+\n",
      "|   1580|          165|\n",
      "|   2366|           25|\n",
      "+-------+-------------+\n",
      "only showing top 2 rows\n",
      "\n"
     ]
    }
   ],
   "source": [
    "spark.sql(\"select movieId, count(userId) from ratings group by movieId\").show(2)"
   ]
  },
  {
   "cell_type": "code",
   "execution_count": 39,
   "metadata": {},
   "outputs": [
    {
     "name": "stdout",
     "output_type": "stream",
     "text": [
      "+-------+-------------+\n",
      "|movieId|total_ratings|\n",
      "+-------+-------------+\n",
      "|   1580|          165|\n",
      "|   1721|          140|\n",
      "|    858|          192|\n",
      "|   1270|          171|\n",
      "|   1265|          143|\n",
      "|    588|          183|\n",
      "|    296|          307|\n",
      "|  68954|          105|\n",
      "|  58559|          149|\n",
      "|    593|          279|\n",
      "|    597|          135|\n",
      "|   1198|          200|\n",
      "|     34|          128|\n",
      "|   8961|          125|\n",
      "|   4896|          107|\n",
      "|   2683|          121|\n",
      "|    587|          115|\n",
      "|   1210|          196|\n",
      "|    253|          109|\n",
      "|    329|          108|\n",
      "|    223|          104|\n",
      "|   1208|          107|\n",
      "|   1291|          140|\n",
      "|    924|          109|\n",
      "|    367|          157|\n",
      "|    539|          106|\n",
      "|   1197|          142|\n",
      "|   2628|          140|\n",
      "|    111|          104|\n",
      "|     47|          203|\n",
      "|  33794|          116|\n",
      "|   1206|          120|\n",
      "|    185|          112|\n",
      "|   7361|          131|\n",
      "|    912|          100|\n",
      "|   2329|          129|\n",
      "|   4973|          120|\n",
      "|      1|          215|\n",
      "|   3147|          111|\n",
      "|   1682|          125|\n",
      "|      6|          102|\n",
      "|   1089|          131|\n",
      "|   4993|          198|\n",
      "|    500|          144|\n",
      "|   3793|          133|\n",
      "|   5445|          120|\n",
      "|   4995|          123|\n",
      "|    377|          171|\n",
      "|   1968|          113|\n",
      "|   1517|          100|\n",
      "|   3996|          110|\n",
      "|    292|          101|\n",
      "|  79132|          143|\n",
      "|   4226|          159|\n",
      "|   2571|          278|\n",
      "|    780|          202|\n",
      "|   1222|          102|\n",
      "|   1136|          136|\n",
      "|   1732|          106|\n",
      "|   1240|          131|\n",
      "|    165|          144|\n",
      "|    590|          164|\n",
      "|   1073|          119|\n",
      "|   1527|          116|\n",
      "|    316|          140|\n",
      "|    318|          317|\n",
      "|    231|          133|\n",
      "|    586|          116|\n",
      "|   2716|          120|\n",
      "|   6874|          131|\n",
      "|   6539|          149|\n",
      "|    733|          121|\n",
      "|   1036|          145|\n",
      "|    161|          103|\n",
      "|   2959|          218|\n",
      "|     39|          104|\n",
      "|   5418|          112|\n",
      "|    736|          123|\n",
      "|    380|          178|\n",
      "|    648|          162|\n",
      "|   2918|          109|\n",
      "|    434|          101|\n",
      "|   5816|          102|\n",
      "|   1200|          126|\n",
      "|   7438|          110|\n",
      "|   4022|          100|\n",
      "|  60069|          104|\n",
      "|    589|          224|\n",
      "|     10|          132|\n",
      "|     50|          204|\n",
      "|   1214|          146|\n",
      "|    527|          220|\n",
      "|    293|          133|\n",
      "|   5989|          115|\n",
      "|   1704|          141|\n",
      "|    364|          172|\n",
      "|  48516|          107|\n",
      "|    356|          329|\n",
      "|   1923|          105|\n",
      "|   2858|          204|\n",
      "+-------+-------------+\n",
      "only showing top 100 rows\n",
      "\n"
     ]
    }
   ],
   "source": [
    "spark.sql(\"\"\"select movieId, count(userId) as total_ratings from ratings \n",
    "                group by movieId \n",
    "                having total_ratings >= 100 \"\"\").show(100)"
   ]
  },
  {
   "cell_type": "code",
   "execution_count": 40,
   "metadata": {},
   "outputs": [
    {
     "name": "stdout",
     "output_type": "stream",
     "text": [
      "+-------+-------------+------------------+\n",
      "|movieId|total_ratings|        avg_rating|\n",
      "+-------+-------------+------------------+\n",
      "|    858|          192|         4.2890625|\n",
      "|   1270|          171| 4.038011695906433|\n",
      "|    296|          307| 4.197068403908795|\n",
      "|  68954|          105| 4.004761904761905|\n",
      "|  58559|          149| 4.238255033557047|\n",
      "|    593|          279| 4.161290322580645|\n",
      "|   1198|          200|            4.2075|\n",
      "|   1210|          196| 4.137755102040816|\n",
      "|   1208|          107| 4.219626168224299|\n",
      "|   1291|          140| 4.046428571428572|\n",
      "|   1197|          142| 4.232394366197183|\n",
      "|    111|          104| 4.105769230769231|\n",
      "|   7361|          131|4.1603053435114505|\n",
      "|    912|          100|              4.24|\n",
      "|   2329|          129| 4.217054263565892|\n",
      "|   4973|          120| 4.183333333333334|\n",
      "|   3147|          111| 4.148648648648648|\n",
      "|   1089|          131| 4.202290076335878|\n",
      "|   4993|          198| 4.106060606060606|\n",
      "|   4995|          123|               4.0|\n",
      "|  79132|          143| 4.066433566433567|\n",
      "|   4226|          159| 4.122641509433962|\n",
      "|   2571|          278| 4.192446043165468|\n",
      "|   1222|          102| 4.098039215686274|\n",
      "|   1136|          136| 4.161764705882353|\n",
      "|    318|          317| 4.429022082018927|\n",
      "|   2959|          218| 4.272935779816514|\n",
      "|  60069|          104|4.0576923076923075|\n",
      "|     50|          204| 4.237745098039215|\n",
      "|    527|          220|             4.225|\n",
      "|    293|          133| 4.018796992481203|\n",
      "|   1704|          141| 4.078014184397163|\n",
      "|  48516|          107| 4.252336448598131|\n",
      "|    356|          329| 4.164133738601824|\n",
      "|   2858|          204| 4.056372549019608|\n",
      "|   1213|          126|              4.25|\n",
      "|   1221|          129|  4.25968992248062|\n",
      "|    608|          181| 4.116022099447513|\n",
      "|   5952|          188|4.0212765957446805|\n",
      "|   1196|          211|4.2156398104265405|\n",
      "|    110|          237| 4.031645569620253|\n",
      "|    541|          124| 4.100806451612903|\n",
      "|    260|          251| 4.231075697211155|\n",
      "|   2028|          188|4.1462765957446805|\n",
      "|   7153|          185| 4.118918918918919|\n",
      "|    778|          102|  4.03921568627451|\n",
      "|   1193|          133| 4.203007518796992|\n",
      "|   1258|          109|  4.08256880733945|\n",
      "+-------+-------------+------------------+\n",
      "\n"
     ]
    }
   ],
   "source": [
    "spark.sql(\"\"\"select movieId, count(userId) as total_ratings, avg(rating) as avg_rating from ratings \n",
    "                group by movieId \n",
    "                having total_ratings >= 100 and avg_rating >= 4 \"\"\").show(100)"
   ]
  },
  {
   "cell_type": "code",
   "execution_count": 44,
   "metadata": {},
   "outputs": [
    {
     "name": "stdout",
     "output_type": "stream",
     "text": [
      "+-------+-------------+-----------------+\n",
      "|movieId|total_ratings|       avg_rating|\n",
      "+-------+-------------+-----------------+\n",
      "|    858|          192|        4.2890625|\n",
      "|   1270|          171|4.038011695906433|\n",
      "+-------+-------------+-----------------+\n",
      "only showing top 2 rows\n",
      "\n"
     ]
    }
   ],
   "source": [
    "# 1 represent the position in select from left movieId\n",
    "spark.sql(\"\"\"select movieId, count(userId) as total_ratings, avg(rating) as avg_rating from ratings \n",
    "                group by 1 \n",
    "                having total_ratings >= 100 and avg_rating >= 4 \"\"\").show(2)"
   ]
  },
  {
   "cell_type": "code",
   "execution_count": null,
   "metadata": {},
   "outputs": [],
   "source": []
  }
 ],
 "metadata": {
  "kernelspec": {
   "display_name": "Python 3",
   "language": "python",
   "name": "python3"
  },
  "language_info": {
   "codemirror_mode": {
    "name": "ipython",
    "version": 3
   },
   "file_extension": ".py",
   "mimetype": "text/x-python",
   "name": "python",
   "nbconvert_exporter": "python",
   "pygments_lexer": "ipython3",
   "version": "3.7.7"
  }
 },
 "nbformat": 4,
 "nbformat_minor": 4
}
