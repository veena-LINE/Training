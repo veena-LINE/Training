{
 "cells": [
  {
   "cell_type": "code",
   "execution_count": 1,
   "metadata": {},
   "outputs": [
    {
     "name": "stdout",
     "output_type": "stream",
     "text": [
      "welcome\n",
      "welcome\n",
      "welcome\n"
     ]
    }
   ],
   "source": [
    "s = 'welcome'\n",
    "s2 = \"welcome\"\n",
    "s3 = \"\"\"welcome\"\"\" # multi line strings\n",
    "\n",
    "print(s)\n",
    "print(s2)\n",
    "print(s3)"
   ]
  },
  {
   "cell_type": "code",
   "execution_count": 8,
   "metadata": {},
   "outputs": [
    {
     "name": "stdout",
     "output_type": "stream",
     "text": [
      "w\n",
      "welcome\n",
      "welcom\n",
      "elc\n",
      "welc\n"
     ]
    }
   ],
   "source": [
    "print(s[0])\n",
    "print(s[0:])\n",
    "print(s[:-1])\n",
    "print(s[1:4])\n",
    "print(s[:4])"
   ]
  },
  {
   "cell_type": "code",
   "execution_count": 20,
   "metadata": {},
   "outputs": [
    {
     "name": "stdout",
     "output_type": "stream",
     "text": [
      "Welcome\n",
      "to\n",
      "Python\n",
      "welcome\n",
      "\tto\n",
      "\tpython\n"
     ]
    }
   ],
   "source": [
    "# we want the string to be printed with new line break\n",
    "# \\ Escape \n",
    "# \\n - new line\n",
    "# \\t - tab 2/4 char spaces\n",
    "s = \"Welcome\\nto\\nPython\"\n",
    "print(s)\n",
    "s =\"welcome\\n\\tto\\n\\tpython\"\n",
    "print(s)"
   ]
  },
  {
   "cell_type": "code",
   "execution_count": 63,
   "metadata": {},
   "outputs": [
    {
     "name": "stdout",
     "output_type": "stream",
     "text": [
      "welcometopython\n"
     ]
    }
   ],
   "source": [
    "# compose a string using multi line\n",
    "# typically python except a string ' ' or \" \" to be ended on same line\n",
    "# \\ - line continuation, line the is not over yet, read next line also\n",
    "s = \"welcome\\\n",
    "to\\\n",
    "python\\\n",
    "\"\n",
    "print (s)"
   ]
  },
  {
   "cell_type": "code",
   "execution_count": 29,
   "metadata": {},
   "outputs": [
    {
     "name": "stdout",
     "output_type": "stream",
     "text": [
      "\n",
      "welcome\n",
      "    to\n",
      "python\n",
      "\n"
     ]
    }
   ],
   "source": [
    "# easy way to compose multiline stirng \"\"\" \"\"\"\n",
    "# no need to use line continuation \\ symbol on each line\n",
    "# it preserve new line as string\n",
    "s = \"\"\"\n",
    "welcome\n",
    "    to\n",
    "python\n",
    "\"\"\"\n",
    "\n",
    "print(s)"
   ]
  },
  {
   "cell_type": "code",
   "execution_count": 30,
   "metadata": {},
   "outputs": [
    {
     "name": "stdout",
     "output_type": "stream",
     "text": [
      "11\n"
     ]
    }
   ],
   "source": [
    "s = \"Hello world\"\n",
    "print (len(s))"
   ]
  },
  {
   "cell_type": "code",
   "execution_count": 31,
   "metadata": {},
   "outputs": [
    {
     "data": {
      "text/plain": [
       "'hello world'"
      ]
     },
     "execution_count": 31,
     "metadata": {},
     "output_type": "execute_result"
    }
   ],
   "source": [
    "s.lower()"
   ]
  },
  {
   "cell_type": "code",
   "execution_count": 32,
   "metadata": {},
   "outputs": [
    {
     "data": {
      "text/plain": [
       "'Hello world'"
      ]
     },
     "execution_count": 32,
     "metadata": {},
     "output_type": "execute_result"
    }
   ],
   "source": [
    "s"
   ]
  },
  {
   "cell_type": "code",
   "execution_count": 35,
   "metadata": {},
   "outputs": [
    {
     "name": "stdout",
     "output_type": "stream",
     "text": [
      "world\n"
     ]
    }
   ],
   "source": [
    "# Python strings are IMMUTABLE\n",
    "# don't be confused by variables\n",
    "# s is reference variable, refer a strong hello\n",
    "s = \"hello\"\n",
    "# s[2]='E' # CRASH, won't accept\n",
    "s = \"world\" # s is referencing to another string world\n",
    "s.upper() # this converts lower case chars to upper case, return  a NEW string, doesn't change s value\n",
    "print(s) # world, not WORLD"
   ]
  },
  {
   "cell_type": "code",
   "execution_count": 36,
   "metadata": {},
   "outputs": [
    {
     "name": "stdout",
     "output_type": "stream",
     "text": [
      "world\n",
      "WORLD\n"
     ]
    }
   ],
   "source": [
    "s = \"world\"\n",
    "s2 = s.upper()\n",
    "print(s) # world\n",
    "print (s2) # WORLD"
   ]
  },
  {
   "cell_type": "code",
   "execution_count": 37,
   "metadata": {},
   "outputs": [
    {
     "name": "stdout",
     "output_type": "stream",
     "text": [
      "Welcome To Python\n"
     ]
    }
   ],
   "source": [
    "# change first letter of the word to upper case\n",
    "s = \"welcome to python\"\n",
    "print(s.title())"
   ]
  },
  {
   "cell_type": "code",
   "execution_count": 38,
   "metadata": {},
   "outputs": [
    {
     "name": "stdout",
     "output_type": "stream",
     "text": [
      "WELCOME TO PYTHON\n"
     ]
    }
   ],
   "source": [
    "# convert to upper case\n",
    "print (s.upper())"
   ]
  },
  {
   "cell_type": "code",
   "execution_count": 43,
   "metadata": {},
   "outputs": [
    {
     "name": "stdout",
     "output_type": "stream",
     "text": [
      "True\n",
      "False\n"
     ]
    }
   ],
   "source": [
    "print (s.startswith (\"welcome\") )\n",
    "print (s.startswith (\"to\") )"
   ]
  },
  {
   "cell_type": "code",
   "execution_count": 41,
   "metadata": {},
   "outputs": [
    {
     "name": "stdout",
     "output_type": "stream",
     "text": [
      "False\n",
      "True\n"
     ]
    }
   ],
   "source": [
    "# s.TAB key to ket intellisense\n",
    "print (s.endswith(\"to\")) \n",
    "print (s.endswith(\"python\"))"
   ]
  },
  {
   "cell_type": "code",
   "execution_count": 45,
   "metadata": {},
   "outputs": [
    {
     "name": "stdout",
     "output_type": "stream",
     "text": [
      "8\n",
      "-1\n"
     ]
    }
   ],
   "source": [
    "# find to string position\n",
    "print (s.find(\"to\")) # 8, the index position\n",
    "print (s.find(\"scala\")) # -1 not found"
   ]
  },
  {
   "cell_type": "code",
   "execution_count": 48,
   "metadata": {},
   "outputs": [
    {
     "name": "stdout",
     "output_type": "stream",
     "text": [
      "8\n"
     ]
    },
    {
     "ename": "ValueError",
     "evalue": "substring not found",
     "output_type": "error",
     "traceback": [
      "\u001b[1;31m---------------------------------------------------------------------------\u001b[0m",
      "\u001b[1;31mValueError\u001b[0m                                Traceback (most recent call last)",
      "\u001b[1;32m<ipython-input-48-d325e9f5337c>\u001b[0m in \u001b[0;36m<module>\u001b[1;34m\u001b[0m\n\u001b[0;32m      1\u001b[0m \u001b[1;31m# index, same as find, but throw error/exception if not found\u001b[0m\u001b[1;33m\u001b[0m\u001b[1;33m\u001b[0m\u001b[1;33m\u001b[0m\u001b[0m\n\u001b[0;32m      2\u001b[0m \u001b[0mprint\u001b[0m \u001b[1;33m(\u001b[0m\u001b[0ms\u001b[0m\u001b[1;33m.\u001b[0m\u001b[0mindex\u001b[0m\u001b[1;33m(\u001b[0m\u001b[1;34m\"to\"\u001b[0m\u001b[1;33m)\u001b[0m\u001b[1;33m)\u001b[0m \u001b[1;31m# 8\u001b[0m\u001b[1;33m\u001b[0m\u001b[1;33m\u001b[0m\u001b[0m\n\u001b[1;32m----> 3\u001b[1;33m \u001b[0mprint\u001b[0m \u001b[1;33m(\u001b[0m\u001b[0ms\u001b[0m\u001b[1;33m.\u001b[0m\u001b[0mindex\u001b[0m\u001b[1;33m(\u001b[0m\u001b[1;34m\"scala\"\u001b[0m\u001b[1;33m)\u001b[0m\u001b[1;33m)\u001b[0m \u001b[1;31m# exception\u001b[0m\u001b[1;33m\u001b[0m\u001b[1;33m\u001b[0m\u001b[0m\n\u001b[0m",
      "\u001b[1;31mValueError\u001b[0m: substring not found"
     ]
    }
   ],
   "source": [
    "# index, same as find, but throw error/exception if not found\n",
    "print (s.index(\"to\")) # 8\n",
    "print (s.index(\"scala\")) # exception"
   ]
  },
  {
   "cell_type": "code",
   "execution_count": 52,
   "metadata": {},
   "outputs": [
    {
     "name": "stdout",
     "output_type": "stream",
     "text": [
      "*   welcome   *\n",
      "*welcome*\n",
      "*welcome   *\n",
      "*   welcome*\n"
     ]
    }
   ],
   "source": [
    "# remove white space around string\n",
    "s = \"   welcome   \"\n",
    "t = s.strip() # remove left and right space\n",
    "lt = s.lstrip() # remove left space\n",
    "rt = s.rstrip() # remove right space\n",
    "print(\"*\" + s + \"*\")\n",
    "print(\"*\" + t + \"*\")\n",
    "print(\"*\" + lt +\"*\")\n",
    "print(\"*\" + rt +\"*\")"
   ]
  },
  {
   "cell_type": "code",
   "execution_count": 53,
   "metadata": {},
   "outputs": [
    {
     "name": "stdout",
     "output_type": "stream",
     "text": [
      " welcome \n"
     ]
    }
   ],
   "source": [
    "s = \"welcome\"\n",
    "print (\" \"+s+\" \")"
   ]
  },
  {
   "cell_type": "code",
   "execution_count": 59,
   "metadata": {},
   "outputs": [
    {
     "name": "stdout",
     "output_type": "stream",
     "text": [
      "['Joe', 'M', '36', '5000']\n",
      "['Joe', 'M', 36, '5000']\n"
     ]
    }
   ],
   "source": [
    "s = \"Joe,M,36,5000\"\n",
    "data = s.split(\",\")\n",
    "print(data)\n",
    "data[2] = int(data[2])\n",
    "print (data)"
   ]
  },
  {
   "cell_type": "code",
   "execution_count": 61,
   "metadata": {},
   "outputs": [
    {
     "name": "stdout",
     "output_type": "stream",
     "text": [
      "46\n",
      "True\n",
      "False\n"
     ]
    }
   ],
   "source": [
    "s = '36'\n",
    "print (int(s) + 10)\n",
    "print (s.isnumeric())\n",
    "print (\"hello\".isnumeric())"
   ]
  },
  {
   "cell_type": "code",
   "execution_count": null,
   "metadata": {},
   "outputs": [],
   "source": []
  }
 ],
 "metadata": {
  "kernelspec": {
   "display_name": "Python 3",
   "language": "python",
   "name": "python3"
  },
  "language_info": {
   "codemirror_mode": {
    "name": "ipython",
    "version": 3
   },
   "file_extension": ".py",
   "mimetype": "text/x-python",
   "name": "python",
   "nbconvert_exporter": "python",
   "pygments_lexer": "ipython3",
   "version": "3.8.5"
  }
 },
 "nbformat": 4,
 "nbformat_minor": 4
}
