{
 "cells": [
  {
   "cell_type": "code",
   "execution_count": 3,
   "metadata": {},
   "outputs": [
    {
     "name": "stdout",
     "output_type": "stream",
     "text": [
      "name is Joe, age is 30\n"
     ]
    }
   ],
   "source": [
    "# prior Python 3.6\n",
    "# string formating, contat string, format\n",
    "name = \"Joe\"\n",
    "age = 30\n",
    "# legacy, old style\n",
    "s = \"name is \" + name + \", age is \" + str(age)\n",
    "print(s)"
   ]
  },
  {
   "cell_type": "code",
   "execution_count": 37,
   "metadata": {},
   "outputs": [
    {
     "name": "stdout",
     "output_type": "stream",
     "text": [
      "name is Joe\n"
     ]
    }
   ],
   "source": [
    "# % formatting , since begining\n",
    "s = \"name is %s\" % (name)\n",
    "print(s)"
   ]
  },
  {
   "cell_type": "code",
   "execution_count": 10,
   "metadata": {},
   "outputs": [
    {
     "name": "stdout",
     "output_type": "stream",
     "text": [
      "name is Joe, age is 30\n"
     ]
    }
   ],
   "source": [
    "s = \"name is %s, age is %d\" % (name,age)\n",
    "print(s)"
   ]
  },
  {
   "cell_type": "code",
   "execution_count": 11,
   "metadata": {},
   "outputs": [
    {
     "name": "stdout",
     "output_type": "stream",
     "text": [
      "name is Joe, age is 30, since i am 30 old, I can vote\n"
     ]
    }
   ],
   "source": [
    "s = \"name is %s, age is %d, since i am %d old, I can vote\" % (name,age, age)\n",
    "print(s)"
   ]
  },
  {
   "cell_type": "code",
   "execution_count": 15,
   "metadata": {},
   "outputs": [
    {
     "name": "stdout",
     "output_type": "stream",
     "text": [
      "name is Joe, age is 30, since i am 30 old, I can vote as Joe\n"
     ]
    }
   ],
   "source": [
    "s = \"name is %s, age is %d, since i am %s old, I can vote as %s\" % (name, age, age, name)\n",
    "print(s)"
   ]
  },
  {
   "cell_type": "code",
   "execution_count": 16,
   "metadata": {},
   "outputs": [
    {
     "name": "stdout",
     "output_type": "stream",
     "text": [
      "name is Joe\n"
     ]
    }
   ],
   "source": [
    "# modern approach 2.6, 3.6 onwards, format string\n",
    "\n",
    "s = \"name is {}\".format (name)\n",
    "print(s)"
   ]
  },
  {
   "cell_type": "code",
   "execution_count": 19,
   "metadata": {},
   "outputs": [
    {
     "name": "stdout",
     "output_type": "stream",
     "text": [
      "name is Joe, age is 30\n"
     ]
    }
   ],
   "source": [
    "s = \"name is {}, age is {}\".format (name, age)\n",
    "print(s)"
   ]
  },
  {
   "cell_type": "code",
   "execution_count": 38,
   "metadata": {},
   "outputs": [
    {
     "name": "stdout",
     "output_type": "stream",
     "text": [
      " age is 30 name is Joe,\n"
     ]
    }
   ],
   "source": [
    "# {0} name, {1} is age\n",
    "s = \"name is {0}, age is {1}\".format (name, age)\n",
    "print(s)"
   ]
  },
  {
   "cell_type": "code",
   "execution_count": 22,
   "metadata": {},
   "outputs": [
    {
     "name": "stdout",
     "output_type": "stream",
     "text": [
      "age is 30, name is Joe\n"
     ]
    }
   ],
   "source": [
    "s = \"age is {1}, name is {0}\".format (name, age)\n",
    "print(s)"
   ]
  },
  {
   "cell_type": "code",
   "execution_count": 24,
   "metadata": {},
   "outputs": [
    {
     "name": "stdout",
     "output_type": "stream",
     "text": [
      "name is Joe, age is 30; since i am 30 old, I can vote as Joe\n"
     ]
    }
   ],
   "source": [
    "s = \"name is {0}, age is {1}; since i am {1} old, I can vote as {0}\".format (name, age)\n",
    "print(s)"
   ]
  },
  {
   "cell_type": "code",
   "execution_count": 27,
   "metadata": {},
   "outputs": [
    {
     "name": "stdout",
     "output_type": "stream",
     "text": [
      "name is John, age is 28; since i am 28 old, I can vote as John\n"
     ]
    }
   ],
   "source": [
    "# final and better approach for string formatting, with named argument\n",
    "s = \"name is {name}, age is {age}; since i am {age} old, I can vote as {name}\".format(name=\"John\", age=28)\n",
    "print (s)"
   ]
  },
  {
   "cell_type": "code",
   "execution_count": 40,
   "metadata": {},
   "outputs": [
    {
     "name": "stdout",
     "output_type": "stream",
     "text": [
      "name is Joe, age is 30; since i am 30 old, I can vote as Joe\n"
     ]
    }
   ],
   "source": [
    "s = \"name is {name}, age is {age}; since i am {age} old, I can vote as {name}\".format(name=name, age= age)\n",
    "print (s)"
   ]
  },
  {
   "cell_type": "code",
   "execution_count": 31,
   "metadata": {},
   "outputs": [
    {
     "name": "stdout",
     "output_type": "stream",
     "text": [
      "name is Joe, age is 30\n"
     ]
    }
   ],
   "source": [
    "# 2015, python 3.7, f-strings, format string, f or F , more enahanced version of format() in 2.6\n",
    "# f-string, making code readable, less verbose, implement support for expression\n",
    "\n",
    "# name and age are python variable, f-string, it picks the values from variables\n",
    "s = f\"name is {name}, age is {age}\" # no need to pass the data like format\n",
    "print(s)"
   ]
  },
  {
   "cell_type": "code",
   "execution_count": 35,
   "metadata": {},
   "outputs": [
    {
     "name": "stdout",
     "output_type": "stream",
     "text": [
      "name is Joe, age is 33\n"
     ]
    }
   ],
   "source": [
    "s = f\"name is {name}, age is {age + 3}\"\n",
    "print (s)"
   ]
  },
  {
   "cell_type": "code",
   "execution_count": 36,
   "metadata": {},
   "outputs": [
    {
     "name": "stdout",
     "output_type": "stream",
     "text": [
      "sum of 10 and 20 is 30\n"
     ]
    }
   ],
   "source": [
    "def sum(a, b):\n",
    "    return a + b\n",
    "\n",
    "a = 10\n",
    "b = 20\n",
    "# we can use expression, function calls in f-string\n",
    "s = f\"sum of {a} and {b} is {sum(a, b)}\"\n",
    "print(s)"
   ]
  },
  {
   "cell_type": "code",
   "execution_count": null,
   "metadata": {},
   "outputs": [],
   "source": []
  }
 ],
 "metadata": {
  "kernelspec": {
   "display_name": "Python 3",
   "language": "python",
   "name": "python3"
  },
  "language_info": {
   "codemirror_mode": {
    "name": "ipython",
    "version": 3
   },
   "file_extension": ".py",
   "mimetype": "text/x-python",
   "name": "python",
   "nbconvert_exporter": "python",
   "pygments_lexer": "ipython3",
   "version": "3.8.5"
  }
 },
 "nbformat": 4,
 "nbformat_minor": 4
}
