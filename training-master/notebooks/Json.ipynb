{
 "cells": [
  {
   "cell_type": "code",
   "execution_count": 6,
   "metadata": {},
   "outputs": [
    {
     "name": "stdout",
     "output_type": "stream",
     "text": [
      "actual object  {'InvoiceNo': 536365, 'StockCode': '85123A', 'Quantity': 6, 'InvoiceDate': '12/01/2010 8:26', 'UnitPrice': 2.55, 'CustomerID': 17850, 'Country': 'United Kingdom'}\n",
      "unit price 2.55\n",
      "invoice obj type  <class 'dict'>\n",
      "invoice json string {\"InvoiceNo\": 536365, \"StockCode\": \"85123A\", \"Quantity\": 6, \"InvoiceDate\": \"12/01/2010 8:26\", \"UnitPrice\": 2.55, \"CustomerID\": 17850, \"Country\": \"United Kingdom\"}\n",
      "invoice_str json type  <class 'str'>\n"
     ]
    }
   ],
   "source": [
    "# JSON - JavaScript Object Notation\n",
    "# if we need to transmit data between two systems, we can use json encoding\n",
    "# InvoiceNo,StockCode,Quantity,InvoiceDate,UnitPrice,CustomerID,Country\n",
    "# 536365,85123A,6,12/01/2010 8:26,2.55,17850,United Kingdom\n",
    "\n",
    "# System 1\n",
    "# Python object\n",
    "invoice = {  \"InvoiceNo\": 536365,\n",
    "             \"StockCode\": \"85123A\" ,\n",
    "             \"Quantity\": 6,\n",
    "            \"InvoiceDate\": \"12/01/2010 8:26\",\n",
    "            \"UnitPrice\": 2.55,\n",
    "            \"CustomerID\": 17850,\n",
    "             \"Country\"  : \"United Kingdom\"   }\n",
    "\n",
    "# send to backend server, web service, system to system..\n",
    "print (\"actual object \", invoice)\n",
    "print (\"unit price\", invoice[\"UnitPrice\"])\n",
    "\n",
    "print (\"invoice obj type \", type(invoice))\n",
    "\n",
    "# system 1, will encode the object invoice into json string format\n",
    "import json\n",
    "invoice_str = json.dumps(invoice)\n",
    "print(\"invoice json string\", invoice_str)\n",
    "print (\"invoice_str json type \", type(invoice_str))\n",
    "# the system 1 shall send to system in json string format invoice_str"
   ]
  },
  {
   "cell_type": "code",
   "execution_count": 11,
   "metadata": {},
   "outputs": [
    {
     "name": "stdout",
     "output_type": "stream",
     "text": [
      "received_data type <class 'str'>\n",
      "received_data  {\"InvoiceNo\": 536365, \"StockCode\": \"85123A\", \"Quantity\": 6, \"InvoiceDate\": \"12/01/2010 8:26\", \"UnitPrice\": 2.55, \"CustomerID\": 17850, \"Country\": \"United Kingdom\"}\n",
      "Invoice type  <class 'dict'>\n",
      "2.55\n"
     ]
    }
   ],
   "source": [
    "# system 2 shall receive the invoice_str as string format\n",
    "received_data = invoice_str\n",
    "# received_data is string\n",
    "print(\"received_data type\", type(received_data))\n",
    "print(\"received_data \", received_data)\n",
    "# print(received_data[\"UnitPrice\"]) # error, since received_data is string, not dict\n",
    "\n",
    "# now convert json string into python object\n",
    "invoice = json.loads(received_data)\n",
    "print (\"Invoice type \", type(invoice))\n",
    "print(invoice[\"UnitPrice\"])"
   ]
  },
  {
   "cell_type": "code",
   "execution_count": 41,
   "metadata": {},
   "outputs": [
    {
     "name": "stdout",
     "output_type": "stream",
     "text": [
      "invoince no 983956\n",
      "stock_code 84406B\n",
      "quantiy  3\n",
      "unit_price  2.0\n",
      "country  CA\n",
      "05/22/2021 00:13\n",
      "{'InvoiceNo': 983956, 'StockCode': '84406B', 'Quantity': 3, 'InvoiceDate': '05/22/2021 00:13', 'UnitPrice': 2.0, 'CustomerID': 17850, 'Country': 'CA'}\n"
     ]
    }
   ],
   "source": [
    "import random\n",
    "countries = [\"USA\", \"CA\", \"IN\", \"AT\", \"BE\", \"BG\", \"HR\", \"CY\", \"CZ\", \"DK\", \"EE\", \"FI\", \"FR\", \"DE\", \"GR\", \"HU\", \"IE\", \"IT\", \"LV\", \"LT\", \"LU\", \"MT\", \"NL\", \"PL\", \"PT\", \"RO\", \"SK\", \"SI\", \"ES\", \"SE\"]\n",
    "country =  random.choice(countries)\n",
    "\n",
    "stock_codes = ['85123A', '71053', '84406B', '84406G', '84406E']\n",
    "\n",
    "customer_codes = [17850, 13047, 12583, 17850]\n",
    "\n",
    "import uuid\n",
    " \n",
    "\n",
    "invoice_no = str(uuid.uuid4().fields[-1])[:6]\n",
    "invoice_no = int(invoice_no)\n",
    "\n",
    "\n",
    "stock_code =  random.choice(stock_codes)\n",
    "\n",
    "customer_code =  random.choice(customer_codes)\n",
    "\n",
    "print(\"invoince no\", invoice_no)\n",
    "print(\"stock_code\", stock_code)\n",
    "\n",
    "quantity = random.randint(1, 10)\n",
    "print(\"quantiy \", quantity)\n",
    "\n",
    "unit_price = float(random.randint(1, 5))\n",
    "print(\"unit_price \", unit_price)\n",
    "\n",
    "print (\"country \", country)\n",
    "\n",
    "import datetime\n",
    "\n",
    "current_time = datetime.datetime.now()\n",
    " \n",
    "invoice_date = current_time.strftime('%m/%d/%Y %H:%M') \n",
    "print (invoice_date)\n",
    "\n",
    "# MM/dd/yyyy hh:mm\n",
    "invoice = {  \"InvoiceNo\": invoice_no,\n",
    "             \"StockCode\": stock_code ,\n",
    "             \"Quantity\": quantity,\n",
    "            \"InvoiceDate\": invoice_date,\n",
    "            \"UnitPrice\": unit_price,\n",
    "            \"CustomerID\": customer_code,\n",
    "             \"Country\"  : country   }\n",
    "\n",
    "print(invoice)\n"
   ]
  },
  {
   "cell_type": "code",
   "execution_count": null,
   "metadata": {},
   "outputs": [],
   "source": []
  }
 ],
 "metadata": {
  "kernelspec": {
   "display_name": "Python 3",
   "language": "python",
   "name": "python3"
  },
  "language_info": {
   "codemirror_mode": {
    "name": "ipython",
    "version": 3
   },
   "file_extension": ".py",
   "mimetype": "text/x-python",
   "name": "python",
   "nbconvert_exporter": "python",
   "pygments_lexer": "ipython3",
   "version": "3.7.7"
  }
 },
 "nbformat": 4,
 "nbformat_minor": 4
}
