{
 "cells": [
  {
   "cell_type": "code",
   "execution_count": null,
   "metadata": {},
   "outputs": [],
   "source": [
    "import time\n",
    "from kafka import KafkaProducer\n",
    "from kafka.errors import KafkaError\n",
    "# broker runs in linux machine\n",
    "#  $KAFKA_HOME/bin/kafka-topics.sh  --create --bootstrap-server localhost:9092 --replication-factor 1 --partitions 4 --topic sales\n",
    "\n",
    "producer = KafkaProducer(bootstrap_servers=['192.168.93.128:9092'])\n",
    "\n",
    "TOPIC = \"sales\"\n",
    "\n",
    "for i in range(1000):\n",
    "    key = \"sale-%d\" % i\n",
    "    value = \"Sale Amount %d\" %  (i * 10)\n",
    "    key = bytes(key, 'utf-8')\n",
    "    value = bytes(value, 'utf-8')\n",
    "    future = producer.send(TOPIC, key=key, value=value)\n",
    "    print(\"sending \", key, value)\n",
    "    \n",
    "    try:\n",
    "       record_metadata = future.get(timeout=10)\n",
    "       print(\"partition %d, offset %d\" % (record_metadata.partition, record_metadata.offset)) \n",
    "    except KafkaError:\n",
    "        print(\"Error\")\n",
    "        \n",
    "    time.sleep(5) # sleep/pause for 5 seconds\n",
    "     "
   ]
  },
  {
   "cell_type": "code",
   "execution_count": null,
   "metadata": {},
   "outputs": [],
   "source": []
  }
 ],
 "metadata": {
  "kernelspec": {
   "display_name": "Python 3",
   "language": "python",
   "name": "python3"
  },
  "language_info": {
   "codemirror_mode": {
    "name": "ipython",
    "version": 3
   },
   "file_extension": ".py",
   "mimetype": "text/x-python",
   "name": "python",
   "nbconvert_exporter": "python",
   "pygments_lexer": "ipython3",
   "version": "3.7.7"
  }
 },
 "nbformat": 4,
 "nbformat_minor": 4
}
