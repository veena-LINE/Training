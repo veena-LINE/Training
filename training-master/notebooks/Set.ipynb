{
 "cells": [
  {
   "cell_type": "code",
   "execution_count": 3,
   "metadata": {},
   "outputs": [
    {
     "name": "stdout",
     "output_type": "stream",
     "text": [
      "{'perl', 'java', 'python'}\n",
      "<class 'set'>\n",
      "3\n",
      "{'perl', 'java', 'python'}\n"
     ]
    },
    {
     "ename": "TypeError",
     "evalue": "'set' object is not subscriptable",
     "output_type": "error",
     "traceback": [
      "\u001b[1;31m---------------------------------------------------------------------------\u001b[0m",
      "\u001b[1;31mTypeError\u001b[0m                                 Traceback (most recent call last)",
      "\u001b[1;32m<ipython-input-3-c64be66f8c30>\u001b[0m in \u001b[0;36m<module>\u001b[1;34m\u001b[0m\n\u001b[0;32m     11\u001b[0m \u001b[1;33m\u001b[0m\u001b[0m\n\u001b[0;32m     12\u001b[0m \u001b[1;31m# ERROR, set doesn't support indexing\u001b[0m\u001b[1;33m\u001b[0m\u001b[1;33m\u001b[0m\u001b[1;33m\u001b[0m\u001b[0m\n\u001b[1;32m---> 13\u001b[1;33m \u001b[0mprint\u001b[0m \u001b[1;33m(\u001b[0m\u001b[0mlang\u001b[0m\u001b[1;33m[\u001b[0m\u001b[1;36m0\u001b[0m\u001b[1;33m]\u001b[0m\u001b[1;33m)\u001b[0m\u001b[1;33m\u001b[0m\u001b[1;33m\u001b[0m\u001b[0m\n\u001b[0m",
      "\u001b[1;31mTypeError\u001b[0m: 'set' object is not subscriptable"
     ]
    }
   ],
   "source": [
    "# collection of items, without duplicates, unordered, unindexed, IMMUTABLE\n",
    "# we use curly brace { } to define set in python\n",
    "lang = { \"python\", \"perl\", \"java\" }\n",
    "print(lang)\n",
    "print (type(lang))\n",
    "print(len(lang))\n",
    "\n",
    "# also use set keyword or {} to define\n",
    "lang2 = set((\"python\", \"perl\", \"java\"))\n",
    "print(lang2)\n",
    "\n",
    "# ERROR, set doesn't support indexing\n",
    "# print (lang[0]) # ERROR"
   ]
  },
  {
   "cell_type": "code",
   "execution_count": 5,
   "metadata": {},
   "outputs": [
    {
     "name": "stdout",
     "output_type": "stream",
     "text": [
      "{'perl', 'java', 'python'}\n",
      "True\n",
      "True\n"
     ]
    }
   ],
   "source": [
    "lang = { \"python\", \"perl\", \"java\", \"python\" }\n",
    "print(lang) # we can see python only once, no duplicate\n",
    "\n",
    "print (\"python\" in lang)\n",
    "print (\"javascript\" not in lang)"
   ]
  },
  {
   "cell_type": "code",
   "execution_count": 11,
   "metadata": {},
   "outputs": [
    {
     "name": "stdout",
     "output_type": "stream",
     "text": [
      "{'perl', 'Scala', 'java', 'python'}\n",
      "{'Scala', 'java', 'python'}\n",
      "{'Scala', 'python'}\n",
      "set()\n"
     ]
    }
   ],
   "source": [
    "lang = { \"python\", \"perl\", \"java\", \"python\" }\n",
    "lang.add(\"Scala\")\n",
    "print(lang)\n",
    "lang.remove(\"perl\")\n",
    "print(lang)\n",
    "# if we attempt to remove a member which is not present, will get exception\n",
    "# lang.remove(\"C#\") # raise error\n",
    "lang.discard(\"java\")\n",
    "lang.discard(\"C#\") # will not throw eror\n",
    "print(lang)\n",
    "\n",
    "lang.clear()\n",
    "print(lang)"
   ]
  },
  {
   "cell_type": "code",
   "execution_count": null,
   "metadata": {},
   "outputs": [],
   "source": []
  }
 ],
 "metadata": {
  "kernelspec": {
   "display_name": "Python 3",
   "language": "python",
   "name": "python3"
  },
  "language_info": {
   "codemirror_mode": {
    "name": "ipython",
    "version": 3
   },
   "file_extension": ".py",
   "mimetype": "text/x-python",
   "name": "python",
   "nbconvert_exporter": "python",
   "pygments_lexer": "ipython3",
   "version": "3.8.5"
  }
 },
 "nbformat": 4,
 "nbformat_minor": 4
}
