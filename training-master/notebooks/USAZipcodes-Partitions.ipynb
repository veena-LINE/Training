{
 "cells": [
  {
   "cell_type": "code",
   "execution_count": null,
   "metadata": {},
   "outputs": [],
   "source": [
    "# In linux \n",
    "# cd ~\n",
    "# wget https://raw.githubusercontent.com/midwire/free_zipcode_data/develop/all_us_zipcodes.csv\n",
    "# hdfs dfs -copyFromLocal ./all_us_zipcodes.csv /input\n"
   ]
  },
  {
   "cell_type": "code",
   "execution_count": 1,
   "metadata": {},
   "outputs": [],
   "source": [
    "import findspark\n",
    "findspark.init()"
   ]
  },
  {
   "cell_type": "code",
   "execution_count": 2,
   "metadata": {},
   "outputs": [],
   "source": [
    "from pyspark import SparkContext\n",
    "# local[*] - as many cpu available\n",
    "sc = SparkContext(\"local[*]\", \"ZipCodesPartitions\")\n"
   ]
  },
  {
   "cell_type": "code",
   "execution_count": 10,
   "metadata": {},
   "outputs": [
    {
     "name": "stdout",
     "output_type": "stream",
     "text": [
      "code,city,state,county,area_code,lat,lon\n",
      "NumPartitions 2\n"
     ]
    },
    {
     "data": {
      "text/plain": [
       "[('01010', 'Brimfield', 'MA', 'HAMPDEN', '', '42.108585', '-72.20448'),\n",
       " ('01011', 'Chester', 'MA', 'HAMPDEN', '', '42.294259', '-72.952776'),\n",
       " ('01012', 'Chesterfield', 'MA', 'HAMPSHIRE', '', '42.392274', '-72.825607'),\n",
       " ('01013', 'Chicopee', 'MA', 'HAMPDEN', '', '42.161492', '-72.667341')]"
      ]
     },
     "execution_count": 10,
     "metadata": {},
     "output_type": "execute_result"
    }
   ],
   "source": [
    "# fileRdd = sc.textFile(\"hdfs://192.168.93.128:9000/input/all_us_zipcodes.csv\")\n",
    "fileRdd = sc.textFile(\"hdfs://192.168.93.128:9000/input/all_us_zipcodes.csv\")\n",
    "\n",
    "header = fileRdd.first()\n",
    "print(header)\n",
    "fileRdd = fileRdd.filter(lambda line: line != header)\\\n",
    "                 .map(lambda line: line.strip().split(\",\"))\\\n",
    "                 .map(lambda data: tuple(data))\n",
    "\n",
    "# we need upto 4 partitions, compute portable_hash [default] based on first member of the tuple\n",
    "fileRdd.partitionBy(4)    \n",
    "# fileRdd.take(4)\n",
    "\n",
    "def showPartData(partitionData):\n",
    "    if (partitionData is None):\n",
    "        return\n",
    "    \n",
    "    i = 0 \n",
    "    \n",
    "    print (\"Part ==========\")\n",
    "    try:\n",
    "        for element in partitionData:\n",
    "            print (element)\n",
    "            i += 1\n",
    "            if (i == 10):\n",
    "                break\n",
    "    except:\n",
    "        print(\"ERROR\")\n",
    "        \n",
    "    return partitionData\n",
    "\n",
    "print(\"NumPartitions\", fileRdd.getNumPartitions())\n",
    "fileRdd = fileRdd.mapPartitions(showPartData)\n",
    "\n",
    "k = fileRdd.collect() # reads from all parititions\n",
    "fileRdd.take(4)"
   ]
  },
  {
   "cell_type": "code",
   "execution_count": null,
   "metadata": {},
   "outputs": [],
   "source": [
    "from pyspark.rdd import portable_hash\n",
    "\n",
    "print (\"Hash\", portable_hash('MA'))"
   ]
  },
  {
   "cell_type": "code",
   "execution_count": null,
   "metadata": {},
   "outputs": [],
   "source": [
    "\n",
    "def showPartData(partitionData):\n",
    "    if (partitionData is None):\n",
    "        return\n",
    "    \n",
    "    i = 0 \n",
    "    \n",
    "    print (\"Part ==========\")\n",
    "    try:\n",
    "        for element in partitionData:\n",
    "            print (element)\n",
    "            i += 1\n",
    "            if (i == 10):\n",
    "                break\n",
    "    except:\n",
    "        print(\"ERROR\")\n",
    "        \n",
    "    return partitionData"
   ]
  },
  {
   "cell_type": "code",
   "execution_count": 18,
   "metadata": {},
   "outputs": [
    {
     "name": "stdout",
     "output_type": "stream",
     "text": [
      "code,city,state,county,area_code,lat,lon\n",
      "NumPartitions 52\n"
     ]
    }
   ],
   "source": [
    "# fileRdd = sc.textFile(\"hdfs://192.168.93.128:9000/input/all_us_zipcodes.csv\")\n",
    "fileRdd = sc.textFile(\"hdfs://192.168.93.128:9000/input/all_us_zipcodes.csv\")\n",
    "\n",
    "header = fileRdd.first()\n",
    "print(header)\n",
    "# keyed Rdd, where key is the state code, data[2] is a state code NY, CO\n",
    "fileRdd = fileRdd.filter(lambda line: line != header)\\\n",
    "                 .map(lambda line: line.strip().split(\",\"))\\\n",
    "                 .map(lambda data: (data[2], tuple(data)))\n",
    "\n",
    "def byStateCode(state):\n",
    "    if (state == \"NY\"):\n",
    "        return 1\n",
    "    #print(\"**\", state)\n",
    "    return hash(state)\n",
    "\n",
    "# we need upto 4 partitions\n",
    "# by default paritionBy uses portable_hash, now we are overwriting that by passing custom partioner\n",
    "\n",
    "fileRdd = fileRdd.partitionBy(52, byStateCode)    \n",
    "# fileRdd.take(4)\n",
    "\n",
    "\n",
    "print(\"NumPartitions\", fileRdd.getNumPartitions())\n",
    "fileRdd = fileRdd.mapPartitions(showPartData)\n",
    "\n",
    "k = fileRdd.collect() # reads from all parititions\n",
    "#fileRdd.take(4)"
   ]
  },
  {
   "cell_type": "code",
   "execution_count": null,
   "metadata": {},
   "outputs": [],
   "source": []
  }
 ],
 "metadata": {
  "kernelspec": {
   "display_name": "Python 3",
   "language": "python",
   "name": "python3"
  },
  "language_info": {
   "codemirror_mode": {
    "name": "ipython",
    "version": 3
   },
   "file_extension": ".py",
   "mimetype": "text/x-python",
   "name": "python",
   "nbconvert_exporter": "python",
   "pygments_lexer": "ipython3",
   "version": "3.7.7"
  }
 },
 "nbformat": 4,
 "nbformat_minor": 4
}
