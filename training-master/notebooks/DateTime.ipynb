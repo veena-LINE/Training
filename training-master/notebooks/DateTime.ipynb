{
 "cells": [
  {
   "cell_type": "code",
   "execution_count": 5,
   "metadata": {},
   "outputs": [
    {
     "name": "stdout",
     "output_type": "stream",
     "text": [
      "2021-04-30 00:42:31.542399\n",
      "30 4 2021 0\n"
     ]
    }
   ],
   "source": [
    "# import a library into memory, reusable\n",
    "\n",
    "import datetime # python standard library, not loaded by default\n",
    "\n",
    "# get current datetime\n",
    "today = datetime.datetime.now()\n",
    "print(today)\n",
    "print (today.day, today.month, today.year, today.hour)"
   ]
  },
  {
   "cell_type": "code",
   "execution_count": 6,
   "metadata": {},
   "outputs": [
    {
     "name": "stdout",
     "output_type": "stream",
     "text": [
      "2021-02-18 00:00:00\n"
     ]
    }
   ],
   "source": [
    "specific = datetime.datetime(2021, 2, 18)\n",
    "print(specific)"
   ]
  },
  {
   "cell_type": "code",
   "execution_count": null,
   "metadata": {},
   "outputs": [],
   "source": []
  }
 ],
 "metadata": {
  "kernelspec": {
   "display_name": "Python 3",
   "language": "python",
   "name": "python3"
  },
  "language_info": {
   "codemirror_mode": {
    "name": "ipython",
    "version": 3
   },
   "file_extension": ".py",
   "mimetype": "text/x-python",
   "name": "python",
   "nbconvert_exporter": "python",
   "pygments_lexer": "ipython3",
   "version": "3.8.5"
  }
 },
 "nbformat": 4,
 "nbformat_minor": 4
}
