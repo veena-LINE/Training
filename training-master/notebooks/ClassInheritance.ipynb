{
 "cells": [
  {
   "cell_type": "code",
   "execution_count": 5,
   "metadata": {},
   "outputs": [
    {
     "name": "stdout",
     "output_type": "stream",
     "text": [
      "white 1500\n",
      "start\n",
      "Black 2500\n",
      "start\n"
     ]
    }
   ],
   "source": [
    "# A class  consist of attributes and behavior [methods]\n",
    "# classes can have common attributes, commmon behaviour too, common classification\n",
    "\n",
    "# parent class where other classes shall inherit too\n",
    "class Vehicle:\n",
    "    def __init__(self, color, model, price, year, cc):\n",
    "        self.color = color\n",
    "        self.model = model\n",
    "        self.price = price\n",
    "        self.year = year\n",
    "        self.cc = cc\n",
    "        \n",
    "    # behaviour\n",
    "    def start(self):\n",
    "        print ('start')\n",
    "    def stop(self):\n",
    "        print ('stop')\n",
    "        \n",
    "# Car is inheriting from Vehicle\n",
    "# Car is a sub class of Vehicle\n",
    "# Car is a child class\n",
    "class Car(Vehicle):\n",
    "    pass\n",
    "\n",
    "class Jeep(Vehicle):\n",
    "    pass\n",
    "\n",
    "car1 = Car('white', 'toyota', 35000, 2018, 1500)\n",
    "print (car1.color, car1.cc)\n",
    "car1.start()\n",
    "\n",
    "jeep1 = Jeep('Black', 'Valvo', 65000, 2019, 2500)\n",
    "print (jeep1.color, jeep1.cc)\n",
    "jeep1.start()"
   ]
  },
  {
   "cell_type": "code",
   "execution_count": 2,
   "metadata": {},
   "outputs": [
    {
     "name": "stdout",
     "output_type": "stream",
     "text": [
      "Car init called\n",
      "Vehicle init called\n"
     ]
    }
   ],
   "source": [
    "# calling base class initializer\n",
    "\n",
    "class Vehicle:\n",
    "    def __init__(self):\n",
    "        print (\"Vehicle init called\")\n",
    "        \n",
    "class Car(Vehicle):\n",
    "    def __init__(self):\n",
    "        print (\"Car init called\")\n",
    "        # to call base class initializer, we need to do explicitly\n",
    "        Vehicle.__init__(self)\n",
    "\n",
    "car1 = Car()"
   ]
  },
  {
   "cell_type": "code",
   "execution_count": 18,
   "metadata": {},
   "outputs": [
    {
     "name": "stdout",
     "output_type": "stream",
     "text": [
      "Car init called\n",
      "Vehicle init called\n",
      "Grey sedan\n",
      "True\n",
      "True\n",
      "Vehicle init called\n",
      "True\n",
      "False\n",
      "True\n",
      "True\n",
      "False\n"
     ]
    }
   ],
   "source": [
    "# calling base class initializer with parameters\n",
    "# some properties are specific to parent, some are specific to child class\n",
    "\n",
    "class Vehicle:\n",
    "    def __init__(self, color):\n",
    "        print (\"Vehicle init called\")\n",
    "        self.color = color\n",
    "        \n",
    "class Car(Vehicle):\n",
    "    # category is speific to car hatchback, suv, xuv\n",
    "    def __init__(self, color, category):\n",
    "        print (\"Car init called\")\n",
    "        Vehicle.__init__(self, color) # pass color to parent\n",
    "        self.category = category\n",
    "\n",
    "car1 = Car(\"Grey\", \"sedan\")\n",
    "print (car1.color, car1.category)\n",
    "print (isinstance (car1, Car)) # true\n",
    "print (isinstance (car1, Vehicle)) # true\n",
    "\n",
    "v1 = Vehicle(\"Red\")\n",
    "print (isinstance (v1, Vehicle)) # true\n",
    "print (isinstance(v1, Car)) # false\n",
    "\n",
    "print (issubclass(Car, Vehicle)) # true\n",
    "print (issubclass(Car, Car)) # true \n",
    "print (issubclass(Vehicle, Car)) # false, Vehicle is a super class of Car, not sub class"
   ]
  },
  {
   "cell_type": "code",
   "execution_count": 21,
   "metadata": {},
   "outputs": [
    {
     "name": "stdout",
     "output_type": "stream",
     "text": [
      "Car init called\n",
      "Vehicle init called\n",
      "Grey sedan\n"
     ]
    }
   ],
   "source": [
    "# using super() function, this will get the reference of base class\n",
    "# no need to hardcode Base class name while refering base class\n",
    "class Vehicle:\n",
    "    def __init__(self, color):\n",
    "        print (\"Vehicle init called\")\n",
    "        self.color = color\n",
    "        \n",
    "class Car(Vehicle):\n",
    "    # category is speific to car hatchback, suv, xuv\n",
    "    def __init__(self, color, category):\n",
    "        print (\"Car init called\")\n",
    "        # while using super(), no need to pass self\n",
    "        super().__init__(color) # pass color to parent\n",
    "        self.category = category\n",
    "\n",
    "car1 = Car(\"Grey\", \"sedan\")\n",
    "print(car1.color, car1.category)"
   ]
  },
  {
   "cell_type": "code",
   "execution_count": 27,
   "metadata": {},
   "outputs": [
    {
     "name": "stdout",
     "output_type": "stream",
     "text": [
      "Car init called\n",
      "Vehicle init called\n",
      "vehicle start\n",
      "car start\n",
      "door check\n"
     ]
    }
   ],
   "source": [
    "# method overriding \n",
    "# child class override the method name defined in the parent class\n",
    "class Vehicle:\n",
    "    def __init__(self, color):\n",
    "        print (\"Vehicle init called\")\n",
    "        self.color = color\n",
    "        \n",
    "    def start(self):\n",
    "        print ('vehicle start')\n",
    "        \n",
    "class Car(Vehicle):\n",
    "    # category is speific to car hatchback, suv, xuv\n",
    "    def __init__(self, color, category):\n",
    "        print (\"Car init called\")\n",
    "        # while using super(), no need to pass self\n",
    "        super().__init__(color) # pass color to parent\n",
    "        self.category = category\n",
    "\n",
    "    def check_door_latch(self):\n",
    "        print (\"door check\")\n",
    "        \n",
    "    # overriding base class start    \n",
    "    def start(self):\n",
    "        super().start() # calls base class start function\n",
    "        print ('car start')\n",
    "        self.check_door_latch()\n",
    "        \n",
    "car1 = Car(\"Grey\", \"sedan\")\n",
    "car1.start()"
   ]
  },
  {
   "cell_type": "code",
   "execution_count": null,
   "metadata": {},
   "outputs": [],
   "source": []
  }
 ],
 "metadata": {
  "kernelspec": {
   "display_name": "Python 3",
   "language": "python",
   "name": "python3"
  },
  "language_info": {
   "codemirror_mode": {
    "name": "ipython",
    "version": 3
   },
   "file_extension": ".py",
   "mimetype": "text/x-python",
   "name": "python",
   "nbconvert_exporter": "python",
   "pygments_lexer": "ipython3",
   "version": "3.8.5"
  }
 },
 "nbformat": 4,
 "nbformat_minor": 4
}
