{
 "cells": [
  {
   "cell_type": "code",
   "execution_count": 1,
   "metadata": {},
   "outputs": [],
   "source": [
    "import findspark\n",
    "findspark.init()"
   ]
  },
  {
   "cell_type": "code",
   "execution_count": 2,
   "metadata": {},
   "outputs": [],
   "source": [
    "from pyspark import SparkContext\n",
    "sc = SparkContext(\"local\", \"CopyFileUpperCase\")\n",
    "sc.setLogLevel(\"WARN\")"
   ]
  },
  {
   "cell_type": "code",
   "execution_count": 3,
   "metadata": {},
   "outputs": [
    {
     "name": "stdout",
     "output_type": "stream",
     "text": [
      "Count  3\n"
     ]
    }
   ],
   "source": [
    "\n",
    "fileRdd = sc.textFile(\"hdfs://192.168.93.128:9000/input/README.md\")\n",
    "# action\n",
    "print(\"Count \", fileRdd.count() )"
   ]
  },
  {
   "cell_type": "code",
   "execution_count": 4,
   "metadata": {},
   "outputs": [
    {
     "name": "stdout",
     "output_type": "stream",
     "text": [
      "lines  ['PYTHON SPARK', 'PYSPARK WORKSHOP', 'WITH HADOOP']\n"
     ]
    }
   ],
   "source": [
    "\n",
    "# transformation \n",
    "upperRdd = fileRdd.map (lambda line: line.strip().upper())\n",
    "\n",
    "print (\"lines \", upperRdd.collect() )\n",
    "\n",
    "def show(line):\n",
    "    print (line)\n",
    "\n",
    "upperRdd.foreach(lambda line: show(line))"
   ]
  },
  {
   "cell_type": "code",
   "execution_count": 5,
   "metadata": {},
   "outputs": [],
   "source": [
    "upperRdd.saveAsTextFile(\"hdfs://192.168.93.128:9000/output/upper2\")\n"
   ]
  },
  {
   "cell_type": "code",
   "execution_count": 6,
   "metadata": {},
   "outputs": [
    {
     "name": "stdout",
     "output_type": "stream",
     "text": [
      "3\n",
      "lines  ['PYTHON SPARK', 'PYSPARK WORKSHOP', 'WITH HADOOP']\n"
     ]
    }
   ],
   "source": [
    "# Now Read from Hadoop /output/upper and/or /output/upper2, sc.textFile(...)\n",
    "\n",
    "# print all the lines\n",
    "# SPARK, shall understand the folfer, it automatically read the content from the director and \n",
    "# the files with pattern part-xxxxx ie part-00000\n",
    "\n",
    "outputRdd = sc.textFile(\"hdfs://192.168.93.128:9000/output/upper\")\n",
    "print(outputRdd.count())\n",
    "print (\"lines \", outputRdd.collect() )\n"
   ]
  },
  {
   "cell_type": "code",
   "execution_count": null,
   "metadata": {},
   "outputs": [],
   "source": []
  }
 ],
 "metadata": {
  "kernelspec": {
   "display_name": "Python 3",
   "language": "python",
   "name": "python3"
  },
  "language_info": {
   "codemirror_mode": {
    "name": "ipython",
    "version": 3
   },
   "file_extension": ".py",
   "mimetype": "text/x-python",
   "name": "python",
   "nbconvert_exporter": "python",
   "pygments_lexer": "ipython3",
   "version": "3.7.7"
  }
 },
 "nbformat": 4,
 "nbformat_minor": 4
}
