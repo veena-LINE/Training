{
 "cells": [
  {
   "cell_type": "code",
   "execution_count": 1,
   "metadata": {},
   "outputs": [],
   "source": [
    "import findspark\n",
    "findspark.init()"
   ]
  },
  {
   "cell_type": "code",
   "execution_count": 2,
   "metadata": {},
   "outputs": [],
   "source": [
    "import pyspark\n",
    "\n",
    "from pyspark.sql import SparkSession\n",
    "spark = SparkSession.builder.master(\"local[1]\")\\\n",
    "                            .appName(\"SparkStreamingWordCount\").getOrCreate()\n",
    "\n"
   ]
  },
  {
   "cell_type": "code",
   "execution_count": 3,
   "metadata": {},
   "outputs": [],
   "source": [
    "# ensure running below command in linux terminal\n",
    "# nc -lk 9999\n",
    "# spark streaming works as dataframe/sql\n",
    "linesDf = spark\\\n",
    "        .readStream\\\n",
    "        .format(\"socket\")\\\n",
    "        .option(\"host\", \"192.168.93.128\")\\\n",
    "        .option(\"port\", 9999)\\\n",
    "        .load()"
   ]
  },
  {
   "cell_type": "code",
   "execution_count": 4,
   "metadata": {},
   "outputs": [
    {
     "name": "stdout",
     "output_type": "stream",
     "text": [
      "root\n",
      " |-- value: string (nullable = true)\n",
      "\n"
     ]
    }
   ],
   "source": [
    "# .show/print will not work directily due to stream..\n",
    "# linesDf.show() # worn't work\n",
    "linesDf.printSchema() # works"
   ]
  },
  {
   "cell_type": "code",
   "execution_count": 5,
   "metadata": {},
   "outputs": [],
   "source": [
    "# split the lines into words, then convert the words into individual row using a function called explode\n",
    "# explode will convert columns/array elements into spark record\n",
    "import pyspark.sql.functions as F\n",
    "# linesDf.value is a column\n",
    "# split convert to list of words [welcome, to, spark]\n",
    "# convert list of words into individual word/record\n",
    "# explode, will convert elements into record\n",
    "#wordsDf = linesDf.select(F.split(linesDf.value,\" \"))\n",
    "# after explode the output would be, column name is shown as col\n",
    "#        welcome\n",
    "#         to\n",
    "#         spark\n",
    "# wordsDf = linesDf.select(F.explode(F.split(linesDf.value,\" \")) )\n",
    "\n",
    "wordsDf = linesDf.select(F.explode(F.split(linesDf.value,\" \")).alias(\"word\") )\n",
    "#        welcome\n",
    "#         to\n",
    "#         spark\n",
    "# now the same result with col name word\n",
    "\n",
    "# generate running word count from stream\n",
    "# \"word\" is a column name\n",
    "wordCountsDf = wordsDf.groupBy(\"word\").count()"
   ]
  },
  {
   "cell_type": "code",
   "execution_count": 7,
   "metadata": {},
   "outputs": [],
   "source": [
    "# to print the data on console..\n",
    "# read the data send by nc command from linux terminal, print it on Jupyter console\n",
    "echoOnconsole = wordCountsDf\\\n",
    "                .writeStream\\\n",
    "                .outputMode(\"complete\")\\\n",
    "                .format(\"console\")\\\n",
    "                .start() # start the query. spark will subscribe for data"
   ]
  },
  {
   "cell_type": "code",
   "execution_count": null,
   "metadata": {},
   "outputs": [],
   "source": []
  },
  {
   "cell_type": "code",
   "execution_count": null,
   "metadata": {},
   "outputs": [],
   "source": [
    "echoOnconsole.awaitTermination()\n",
    "\n",
    "# later you can terminal the jupyter"
   ]
  },
  {
   "cell_type": "code",
   "execution_count": null,
   "metadata": {},
   "outputs": [],
   "source": []
  }
 ],
 "metadata": {
  "kernelspec": {
   "display_name": "Python 3",
   "language": "python",
   "name": "python3"
  },
  "language_info": {
   "codemirror_mode": {
    "name": "ipython",
    "version": 3
   },
   "file_extension": ".py",
   "mimetype": "text/x-python",
   "name": "python",
   "nbconvert_exporter": "python",
   "pygments_lexer": "ipython3",
   "version": "3.7.7"
  }
 },
 "nbformat": 4,
 "nbformat_minor": 4
}
