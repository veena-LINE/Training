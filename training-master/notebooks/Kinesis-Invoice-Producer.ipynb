{
 "cells": [
  {
   "cell_type": "code",
   "execution_count": null,
   "metadata": {},
   "outputs": [],
   "source": [
    "import boto3\n",
    "import random\n",
    "import uuid\n",
    "import datetime\n",
    "import json\n",
    "import time"
   ]
  },
  {
   "cell_type": "code",
   "execution_count": null,
   "metadata": {},
   "outputs": [],
   "source": [
    "kinesis_stream_name = 'invoice-stream'\n",
    "\n",
    "SAMPLES = 1000\n",
    "DELAY = 5 # seconds\n",
    "\n",
    "countries = [\"USA\", \"CA\", \"IN\", \"AT\", \"BE\", \"BG\", \"HR\", \"CY\", \"CZ\", \"DK\", \"EE\", \"FI\", \"FR\", \"DE\", \"GR\", \"HU\", \"IE\", \"IT\", \"LV\", \"LT\", \"LU\", \"MT\", \"NL\", \"PL\", \"PT\", \"RO\", \"SK\", \"SI\", \"ES\", \"SE\"]\n",
    "stock_codes = ['85123A', '71053', '84406B', '84406G', '84406E']\n",
    "customer_codes = [17850, 13047, 12583, 17850]\n"
   ]
  },
  {
   "cell_type": "code",
   "execution_count": null,
   "metadata": {},
   "outputs": [],
   "source": [
    "kinesis_client = boto3.client('kinesis', region_name='us-east-2')\n",
    "\n",
    "\n",
    "\n",
    "for i in range(SAMPLES):\n",
    "    invoice_no = str(uuid.uuid4().fields[-1])[:6]\n",
    "    invoice_no = int(invoice_no)\n",
    "    \n",
    "    customer_code =  random.choice(customer_codes)\n",
    "    country =  random.choice(countries)\n",
    "    \n",
    "    #customer = random.choice(customers)\n",
    "    #customer_code = customer[\"CustomerID\"]\n",
    "    #country = customer[\"Country\"]\n",
    "    \n",
    "    current_time = datetime.datetime.now()\n",
    " \n",
    "    invoice_date = current_time.strftime('%m/%d/%Y %H:%M') \n",
    "    \n",
    "    number_of_items = random.randint(3, 10)\n",
    "    \n",
    "    for j in range(number_of_items):\n",
    "        # MM/dd/yyyy hh:mm\n",
    "        quantity = random.randint(1, 10)\n",
    "        unit_price = float(random.randint(1, 5))\n",
    "        stock_code =  random.choice(stock_codes)\n",
    "        invoice = {  \"InvoiceNo\": invoice_no,\n",
    "                     \"StockCode\": stock_code ,\n",
    "                     \"Quantity\": quantity,\n",
    "                    \"Description\": \"TODO\",\n",
    "                    \"InvoiceDate\": invoice_date,\n",
    "                    \"UnitPrice\": unit_price,\n",
    "                    \"CustomerID\": customer_code,\n",
    "                     \"Country\"  : country   }\n",
    "    \n",
    "        invoice_str = json.dumps(invoice)\n",
    "        print (\"POS \", invoice_str)\n",
    "\n",
    "        key = invoice[\"Country\"]\n",
    "         \n",
    "        put_response = kinesis_client.put_record(\n",
    "                        StreamName=kinesis_stream_name,\n",
    "                        Data=invoice_str,\n",
    "                        PartitionKey=invoice[\"Country\"])\n",
    "        print(\"response \", put_response)\n",
    "        \n",
    "        \n",
    "    time.sleep(DELAY)\n"
   ]
  },
  {
   "cell_type": "code",
   "execution_count": null,
   "metadata": {},
   "outputs": [],
   "source": []
  }
 ],
 "metadata": {
  "kernelspec": {
   "display_name": "Python 3",
   "language": "python",
   "name": "python3"
  },
  "language_info": {
   "codemirror_mode": {
    "name": "ipython",
    "version": 3
   },
   "file_extension": ".py",
   "mimetype": "text/x-python",
   "name": "python",
   "nbconvert_exporter": "python",
   "pygments_lexer": "ipython3",
   "version": "3.7.7"
  }
 },
 "nbformat": 4,
 "nbformat_minor": 4
}
