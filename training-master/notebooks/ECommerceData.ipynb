{
 "cells": [
  {
   "cell_type": "code",
   "execution_count": 2,
   "metadata": {},
   "outputs": [],
   "source": [
    "import findspark \n",
    "findspark.init()"
   ]
  },
  {
   "cell_type": "code",
   "execution_count": 3,
   "metadata": {},
   "outputs": [],
   "source": [
    "from pyspark.conf import SparkConf\n",
    "config = SparkConf()\n",
    "config.setMaster(\"spark://192.168.11.71:7077\").setAppName(\"ConfigurationApp\")\n",
    "config.set(\"spark.executor.memory\", \"4g\")\n",
    "config.set(\"spark.executor.cores\", 2)\n",
    "config.set(\"spark.cores.max\", 2)\n",
    "config.set(\"spark.driver.memory\", \"4g\")\n",
    "\n",
    "\n",
    "from pyspark.sql import SparkSession\n",
    "spark = SparkSession.builder.config(conf=config).getOrCreate()\n",
    "\n",
    "#from pyspark import SparkContext\n",
    "#sc = SparkContext(conf=config)"
   ]
  },
  {
   "cell_type": "code",
   "execution_count": 5,
   "metadata": {},
   "outputs": [],
   "source": [
    "from pyspark.sql.types import DoubleType,StructType, StringType, IntegerType, DateType\n",
    "import pyspark.sql.functions as F\n",
    "\n",
    "schema = StructType() \\\n",
    "         .add(\"InvoiceNo\", StringType(), True) \\\n",
    "         .add(\"StockCode\", StringType(), True) \\\n",
    "         .add(\"Description\", StringType(), True) \\\n",
    "         .add(\"Quantity\", IntegerType(), True) \\\n",
    "         .add(\"InvoiceDate\", DateType(), True) \\\n",
    "         .add(\"UnitPrice\", DoubleType(), True) \\\n",
    "         .add(\"CustomerID\", IntegerType(), True) \\\n",
    "         .add(\"Country\", StringType(), True)"
   ]
  },
  {
   "cell_type": "code",
   "execution_count": 27,
   "metadata": {},
   "outputs": [
    {
     "name": "stdout",
     "output_type": "stream",
     "text": [
      "+---------+---------+--------------------+--------+-----------+---------+----------+--------------+\n",
      "|InvoiceNo|StockCode|         Description|Quantity|InvoiceDate|UnitPrice|CustomerID|       Country|\n",
      "+---------+---------+--------------------+--------+-----------+---------+----------+--------------+\n",
      "|   536365|   85123A|WHITE HANGING HEA...|       6| 2010-12-01|     2.55|     17850|United Kingdom|\n",
      "|   536365|    71053| WHITE METAL LANTERN|       6| 2010-12-01|     3.39|     17850|United Kingdom|\n",
      "+---------+---------+--------------------+--------+-----------+---------+----------+--------------+\n",
      "only showing top 2 rows\n",
      "\n"
     ]
    }
   ],
   "source": [
    "\n",
    "dataSet = spark.read.format(\"csv\") \\\n",
    "                .option(\"header\", True) \\\n",
    "                .schema(schema) \\\n",
    "                .option(\"dateFormat\", \"MM/dd/yyyy HH:mm\")\\\n",
    "                .load(\"hdfs://192.168.93.128:9000/ecommerce/data.csv\")\n",
    "\n",
    "dataSet.show(2)"
   ]
  },
  {
   "cell_type": "code",
   "execution_count": 10,
   "metadata": {},
   "outputs": [
    {
     "data": {
      "text/plain": [
       "135080"
      ]
     },
     "execution_count": 10,
     "metadata": {},
     "output_type": "execute_result"
    }
   ],
   "source": [
    "# df.filter(\"InvoiceNo is NULL\").count()\n",
    "#df.filter(\"Quantity is NULL\").count()\n",
    "# df.filter(\"UnitPrice is NULL\").count()\n",
    "#df.filter(\"CustomerID is NULL\").count()"
   ]
  },
  {
   "cell_type": "code",
   "execution_count": 35,
   "metadata": {},
   "outputs": [
    {
     "name": "stdout",
     "output_type": "stream",
     "text": [
      "+---------+--------+-----------+------------------+\n",
      "|InvoiceNo|Quantity|InvoiceDate|            Amount|\n",
      "+---------+--------+-----------+------------------+\n",
      "|   536365|       6| 2010-12-01|15.299999999999999|\n",
      "|   536365|       6| 2010-12-01|             20.34|\n",
      "+---------+--------+-----------+------------------+\n",
      "only showing top 2 rows\n",
      "\n",
      "== Parsed Logical Plan ==\n",
      "Project [InvoiceNo#357, Quantity#360, InvoiceDate#361, Amount#701]\n",
      "+- Project [InvoiceNo#357, Quantity#360, InvoiceDate#361, UnitPrice#362, (cast(Quantity#360 as double) * UnitPrice#362) AS Amount#701]\n",
      "   +- Filter isnotnull(InvoiceNo#357)\n",
      "      +- Filter (isnotnull(Quantity#360) && isnotnull(UnitPrice#362))\n",
      "         +- Project [InvoiceNo#357, Quantity#360, InvoiceDate#361, UnitPrice#362]\n",
      "            +- Project [InvoiceNo#357, Description#359, Quantity#360, InvoiceDate#361, UnitPrice#362]\n",
      "               +- Project [InvoiceNo#357, Description#359, Quantity#360, InvoiceDate#361, UnitPrice#362, Country#364]\n",
      "                  +- Project [InvoiceNo#357, Description#359, Quantity#360, InvoiceDate#361, UnitPrice#362, CustomerID#363, Country#364]\n",
      "                     +- Relation[InvoiceNo#357,StockCode#358,Description#359,Quantity#360,InvoiceDate#361,UnitPrice#362,CustomerID#363,Country#364] csv\n",
      "\n",
      "== Analyzed Logical Plan ==\n",
      "InvoiceNo: string, Quantity: int, InvoiceDate: date, Amount: double\n",
      "Project [InvoiceNo#357, Quantity#360, InvoiceDate#361, Amount#701]\n",
      "+- Project [InvoiceNo#357, Quantity#360, InvoiceDate#361, UnitPrice#362, (cast(Quantity#360 as double) * UnitPrice#362) AS Amount#701]\n",
      "   +- Filter isnotnull(InvoiceNo#357)\n",
      "      +- Filter (isnotnull(Quantity#360) && isnotnull(UnitPrice#362))\n",
      "         +- Project [InvoiceNo#357, Quantity#360, InvoiceDate#361, UnitPrice#362]\n",
      "            +- Project [InvoiceNo#357, Description#359, Quantity#360, InvoiceDate#361, UnitPrice#362]\n",
      "               +- Project [InvoiceNo#357, Description#359, Quantity#360, InvoiceDate#361, UnitPrice#362, Country#364]\n",
      "                  +- Project [InvoiceNo#357, Description#359, Quantity#360, InvoiceDate#361, UnitPrice#362, CustomerID#363, Country#364]\n",
      "                     +- Relation[InvoiceNo#357,StockCode#358,Description#359,Quantity#360,InvoiceDate#361,UnitPrice#362,CustomerID#363,Country#364] csv\n",
      "\n",
      "== Optimized Logical Plan ==\n",
      "Project [InvoiceNo#357, Quantity#360, InvoiceDate#361, (cast(Quantity#360 as double) * UnitPrice#362) AS Amount#701]\n",
      "+- Filter ((isnotnull(Quantity#360) && isnotnull(UnitPrice#362)) && isnotnull(InvoiceNo#357))\n",
      "   +- Relation[InvoiceNo#357,StockCode#358,Description#359,Quantity#360,InvoiceDate#361,UnitPrice#362,CustomerID#363,Country#364] csv\n",
      "\n",
      "== Physical Plan ==\n",
      "*(1) Project [InvoiceNo#357, Quantity#360, InvoiceDate#361, (cast(Quantity#360 as double) * UnitPrice#362) AS Amount#701]\n",
      "+- *(1) Filter ((isnotnull(Quantity#360) && isnotnull(UnitPrice#362)) && isnotnull(InvoiceNo#357))\n",
      "   +- *(1) FileScan csv [InvoiceNo#357,Quantity#360,InvoiceDate#361,UnitPrice#362] Batched: false, Format: CSV, Location: InMemoryFileIndex[hdfs://192.168.93.128:9000/ecommerce/data.csv], PartitionFilters: [], PushedFilters: [IsNotNull(Quantity), IsNotNull(UnitPrice), IsNotNull(InvoiceNo)], ReadSchema: struct<InvoiceNo:string,Quantity:int,InvoiceDate:date,UnitPrice:double>\n"
     ]
    }
   ],
   "source": [
    "\n",
    "ecommerceDF = dataSet\\\n",
    "       .drop( F.col(\"StockCode\"))\\\n",
    "       .drop( F.col(\"CustomerID\"))\\\n",
    "       .drop( F.col(\"Country\"))\\\n",
    "       .drop(F.col(\"Description\"))\\\n",
    "       .filter(\"Quantity IS NOT NULL\")\\\n",
    "       .filter(\"UnitPrice IS NOT NULL\")\\\n",
    "       .filter(\"InvoiceNo IS NOT NULL\") \\\n",
    "       .withColumn(\"Amount\", F.col(\"Quantity\") * F.col(\"UnitPrice\"))\\\n",
    "       .drop(\"UnitPrice\") \n",
    "        \n",
    "             \n",
    "ecommerceDF.show(2)\n",
    "\n",
    "ecommerceDF.explain(True)"
   ]
  },
  {
   "cell_type": "code",
   "execution_count": 45,
   "metadata": {},
   "outputs": [
    {
     "name": "stdout",
     "output_type": "stream",
     "text": [
      "+---------+------------------+\n",
      "|InvoiceNo|       sum(Amount)|\n",
      "+---------+------------------+\n",
      "|   536596|             38.09|\n",
      "|   536938|1680.8799999999999|\n",
      "|   537252|26.349999999999998|\n",
      "|   537691|            310.57|\n",
      "|   538041|               0.0|\n",
      "|   538184|458.91999999999985|\n",
      "|   538517|320.28000000000003|\n",
      "|   538879| 338.9799999999999|\n",
      "|   539275|403.79999999999995|\n",
      "|   539630|             751.0|\n",
      "+---------+------------------+\n",
      "only showing top 10 rows\n",
      "\n"
     ]
    }
   ],
   "source": [
    "# groupBy with invoice id, aggregate the sum of (Quantity * UnitPrice)\n",
    "\n",
    "ecommerceDF = dataSet\\\n",
    "       .select(\"InvoiceNo\", \"Quantity\", \"UnitPrice\")\\\n",
    "       .filter(\"Quantity IS NOT NULL\")\\\n",
    "       .filter(\"UnitPrice IS NOT NULL\")\\\n",
    "       .filter(\"InvoiceNo IS NOT NULL\") \\\n",
    "       .withColumn(\"Amount\", F.col(\"Quantity\") * F.col(\"UnitPrice\"))\\\n",
    "       .drop(\"UnitPrice\")\\\n",
    "       .drop(\"Quantity\") \\\n",
    "        \n",
    "\n",
    "ecommerceDF = dataSet\\\n",
    "       .select(\"InvoiceNo\", \"Quantity\", \"UnitPrice\")\\\n",
    "       .filter(\"Quantity IS NOT NULL\")\\\n",
    "       .filter(\"UnitPrice IS NOT NULL\")\\\n",
    "       .filter(\"InvoiceNo IS NOT NULL\") \\\n",
    "       .withColumn(\"Amount\", F.col(\"Quantity\") * F.col(\"UnitPrice\"))\\\n",
    "       .select(\"InvoiceNo\", \"Amount\")\n",
    "             \n",
    "     \n",
    "aggInvoiceAmountDF = ecommerceDF.groupBy(\"InvoiceNo\").agg(F.sum(\"Amount\"))\n",
    "aggInvoiceAmountDF.show(10)"
   ]
  },
  {
   "cell_type": "code",
   "execution_count": 42,
   "metadata": {},
   "outputs": [
    {
     "name": "stdout",
     "output_type": "stream",
     "text": [
      "+---------+\n",
      "|InvoiceNo|\n",
      "+---------+\n",
      "|   536596|\n",
      "|   536938|\n",
      "|   537252|\n",
      "|   537691|\n",
      "|   538041|\n",
      "|   538184|\n",
      "|   538517|\n",
      "|   538879|\n",
      "|   539275|\n",
      "|   539630|\n",
      "|   540499|\n",
      "|   540540|\n",
      "|  C540850|\n",
      "|   540976|\n",
      "|   541432|\n",
      "|   541518|\n",
      "|   541783|\n",
      "|   542026|\n",
      "|   542375|\n",
      "|  C542604|\n",
      "+---------+\n",
      "only showing top 20 rows\n",
      "\n",
      "== Parsed Logical Plan ==\n",
      "Deduplicate [InvoiceNo#357]\n",
      "+- Filter isnotnull(InvoiceNo#357)\n",
      "   +- Project [InvoiceNo#357]\n",
      "      +- Relation[InvoiceNo#357,StockCode#358,Description#359,Quantity#360,InvoiceDate#361,UnitPrice#362,CustomerID#363,Country#364] csv\n",
      "\n",
      "== Analyzed Logical Plan ==\n",
      "InvoiceNo: string\n",
      "Deduplicate [InvoiceNo#357]\n",
      "+- Filter isnotnull(InvoiceNo#357)\n",
      "   +- Project [InvoiceNo#357]\n",
      "      +- Relation[InvoiceNo#357,StockCode#358,Description#359,Quantity#360,InvoiceDate#361,UnitPrice#362,CustomerID#363,Country#364] csv\n",
      "\n",
      "== Optimized Logical Plan ==\n",
      "Aggregate [InvoiceNo#357], [InvoiceNo#357]\n",
      "+- Project [InvoiceNo#357]\n",
      "   +- Filter isnotnull(InvoiceNo#357)\n",
      "      +- Relation[InvoiceNo#357,StockCode#358,Description#359,Quantity#360,InvoiceDate#361,UnitPrice#362,CustomerID#363,Country#364] csv\n",
      "\n",
      "== Physical Plan ==\n",
      "*(2) HashAggregate(keys=[InvoiceNo#357], functions=[], output=[InvoiceNo#357])\n",
      "+- Exchange hashpartitioning(InvoiceNo#357, 200)\n",
      "   +- *(1) HashAggregate(keys=[InvoiceNo#357], functions=[], output=[InvoiceNo#357])\n",
      "      +- *(1) Project [InvoiceNo#357]\n",
      "         +- *(1) Filter isnotnull(InvoiceNo#357)\n",
      "            +- *(1) FileScan csv [InvoiceNo#357] Batched: false, Format: CSV, Location: InMemoryFileIndex[hdfs://192.168.93.128:9000/ecommerce/data.csv], PartitionFilters: [], PushedFilters: [IsNotNull(InvoiceNo)], ReadSchema: struct<InvoiceNo:string>\n",
      "Count  25900\n"
     ]
    }
   ],
   "source": [
    "# groupBy invoiceId to find how many unique invoices or distinct \n",
    "# InvoiceNo|Quantity|InvoiceDate|Amount\n",
    "# .collect()\n",
    "invoiceDf = dataSet\\\n",
    "       .select(\"InvoiceNo\")\\\n",
    "       .filter(\"InvoiceNo IS NOT NULL\")\\\n",
    "       .distinct()\n",
    "        \n",
    "invoiceDf.show()\n",
    "invoiceDf.explain(True)\n",
    "print(\"Count \",invoiceDf.count())"
   ]
  },
  {
   "cell_type": "code",
   "execution_count": 4,
   "metadata": {},
   "outputs": [],
   "source": [
    "spark.stop()"
   ]
  },
  {
   "cell_type": "code",
   "execution_count": null,
   "metadata": {},
   "outputs": [],
   "source": []
  }
 ],
 "metadata": {
  "kernelspec": {
   "display_name": "Python 3",
   "language": "python",
   "name": "python3"
  },
  "language_info": {
   "codemirror_mode": {
    "name": "ipython",
    "version": 3
   },
   "file_extension": ".py",
   "mimetype": "text/x-python",
   "name": "python",
   "nbconvert_exporter": "python",
   "pygments_lexer": "ipython3",
   "version": "3.7.7"
  }
 },
 "nbformat": 4,
 "nbformat_minor": 4
}
