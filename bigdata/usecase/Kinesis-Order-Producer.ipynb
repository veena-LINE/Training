{
 "cells": [
  {
   "cell_type": "code",
   "execution_count": null,
   "metadata": {},
   "outputs": [],
   "source": [
    "import boto3\n",
    "import random\n",
    "import uuid\n",
    "import datetime as dt\n",
    "import json\n",
    "import time"
   ]
  },
  {
   "cell_type": "code",
   "execution_count": null,
   "metadata": {},
   "outputs": [],
   "source": [
    "kinesis_stream = 'ds-order'\n",
    "\n",
    "SAMPLES = 1000\n",
    "DELAY = 1  # second\n",
    "\n",
    "countries = (\n",
    "    \"USA\", \"CA\", \"IN\", \"AT\", \"BE\", \"BG\", \"HR\", \"CY\", \"CZ\", \"DK\", \"EE\", \"FI\", \"FR\", \"DE\", \"GR\", \"HU\",\n",
    "    \"IE\", \"IT\", \"LV\", \"LT\", \"LU\", \"MT\", \"NL\", \"PL\", \"PT\", \"RO\", \"SK\", \"SI\", \"ES\", \"SE\"\n",
    ")\n",
    "stock_codes = ('85123A', '71053', '84406B', '84406G', '84406E')\n",
    "customer_codes = ('17850', '13047', '12583', '17850', '45545', '34556', '24462')\n",
    "payment_modes = ('Cash', 'Check', 'Debit', 'Credit', 'Wire', 'Mobile', 'Bitcoin', 'Dogecoin')"
   ]
  },
  {
   "cell_type": "code",
   "execution_count": null,
   "metadata": {
    "scrolled": false
   },
   "outputs": [],
   "source": [
    "kinesis_client = boto3.client('kinesis', region_name='us-east-2')\n",
    "\n",
    "\n",
    "for i in range(SAMPLES):\n",
    "    number_of_items = random.randint(4, 11)\n",
    "    \n",
    "    for j in range(number_of_items):  # MM/dd/yyyy hh:mm\n",
    "        order = {\n",
    "            \"OrderNo\": str(uuid.uuid4().fields[-1])[:6],\n",
    "            \"CustomerID\": str(random.choice(customer_codes)),\n",
    "            \"CountryID\": random.choice(countries),\n",
    "            \"StockCode\": random.choice(stock_codes),\n",
    "            \"Quantity\": str(random.randint(1, 10)),\n",
    "            \"UnitPrice\": str(round( random.randint(1, 10) * 2 * random.random(), 2 )),\n",
    "            \"Description\": \"later..\",\n",
    "            \"OrderDate\": dt.datetime.now().strftime('%m/%d/%Y %H:%M') ,\n",
    "            \"PaymentMode\": random.choice(payment_modes),\n",
    "        }\n",
    "\n",
    "        order_str = json.dumps(order)\n",
    "        print(order_str)\n",
    "\n",
    "        put_response = kinesis_client.put_record(\n",
    "            StreamName=kinesis_stream,\n",
    "            Data=order_str,\n",
    "            PartitionKey=order[\"CountryID\"]\n",
    "        )\n",
    "#         print(put_response)\n",
    "        \n",
    "    time.sleep(DELAY)\n"
   ]
  }
 ],
 "metadata": {
  "kernelspec": {
   "display_name": "Python 3",
   "language": "python",
   "name": "python3"
  },
  "language_info": {
   "codemirror_mode": {
    "name": "ipython",
    "version": 3
   },
   "file_extension": ".py",
   "mimetype": "text/x-python",
   "name": "python",
   "nbconvert_exporter": "python",
   "pygments_lexer": "ipython3",
   "version": "3.7.7"
  }
 },
 "nbformat": 4,
 "nbformat_minor": 4
}
