{
 "cells": [
  {
   "cell_type": "code",
   "execution_count": 1,
   "metadata": {},
   "outputs": [],
   "source": [
    "import findspark\n",
    "findspark.init()"
   ]
  },
  {
   "cell_type": "code",
   "execution_count": 2,
   "metadata": {},
   "outputs": [],
   "source": [
    "from pyspark import SparkContext\n",
    "sc = SparkContext(\"local[1]\", \"MOVIE-LENS\")\n",
    "sc.setLogLevel(\"WARN\")"
   ]
  },
  {
   "cell_type": "markdown",
   "metadata": {},
   "source": [
    "---"
   ]
  },
  {
   "cell_type": "markdown",
   "metadata": {},
   "source": [
    "### Source data"
   ]
  },
  {
   "cell_type": "code",
   "execution_count": 3,
   "metadata": {},
   "outputs": [],
   "source": [
    "rdd_ratings = sc.textFile(\"hdfs://192.168.93.128:9000/input/movie_lens/ratings.csv\")\n",
    "rdd_movies = sc.textFile(\"hdfs://192.168.93.128:9000/input/movie_lens/movies.csv\")"
   ]
  },
  {
   "cell_type": "code",
   "execution_count": 4,
   "metadata": {},
   "outputs": [],
   "source": [
    "ratings_header = rdd_ratings.first()\n",
    "ratings_rdd = (\n",
    "    rdd_ratings\n",
    "    .filter(lambda x: x != ratings_header)\n",
    "    .map(lambda x: tuple(x.split(\",\")))\n",
    ")\n",
    "\n",
    "movies_header = rdd_movies.first()\n",
    "movies_rdd = (\n",
    "    rdd_movies\n",
    "    .filter(lambda x: x != movies_header)\n",
    "    .map(lambda x: tuple(x.split(\",\")))\n",
    ")"
   ]
  },
  {
   "cell_type": "markdown",
   "metadata": {},
   "source": [
    "---"
   ]
  },
  {
   "cell_type": "markdown",
   "metadata": {},
   "source": [
    "### Data structure?"
   ]
  },
  {
   "cell_type": "code",
   "execution_count": 5,
   "metadata": {},
   "outputs": [
    {
     "name": "stdout",
     "output_type": "stream",
     "text": [
      "userId,movieId,rating,timestamp  --  movieId,title,genres\n",
      "\n",
      "('1', '1', '4.0', '964982703')  --  ('1', 'Toy Story (1995)', 'Adventure|Animation|Children|Comedy|Fantasy')\n"
     ]
    }
   ],
   "source": [
    "print(ratings_header, ' -- ', movies_header, end='\\n'*2)\n",
    "print(ratings_rdd.first(), ' -- ', movies_rdd.first())"
   ]
  },
  {
   "cell_type": "markdown",
   "metadata": {},
   "source": [
    "---"
   ]
  },
  {
   "cell_type": "markdown",
   "metadata": {},
   "source": [
    "### Initial data cleaning"
   ]
  },
  {
   "cell_type": "code",
   "execution_count": 6,
   "metadata": {},
   "outputs": [],
   "source": [
    "import datetime as dt"
   ]
  },
  {
   "cell_type": "code",
   "execution_count": 7,
   "metadata": {},
   "outputs": [
    {
     "data": {
      "text/plain": [
       "[(1, 1, 4.0, datetime.datetime(2000, 7, 31, 0, 15, 3)),\n",
       " (1, 3, 4.0, datetime.datetime(2000, 7, 30, 23, 50, 47))]"
      ]
     },
     "execution_count": 7,
     "metadata": {},
     "output_type": "execute_result"
    }
   ],
   "source": [
    "ratings_rdd = ratings_rdd.map(lambda r: (int(r[0]), int(r[1]), float(r[2]), dt.datetime.fromtimestamp(int(r[-1]))))\n",
    "ratings_rdd.take(2)"
   ]
  },
  {
   "cell_type": "code",
   "execution_count": 8,
   "metadata": {},
   "outputs": [
    {
     "data": {
      "text/plain": [
       "[(1, ('Toy Story (1995)', 'Adventure|Animation|Children|Comedy|Fantasy')),\n",
       " (2, ('Jumanji (1995)', 'Adventure|Children|Fantasy'))]"
      ]
     },
     "execution_count": 8,
     "metadata": {},
     "output_type": "execute_result"
    }
   ],
   "source": [
    "movies_keyed_rdd = movies_rdd.map(lambda r: (int(r[0]), (r[1], r[2])))\n",
    "movies_keyed_rdd.take(2)"
   ]
  },
  {
   "cell_type": "markdown",
   "metadata": {},
   "source": [
    "---"
   ]
  },
  {
   "cell_type": "markdown",
   "metadata": {},
   "source": [
    "### Ratings average?"
   ]
  },
  {
   "cell_type": "code",
   "execution_count": 9,
   "metadata": {
    "scrolled": true
   },
   "outputs": [
    {
     "data": {
      "text/plain": [
       "[(1, 4.0), (3, 4.0)]"
      ]
     },
     "execution_count": 9,
     "metadata": {},
     "output_type": "execute_result"
    }
   ],
   "source": [
    "ratings_keyed_rdd = ratings_rdd.map(lambda r: (r[1], r[2]))\n",
    "ratings_keyed_rdd.take(2)"
   ]
  },
  {
   "cell_type": "code",
   "execution_count": 10,
   "metadata": {},
   "outputs": [
    {
     "data": {
      "text/plain": [
       "[(1, (3.92,)),\n",
       " (3, (3.26,)),\n",
       " (6, (3.95,)),\n",
       " (47, (3.98,)),\n",
       " (50, (4.24,)),\n",
       " (70, (3.51,)),\n",
       " (101, (3.78,)),\n",
       " (110, (4.03,)),\n",
       " (151, (3.55,)),\n",
       " (157, (2.86,))]"
      ]
     },
     "execution_count": 10,
     "metadata": {},
     "output_type": "execute_result"
    }
   ],
   "source": [
    "\n",
    "\"\"\"\n",
    "METHOD 1\n",
    ".groupByKey(<calculation>)\n",
    "\"\"\"\n",
    "\n",
    "ratings_avg_byGroup = \\\n",
    "ratings_keyed_rdd.groupByKey().map(lambda r: (r[0], (round(sum(r[-1])/len(r[-1]), 2),)))\n",
    "\n",
    "ratings_avg_byGroup.take(10)"
   ]
  },
  {
   "cell_type": "code",
   "execution_count": 11,
   "metadata": {},
   "outputs": [],
   "source": [
    "\n",
    "\"\"\"\n",
    "METHOD 2\n",
    ".aggregateByKey(zeroOp, seqFunc, combFunc)\n",
    "\"\"\"\n",
    "\n",
    "zeroValue = (0.0, 0)\n",
    "ratings_avg_byAggregate_rdd = \\\n",
    "ratings_keyed_rdd.aggregateByKey(zeroValue,\n",
    "                                 lambda zero_values, rdd_value: (zero_values[0]+rdd_value,  # accumulate\n",
    "                                                                 zero_values[1]+1),         # count\n",
    "                                 lambda rddL, rddR: (rddL[0]+rddR[0],  # accumulate sums\n",
    "                                                     rddL[1]+rddR[1])  # accumulate counts\n",
    "                                )"
   ]
  },
  {
   "cell_type": "code",
   "execution_count": 12,
   "metadata": {},
   "outputs": [
    {
     "data": {
      "text/plain": [
       "[(1, (3.92,)),\n",
       " (3, (3.26,)),\n",
       " (6, (3.95,)),\n",
       " (47, (3.98,)),\n",
       " (50, (4.24,)),\n",
       " (70, (3.51,)),\n",
       " (101, (3.78,)),\n",
       " (110, (4.03,)),\n",
       " (151, (3.55,)),\n",
       " (157, (2.86,))]"
      ]
     },
     "execution_count": 12,
     "metadata": {},
     "output_type": "execute_result"
    }
   ],
   "source": [
    "ratings_avg_byAggregate = \\\n",
    "ratings_avg_byAggregate_rdd.map(lambda r: (r[0], (round(r[1][0]/r[1][1], 2),)))\n",
    "\n",
    "ratings_avg_byAggregate.take(10)"
   ]
  },
  {
   "cell_type": "markdown",
   "metadata": {},
   "source": [
    "<br>\n",
    "\n",
    "__Both `.groupByKey()` & `.aggregateByKey()` yield the same result?__"
   ]
  },
  {
   "cell_type": "code",
   "execution_count": 13,
   "metadata": {},
   "outputs": [
    {
     "data": {
      "text/plain": [
       "True"
      ]
     },
     "execution_count": 13,
     "metadata": {},
     "output_type": "execute_result"
    }
   ],
   "source": [
    "ratings_avg_byGroup.take(10) == ratings_avg_byAggregate.take(10)"
   ]
  },
  {
   "cell_type": "markdown",
   "metadata": {},
   "source": [
    "---"
   ]
  },
  {
   "cell_type": "markdown",
   "metadata": {},
   "source": [
    "### Top 10 Movies by user ratings?"
   ]
  },
  {
   "cell_type": "code",
   "execution_count": 14,
   "metadata": {},
   "outputs": [],
   "source": [
    "\" (movieId, avg_rating) in descending order \"\n",
    "\n",
    "ratings_sorted_rdd = \\\n",
    "ratings_avg_byAggregate.sortBy(lambda r: r[1][0], ascending=False)"
   ]
  },
  {
   "cell_type": "code",
   "execution_count": 15,
   "metadata": {},
   "outputs": [
    {
     "data": {
      "text/plain": [
       "[131724, 5746, 6835, 3851, 1151, 1631, 2075, 176601, 92494, 102217]"
      ]
     },
     "execution_count": 15,
     "metadata": {},
     "output_type": "execute_result"
    }
   ],
   "source": [
    "movieId_top10 = ratings_sorted_rdd.map(lambda r: r[0]).take(10)\n",
    "movieId_top10"
   ]
  },
  {
   "cell_type": "code",
   "execution_count": 16,
   "metadata": {},
   "outputs": [
    {
     "data": {
      "text/plain": [
       "[('The Jinx: The Life and Deaths of Robert Durst (2015)', 'Documentary', 5.0),\n",
       " ('Galaxy of Terror (Quest) (1981)', 'Action|Horror|Mystery|Sci-Fi', 5.0),\n",
       " ('Dylan Moran: Monster (2004)', 'Comedy|Documentary', 5.0),\n",
       " ('Alien Contamination (1980)', 'Action|Horror|Sci-Fi', 5.0),\n",
       " (\"I'm the One That I Want (2000)\", 'Comedy', 5.0),\n",
       " ('Lesson Faust (1994)', 'Animation|Comedy|Drama|Fantasy', 5.0),\n",
       " ('\"Assignment', ' The (1997)\"', 5.0),\n",
       " ('Mephisto (1981)', 'Drama|War', 5.0),\n",
       " ('Black Mirror', '(no genres listed)', 5.0),\n",
       " ('Bill Hicks: Revelations (1993)', 'Comedy', 5.0)]"
      ]
     },
     "execution_count": 16,
     "metadata": {},
     "output_type": "execute_result"
    }
   ],
   "source": [
    "movies_top10 = \\\n",
    "ratings_sorted_rdd.join(\n",
    "    movies_keyed_rdd.filter(lambda r: r[0] in movieId_top10)\n",
    ").map(lambda r: (r[1][-1][0], r[1][-1][-1], r[1][0][0])).collect()\n",
    "\n",
    "movies_top10"
   ]
  },
  {
   "cell_type": "markdown",
   "metadata": {},
   "source": [
    "#### Pretty print with pandas!"
   ]
  },
  {
   "cell_type": "code",
   "execution_count": 17,
   "metadata": {},
   "outputs": [
    {
     "data": {
      "text/html": [
       "<div>\n",
       "<style scoped>\n",
       "    .dataframe tbody tr th:only-of-type {\n",
       "        vertical-align: middle;\n",
       "    }\n",
       "\n",
       "    .dataframe tbody tr th {\n",
       "        vertical-align: top;\n",
       "    }\n",
       "\n",
       "    .dataframe thead th {\n",
       "        text-align: right;\n",
       "    }\n",
       "</style>\n",
       "<table border=\"1\" class=\"dataframe\">\n",
       "  <thead>\n",
       "    <tr style=\"text-align: right;\">\n",
       "      <th></th>\n",
       "      <th>0</th>\n",
       "      <th>1</th>\n",
       "      <th>2</th>\n",
       "    </tr>\n",
       "  </thead>\n",
       "  <tbody>\n",
       "    <tr>\n",
       "      <th>0</th>\n",
       "      <td>The Jinx: The Life and Deaths of Robert Durst ...</td>\n",
       "      <td>Documentary</td>\n",
       "      <td>5.0</td>\n",
       "    </tr>\n",
       "    <tr>\n",
       "      <th>1</th>\n",
       "      <td>Galaxy of Terror (Quest) (1981)</td>\n",
       "      <td>Action|Horror|Mystery|Sci-Fi</td>\n",
       "      <td>5.0</td>\n",
       "    </tr>\n",
       "    <tr>\n",
       "      <th>2</th>\n",
       "      <td>Dylan Moran: Monster (2004)</td>\n",
       "      <td>Comedy|Documentary</td>\n",
       "      <td>5.0</td>\n",
       "    </tr>\n",
       "    <tr>\n",
       "      <th>3</th>\n",
       "      <td>Alien Contamination (1980)</td>\n",
       "      <td>Action|Horror|Sci-Fi</td>\n",
       "      <td>5.0</td>\n",
       "    </tr>\n",
       "    <tr>\n",
       "      <th>4</th>\n",
       "      <td>I'm the One That I Want (2000)</td>\n",
       "      <td>Comedy</td>\n",
       "      <td>5.0</td>\n",
       "    </tr>\n",
       "    <tr>\n",
       "      <th>5</th>\n",
       "      <td>Lesson Faust (1994)</td>\n",
       "      <td>Animation|Comedy|Drama|Fantasy</td>\n",
       "      <td>5.0</td>\n",
       "    </tr>\n",
       "    <tr>\n",
       "      <th>6</th>\n",
       "      <td>\"Assignment</td>\n",
       "      <td>The (1997)\"</td>\n",
       "      <td>5.0</td>\n",
       "    </tr>\n",
       "    <tr>\n",
       "      <th>7</th>\n",
       "      <td>Mephisto (1981)</td>\n",
       "      <td>Drama|War</td>\n",
       "      <td>5.0</td>\n",
       "    </tr>\n",
       "    <tr>\n",
       "      <th>8</th>\n",
       "      <td>Black Mirror</td>\n",
       "      <td>(no genres listed)</td>\n",
       "      <td>5.0</td>\n",
       "    </tr>\n",
       "    <tr>\n",
       "      <th>9</th>\n",
       "      <td>Bill Hicks: Revelations (1993)</td>\n",
       "      <td>Comedy</td>\n",
       "      <td>5.0</td>\n",
       "    </tr>\n",
       "  </tbody>\n",
       "</table>\n",
       "</div>"
      ],
      "text/plain": [
       "                                                   0  \\\n",
       "0  The Jinx: The Life and Deaths of Robert Durst ...   \n",
       "1                    Galaxy of Terror (Quest) (1981)   \n",
       "2                        Dylan Moran: Monster (2004)   \n",
       "3                         Alien Contamination (1980)   \n",
       "4                     I'm the One That I Want (2000)   \n",
       "5                                Lesson Faust (1994)   \n",
       "6                                        \"Assignment   \n",
       "7                                    Mephisto (1981)   \n",
       "8                                       Black Mirror   \n",
       "9                     Bill Hicks: Revelations (1993)   \n",
       "\n",
       "                                1    2  \n",
       "0                     Documentary  5.0  \n",
       "1    Action|Horror|Mystery|Sci-Fi  5.0  \n",
       "2              Comedy|Documentary  5.0  \n",
       "3            Action|Horror|Sci-Fi  5.0  \n",
       "4                          Comedy  5.0  \n",
       "5  Animation|Comedy|Drama|Fantasy  5.0  \n",
       "6                     The (1997)\"  5.0  \n",
       "7                       Drama|War  5.0  \n",
       "8              (no genres listed)  5.0  \n",
       "9                          Comedy  5.0  "
      ]
     },
     "execution_count": 17,
     "metadata": {},
     "output_type": "execute_result"
    }
   ],
   "source": [
    "import pandas as pd\n",
    "\n",
    "pd.DataFrame(movies_top10, columns={0: \"Movie\", 1: \"Genre\", 2: \"User Rating\"})"
   ]
  },
  {
   "cell_type": "markdown",
   "metadata": {},
   "source": [
    "---"
   ]
  }
 ],
 "metadata": {
  "kernelspec": {
   "display_name": "Python 3",
   "language": "python",
   "name": "python3"
  },
  "language_info": {
   "codemirror_mode": {
    "name": "ipython",
    "version": 3
   },
   "file_extension": ".py",
   "mimetype": "text/x-python",
   "name": "python",
   "nbconvert_exporter": "python",
   "pygments_lexer": "ipython3",
   "version": "3.7.7"
  }
 },
 "nbformat": 4,
 "nbformat_minor": 4
}
