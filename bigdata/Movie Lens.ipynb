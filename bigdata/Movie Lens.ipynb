{
 "cells": [
  {
   "cell_type": "code",
   "execution_count": 1,
   "metadata": {},
   "outputs": [],
   "source": [
    "import findspark\n",
    "findspark.init()"
   ]
  },
  {
   "cell_type": "code",
   "execution_count": 2,
   "metadata": {},
   "outputs": [],
   "source": [
    "from pyspark import SparkContext\n",
    "sc = SparkContext(\"local[1]\", \"MOVIE-LENS\")\n",
    "sc.setLogLevel(\"WARN\")"
   ]
  },
  {
   "cell_type": "markdown",
   "metadata": {},
   "source": [
    "---"
   ]
  },
  {
   "cell_type": "markdown",
   "metadata": {},
   "source": [
    "### Source data"
   ]
  },
  {
   "cell_type": "code",
   "execution_count": null,
   "metadata": {},
   "outputs": [],
   "source": [
    "rdd_ratings = sc.textFile(\"hdfs://192.168.93.128:9000/input/movie_lens/ratings.csv\")\n",
    "rdd_movies = sc.textFile(\"hdfs://192.168.93.128:9000/input/movie_lens/movies.csv\")"
   ]
  },
  {
   "cell_type": "code",
   "execution_count": null,
   "metadata": {},
   "outputs": [],
   "source": [
    "ratings_header = rdd_ratings.first()\n",
    "ratings_rdd = (\n",
    "    rdd_ratings\n",
    "    .filter(lambda x: x != ratings_header)\n",
    "    .map(lambda x: tuple(x.split(\",\")))\n",
    ")\n",
    "\n",
    "movies_header = rdd_movies.first()\n",
    "movies_rdd = (\n",
    "    rdd_movies\n",
    "    .filter(lambda x: x != movies_header)\n",
    "    .map(lambda x: tuple(x.split(\",\")))\n",
    ")"
   ]
  },
  {
   "cell_type": "markdown",
   "metadata": {},
   "source": [
    "---"
   ]
  },
  {
   "cell_type": "markdown",
   "metadata": {},
   "source": [
    "### Data structure?"
   ]
  },
  {
   "cell_type": "code",
   "execution_count": null,
   "metadata": {},
   "outputs": [],
   "source": [
    "print(ratings_header, ' -- ', movies_header, end='\\n'*2)\n",
    "print(ratings_rdd.first(), ' -- ', movies_rdd.first())"
   ]
  },
  {
   "cell_type": "markdown",
   "metadata": {},
   "source": [
    "---"
   ]
  },
  {
   "cell_type": "markdown",
   "metadata": {},
   "source": [
    "### Initial data cleaning"
   ]
  },
  {
   "cell_type": "code",
   "execution_count": null,
   "metadata": {},
   "outputs": [],
   "source": [
    "import datetime as dt"
   ]
  },
  {
   "cell_type": "code",
   "execution_count": null,
   "metadata": {},
   "outputs": [],
   "source": [
    "ratings_rdd = ratings_rdd.map(lambda r: (int(r[0]), int(r[1]), float(r[2]), dt.datetime.fromtimestamp(int(r[-1]))))\n",
    "ratings_rdd.take(2)"
   ]
  },
  {
   "cell_type": "code",
   "execution_count": null,
   "metadata": {},
   "outputs": [],
   "source": [
    "movies_keyed_rdd = movies_rdd.map(lambda r: (int(r[0]), (r[1], r[2])))\n",
    "movies_keyed_rdd.take(2)"
   ]
  },
  {
   "cell_type": "markdown",
   "metadata": {},
   "source": [
    "---"
   ]
  },
  {
   "cell_type": "markdown",
   "metadata": {},
   "source": [
    "### Ratings average?"
   ]
  },
  {
   "cell_type": "code",
   "execution_count": null,
   "metadata": {
    "scrolled": true
   },
   "outputs": [],
   "source": [
    "ratings_keyed_rdd = ratings_rdd.map(lambda r: (r[1], r[2]))\n",
    "ratings_keyed_rdd.take(2)"
   ]
  },
  {
   "cell_type": "code",
   "execution_count": null,
   "metadata": {},
   "outputs": [],
   "source": [
    "\n",
    "\"\"\"\n",
    "METHOD 1\n",
    ".groupByKey(<calculation>)\n",
    "\"\"\"\n",
    "\n",
    "ratings_avg_byGroup = \\\n",
    "ratings_keyed_rdd.groupByKey().map(lambda r: (r[0], (round(sum(r[-1])/len(r[-1]), 2),)))\n",
    "\n",
    "ratings_avg_byGroup.take(10)"
   ]
  },
  {
   "cell_type": "code",
   "execution_count": null,
   "metadata": {},
   "outputs": [],
   "source": [
    "\n",
    "\"\"\"\n",
    "METHOD 2\n",
    ".aggregateByKey(zeroOp, seqFunc, combFunc)\n",
    "\"\"\"\n",
    "\n",
    "zeroValue = (0.0, 0)\n",
    "ratings_avg_byAggregate_rdd = \\\n",
    "ratings_keyed_rdd.aggregateByKey(zeroValue,\n",
    "                                 lambda zero_values, rdd_value: (zero_values[0]+rdd_value,  # accumulate\n",
    "                                                                 zero_values[1]+1),         # count\n",
    "                                 lambda rddL, rddR: (rddL[0]+rddR[0],  # accumulate sums\n",
    "                                                     rddL[1]+rddR[1])  # accumulate counts\n",
    "                                )"
   ]
  },
  {
   "cell_type": "code",
   "execution_count": null,
   "metadata": {},
   "outputs": [],
   "source": [
    "ratings_avg_byAggregate = \\\n",
    "ratings_avg_byAggregate_rdd.map(lambda r: (r[0], (round(r[1][0]/r[1][1], 2),)))\n",
    "\n",
    "ratings_avg_byAggregate.take(10)"
   ]
  },
  {
   "cell_type": "markdown",
   "metadata": {},
   "source": [
    "<br>\n",
    "\n",
    "__Both `.groupByKey()` & `.aggregateByKey()` yield the same result?__"
   ]
  },
  {
   "cell_type": "code",
   "execution_count": null,
   "metadata": {},
   "outputs": [],
   "source": [
    "ratings_avg_byGroup.take(10) == ratings_avg_byAggregate.take(10)"
   ]
  },
  {
   "cell_type": "markdown",
   "metadata": {},
   "source": [
    "---"
   ]
  },
  {
   "cell_type": "markdown",
   "metadata": {},
   "source": [
    "### Top 10 Movies by user ratings?"
   ]
  },
  {
   "cell_type": "code",
   "execution_count": null,
   "metadata": {},
   "outputs": [],
   "source": [
    "\" (movieId, avg_rating) in descending order \"\n",
    "\n",
    "ratings_sorted_rdd = \\\n",
    "ratings_avg_byAggregate.sortBy(lambda r: r[1][0], ascending=False)"
   ]
  },
  {
   "cell_type": "code",
   "execution_count": null,
   "metadata": {},
   "outputs": [],
   "source": [
    "movieId_top10 = ratings_sorted_rdd.map(lambda r: r[0]).take(10)\n",
    "movieId_top10"
   ]
  },
  {
   "cell_type": "code",
   "execution_count": null,
   "metadata": {},
   "outputs": [],
   "source": [
    "movies_top10 = \\\n",
    "ratings_sorted_rdd.join(\n",
    "    movies_keyed_rdd.filter(lambda r: r[0] in movieId_top10)\n",
    ").map(lambda r: (r[1][-1][0], r[1][-1][-1], r[1][0][0])).collect()\n",
    "\n",
    "movies_top10"
   ]
  },
  {
   "cell_type": "markdown",
   "metadata": {},
   "source": [
    "#### Pretty print with pandas!"
   ]
  },
  {
   "cell_type": "code",
   "execution_count": null,
   "metadata": {},
   "outputs": [],
   "source": [
    "import pandas as pd\n",
    "\n",
    "pd.DataFrame(movies_top10, columns={0: \"Movie\", 1: \"Genre\", 2: \"User Rating\"})"
   ]
  },
  {
   "cell_type": "markdown",
   "metadata": {},
   "source": [
    "---"
   ]
  }
 ],
 "metadata": {
  "kernelspec": {
   "display_name": "Python 3",
   "language": "python",
   "name": "python3"
  },
  "language_info": {
   "codemirror_mode": {
    "name": "ipython",
    "version": 3
   },
   "file_extension": ".py",
   "mimetype": "text/x-python",
   "name": "python",
   "nbconvert_exporter": "python",
   "pygments_lexer": "ipython3",
   "version": "3.7.7"
  }
 },
 "nbformat": 4,
 "nbformat_minor": 4
}
