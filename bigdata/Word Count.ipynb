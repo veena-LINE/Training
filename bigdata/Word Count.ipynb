{
 "cells": [
  {
   "cell_type": "code",
   "execution_count": 1,
   "metadata": {},
   "outputs": [],
   "source": [
    "import findspark\n",
    "findspark.init()"
   ]
  },
  {
   "cell_type": "code",
   "execution_count": 2,
   "metadata": {},
   "outputs": [],
   "source": [
    "from pyspark import SparkContext\n",
    "sc = SparkContext(\"local[1]\", \"WordCount\")  # local[1] will create one parallel task"
   ]
  },
  {
   "cell_type": "code",
   "execution_count": 3,
   "metadata": {},
   "outputs": [],
   "source": [
    "# All other imports\n",
    "import re"
   ]
  },
  {
   "cell_type": "code",
   "execution_count": 4,
   "metadata": {},
   "outputs": [],
   "source": [
    "rdd_war_and_peace = sc.textFile(\"hdfs://192.168.93.128:9000/input/war_and_peace.txt\")"
   ]
  },
  {
   "cell_type": "code",
   "execution_count": 5,
   "metadata": {},
   "outputs": [],
   "source": [
    "rdd_war_and_peace_count = (rdd_war_and_peace\n",
    "                           .flatMap(lambda l: l.split(\" \"))\n",
    "                           .flatMap(lambda l: l.split(\",\"))\n",
    "                           .map(lambda w: re.sub('[,-\"]', '', w))\n",
    "                           .map(lambda w: (w.lower(), 1))\n",
    "                           .reduceByKey(lambda c1, c2: c1 + c2))"
   ]
  },
  {
   "cell_type": "code",
   "execution_count": 6,
   "metadata": {},
   "outputs": [
    {
     "data": {
      "text/plain": [
       "[('', 53991), ('the', 34258), ('project', 94), ('gutenberg', 24)]"
      ]
     },
     "execution_count": 6,
     "metadata": {},
     "output_type": "execute_result"
    }
   ],
   "source": [
    "rdd_war_and_peace_count.take(4)"
   ]
  },
  {
   "cell_type": "code",
   "execution_count": 7,
   "metadata": {},
   "outputs": [
    {
     "data": {
      "text/plain": [
       "[('', 53991),\n",
       " ('the', 34258),\n",
       " ('and', 21805),\n",
       " ('to', 16553),\n",
       " ('of', 14936),\n",
       " ('a', 10387),\n",
       " ('he', 9459),\n",
       " ('in', 8803),\n",
       " ('his', 7939),\n",
       " ('that', 7548)]"
      ]
     },
     "execution_count": 7,
     "metadata": {},
     "output_type": "execute_result"
    }
   ],
   "source": [
    "rdd_war_and_peace_count.sortBy(keyfunc=lambda l: l[1], ascending=False).take(10)"
   ]
  },
  {
   "cell_type": "code",
   "execution_count": 8,
   "metadata": {},
   "outputs": [],
   "source": [
    "rdd_shakespeare = sc.textFile(\"hdfs://192.168.93.128:9000/input/shakespeare.txt\")"
   ]
  },
  {
   "cell_type": "code",
   "execution_count": 9,
   "metadata": {},
   "outputs": [],
   "source": [
    "rdd_shakespeare_count = (rdd_shakespeare\n",
    "                         .flatMap(lambda l: l.split(\" \"))\n",
    "                         .flatMap(lambda l: l.split(\",\"))\n",
    "                         .map(lambda w: re.sub('[,-\"]', '', w))\n",
    "                         .map(lambda w: (w.lower(), 1))\n",
    "                         .reduceByKey(lambda c1, c2: c1 + c2))"
   ]
  },
  {
   "cell_type": "code",
   "execution_count": 10,
   "metadata": {},
   "outputs": [
    {
     "data": {
      "text/plain": [
       "[('the', 431), ('sonnets', 1), ('', 2438), ('by', 93)]"
      ]
     },
     "execution_count": 10,
     "metadata": {},
     "output_type": "execute_result"
    }
   ],
   "source": [
    "rdd_shakespeare_count.take(4)"
   ]
  },
  {
   "cell_type": "code",
   "execution_count": 11,
   "metadata": {},
   "outputs": [
    {
     "data": {
      "text/plain": [
       "[('', 2438),\n",
       " ('and', 490),\n",
       " ('the', 431),\n",
       " ('to', 408),\n",
       " ('my', 390),\n",
       " ('of', 369),\n",
       " ('i', 339),\n",
       " ('in', 323),\n",
       " ('that', 322),\n",
       " ('thy', 287)]"
      ]
     },
     "execution_count": 11,
     "metadata": {},
     "output_type": "execute_result"
    }
   ],
   "source": [
    "rdd_shakespeare_count.sortBy(keyfunc=lambda l: l[1], ascending=False).take(10)"
   ]
  }
 ],
 "metadata": {
  "kernelspec": {
   "display_name": "Python 3",
   "language": "python",
   "name": "python3"
  },
  "language_info": {
   "codemirror_mode": {
    "name": "ipython",
    "version": 3
   },
   "file_extension": ".py",
   "mimetype": "text/x-python",
   "name": "python",
   "nbconvert_exporter": "python",
   "pygments_lexer": "ipython3",
   "version": "3.7.7"
  }
 },
 "nbformat": 4,
 "nbformat_minor": 4
}
