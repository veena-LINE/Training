{
 "cells": [
  {
   "cell_type": "code",
   "execution_count": 1,
   "metadata": {},
   "outputs": [
    {
     "name": "stdout",
     "output_type": "stream",
     "text": [
      "Python 3.7.7\n"
     ]
    }
   ],
   "source": [
    "!python --version"
   ]
  },
  {
   "cell_type": "code",
   "execution_count": 2,
   "metadata": {},
   "outputs": [],
   "source": [
    "import findspark\n",
    "findspark.init()"
   ]
  },
  {
   "cell_type": "code",
   "execution_count": 3,
   "metadata": {},
   "outputs": [
    {
     "name": "stdout",
     "output_type": "stream",
     "text": [
      " Volume in drive C has no label.\n",
      " Volume Serial Number is A88C-3222\n",
      "\n",
      " Directory of C:\\Users\\Administrator\\veena\\bigdata\n",
      "\n",
      "05/06/2021  01:35 AM    <DIR>          .\n",
      "05/06/2021  01:35 AM    <DIR>          ..\n",
      "05/06/2021  12:19 AM    <DIR>          .ipynb_checkpoints\n",
      "05/05/2021  09:55 PM               587 hdfs_to_upper.py\n",
      "05/06/2021  01:35 AM             6,596 Jupyter to HDFS.ipynb\n",
      "05/06/2021  12:18 AM             1,336 Python-Spark-Jupyter Integration.ipynb\n",
      "05/05/2021  07:51 PM               362 README.md\n",
      "05/05/2021  08:20 PM               854 spark_hello.py\n",
      "05/05/2021  09:23 PM               539 spark_to_upper.py\n",
      "               6 File(s)         10,274 bytes\n",
      "               3 Dir(s)  451,623,563,264 bytes free\n"
     ]
    }
   ],
   "source": [
    "!dir"
   ]
  },
  {
   "cell_type": "code",
   "execution_count": 4,
   "metadata": {},
   "outputs": [],
   "source": [
    "from pyspark import SparkContext\n",
    "\n",
    "sc = SparkContext(\"local\", \"Read-Write-HDFS\")\n",
    "sc.setLogLevel(\"WARN\")"
   ]
  },
  {
   "cell_type": "code",
   "execution_count": 5,
   "metadata": {},
   "outputs": [],
   "source": [
    "# from pyspark import SparkContext\n",
    "\n",
    "# sc = SparkContext(\"local\", \"Read-Write-HDFS\")\n",
    "\n",
    "# rdd_data = sc.textFile(\"hdfs://192.168.93.128:9000/input/README.md\")\n",
    "# print(type(rdd_data))\n",
    "\n",
    "# rdd_data_title = rdd_data.map(lambda line: line.title())\n",
    "\n",
    "# rdd_data_title.saveAsTextFile(\"hdfs://192.168.93.128:9000/output/README2\")"
   ]
  },
  {
   "cell_type": "code",
   "execution_count": 6,
   "metadata": {},
   "outputs": [],
   "source": [
    "# rdd_data = sc.textFile(\"hdfs://192.168.93.128:9000/output/README2\")\n",
    "\n",
    "# rdd_data.collect()"
   ]
  },
  {
   "cell_type": "code",
   "execution_count": 9,
   "metadata": {},
   "outputs": [
    {
     "data": {
      "text/plain": [
       "['abbr,name',\n",
       " 'AL,Alabama',\n",
       " 'AK,Alaska',\n",
       " 'AZ,Arizona',\n",
       " 'AR,Arkansas',\n",
       " 'CA,California',\n",
       " 'CO,Colorado',\n",
       " 'CT,Connecticut',\n",
       " 'DE,Delaware',\n",
       " 'DC,District of Columbia']"
      ]
     },
     "execution_count": 9,
     "metadata": {},
     "output_type": "execute_result"
    }
   ],
   "source": [
    "rdd_data = sc.textFile(\"hdfs://192.168.93.128:9000/input/all_us_states.csv\")\n",
    "\n",
    "rdd_data.take(10)"
   ]
  },
  {
   "cell_type": "code",
   "execution_count": 11,
   "metadata": {},
   "outputs": [
    {
     "data": {
      "text/plain": [
       "52"
      ]
     },
     "execution_count": 11,
     "metadata": {},
     "output_type": "execute_result"
    }
   ],
   "source": [
    "rdd_data.count()"
   ]
  },
  {
   "cell_type": "code",
   "execution_count": 10,
   "metadata": {},
   "outputs": [
    {
     "data": {
      "text/plain": [
       "51"
      ]
     },
     "execution_count": 10,
     "metadata": {},
     "output_type": "execute_result"
    }
   ],
   "source": [
    "rdd_data_header = rdd_data.first()\n",
    "rdd_data_states = rdd_data.filter(lambda line: line != rdd_data_header)\n",
    "rdd_data_states.count()"
   ]
  },
  {
   "cell_type": "code",
   "execution_count": 12,
   "metadata": {},
   "outputs": [
    {
     "data": {
      "text/plain": [
       "str"
      ]
     },
     "execution_count": 12,
     "metadata": {},
     "output_type": "execute_result"
    }
   ],
   "source": [
    "type(rdd_data_header)"
   ]
  },
  {
   "cell_type": "code",
   "execution_count": 18,
   "metadata": {},
   "outputs": [],
   "source": [
    "# This Tuple RDD is a.k.a Keyed RDD\n",
    "rdd_states_tuple = rdd_data_states.map(lambda line: line.split(\",\")).map(lambda state: (state[0], state[1]))"
   ]
  },
  {
   "cell_type": "code",
   "execution_count": 38,
   "metadata": {},
   "outputs": [
    {
     "data": {
      "text/plain": [
       "[('AL', 'Alabama'),\n",
       " ('AK', 'Alaska'),\n",
       " ('AZ', 'Arizona'),\n",
       " ('AR', 'Arkansas'),\n",
       " ('CA', 'California'),\n",
       " ('CO', 'Colorado'),\n",
       " ('CT', 'Connecticut'),\n",
       " ('DE', 'Delaware'),\n",
       " ('DC', 'District of Columbia'),\n",
       " ('FL', 'Florida'),\n",
       " ('GA', 'Georgia'),\n",
       " ('HI', 'Hawaii'),\n",
       " ('ID', 'Idaho'),\n",
       " ('IL', 'Illinois'),\n",
       " ('IN', 'Indiana'),\n",
       " ('IA', 'Iowa'),\n",
       " ('KS', 'Kansas'),\n",
       " ('KY', 'Kentucky'),\n",
       " ('LA', 'Louisiana'),\n",
       " ('ME', 'Maine'),\n",
       " ('MD', 'Maryland'),\n",
       " ('MA', 'Massachusetts'),\n",
       " ('MI', 'Michigan'),\n",
       " ('MN', 'Minnesota'),\n",
       " ('MS', 'Mississippi'),\n",
       " ('MO', 'Missouri'),\n",
       " ('MT', 'Montana'),\n",
       " ('NE', 'Nebraska'),\n",
       " ('NV', 'Nevada'),\n",
       " ('NH', 'New Hampshire'),\n",
       " ('NJ', 'New Jersey'),\n",
       " ('NM', 'New Mexico'),\n",
       " ('NY', 'New York'),\n",
       " ('NC', 'North Carolina'),\n",
       " ('ND', 'North Dakota'),\n",
       " ('OH', 'Ohio'),\n",
       " ('OK', 'Oklahoma'),\n",
       " ('OR', 'Oregon'),\n",
       " ('PA', 'Pennsylvania'),\n",
       " ('RI', 'Rhode Island'),\n",
       " ('SC', 'South Carolina'),\n",
       " ('SD', 'South Dakota'),\n",
       " ('TN', 'Tennessee'),\n",
       " ('TX', 'Texas'),\n",
       " ('UT', 'Utah'),\n",
       " ('VT', 'Vermont'),\n",
       " ('VA', 'Virginia'),\n",
       " ('WA', 'Washington'),\n",
       " ('WV', 'West Virginia'),\n",
       " ('WI', 'Wisconsin'),\n",
       " ('WY', 'Wyoming')]"
      ]
     },
     "execution_count": 38,
     "metadata": {},
     "output_type": "execute_result"
    }
   ],
   "source": [
    "rdd_states_tuple.collect()"
   ]
  },
  {
   "cell_type": "code",
   "execution_count": 26,
   "metadata": {},
   "outputs": [],
   "source": [
    "# Default sort order = ASCENDING\n",
    "rdd_states_sorted = rdd_states_tuple.sortByKey()"
   ]
  },
  {
   "cell_type": "code",
   "execution_count": 21,
   "metadata": {},
   "outputs": [
    {
     "data": {
      "text/plain": [
       "[('WY', 'Wyoming'),\n",
       " ('WV', 'West Virginia'),\n",
       " ('WI', 'Wisconsin'),\n",
       " ('WA', 'Washington')]"
      ]
     },
     "execution_count": 21,
     "metadata": {},
     "output_type": "execute_result"
    }
   ],
   "source": [
    "rdd_states_tuple.sortByKey(False).take(4)"
   ]
  },
  {
   "cell_type": "code",
   "execution_count": 22,
   "metadata": {},
   "outputs": [
    {
     "data": {
      "text/plain": [
       "1"
      ]
     },
     "execution_count": 22,
     "metadata": {},
     "output_type": "execute_result"
    }
   ],
   "source": [
    "rdd_states_tuple.getNumPartitions()"
   ]
  },
  {
   "cell_type": "code",
   "execution_count": 27,
   "metadata": {},
   "outputs": [],
   "source": [
    "# Writing results (in tuple form) into HDFS\n",
    "rdd_states_sorted.saveAsTextFile(\"hdfs://192.168.93.128:9000/output/states_sorted\")"
   ]
  },
  {
   "cell_type": "code",
   "execution_count": 28,
   "metadata": {},
   "outputs": [
    {
     "data": {
      "text/plain": [
       "[\"('AK', 'Alaska')\",\n",
       " \"('AL', 'Alabama')\",\n",
       " \"('AR', 'Arkansas')\",\n",
       " \"('AZ', 'Arizona')\",\n",
       " \"('CA', 'California')\",\n",
       " \"('CO', 'Colorado')\",\n",
       " \"('CT', 'Connecticut')\",\n",
       " \"('DC', 'District of Columbia')\",\n",
       " \"('DE', 'Delaware')\",\n",
       " \"('FL', 'Florida')\",\n",
       " \"('GA', 'Georgia')\",\n",
       " \"('HI', 'Hawaii')\",\n",
       " \"('IA', 'Iowa')\",\n",
       " \"('ID', 'Idaho')\",\n",
       " \"('IL', 'Illinois')\",\n",
       " \"('IN', 'Indiana')\",\n",
       " \"('KS', 'Kansas')\",\n",
       " \"('KY', 'Kentucky')\",\n",
       " \"('LA', 'Louisiana')\",\n",
       " \"('MA', 'Massachusetts')\",\n",
       " \"('MD', 'Maryland')\",\n",
       " \"('ME', 'Maine')\",\n",
       " \"('MI', 'Michigan')\",\n",
       " \"('MN', 'Minnesota')\",\n",
       " \"('MO', 'Missouri')\",\n",
       " \"('MS', 'Mississippi')\",\n",
       " \"('MT', 'Montana')\",\n",
       " \"('NC', 'North Carolina')\",\n",
       " \"('ND', 'North Dakota')\",\n",
       " \"('NE', 'Nebraska')\",\n",
       " \"('NH', 'New Hampshire')\",\n",
       " \"('NJ', 'New Jersey')\",\n",
       " \"('NM', 'New Mexico')\",\n",
       " \"('NV', 'Nevada')\",\n",
       " \"('NY', 'New York')\",\n",
       " \"('OH', 'Ohio')\",\n",
       " \"('OK', 'Oklahoma')\",\n",
       " \"('OR', 'Oregon')\",\n",
       " \"('PA', 'Pennsylvania')\",\n",
       " \"('RI', 'Rhode Island')\",\n",
       " \"('SC', 'South Carolina')\",\n",
       " \"('SD', 'South Dakota')\",\n",
       " \"('TN', 'Tennessee')\",\n",
       " \"('TX', 'Texas')\",\n",
       " \"('UT', 'Utah')\",\n",
       " \"('VA', 'Virginia')\",\n",
       " \"('VT', 'Vermont')\",\n",
       " \"('WA', 'Washington')\",\n",
       " \"('WI', 'Wisconsin')\",\n",
       " \"('WV', 'West Virginia')\",\n",
       " \"('WY', 'Wyoming')\"]"
      ]
     },
     "execution_count": 28,
     "metadata": {},
     "output_type": "execute_result"
    }
   ],
   "source": [
    "sc.textFile(\"hdfs://192.168.93.128:9000/output/states_sorted\").collect()"
   ]
  },
  {
   "cell_type": "code",
   "execution_count": 39,
   "metadata": {},
   "outputs": [
    {
     "name": "stdout",
     "output_type": "stream",
     "text": [
      "defaultdict(<class 'int'>, {'AL': 1, 'AK': 1, 'AZ': 1, 'AR': 1, 'CA': 1, 'CO': 1, 'CT': 1, 'DE': 1, 'DC': 1, 'FL': 1, 'GA': 1, 'HI': 1, 'ID': 1, 'IL': 1, 'IN': 1, 'IA': 1, 'KS': 1, 'KY': 1, 'LA': 1, 'ME': 1, 'MD': 1, 'MA': 1, 'MI': 1, 'MN': 1, 'MS': 1, 'MO': 1, 'MT': 1, 'NE': 1, 'NV': 1, 'NH': 1, 'NJ': 1, 'NM': 1, 'NY': 1, 'NC': 1, 'ND': 1, 'OH': 1, 'OK': 1, 'OR': 1, 'PA': 1, 'RI': 1, 'SC': 1, 'SD': 1, 'TN': 1, 'TX': 1, 'UT': 1, 'VT': 1, 'VA': 1, 'WA': 1, 'WV': 1, 'WI': 1, 'WY': 1})\n"
     ]
    }
   ],
   "source": [
    "states_count = rdd_states_tuple.countByKey()\n",
    "print(states_count)"
   ]
  },
  {
   "cell_type": "code",
   "execution_count": 60,
   "metadata": {},
   "outputs": [
    {
     "name": "stdout",
     "output_type": "stream",
     "text": [
      "defaultdict(<class 'int'>, {'AL': 1, 'AK': 1, 'AZ': 1, 'AR': 1, 'CA': 1, 'CO': 1, 'CT': 1, 'DE': 1, 'DC': 1, 'FL': 1, 'GA': 1, 'HI': 1, 'ID': 1, 'IL': 1, 'IN': 1, 'IA': 1, 'KS': 1, 'KY': 1, 'LA': 1, 'ME': 1, 'MD': 1, 'MA': 1, 'MI': 1, 'MN': 1, 'MS': 1, 'MO': 1, 'MT': 1, 'NE': 1, 'NV': 1, 'NH': 1, 'NJ': 1, 'NM': 1, 'NY': 1, 'NC': 1, 'ND': 1, 'OH': 1, 'OK': 1, 'OR': 1, 'PA': 1, 'RI': 1, 'SC': 1, 'SD': 1, 'TN': 1, 'TX': 1, 'UT': 1, 'VT': 1, 'VA': 1, 'WA': 1, 'WV': 1, 'WI': 1, 'WY': 1})\n"
     ]
    }
   ],
   "source": [
    "# rdd_states_count = rdd_states_tuple.map(lambda state: (state[0], 1)).reduceByKey(lambda x, y: x + y)\n",
    "\n",
    "print(rdd_data_states.map(lambda line: (line.split(\",\")[0],)).countByKey())"
   ]
  }
 ],
 "metadata": {
  "kernelspec": {
   "display_name": "Python 3",
   "language": "python",
   "name": "python3"
  },
  "language_info": {
   "codemirror_mode": {
    "name": "ipython",
    "version": 3
   },
   "file_extension": ".py",
   "mimetype": "text/x-python",
   "name": "python",
   "nbconvert_exporter": "python",
   "pygments_lexer": "ipython3",
   "version": "3.7.7"
  }
 },
 "nbformat": 4,
 "nbformat_minor": 4
}
