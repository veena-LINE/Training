{
 "cells": [
  {
   "cell_type": "markdown",
   "metadata": {},
   "source": [
    "# Requirement\n",
    "\n",
    "Refer Kafka-Python.ipynb"
   ]
  },
  {
   "cell_type": "markdown",
   "metadata": {},
   "source": [
    "# Create Topic\n",
    "```bash\n",
    "kafka-topics.sh --create --bootstrap-server localhost:9092 --replication-factor 1 --partitions 4 --topic sales\n",
    "kafka-topics.sh --list --bootstrap-server localhost:9092\n",
    "kafka-topics.sh --describe --bootstrap-server localhost:9092 --topic transactions\n",
    "```"
   ]
  },
  {
   "cell_type": "code",
   "execution_count": 1,
   "metadata": {
    "scrolled": true
   },
   "outputs": [],
   "source": [
    "from kafka import KafkaConsumer\n",
    "\n",
    "print(\"Consumer running.....\")\n",
    "# To consume latest messages and auto-commit offsets\n",
    "consumer = KafkaConsumer('sales',\n",
    "                         group_id='sales-group',\n",
    "                         bootstrap_servers=['192.168.93.128:9092'])\n",
    "\n",
    "# read messages from consumer\n",
    "for message in consumer:\n",
    "    \"\"\"\n",
    "    message value and key are raw bytes -- decode if necessary!\n",
    "    e.g., for unicode: `message.value.decode('utf-8')`\n",
    "    \"\"\"\n",
    "    print(f\"partition {message.partition}: offset {message.offset}: key={message.key} value={message.value}\")\n",
    "#     print (\"partition %d: offset %d: key=%s value=%s\" % ( message.partition,\n",
    "#                                           message.offset, message.key,\n",
    "#                                           message.value))"
   ]
  }
 ],
 "metadata": {
  "kernelspec": {
   "display_name": "Python 3",
   "language": "python",
   "name": "python3"
  },
  "language_info": {
   "codemirror_mode": {
    "name": "ipython",
    "version": 3
   },
   "file_extension": ".py",
   "mimetype": "text/x-python",
   "name": "python",
   "nbconvert_exporter": "python",
   "pygments_lexer": "ipython3",
   "version": "3.7.7"
  }
 },
 "nbformat": 4,
 "nbformat_minor": 4
}
