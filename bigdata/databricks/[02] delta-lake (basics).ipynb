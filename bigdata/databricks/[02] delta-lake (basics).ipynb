{
 "cells": [
  {
   "cell_type": "markdown",
   "metadata": {},
   "source": [
    "# [databricks](https://community.cloud.databricks.com/)\n"
   ]
  },
  {
   "cell_type": "code",
   "execution_count": null,
   "metadata": {},
   "outputs": [],
   "source": [
    "products = [\n",
    "          # (product_id, product_name, brand_id)  \n",
    "         (1, 'iPhone', 100),\n",
    "         (2, 'Galaxy', 200),\n",
    "         (3, 'Redmi', 300), # orphan record, no matching brand\n",
    "         (4, 'Pixel', 400),\n",
    "]\n",
    "\n",
    "brands = [\n",
    "    #(brand_id, brand_name)\n",
    "    (100, \"Apple\"),\n",
    "    (200, \"Samsung\"),\n",
    "    (400, \"Google\"),\n",
    "    (500, \"Sony\"), # no matching products\n",
    "]\n",
    " \n",
    "productDf = spark.createDataFrame(data=products, schema=[\"product_id\", \"product_name\", \"brand_id\"])\n",
    "brandDf = spark.createDataFrame(data=brands, schema=[\"brand_id\", \"brand_name\"])\n",
    "productDf.show()\n",
    "brandDf.show()"
   ]
  },
  {
   "cell_type": "markdown",
   "metadata": {},
   "source": [
    "```spark\n",
    "(6) Spark Jobs\n",
    "productDf:pyspark.sql.dataframe.DataFrame = [product_id: long, product_name: string ... 1 more fields]\n",
    "brandDf:pyspark.sql.dataframe.DataFrame = [brand_id: long, brand_name: string]\n",
    "+----------+------------+--------+\n",
    "|product_id|product_name|brand_id|\n",
    "+----------+------------+--------+\n",
    "|         1|      iPhone|     100|\n",
    "|         2|      Galaxy|     200|\n",
    "|         3|       Redmi|     300|\n",
    "|         4|       Pixel|     400|\n",
    "+----------+------------+--------+\n",
    "\n",
    "+--------+----------+\n",
    "|brand_id|brand_name|\n",
    "+--------+----------+\n",
    "|     100|     Apple|\n",
    "|     200|   Samsung|\n",
    "|     400|    Google|\n",
    "|     500|      Sony|\n",
    "+--------+----------+\n",
    "```"
   ]
  },
  {
   "cell_type": "code",
   "execution_count": null,
   "metadata": {},
   "outputs": [],
   "source": [
    "\"\"\"\n",
    "Write to S3 as a delta lake format to..\n",
    "\n",
    "/mnt/bond-s3-forspark/delta/products\n",
    "OR\n",
    "dbfs:///mnt/bond-s3-forspark/delta/products\n",
    "\"\"\"\n",
    "\n",
    "productDf.write.format(\"delta\").save(\"/mnt/bond-s3-forspark/delta/products\")"
   ]
  },
  {
   "cell_type": "code",
   "execution_count": null,
   "metadata": {},
   "outputs": [],
   "source": [
    "%sql\n",
    "SELECT * FROM delta.`/mnt/bond-s3-forspark/delta/products`"
   ]
  },
  {
   "cell_type": "code",
   "execution_count": null,
   "metadata": {},
   "outputs": [],
   "source": [
    "%sql\n",
    "SELECT * FROM delta.products"
   ]
  },
  {
   "cell_type": "code",
   "execution_count": null,
   "metadata": {},
   "outputs": [],
   "source": [
    "\"\"\"\n",
    "OPTIMIZE by merging multiple .parquet files into a single file.\n",
    "\"\"\"\n",
    "\n",
    "%sql\n",
    "OPTIMIZE delta.`/mnt/bond-s3-forspark/delta/products`"
   ]
  },
  {
   "cell_type": "code",
   "execution_count": null,
   "metadata": {},
   "outputs": [],
   "source": [
    "%sql\n",
    "\n",
    "-- Z-ORDER\n",
    "-- Z-order means, group the data by ranking, or relevant data together as group or co-group\n",
    "-- improve the performance of read query if the query contains zorder column\n",
    "\n",
    "OPTIMIZE delta.`/mnt/bond-s3-forspark/delta/products`\n",
    "  ZORDER BY (brand_id)"
   ]
  },
  {
   "cell_type": "code",
   "execution_count": null,
   "metadata": {},
   "outputs": [],
   "source": [
    "%sql\n",
    "\n",
    "-- Every write to delta-lake creates a snapshot for parallel/immutable processing\n",
    "-- Clean-up all the not-needed snapshots with VACUUM\n",
    "\n",
    "VACUUM delta.`/mnt/bond-s3-forspark/delta/products`"
   ]
  }
 ],
 "metadata": {
  "kernelspec": {
   "display_name": "Python 3",
   "language": "python",
   "name": "python3"
  },
  "language_info": {
   "codemirror_mode": {
    "name": "ipython",
    "version": 3
   },
   "file_extension": ".py",
   "mimetype": "text/x-python",
   "name": "python",
   "nbconvert_exporter": "python",
   "pygments_lexer": "ipython3",
   "version": "3.7.7"
  }
 },
 "nbformat": 4,
 "nbformat_minor": 4
}
