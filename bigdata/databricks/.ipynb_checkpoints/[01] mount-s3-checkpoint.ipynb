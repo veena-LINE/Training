{
 "cells": [
  {
   "cell_type": "markdown",
   "metadata": {},
   "source": [
    "# [databricks](https://community.cloud.databricks.com/)\n"
   ]
  },
  {
   "cell_type": "code",
   "execution_count": null,
   "metadata": {},
   "outputs": [],
   "source": [
    "\"\"\"\n",
    "CLEAR ACCESS KEYS BEFORE EXIT\n",
    "\"\"\"\n",
    "\n",
    "access_key = \"YOUR_ACCESS_KEY\"\n",
    "secret_key = \"YOUR_SECRET_KEY\"\n",
    "bucket_name = \"bond-s3-forspark\"\n",
    "\n",
    "encoded_secret_key = secret_key.replace(\"/\", \"%2F\")\n",
    "aws_bucket_name = bucket_name\n",
    "mount_name = bucket_name\n",
    "\n",
    "# if your's is terminated, you need to mount it again.. by running this code..\n",
    "# create a shortcut/mount point /mnt/<<name>>, but this points to S3 storages, DBFS\n",
    "# hence s3 files are accessible either using /mnt/bucketname or dbfs://mnt/bucketname\n",
    "# dbutils.fs.mount(\"s3a://%s:%s@%s\" % (access_key, encoded_secret_key, aws_bucket_name), \"/mnt/%s\" % mount_name)\n",
    "# s3a is a driver\n",
    "# see below.."
   ]
  },
  {
   "cell_type": "code",
   "execution_count": null,
   "metadata": {},
   "outputs": [],
   "source": [
    "\"\"\"\n",
    "Mount into delta lake\n",
    "/mnt/delta\n",
    "\"\"\"\n",
    "\n",
    "dbutils.fs.mount(\"s3a://%s:%s@%s/delta\" % (access_key, encoded_secret_key, aws_bucket_name), \"/mnt/delta\")"
   ]
  }
 ],
 "metadata": {
  "kernelspec": {
   "display_name": "Python 3",
   "language": "python",
   "name": "python3"
  },
  "language_info": {
   "codemirror_mode": {
    "name": "ipython",
    "version": 3
   },
   "file_extension": ".py",
   "mimetype": "text/x-python",
   "name": "python",
   "nbconvert_exporter": "python",
   "pygments_lexer": "ipython3",
   "version": "3.7.7"
  }
 },
 "nbformat": 4,
 "nbformat_minor": 4
}
