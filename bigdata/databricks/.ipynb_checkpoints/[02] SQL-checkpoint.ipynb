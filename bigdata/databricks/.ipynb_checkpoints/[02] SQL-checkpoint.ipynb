{
 "cells": [
  {
   "cell_type": "markdown",
   "metadata": {},
   "source": [
    "# [databricks](https://community.cloud.databricks.com/)\n"
   ]
  },
  {
   "cell_type": "code",
   "execution_count": null,
   "metadata": {},
   "outputs": [],
   "source": [
    "%sql\n",
    "CREATE DATABASE ecommercedb;"
   ]
  },
  {
   "cell_type": "code",
   "execution_count": null,
   "metadata": {},
   "outputs": [],
   "source": [
    "%sql\n",
    "SHOW DATABASES;"
   ]
  },
  {
   "cell_type": "code",
   "execution_count": null,
   "metadata": {},
   "outputs": [],
   "source": [
    "%sql\n",
    "CREATE TABLE ecommercedb.products(id INT, name STRING)"
   ]
  },
  {
   "cell_type": "code",
   "execution_count": null,
   "metadata": {},
   "outputs": [],
   "source": [
    "%sql\n",
    "SHOW TABLES IN ecommercedb"
   ]
  },
  {
   "cell_type": "code",
   "execution_count": null,
   "metadata": {},
   "outputs": [],
   "source": [
    "%sql\n",
    "DESC ecommercedb.products"
   ]
  },
  {
   "cell_type": "code",
   "execution_count": null,
   "metadata": {},
   "outputs": [],
   "source": [
    "%sql\n",
    "INSERT INTO ecommercedb.products VALUES (1, 'Xiaomi')"
   ]
  },
  {
   "cell_type": "code",
   "execution_count": null,
   "metadata": {},
   "outputs": [],
   "source": [
    "%sql\n",
    "SELECT * FROM ecommercedb.products"
   ]
  },
  {
   "cell_type": "code",
   "execution_count": null,
   "metadata": {},
   "outputs": [],
   "source": [
    "%sql\n",
    "-- Creating partitions (not to be confused with Spark partitions)\n",
    "\n",
    "CREATE TABLE ecommercedb.orders(id INT, amount INT, country VARCHAR(50), state VARCHAR(50))\n",
    "       USING parquet\n",
    " PARTITIONED BY (country, state);"
   ]
  },
  {
   "cell_type": "code",
   "execution_count": null,
   "metadata": {},
   "outputs": [],
   "source": [
    "%sql\n",
    "INSERT INTO ecommercedb.orders PARTITION(country='USA', state='CA') VALUES(100, 1000);\n",
    "INSERT INTO ecommercedb.orders PARTITION(country='USA', state='NV') VALUES(101, 2000);\n",
    "INSERT INTO ecommercedb.orders PARTITION(country='USA', state='CO') VALUES(102, 3000);\n",
    "INSERT INTO ecommercedb.orders PARTITION(country='IN', state='KA') VALUES(200, 1001);\n",
    "INSERT INTO ecommercedb.orders PARTITION(country='IN', state='TN') VALUES(201, 2001);"
   ]
  },
  {
   "cell_type": "code",
   "execution_count": null,
   "metadata": {},
   "outputs": [],
   "source": [
    "%sql\n",
    "SELECT * FROM ecommercedb.orders ORDER BY amount DESC"
   ]
  },
  {
   "cell_type": "code",
   "execution_count": null,
   "metadata": {},
   "outputs": [],
   "source": [
    "%sql\n",
    "\n",
    "-- Loads and scans files from country=USA folder in Data->DBFS->/usr/hive/warehouse/../country=USA\n",
    "SELECT * FROM ecommercedb.orders WHERE country = 'USA'"
   ]
  },
  {
   "cell_type": "code",
   "execution_count": null,
   "metadata": {},
   "outputs": [],
   "source": [
    "%sql\n",
    "-- DESC ecommercedb.orders\n",
    "-- OR\n",
    "-- DESCRIBE TABLE ecommercedb.orders\n",
    "DESC ecommercedb.orders"
   ]
  },
  {
   "cell_type": "code",
   "execution_count": null,
   "metadata": {},
   "outputs": [],
   "source": [
    "%sql\n",
    "-- I want to see more partition information\n",
    "DESC EXTENDED ecommercedb.orders"
   ]
  },
  {
   "cell_type": "code",
   "execution_count": null,
   "metadata": {},
   "outputs": [],
   "source": [
    "%sql\n",
    "-- What partition?\n",
    "DESC EXTENDED ecommercedb.orders PARTITION (country='USA', state='CA')"
   ]
  },
  {
   "cell_type": "code",
   "execution_count": null,
   "metadata": {},
   "outputs": [],
   "source": [
    "%sql\n",
    "SELECT * FROM ecommercedb.orders ORDER BY amount DESC"
   ]
  },
  {
   "cell_type": "code",
   "execution_count": null,
   "metadata": {},
   "outputs": [],
   "source": [
    "%sql\n",
    "EXPLAIN SELECT * FROM ecommercedb.orders"
   ]
  },
  {
   "cell_type": "markdown",
   "metadata": {},
   "source": [
    "```sql\n",
    "== Physical Plan == *(1) FileScan parquet ecommercedb.orders[id#2185,amount#2186,country#2187,state#2188] Batched: true, DataFilters: [], Format: Parquet, Location: CatalogFileIndex[dbfs:/user/hive/warehouse/ecommercedb.db/orders], PartitionCount: 5, PartitionFilters: [], PushedFilters: [], ReadSchema: struct<id:int,amount:int>\n",
    "```"
   ]
  },
  {
   "cell_type": "code",
   "execution_count": null,
   "metadata": {},
   "outputs": [],
   "source": [
    "%sql\n",
    "EXPLAIN EXTENDED SELECT * FROM ecommercedb.orders"
   ]
  },
  {
   "cell_type": "markdown",
   "metadata": {},
   "source": [
    "```sql\n",
    "== Parsed Logical Plan == 'Project [*] +- 'UnresolvedRelation `ecommercedb`.`orders` == Analyzed Logical Plan == id: int, amount: int, country: string, state: string Project [id#2185, amount#2186, country#2187, state#2188] +- SubqueryAlias `ecommercedb`.`orders` +- Relation[id#2185,amount#2186,country#2187,state#2188] parquet == Optimized Logical Plan == Relation[id#2185,amount#2186,country#2187,state#2188] parquet == Physical Plan == *(1) FileScan parquet ecommercedb.orders[id#2185,amount...\n",
    "```"
   ]
  }
 ],
 "metadata": {
  "kernelspec": {
   "display_name": "Python 3",
   "language": "python",
   "name": "python3"
  },
  "language_info": {
   "codemirror_mode": {
    "name": "ipython",
    "version": 3
   },
   "file_extension": ".py",
   "mimetype": "text/x-python",
   "name": "python",
   "nbconvert_exporter": "python",
   "pygments_lexer": "ipython3",
   "version": "3.7.7"
  }
 },
 "nbformat": 4,
 "nbformat_minor": 4
}
