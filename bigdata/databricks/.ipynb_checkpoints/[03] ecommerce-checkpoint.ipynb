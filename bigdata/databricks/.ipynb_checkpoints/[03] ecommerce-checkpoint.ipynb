{
 "cells": [
  {
   "cell_type": "markdown",
   "metadata": {},
   "source": [
    "# [databricks](https://community.cloud.databricks.com/)\n"
   ]
  },
  {
   "cell_type": "code",
   "execution_count": null,
   "metadata": {},
   "outputs": [],
   "source": [
    "import pyspark.sql.functions as F\n",
    "from pyspark.sql.types import DoubleType, StructType, StringType, IntegerType, DateType"
   ]
  },
  {
   "cell_type": "code",
   "execution_count": null,
   "metadata": {},
   "outputs": [],
   "source": [
    "schema = (\n",
    "    StructType()\n",
    "    .add(\"InvoiceNo\", StringType(), True)\n",
    "    .add(\"StockCode\", StringType(), True)\n",
    "    .add(\"Description\", StringType(), True)\n",
    "    .add(\"Quantity\", IntegerType(), True)\n",
    "    .add(\"InvoiceDate\", DateType(), True)\n",
    "    .add(\"UnitPrice\", DoubleType(), True)\n",
    "    .add(\"CustomerID\", IntegerType(), True)\n",
    "    .add(\"Country\", StringType(), True)\n",
    ")\n",
    "\n",
    "dataSet = (\n",
    "    spark.read.format(\"csv\")\n",
    "    .option(\"header\", True)\n",
    "    .schema(schema)\n",
    "    .option(\"dateFormat\", \"MM/dd/yyyy HH:mm\")\n",
    "    .load(\"/FileStore/tables/data.csv\")\n",
    ")\n",
    "\n",
    "dataSet.show(2)"
   ]
  },
  {
   "cell_type": "code",
   "execution_count": null,
   "metadata": {},
   "outputs": [],
   "source": [
    "\"\"\"\n",
    "Create table + partition data over Country\n",
    "\n",
    "Where to check?\n",
    "Output: Left panel -> Data -> Create Table -> DBFS -> /user/hive/warehouse/...ecommercedb.db/invoices\n",
    "\"\"\"\n",
    "\n",
    "dataSet.write.partitionBy(\"Country\").mode(\"overwrite\").saveAsTable(\"ecommercedb.invoices\")"
   ]
  }
 ],
 "metadata": {
  "kernelspec": {
   "display_name": "Python 3",
   "language": "python",
   "name": "python3"
  },
  "language_info": {
   "codemirror_mode": {
    "name": "ipython",
    "version": 3
   },
   "file_extension": ".py",
   "mimetype": "text/x-python",
   "name": "python",
   "nbconvert_exporter": "python",
   "pygments_lexer": "ipython3",
   "version": "3.7.7"
  }
 },
 "nbformat": 4,
 "nbformat_minor": 4
}
