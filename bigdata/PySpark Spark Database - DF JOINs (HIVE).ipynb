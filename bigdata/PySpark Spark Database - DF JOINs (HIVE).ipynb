{
 "cells": [
  {
   "cell_type": "code",
   "execution_count": null,
   "metadata": {},
   "outputs": [],
   "source": [
    "import findspark\n",
    "findspark.init()"
   ]
  },
  {
   "cell_type": "code",
   "execution_count": null,
   "metadata": {},
   "outputs": [],
   "source": [
    "\"\"\"\n",
    "Configure before creating SparkSession\n",
    "\"\"\"\n",
    "\n",
    "from pyspark.conf import SparkConf\n",
    "\n",
    "config = SparkConf()\n",
    "conf = \\\n",
    "(\n",
    "    config\n",
    "    .setMaster(\"spark://192.168.11.77:7077\").setAppName(\"SparkDB\")\n",
    "    .set(\"spark.executor.memory\", \"2g\")\n",
    "    .set(\"spark.executor.cores\", 4)\n",
    "    .set(\"spark.cores.max\", 4)\n",
    "    .set(\"spark.driver.memory\", \"2g\")\n",
    "    .set(\"hive.metastore.uris\", \"thrift://192.168.93.128:9083\")\n",
    "    .set(\"hive.metastore.warehouse.dir\", \"hdfs://192.168.93.128:9000/user/hive/warehouse\")\n",
    "#     .set(\"spark.local.dir\", \"C:/spark-temp\")     # TEMPORARY HARDCODING: Spark's temp\n",
    "#     .set(\"spark.sql.warehouse.dir\", \"C:/spark\")  # TEMPORARY HARDCODING: Spark's warehouse\n",
    ")\n",
    "\"\"\"\n",
    "Ensure $HIVE_HOME/hive-site.xml is configured with \n",
    "hiave.metastore.uris\n",
    "+\n",
    "hive.metastore.warehouse.dir\n",
    "\"\"\"\n",
    "\n",
    "\n",
    "from pyspark.sql import SparkSession\n",
    "\n",
    "ss = (\n",
    "    SparkSession\n",
    "    .builder\n",
    "    .config(conf=conf)\n",
    "    .enableHiveSupport()\n",
    "    .getOrCreate()\n",
    ")"
   ]
  },
  {
   "cell_type": "code",
   "execution_count": null,
   "metadata": {},
   "outputs": [],
   "source": [
    "products = (\n",
    "    # (product_id, product_name, brand_id)  \n",
    "    (1, 'iPhone', 100),\n",
    "    (2, 'Galaxy', 200),\n",
    "    (3, 'RedMi', 300),  # orphan record, no matching brand\n",
    "    (4, 'Pixel', 400),\n",
    ")\n",
    "brands = (\n",
    "    #(brand_id, brand_name)\n",
    "    (100, \"Apple\"),\n",
    "    (200, \"Samsung\"),\n",
    "    (400, \"Google\"),\n",
    "    (500, \"Sony\"),  # no matching product\n",
    ")\n",
    " \n",
    "df_product = ss.createDataFrame(data=products, schema=(\"product_id\", \"product_name\", \"brand_id\"))\n",
    "df_brand = ss.createDataFrame(data=brands, schema=(\"brand_id\", \"brand_name\"))\n",
    "\n",
    "df_product.show(), df_brand.show()"
   ]
  },
  {
   "cell_type": "markdown",
   "metadata": {},
   "source": [
    "---"
   ]
  },
  {
   "cell_type": "code",
   "execution_count": null,
   "metadata": {},
   "outputs": [],
   "source": [
    "\"\"\"\n",
    "WRITE DF into DB table\n",
    "\"\"\"\n",
    "\n",
    "\n",
    "\"\"\"\n",
    "Writes to `default` DB in the metastore_db --> (Writes to C:/spark/brand_test/ (.parquet files))\n",
    "\"\"\"\n",
    "df_brand.write.mode(\"overwrite\").saveAsTable(\"brand_test\")\n",
    "\n",
    "\"\"\"\n",
    "Writes to the specified database --> (Writes to C:/spark/product_db/brand/ (.parquet files))\n",
    "Creates table in Hive's metastore_db\n",
    "\"\"\"\n",
    "df_brand.write.mode(\"overwrite\").saveAsTable(\"product_db.brand\")"
   ]
  },
  {
   "cell_type": "code",
   "execution_count": null,
   "metadata": {},
   "outputs": [],
   "source": [
    "ss.sql(\"SELECT * FROM product_db.brand\").show()"
   ]
  },
  {
   "cell_type": "code",
   "execution_count": null,
   "metadata": {},
   "outputs": [],
   "source": [
    "help(df_brand.write.mode)"
   ]
  },
  {
   "cell_type": "code",
   "execution_count": null,
   "metadata": {},
   "outputs": [],
   "source": [
    "df_brand.getNumPartitions()"
   ]
  },
  {
   "cell_type": "markdown",
   "metadata": {},
   "source": [
    "---"
   ]
  }
 ],
 "metadata": {
  "kernelspec": {
   "display_name": "Python 3",
   "language": "python",
   "name": "python3"
  },
  "language_info": {
   "codemirror_mode": {
    "name": "ipython",
    "version": 3
   },
   "file_extension": ".py",
   "mimetype": "text/x-python",
   "name": "python",
   "nbconvert_exporter": "python",
   "pygments_lexer": "ipython3",
   "version": "3.7.7"
  }
 },
 "nbformat": 4,
 "nbformat_minor": 4
}
