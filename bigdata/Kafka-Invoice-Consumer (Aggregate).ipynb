{
 "cells": [
  {
   "cell_type": "markdown",
   "metadata": {},
   "source": [
    "## SETUP\n",
    "\n",
    "<br>Backup C:\\spark-2.4.7-bin-hadoop2.7\\conf\\spark-defaults.conf.template -> spark-defaults.comf.template.bak\n",
    "<br>Rename & Edit C:\\spark-2.4.7-bin-hadoop2.7\\conf\\spark-defaults.conf.template as \"spark-defaults.conf\"\n",
    "\n",
    "```bash\n",
    "spark-defaults.conf\n",
    "# is always loaded by spark runtime when it starts....\n",
    "# here we can mention default parameters needed for spark workers..\n",
    "\n",
    "# Paste at EOF\n",
    "spark.jars.packages org.apache.spark:spark-sql-kafka-0-10_2.11:2.4.0\n",
    "```"
   ]
  },
  {
   "cell_type": "code",
   "execution_count": null,
   "metadata": {},
   "outputs": [],
   "source": [
    "\"\"\" DOESN't WORK as of now\n",
    "Load kafka-spark driver to consume kafka messages.\n",
    "\n",
    "import os\n",
    "os.environ['PYSPARK_SUBMIT_ARGS'] = \"\"\n",
    "\"\"\"\n",
    "\n",
    "\"\"\" IMPORTANT\n",
    "# Load kafka spark driver, to receive kafka stream messages\n",
    "# https://github.com/nodesense/cts-aws-spark-april-2021/blob/main/spark-setup-for-packages.md\n",
    "\n",
    "# $KAFKA_HOME/bin/kafka-topics.sh --create --bootstrap-server localhost:9092 --replication-factor 1 --partitions 1 --topic test\n",
    "# $KAFKA_HOME/bin/kafka-console-producer.sh --broker-list localhost:9092 --topic test\n",
    "\"\"\"\n",
    "\n",
    "import findspark\n",
    "findspark.init()"
   ]
  },
  {
   "cell_type": "code",
   "execution_count": null,
   "metadata": {},
   "outputs": [],
   "source": [
    "from pyspark.sql import SparkSession\n",
    "\n",
    "ss = (\n",
    "    SparkSession.builder.master(\"local[*]\")\n",
    "    .appName(\"sparkSTREAM:fromKAFKA\")\n",
    "    .getOrCreate()\n",
    ")"
   ]
  },
  {
   "cell_type": "code",
   "execution_count": null,
   "metadata": {},
   "outputs": [],
   "source": [
    "# read from kafka, here spark is consumer for kafka topic called invoices\n",
    "# spark streaming works as dataframe/sql\n",
    "kafkaDf = (\n",
    "    ss.readStream.format(\"kafka\")\n",
    "    .option(\"kafka.bootstrap.servers\", \"192.168.93.128:9092\")\n",
    "    .option(\"subscribe\", \"invoices\")\n",
    "    .load()\n",
    ")"
   ]
  },
  {
   "cell_type": "code",
   "execution_count": null,
   "metadata": {},
   "outputs": [],
   "source": [
    "# .show/print will not work directily due to stream..\n",
    "# linesDf.show() # worn't work\n",
    "kafkaDf.printSchema() # works\n",
    "\n",
    "# key is kafka key, in binary format\n",
    "# value is kafka value, in binary format\n",
    "# topic string\n",
    "# parition, integer\n",
    "# offer long \n",
    "# timestamp - longint in ms\n",
    "# timestampType - Source Time, Record write time"
   ]
  },
  {
   "cell_type": "code",
   "execution_count": null,
   "metadata": {},
   "outputs": [],
   "source": [
    "# now convert kafka value which is in bytes to STRING, we ignore the key for now...\n",
    "# now we pick only value from the stream..\n",
    "invoiceJsonRawDf = kafkaDf.selectExpr(\"timestamp\", \"CAST(value AS STRING)\")\n",
    "invoiceJsonRawDf.printSchema() # we get only value as string"
   ]
  },
  {
   "cell_type": "code",
   "execution_count": null,
   "metadata": {},
   "outputs": [],
   "source": [
    "import pyspark.sql.functions as F\n",
    "from pyspark.sql.types import StructField, StructType, IntegerType, StringType, DoubleType, DateType\n",
    "# json is object, spark DF needs schema \n",
    "\n",
    "schema = StructType(\n",
    "        [\n",
    "            StructField(\"InvoiceNo\", IntegerType(), True),\n",
    "            StructField(\"StockCode\", StringType(), True),\n",
    "            StructField(\"Quantity\", IntegerType(), True),\n",
    "            StructField(\"Description\", StringType(), True),\n",
    "            StructField(\"InvoiceDate\", StringType(), True),\n",
    "            #StructField(\"InvoiceDate\", DateType(), True),\n",
    "            StructField(\"UnitPrice\", DoubleType(), True),\n",
    "            StructField(\"CustomerID\", IntegerType(), True),\n",
    "            StructField(\"Country\", StringType(), True),\n",
    "        ]\n",
    ")\n",
    "\n",
    "#{\"InvoiceNo\": 495774, \"StockCode\": \"84406G\", \"Quantity\": 2, \"Description\": \"TODO\", \"InvoiceDate\": \"05/22/2021 00:36\", \"UnitPrice\": 2.0, \"CustomerID\": 17850, \"Country\": \"AT\"}\n",
    "\n",
    "# replacing json string with a json object with schema\n",
    "# now value is a column, it contains a struct\n",
    "jsonDf = invoiceJsonRawDf.withColumn(\"value\", F.from_json(\"value\", schema))\n",
    "\n",
    "# now we will extract value which struct type ewith all schema field mention, to specific columns\n",
    "#InvoiceNo, StockCode, ....\n",
    "invoiceDf = jsonDf.select(\"timestamp\", F.col(\"value.*\")) "
   ]
  },
  {
   "cell_type": "code",
   "execution_count": null,
   "metadata": {},
   "outputs": [],
   "source": [
    "# run cell by cell, than all...\n",
    "# dataframe specific, raw \n",
    "echoOnconsole = invoiceDf\\\n",
    "                .writeStream\\\n",
    "                .outputMode(\"append\")\\\n",
    "                .format(\"console\")\\\n",
    "                .start() # start the query. spark will subscribe for data"
   ]
  },
  {
   "cell_type": "code",
   "execution_count": null,
   "metadata": {},
   "outputs": [],
   "source": [
    "filteredDf = invoiceDf.filter(\"Quantity >= 6\") \n",
    "\n",
    "echoOnconsole = filteredDf\\\n",
    "                .writeStream\\\n",
    "                .outputMode(\"append\")\\\n",
    "                .format(\"console\")\\\n",
    "                .start() # start the query. spark will subscribe for data"
   ]
  },
  {
   "cell_type": "code",
   "execution_count": null,
   "metadata": {},
   "outputs": [],
   "source": [
    "# groupby for count, unique items, not count of Quantity \n",
    "# 2 apples, 3 orangles = answer 2\n",
    "groupByItemCount = invoiceDf.groupBy(\"InvoiceNo\").count()\n",
    "\n",
    "echoOnconsole = groupByItemCount\\\n",
    "                .writeStream\\\n",
    "                .outputMode(\"complete\")\\\n",
    "                .format(\"console\")\\\n",
    "                .start() # start the query. spark will subscribe for data"
   ]
  },
  {
   "cell_type": "code",
   "execution_count": null,
   "metadata": {},
   "outputs": [],
   "source": [
    "# Give me how much money generated selling goods for last 60 seconds/1 minutes\n",
    "invoiceDf = invoiceDf.withColumn(\"Amount\", F.col(\"Quantity\") * F.col(\"UnitPrice\") )\n",
    "# below code is not right solution, group by, by last last 6o seconds\n",
    "# groupByItemCount = invoiceDf.groupBy(\"InvoiceNo\")....\n",
    "\n",
    "windowedAmountSum = invoiceDf.groupBy(F.window(invoiceDf.timestamp, \n",
    "                                              \"60 seconds\", \n",
    "                                               \"60 seconds\"), invoiceDf.Amount).sum()\n",
    "\n",
    "echoOnconsole = windowedAmountSum\\\n",
    "                .writeStream\\\n",
    "                .outputMode(\"complete\")\\\n",
    "                .format(\"console\")\\\n",
    "                .start() # start the query. spark will subscribe for data"
   ]
  },
  {
   "cell_type": "code",
   "execution_count": null,
   "metadata": {},
   "outputs": [],
   "source": [
    "# Give me how much money generated selling goods for last 60 seconds/1 minutes\n",
    "invoiceDf = invoiceDf.withColumn(\"Amount\", F.col(\"Quantity\") * F.col(\"UnitPrice\") )\n",
    "# below code is not right solution, group by, by last last 6o seconds\n",
    "# groupByItemCount = invoiceDf.groupBy(\"InvoiceNo\")....\n",
    "\n",
    "windowedAmountSum = invoiceDf.groupBy(F.window(invoiceDf.timestamp, \n",
    "                                              \"60 seconds\", \n",
    "                                               \"60 seconds\"))\\\n",
    "                              .agg(F.sum(\"Amount\"))\n",
    "\n",
    "echoOnconsole = windowedAmountSum\\\n",
    "                .writeStream\\\n",
    "                .outputMode(\"complete\")\\\n",
    "                .format(\"console\")\\\n",
    "                .start() # start the query. spark will subscribe for data"
   ]
  },
  {
   "cell_type": "code",
   "execution_count": null,
   "metadata": {},
   "outputs": [],
   "source": [
    "echoOnconsole.awaitTermination()\n",
    "\n",
    "# later you can terminal the jupyter"
   ]
  },
  {
   "cell_type": "code",
   "execution_count": null,
   "metadata": {},
   "outputs": [],
   "source": []
  }
 ],
 "metadata": {
  "kernelspec": {
   "display_name": "Python 3",
   "language": "python",
   "name": "python3"
  },
  "language_info": {
   "codemirror_mode": {
    "name": "ipython",
    "version": 3
   },
   "file_extension": ".py",
   "mimetype": "text/x-python",
   "name": "python",
   "nbconvert_exporter": "python",
   "pygments_lexer": "ipython3",
   "version": "3.7.7"
  }
 },
 "nbformat": 4,
 "nbformat_minor": 4
}
