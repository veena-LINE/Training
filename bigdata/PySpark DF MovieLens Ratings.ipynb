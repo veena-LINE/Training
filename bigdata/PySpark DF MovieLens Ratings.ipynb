{
 "cells": [
  {
   "cell_type": "code",
   "execution_count": 1,
   "metadata": {},
   "outputs": [],
   "source": [
    "import findspark\n",
    "findspark.init()"
   ]
  },
  {
   "cell_type": "code",
   "execution_count": 2,
   "metadata": {},
   "outputs": [
    {
     "data": {
      "text/html": [
       "\n",
       "            <div>\n",
       "                <p><b>SparkSession - in-memory</b></p>\n",
       "                \n",
       "        <div>\n",
       "            <p><b>SparkContext</b></p>\n",
       "\n",
       "            <p><a href=\"http://DESKTOP-BTFVSHG:4040\">Spark UI</a></p>\n",
       "\n",
       "            <dl>\n",
       "              <dt>Version</dt>\n",
       "                <dd><code>v2.4.7</code></dd>\n",
       "              <dt>Master</dt>\n",
       "                <dd><code>local</code></dd>\n",
       "              <dt>AppName</dt>\n",
       "                <dd><code>sparkDataFrame</code></dd>\n",
       "            </dl>\n",
       "        </div>\n",
       "        \n",
       "            </div>\n",
       "        "
      ],
      "text/plain": [
       "<pyspark.sql.session.SparkSession at 0x243f1ecf648>"
      ]
     },
     "execution_count": 2,
     "metadata": {},
     "output_type": "execute_result"
    }
   ],
   "source": [
    "\n",
    "\"\"\"\n",
    "Since Spark 2.x, Spark unified Spark APIs, DF, Datasets, & SQL.\n",
    "SparkSession uses SparkContext internally.\n",
    "\"\"\"\n",
    "\n",
    "from pyspark.sql import SparkSession\n",
    "ss = SparkSession.builder.master(\"local\").appName(\"sparkDataFrame\").getOrCreate()\n",
    "\n",
    "ss"
   ]
  },
  {
   "cell_type": "code",
   "execution_count": 3,
   "metadata": {},
   "outputs": [
    {
     "name": "stdout",
     "output_type": "stream",
     "text": [
      " Volume in drive C has no label.\n",
      " Volume Serial Number is A88C-3222\n",
      "\n",
      " Directory of C:\\Users\\Administrator\\veena\\bigdata\\ml-latest-small\n",
      "\n",
      "09/27/2018  02:20 AM    <DIR>          .\n",
      "09/27/2018  02:20 AM    <DIR>          ..\n",
      "09/27/2018  02:20 AM           197,979 links.csv\n",
      "09/27/2018  02:19 AM           494,431 movies.csv\n",
      "09/27/2018  02:19 AM         2,483,723 ratings.csv\n",
      "09/27/2018  02:20 AM             8,342 README.txt\n",
      "09/27/2018  02:19 AM           118,660 tags.csv\n",
      "               5 File(s)      3,303,135 bytes\n",
      "               2 Dir(s)  449,109,102,592 bytes free\n"
     ]
    }
   ],
   "source": [
    "!dir .\\ml-latest-small"
   ]
  },
  {
   "cell_type": "markdown",
   "metadata": {},
   "source": [
    "---"
   ]
  },
  {
   "cell_type": "code",
   "execution_count": 24,
   "metadata": {},
   "outputs": [],
   "source": [
    "\n",
    "\"\"\"\n",
    "Read data from CSV\n",
    "\"\"\"\n",
    "\n",
    "from pyspark.sql.types import StructType, IntegerType, DoubleType, StringType, LongType\n",
    "\n",
    "schema_movies = (\n",
    "    StructType()\n",
    "    .add(\"movieId\", IntegerType(), True)\n",
    "    .add(\"title\", StringType(), True)\n",
    "    .add(\"genres\", StringType(), True)\n",
    ")\n",
    "schema_ratings = (\n",
    "    StructType()\n",
    "    .add(\"userId\", IntegerType(), True)\n",
    "    .add(\"movieId\", IntegerType(), True)\n",
    "    .add(\"rating\", DoubleType(), True)\n",
    "    .add(\"timestamp\", LongType(), True)\n",
    ")\n",
    "\n",
    "df_movies_full = (\n",
    "    ss.read\n",
    "    .format(\"csv\")\n",
    "    .option(\"header\", True)\n",
    "    .schema(schema_movies)\n",
    "    .load(\"./ml-latest-small/movies.csv\")\n",
    ")\n",
    "\n",
    "df_ratings_full = (\n",
    "    ss.read\n",
    "    .format(\"csv\")\n",
    "    .option(\"header\", True)\n",
    "    .schema(schema_ratings)\n",
    "    .load(\"./ml-latest-small/ratings.csv\")\n",
    ")"
   ]
  },
  {
   "cell_type": "code",
   "execution_count": 25,
   "metadata": {},
   "outputs": [
    {
     "name": "stdout",
     "output_type": "stream",
     "text": [
      "-- Movies --\n",
      "root\n",
      " |-- movieId: integer (nullable = true)\n",
      " |-- title: string (nullable = true)\n",
      " |-- genres: string (nullable = true)\n",
      "\n",
      "+-------+--------------------+--------------------+\n",
      "|movieId|               title|              genres|\n",
      "+-------+--------------------+--------------------+\n",
      "|      1|    Toy Story (1995)|Adventure|Animati...|\n",
      "|      2|      Jumanji (1995)|Adventure|Childre...|\n",
      "|      3|Grumpier Old Men ...|      Comedy|Romance|\n",
      "|      4|Waiting to Exhale...|Comedy|Drama|Romance|\n",
      "+-------+--------------------+--------------------+\n",
      "only showing top 4 rows\n",
      "\n"
     ]
    },
    {
     "data": {
      "text/plain": [
       "(None, None)"
      ]
     },
     "execution_count": 25,
     "metadata": {},
     "output_type": "execute_result"
    }
   ],
   "source": [
    "print(\"-- Movies --\")\n",
    "\n",
    "df_movies_full.printSchema(), df_movies_full.show(4)"
   ]
  },
  {
   "cell_type": "code",
   "execution_count": 26,
   "metadata": {},
   "outputs": [
    {
     "name": "stdout",
     "output_type": "stream",
     "text": [
      "-- Ratings --\n",
      "root\n",
      " |-- userId: integer (nullable = true)\n",
      " |-- movieId: integer (nullable = true)\n",
      " |-- rating: double (nullable = true)\n",
      " |-- timestamp: long (nullable = true)\n",
      "\n",
      "+------+-------+------+---------+\n",
      "|userId|movieId|rating|timestamp|\n",
      "+------+-------+------+---------+\n",
      "|     1|      1|   4.0|964982703|\n",
      "|     1|      3|   4.0|964981247|\n",
      "|     1|      6|   4.0|964982224|\n",
      "|     1|     47|   5.0|964983815|\n",
      "+------+-------+------+---------+\n",
      "only showing top 4 rows\n",
      "\n"
     ]
    },
    {
     "data": {
      "text/plain": [
       "(None, None)"
      ]
     },
     "execution_count": 26,
     "metadata": {},
     "output_type": "execute_result"
    }
   ],
   "source": [
    "print(\"-- Ratings --\")\n",
    "\n",
    "df_ratings_full.printSchema(), df_ratings_full.show(4)"
   ]
  },
  {
   "cell_type": "code",
   "execution_count": 31,
   "metadata": {},
   "outputs": [
    {
     "name": "stdout",
     "output_type": "stream",
     "text": [
      "+-------+------+\n",
      "|movieId|rating|\n",
      "+-------+------+\n",
      "|      1|   4.0|\n",
      "|      3|   4.0|\n",
      "+-------+------+\n",
      "only showing top 2 rows\n",
      "\n"
     ]
    }
   ],
   "source": [
    "\n",
    "\"\"\"\n",
    "Alternative: df_ratings.select(\"movieId\", \"rating\")\n",
    "\"\"\"\n",
    "\n",
    "df_ratings = df_ratings_full[[\"movieId\", \"rating\"]]\n",
    "df_ratings.show(2)"
   ]
  },
  {
   "cell_type": "code",
   "execution_count": 91,
   "metadata": {},
   "outputs": [
    {
     "data": {
      "text/plain": [
       "(9742, 100836)"
      ]
     },
     "execution_count": 91,
     "metadata": {},
     "output_type": "execute_result"
    }
   ],
   "source": [
    "df_movies_full.count(), df_ratings_full.count()"
   ]
  },
  {
   "cell_type": "code",
   "execution_count": 84,
   "metadata": {},
   "outputs": [
    {
     "data": {
      "text/plain": [
       "Row(movieId=1580, avg(movieId)=1580.0, avg(rating)=3.487878787878788)"
      ]
     },
     "execution_count": 84,
     "metadata": {},
     "output_type": "execute_result"
    }
   ],
   "source": [
    "df_ratings.groupBy(\"movieId\").mean().first()"
   ]
  },
  {
   "cell_type": "code",
   "execution_count": 46,
   "metadata": {},
   "outputs": [
    {
     "name": "stdout",
     "output_type": "stream",
     "text": [
      "+-------+-----------+\n",
      "|movieId|avg(rating)|\n",
      "+-------+-----------+\n",
      "|    496|        5.0|\n",
      "|    148|        5.0|\n",
      "+-------+-----------+\n",
      "only showing top 2 rows\n",
      "\n"
     ]
    }
   ],
   "source": [
    "\"\"\"\n",
    "Sorted averaged ratings\n",
    "\"\"\"\n",
    "\n",
    "df_ratings_avg = \\\n",
    "df_ratings.groupBy(\"movieId\").mean().sort(\"avg(rating)\", ascending=False)[[\"movieId\", \"avg(rating)\"]]\n",
    "\n",
    "df_ratings_avg.show(2)"
   ]
  },
  {
   "cell_type": "code",
   "execution_count": 49,
   "metadata": {},
   "outputs": [
    {
     "name": "stdout",
     "output_type": "stream",
     "text": [
      "Help on method join in module pyspark.sql.dataframe:\n",
      "\n",
      "join(other, on=None, how=None) method of pyspark.sql.dataframe.DataFrame instance\n",
      "    Joins with another :class:`DataFrame`, using the given join expression.\n",
      "    \n",
      "    :param other: Right side of the join\n",
      "    :param on: a string for the join column name, a list of column names,\n",
      "        a join expression (Column), or a list of Columns.\n",
      "        If `on` is a string or a list of strings indicating the name of the join column(s),\n",
      "        the column(s) must exist on both sides, and this performs an equi-join.\n",
      "    :param how: str, default ``inner``. Must be one of: ``inner``, ``cross``, ``outer``,\n",
      "        ``full``, ``full_outer``, ``left``, ``left_outer``, ``right``, ``right_outer``,\n",
      "        ``left_semi``, and ``left_anti``.\n",
      "    \n",
      "    The following performs a full outer join between ``df1`` and ``df2``.\n",
      "    \n",
      "    >>> df.join(df2, df.name == df2.name, 'outer').select(df.name, df2.height).collect()\n",
      "    [Row(name=None, height=80), Row(name='Bob', height=85), Row(name='Alice', height=None)]\n",
      "    \n",
      "    >>> df.join(df2, 'name', 'outer').select('name', 'height').collect()\n",
      "    [Row(name='Tom', height=80), Row(name='Bob', height=85), Row(name='Alice', height=None)]\n",
      "    \n",
      "    >>> cond = [df.name == df3.name, df.age == df3.age]\n",
      "    >>> df.join(df3, cond, 'outer').select(df.name, df3.age).collect()\n",
      "    [Row(name='Alice', age=2), Row(name='Bob', age=5)]\n",
      "    \n",
      "    >>> df.join(df2, 'name').select(df.name, df2.height).collect()\n",
      "    [Row(name='Bob', height=85)]\n",
      "    \n",
      "    >>> df.join(df4, ['name', 'age']).select(df.name, df.age).collect()\n",
      "    [Row(name='Bob', age=5)]\n",
      "    \n",
      "    .. versionadded:: 1.3\n",
      "\n"
     ]
    }
   ],
   "source": [
    "help(df_ratings_avg.join)"
   ]
  },
  {
   "cell_type": "code",
   "execution_count": 100,
   "metadata": {},
   "outputs": [
    {
     "name": "stdout",
     "output_type": "stream",
     "text": [
      "+-------+--------------+--------------------+--------------------+\n",
      "|movieId|rating_average|               title|              genres|\n",
      "+-------+--------------+--------------------+--------------------+\n",
      "|     53|           5.0|     Lamerica (1994)|     Adventure|Drama|\n",
      "|    496|           5.0|What Happened Was...|Comedy|Drama|Roma...|\n",
      "|   5513|           5.0|Martin Lawrence L...|  Comedy|Documentary|\n",
      "|  84273|           5.0|Zeitgeist: Moving...|         Documentary|\n",
      "| 113829|           5.0|One I Love, The (...|Comedy|Drama|Romance|\n",
      "| 142444|           5.0|   The Editor (2015)|Comedy|Horror|Mys...|\n",
      "| 147300|           5.0|Adventures Of She...|       Crime|Mystery|\n",
      "| 150554|           5.0| The Love Bug (1997)|Adventure|Childre...|\n",
      "| 152711|           5.0|Who Killed Chea V...|         Documentary|\n",
      "| 173963|           5.0|      Empties (2007)|              Comedy|\n",
      "+-------+--------------+--------------------+--------------------+\n",
      "\n"
     ]
    }
   ],
   "source": [
    "\"\"\"\n",
    "Fetch top 10 first, then join with movies\n",
    "\"\"\"\n",
    "\n",
    "top = 10\n",
    "\n",
    "df_ratings_top = df_ratings_avg.limit(top)\n",
    "\n",
    "df_top10 = df_ratings_top.join(df_movies_full, on=\"movieId\", how=\"inner\")\n",
    "df_top10 = df_top10.withColumnRenamed(\"avg(rating)\", \"rating_average\")\n",
    "df_top10.show()"
   ]
  },
  {
   "cell_type": "code",
   "execution_count": 101,
   "metadata": {},
   "outputs": [
    {
     "data": {
      "text/html": [
       "<div>\n",
       "<style scoped>\n",
       "    .dataframe tbody tr th:only-of-type {\n",
       "        vertical-align: middle;\n",
       "    }\n",
       "\n",
       "    .dataframe tbody tr th {\n",
       "        vertical-align: top;\n",
       "    }\n",
       "\n",
       "    .dataframe thead th {\n",
       "        text-align: right;\n",
       "    }\n",
       "</style>\n",
       "<table border=\"1\" class=\"dataframe\">\n",
       "  <thead>\n",
       "    <tr style=\"text-align: right;\">\n",
       "      <th></th>\n",
       "      <th>movieId</th>\n",
       "      <th>rating_average</th>\n",
       "      <th>title</th>\n",
       "      <th>genres</th>\n",
       "    </tr>\n",
       "  </thead>\n",
       "  <tbody>\n",
       "    <tr>\n",
       "      <th>0</th>\n",
       "      <td>53</td>\n",
       "      <td>5.0</td>\n",
       "      <td>Lamerica (1994)</td>\n",
       "      <td>Adventure|Drama</td>\n",
       "    </tr>\n",
       "    <tr>\n",
       "      <th>1</th>\n",
       "      <td>496</td>\n",
       "      <td>5.0</td>\n",
       "      <td>What Happened Was... (1994)</td>\n",
       "      <td>Comedy|Drama|Romance|Thriller</td>\n",
       "    </tr>\n",
       "    <tr>\n",
       "      <th>2</th>\n",
       "      <td>5513</td>\n",
       "      <td>5.0</td>\n",
       "      <td>Martin Lawrence Live: Runteldat (2002)</td>\n",
       "      <td>Comedy|Documentary</td>\n",
       "    </tr>\n",
       "    <tr>\n",
       "      <th>3</th>\n",
       "      <td>84273</td>\n",
       "      <td>5.0</td>\n",
       "      <td>Zeitgeist: Moving Forward (2011)</td>\n",
       "      <td>Documentary</td>\n",
       "    </tr>\n",
       "    <tr>\n",
       "      <th>4</th>\n",
       "      <td>113829</td>\n",
       "      <td>5.0</td>\n",
       "      <td>One I Love, The (2014)</td>\n",
       "      <td>Comedy|Drama|Romance</td>\n",
       "    </tr>\n",
       "    <tr>\n",
       "      <th>5</th>\n",
       "      <td>142444</td>\n",
       "      <td>5.0</td>\n",
       "      <td>The Editor (2015)</td>\n",
       "      <td>Comedy|Horror|Mystery</td>\n",
       "    </tr>\n",
       "    <tr>\n",
       "      <th>6</th>\n",
       "      <td>147300</td>\n",
       "      <td>5.0</td>\n",
       "      <td>Adventures Of Sherlock Holmes And Dr. Watson: ...</td>\n",
       "      <td>Crime|Mystery</td>\n",
       "    </tr>\n",
       "    <tr>\n",
       "      <th>7</th>\n",
       "      <td>150554</td>\n",
       "      <td>5.0</td>\n",
       "      <td>The Love Bug (1997)</td>\n",
       "      <td>Adventure|Children|Comedy|Fantasy</td>\n",
       "    </tr>\n",
       "    <tr>\n",
       "      <th>8</th>\n",
       "      <td>152711</td>\n",
       "      <td>5.0</td>\n",
       "      <td>Who Killed Chea Vichea? (2010)</td>\n",
       "      <td>Documentary</td>\n",
       "    </tr>\n",
       "    <tr>\n",
       "      <th>9</th>\n",
       "      <td>173963</td>\n",
       "      <td>5.0</td>\n",
       "      <td>Empties (2007)</td>\n",
       "      <td>Comedy</td>\n",
       "    </tr>\n",
       "  </tbody>\n",
       "</table>\n",
       "</div>"
      ],
      "text/plain": [
       "   movieId  rating_average                                              title  \\\n",
       "0       53             5.0                                    Lamerica (1994)   \n",
       "1      496             5.0                        What Happened Was... (1994)   \n",
       "2     5513             5.0             Martin Lawrence Live: Runteldat (2002)   \n",
       "3    84273             5.0                   Zeitgeist: Moving Forward (2011)   \n",
       "4   113829             5.0                             One I Love, The (2014)   \n",
       "5   142444             5.0                                  The Editor (2015)   \n",
       "6   147300             5.0  Adventures Of Sherlock Holmes And Dr. Watson: ...   \n",
       "7   150554             5.0                                The Love Bug (1997)   \n",
       "8   152711             5.0                     Who Killed Chea Vichea? (2010)   \n",
       "9   173963             5.0                                     Empties (2007)   \n",
       "\n",
       "                              genres  \n",
       "0                    Adventure|Drama  \n",
       "1      Comedy|Drama|Romance|Thriller  \n",
       "2                 Comedy|Documentary  \n",
       "3                        Documentary  \n",
       "4               Comedy|Drama|Romance  \n",
       "5              Comedy|Horror|Mystery  \n",
       "6                      Crime|Mystery  \n",
       "7  Adventure|Children|Comedy|Fantasy  \n",
       "8                        Documentary  \n",
       "9                             Comedy  "
      ]
     },
     "execution_count": 101,
     "metadata": {},
     "output_type": "execute_result"
    }
   ],
   "source": [
    "df_top10.toPandas()"
   ]
  },
  {
   "cell_type": "markdown",
   "metadata": {},
   "source": [
    "---"
   ]
  },
  {
   "cell_type": "code",
   "execution_count": 99,
   "metadata": {},
   "outputs": [
    {
     "name": "stdout",
     "output_type": "stream",
     "text": [
      "+-------+-----------+--------------------+--------------------+--------------+\n",
      "|movieId|avg(rating)|               title|              genres|rating_plus_10|\n",
      "+-------+-----------+--------------------+--------------------+--------------+\n",
      "|     53|        5.0|     Lamerica (1994)|     Adventure|Drama|          15.0|\n",
      "|    496|        5.0|What Happened Was...|Comedy|Drama|Roma...|          15.0|\n",
      "|   5513|        5.0|Martin Lawrence L...|  Comedy|Documentary|          15.0|\n",
      "|  84273|        5.0|Zeitgeist: Moving...|         Documentary|          15.0|\n",
      "| 113829|        5.0|One I Love, The (...|Comedy|Drama|Romance|          15.0|\n",
      "| 142444|        5.0|   The Editor (2015)|Comedy|Horror|Mys...|          15.0|\n",
      "| 147300|        5.0|Adventures Of She...|       Crime|Mystery|          15.0|\n",
      "| 150554|        5.0| The Love Bug (1997)|Adventure|Childre...|          15.0|\n",
      "| 152711|        5.0|Who Killed Chea V...|         Documentary|          15.0|\n",
      "| 173963|        5.0|      Empties (2007)|              Comedy|          15.0|\n",
      "+-------+-----------+--------------------+--------------------+--------------+\n",
      "\n"
     ]
    }
   ],
   "source": [
    "\"\"\"\n",
    "A way to create a new column and add some computation..\n",
    "\"\"\"\n",
    "\n",
    "df_top10.withColumn(\"rating_plus_10\", df_top10[\"avg(rating)\"] + 10).show()"
   ]
  },
  {
   "cell_type": "code",
   "execution_count": 93,
   "metadata": {},
   "outputs": [
    {
     "name": "stdout",
     "output_type": "stream",
     "text": [
      "+-------+--------------+--------------------+--------------------+\n",
      "|movieId|rating_average|               title|              genres|\n",
      "+-------+--------------+--------------------+--------------------+\n",
      "|     53|           5.0|     Lamerica (1994)|     Adventure|Drama|\n",
      "|    496|           5.0|What Happened Was...|Comedy|Drama|Roma...|\n",
      "|   5513|           5.0|Martin Lawrence L...|  Comedy|Documentary|\n",
      "|  84273|           5.0|Zeitgeist: Moving...|         Documentary|\n",
      "| 113829|           5.0|One I Love, The (...|Comedy|Drama|Romance|\n",
      "| 142444|           5.0|   The Editor (2015)|Comedy|Horror|Mys...|\n",
      "| 147300|           5.0|Adventures Of She...|       Crime|Mystery|\n",
      "| 150554|           5.0| The Love Bug (1997)|Adventure|Childre...|\n",
      "| 152711|           5.0|Who Killed Chea V...|         Documentary|\n",
      "| 173963|           5.0|      Empties (2007)|              Comedy|\n",
      "+-------+--------------+--------------------+--------------------+\n",
      "\n"
     ]
    }
   ],
   "source": [
    "\"\"\"\n",
    "Rename column\n",
    "\"\"\"\n",
    "\n",
    "df_top10.withColumnRenamed(\"avg(rating)\", \"rating_average\").show()"
   ]
  },
  {
   "cell_type": "code",
   "execution_count": 110,
   "metadata": {},
   "outputs": [
    {
     "name": "stdout",
     "output_type": "stream",
     "text": [
      "+------+-------+------+---------+\n",
      "|userId|movieId|rating|timestamp|\n",
      "+------+-------+------+---------+\n",
      "|     1|      1|   4.0|964982703|\n",
      "|     1|      3|   4.0|964981247|\n",
      "+------+-------+------+---------+\n",
      "only showing top 2 rows\n",
      "\n"
     ]
    }
   ],
   "source": [
    "\"\"\"\n",
    "Select all(*) columns\n",
    "\"\"\"\n",
    "df_ratings_full.select(\"*\").show(2)\n"
   ]
  },
  {
   "cell_type": "code",
   "execution_count": 111,
   "metadata": {},
   "outputs": [
    {
     "name": "stdout",
     "output_type": "stream",
     "text": [
      "+--------------+\n",
      "|rating_plus_10|\n",
      "+--------------+\n",
      "|          14.0|\n",
      "|          14.0|\n",
      "|          14.0|\n",
      "|          15.0|\n",
      "|          15.0|\n",
      "|          13.0|\n",
      "|          15.0|\n",
      "|          14.0|\n",
      "|          15.0|\n",
      "|          15.0|\n",
      "+--------------+\n",
      "only showing top 10 rows\n",
      "\n"
     ]
    }
   ],
   "source": [
    "\"\"\"\n",
    "Aliasing a column in .select()\n",
    "\"\"\"\n",
    "\n",
    "df_ratings_full.select((df_ratings_full.rating + 10).alias(\"rating_plus_10\")).show(10)"
   ]
  },
  {
   "cell_type": "code",
   "execution_count": null,
   "metadata": {},
   "outputs": [],
   "source": [
    "df_ratings_full.select(df_ratings_full.rating < 4.0).show(10)"
   ]
  },
  {
   "cell_type": "code",
   "execution_count": 113,
   "metadata": {},
   "outputs": [
    {
     "name": "stdout",
     "output_type": "stream",
     "text": [
      "+------+-------+------+---------+\n",
      "|userId|movieId|rating|timestamp|\n",
      "+------+-------+------+---------+\n",
      "|     1|     47|   5.0|964983815|\n",
      "|     1|     50|   5.0|964982931|\n",
      "+------+-------+------+---------+\n",
      "only showing top 2 rows\n",
      "\n"
     ]
    }
   ],
   "source": [
    "\"\"\"\n",
    "Filtering with..\n",
    ".filter(), .where()\n",
    "\n",
    ".where(): An alias for .filter()\n",
    "\"\"\"\n",
    "\n",
    "df_ratings_full.filter(df_ratings_full.rating > 4).show(2)"
   ]
  },
  {
   "cell_type": "code",
   "execution_count": 114,
   "metadata": {},
   "outputs": [
    {
     "name": "stdout",
     "output_type": "stream",
     "text": [
      "+------+-------+------+---------+\n",
      "|userId|movieId|rating|timestamp|\n",
      "+------+-------+------+---------+\n",
      "|     1|     47|   5.0|964983815|\n",
      "|     1|     50|   5.0|964982931|\n",
      "+------+-------+------+---------+\n",
      "only showing top 2 rows\n",
      "\n"
     ]
    }
   ],
   "source": [
    "\"\"\"\n",
    "Filtering with..\n",
    ".filter(), .where()\n",
    "\n",
    ".where(): An alias for .filter()\n",
    "\"\"\"\n",
    "\n",
    "df_ratings_full.where(df_ratings_full.rating > 4).show(2)"
   ]
  },
  {
   "cell_type": "code",
   "execution_count": 122,
   "metadata": {},
   "outputs": [
    {
     "name": "stdout",
     "output_type": "stream",
     "text": [
      "+------+-------+------+----------+\n",
      "|userId|movieId|rating| timestamp|\n",
      "+------+-------+------+----------+\n",
      "|     2|   8798|   3.5|1445714960|\n",
      "|     2|  91529|   3.5|1445714891|\n",
      "+------+-------+------+----------+\n",
      "only showing top 2 rows\n",
      "\n"
     ]
    }
   ],
   "source": [
    "\"\"\"\n",
    "Filtering with..\n",
    ".filter(), .where()\n",
    "\n",
    ".where(): An alias for .filter()\n",
    "\"\"\"\n",
    "\n",
    "df_ratings_full.filter((df_ratings_full.rating > 3) & (df_ratings_full.rating < 4)).show(2)"
   ]
  },
  {
   "cell_type": "code",
   "execution_count": 123,
   "metadata": {},
   "outputs": [
    {
     "name": "stdout",
     "output_type": "stream",
     "text": [
      "+------+-------+------+----------+\n",
      "|userId|movieId|rating| timestamp|\n",
      "+------+-------+------+----------+\n",
      "|     2|   8798|   3.5|1445714960|\n",
      "|     2|  91529|   3.5|1445714891|\n",
      "+------+-------+------+----------+\n",
      "only showing top 2 rows\n",
      "\n"
     ]
    }
   ],
   "source": [
    "\"\"\"\n",
    "Filtering with..\n",
    "Column construct\n",
    "\n",
    "Why? \n",
    "\"\"\"\n",
    "\n",
    "from pyspark.sql.functions import col\n",
    "\n",
    "df_ratings_full.filter((col(\"rating\") > 3) & (col(\"rating\") < 4)).show(2)"
   ]
  },
  {
   "cell_type": "code",
   "execution_count": 126,
   "metadata": {},
   "outputs": [
    {
     "name": "stdout",
     "output_type": "stream",
     "text": [
      "+------+-------+------+----------+\n",
      "|userId|movieId|rating| timestamp|\n",
      "+------+-------+------+----------+\n",
      "|     3|    720|   0.5|1306463595|\n",
      "|     3|   2424|   0.5|1306464293|\n",
      "|     3|    914|   0.5|1306463567|\n",
      "|     3|   1263|   0.5|1306463569|\n",
      "|     3|   2090|   0.5|1306464261|\n",
      "|     3|   1272|   0.5|1306463624|\n",
      "|     3|    647|   0.5|1306463619|\n",
      "|     3|   1302|   0.5|1306464189|\n",
      "|     3|     31|   0.5|1306463578|\n",
      "|     3|   2018|   0.5|1306464175|\n",
      "+------+-------+------+----------+\n",
      "only showing top 10 rows\n",
      "\n",
      "+------+-------+------+----------+\n",
      "|userId|movieId|rating| timestamp|\n",
      "+------+-------+------+----------+\n",
      "|     3|    720|   0.5|1306463595|\n",
      "|     3|   2424|   0.5|1306464293|\n",
      "|     3|    914|   0.5|1306463567|\n",
      "|     3|   1263|   0.5|1306463569|\n",
      "|     3|   2090|   0.5|1306464261|\n",
      "|     3|   1272|   0.5|1306463624|\n",
      "|     3|    647|   0.5|1306463619|\n",
      "|     3|   1302|   0.5|1306464189|\n",
      "|     3|     31|   0.5|1306463578|\n",
      "|     3|   2018|   0.5|1306464175|\n",
      "+------+-------+------+----------+\n",
      "only showing top 10 rows\n",
      "\n",
      "+------+-------+------+---------+\n",
      "|userId|movieId|rating|timestamp|\n",
      "+------+-------+------+---------+\n",
      "|     1|    216|   5.0|964981208|\n",
      "|     1|    457|   5.0|964981909|\n",
      "|     1|    231|   5.0|964981179|\n",
      "|     1|    157|   5.0|964984100|\n",
      "|     1|    163|   5.0|964983650|\n",
      "|     1|     47|   5.0|964983815|\n",
      "|     1|    260|   5.0|964981680|\n",
      "|     1|    101|   5.0|964980868|\n",
      "|     1|    333|   5.0|964981179|\n",
      "|     1|    362|   5.0|964982588|\n",
      "+------+-------+------+---------+\n",
      "only showing top 10 rows\n",
      "\n"
     ]
    }
   ],
   "source": [
    "\"\"\"\n",
    "SQL Functions\n",
    "Sorting\n",
    "\"\"\"\n",
    "\n",
    "from pyspark.sql.functions import col, asc, desc\n",
    "\n",
    "df_ratings_full.sort(\"rating\").show(10)  # Default: Ascending\n",
    "df_ratings_full.sort(col(\"rating\")).show(10)  # Default: Ascending\n",
    "\n",
    "df_ratings_full.sort(desc(\"rating\")).show(10)  # Default: Ascending\n"
   ]
  },
  {
   "cell_type": "code",
   "execution_count": 136,
   "metadata": {},
   "outputs": [
    {
     "name": "stdout",
     "output_type": "stream",
     "text": [
      "+-------+-------------+\n",
      "|movieId|count(userId)|\n",
      "+-------+-------------+\n",
      "|   1580|          165|\n",
      "|   2366|           25|\n",
      "+-------+-------------+\n",
      "only showing top 2 rows\n",
      "\n",
      "+-------+-------------+\n",
      "|movieId|total_ratings|\n",
      "+-------+-------------+\n",
      "|   1580|          165|\n",
      "|   2366|           25|\n",
      "+-------+-------------+\n",
      "only showing top 2 rows\n",
      "\n",
      "+-------+-----------------+\n",
      "|movieId|   rating_average|\n",
      "+-------+-----------------+\n",
      "|   1580|3.487878787878788|\n",
      "|   2366|             3.64|\n",
      "+-------+-----------------+\n",
      "only showing top 2 rows\n",
      "\n"
     ]
    }
   ],
   "source": [
    "\"\"\"\n",
    "SQL Functions\n",
    "Avg\n",
    "\"\"\"\n",
    "\n",
    "from pyspark.sql.functions import col, avg, count\n",
    "\n",
    "df_ratings_full.groupby(\"movieId\").agg(count(\"userId\")).show(2)\n",
    "\n",
    "(\n",
    "    df_ratings_full\n",
    "    .groupby(\"movieId\")\n",
    "    .agg(count(\"userId\")).withColumnRenamed(\"count(userId)\", \"total_ratings\")\n",
    "    .show(2)\n",
    ")\n",
    "\n",
    "(\n",
    "    df_ratings_full\n",
    "    .groupby(\"movieId\")\n",
    "    .agg(avg(\"rating\")).withColumnRenamed(\"avg(rating)\", \"rating_average\")\n",
    "    .show(2)\n",
    ")"
   ]
  },
  {
   "cell_type": "code",
   "execution_count": 145,
   "metadata": {},
   "outputs": [
    {
     "name": "stdout",
     "output_type": "stream",
     "text": [
      "+-------+------------+\n",
      "|movieId|rating_count|\n",
      "+-------+------------+\n",
      "|   1580|         165|\n",
      "|   2366|          25|\n",
      "+-------+------------+\n",
      "only showing top 2 rows\n",
      "\n"
     ]
    }
   ],
   "source": [
    "(\n",
    "    df_ratings_full[[\"movieId\", \"rating\"]]\n",
    "    .groupby(\"movieId\")\n",
    "    .agg(count(\"rating\")).withColumnRenamed(\"count(rating)\", \"rating_count\")\n",
    ").show(2)"
   ]
  },
  {
   "cell_type": "code",
   "execution_count": 149,
   "metadata": {},
   "outputs": [
    {
     "name": "stdout",
     "output_type": "stream",
     "text": [
      "+-------+--------------+\n",
      "|movieId|rating_average|\n",
      "+-------+--------------+\n",
      "| 173963|           5.0|\n",
      "|  84273|           5.0|\n",
      "+-------+--------------+\n",
      "only showing top 2 rows\n",
      "\n"
     ]
    }
   ],
   "source": [
    "df_ratings_4up_top10 = \\\n",
    "(\n",
    "    df_ratings_full[[\"movieId\", \"rating\"]]\n",
    "    .groupby(\"movieId\")\n",
    "#     .agg(count(\"rating\")).withColumnRenamed(\"count(rating)\", \"rating_count\")\n",
    "    .agg(avg(\"rating\")).withColumnRenamed(\"avg(rating)\", \"rating_average\")\n",
    "    .filter(col(\"rating_average\") >= 4)\n",
    "    .sort(desc(\"rating_average\"))\n",
    "    .limit(10)\n",
    ")\n",
    "\n",
    "df_ratings_4up_top10.show(2)"
   ]
  },
  {
   "cell_type": "code",
   "execution_count": 151,
   "metadata": {},
   "outputs": [
    {
     "name": "stdout",
     "output_type": "stream",
     "text": [
      "+-------+--------------+--------------------+--------------------+\n",
      "|movieId|rating_average|               title|              genres|\n",
      "+-------+--------------+--------------------+--------------------+\n",
      "|     53|           5.0|     Lamerica (1994)|     Adventure|Drama|\n",
      "|    496|           5.0|What Happened Was...|Comedy|Drama|Roma...|\n",
      "|   5513|           5.0|Martin Lawrence L...|  Comedy|Documentary|\n",
      "|  84273|           5.0|Zeitgeist: Moving...|         Documentary|\n",
      "| 113829|           5.0|One I Love, The (...|Comedy|Drama|Romance|\n",
      "| 147300|           5.0|Adventures Of She...|       Crime|Mystery|\n",
      "| 150554|           5.0| The Love Bug (1997)|Adventure|Childre...|\n",
      "| 152711|           5.0|Who Killed Chea V...|         Documentary|\n",
      "| 157775|           5.0|Tenchi Muyô! In L...|    Animation|Comedy|\n",
      "| 173963|           5.0|      Empties (2007)|              Comedy|\n",
      "+-------+--------------+--------------------+--------------------+\n",
      "\n"
     ]
    }
   ],
   "source": [
    "(\n",
    "    df_ratings_4up_top10\n",
    "    .join(\n",
    "        df_movies_full,\n",
    "        df_ratings_4up_top10.movieId == df_movies_full.movieId\n",
    "    ).select(df_ratings_4up_top10.movieId, \"rating_average\", \"title\", \"genres\")  # Select only one of movieID columns\n",
    ").show()"
   ]
  },
  {
   "cell_type": "code",
   "execution_count": 154,
   "metadata": {},
   "outputs": [
    {
     "data": {
      "text/plain": [
       "['userId', 'movieId', 'rating', 'timestamp']"
      ]
     },
     "execution_count": 154,
     "metadata": {},
     "output_type": "execute_result"
    }
   ],
   "source": [
    "df_ratings_full.columns"
   ]
  },
  {
   "cell_type": "code",
   "execution_count": 158,
   "metadata": {},
   "outputs": [
    {
     "name": "stdout",
     "output_type": "stream",
     "text": [
      "+-------+-------------+---------------+\n",
      "|movieId|total_ratings|ratings_average|\n",
      "+-------+-------------+---------------+\n",
      "| 173963|            1|            5.0|\n",
      "|  84273|            1|            5.0|\n",
      "+-------+-------------+---------------+\n",
      "only showing top 2 rows\n",
      "\n"
     ]
    }
   ],
   "source": [
    "\"\"\"\n",
    "SQL Functions\n",
    "Multiple aggregates\n",
    "\"\"\"\n",
    "\n",
    "df_top_movie_ratings = \\\n",
    "(\n",
    "    df_ratings_full[[\"movieId\", \"userId\", \"rating\"]]\n",
    "    .groupby(\"movieId\")\n",
    "    .agg(count(\"userId\").alias(\"total_ratings\"),\n",
    "         avg(\"rating\").alias(\"ratings_average\")\n",
    "        )\n",
    "    .filter(col(\"ratings_average\") >= 4)\n",
    "    .sort(desc(\"ratings_average\"))\n",
    "    .limit(10)\n",
    ")\n",
    "df_top_movie_ratings.show(2)"
   ]
  },
  {
   "cell_type": "code",
   "execution_count": 166,
   "metadata": {},
   "outputs": [
    {
     "name": "stdout",
     "output_type": "stream",
     "text": [
      "+-------+-------------+---------------+--------------------+--------------------+\n",
      "|movieId|total_ratings|ratings_average|               title|              genres|\n",
      "+-------+-------------+---------------+--------------------+--------------------+\n",
      "|     53|            2|            5.0|     Lamerica (1994)|     Adventure|Drama|\n",
      "|    496|            1|            5.0|What Happened Was...|Comedy|Drama|Roma...|\n",
      "|   5513|            1|            5.0|Martin Lawrence L...|  Comedy|Documentary|\n",
      "|  84273|            1|            5.0|Zeitgeist: Moving...|         Documentary|\n",
      "| 113829|            1|            5.0|One I Love, The (...|Comedy|Drama|Romance|\n",
      "| 147300|            1|            5.0|Adventures Of She...|       Crime|Mystery|\n",
      "| 150554|            1|            5.0| The Love Bug (1997)|Adventure|Childre...|\n",
      "| 152711|            1|            5.0|Who Killed Chea V...|         Documentary|\n",
      "| 157775|            1|            5.0|Tenchi Muyô! In L...|    Animation|Comedy|\n",
      "| 173963|            1|            5.0|      Empties (2007)|              Comedy|\n",
      "+-------+-------------+---------------+--------------------+--------------------+\n",
      "\n"
     ]
    }
   ],
   "source": [
    "df_top_movies = \\\n",
    "(\n",
    "    df_top_movie_ratings\n",
    "    .join(\n",
    "        df_movies_full,\n",
    "        df_top_movie_ratings.movieId == df_movies_full.movieId\n",
    "    ).select(df_ratings_4up_top10.movieId, \"total_ratings\", \"ratings_average\", \"title\", \"genres\")\n",
    ")\n",
    "df_top_movies.show()"
   ]
  },
  {
   "cell_type": "code",
   "execution_count": 164,
   "metadata": {},
   "outputs": [],
   "source": [
    "!mkdir output"
   ]
  },
  {
   "cell_type": "code",
   "execution_count": 165,
   "metadata": {},
   "outputs": [
    {
     "name": "stdout",
     "output_type": "stream",
     "text": [
      " Volume in drive C has no label.\n",
      " Volume Serial Number is A88C-3222\n",
      "\n",
      " Directory of C:\\Users\\Administrator\\veena\\bigdata\n",
      "\n",
      "05/12/2021  02:20 AM    <DIR>          output\n",
      "               0 File(s)              0 bytes\n",
      "               1 Dir(s)  449,088,106,496 bytes free\n"
     ]
    }
   ],
   "source": [
    "!dir out*"
   ]
  },
  {
   "cell_type": "code",
   "execution_count": 169,
   "metadata": {},
   "outputs": [
    {
     "ename": "SyntaxError",
     "evalue": "(unicode error) 'unicodeescape' codec can't decode bytes in position 101-102: truncated \\uXXXX escape (<ipython-input-169-2721d8c2b5cf>, line 7)",
     "output_type": "error",
     "traceback": [
      "\u001b[1;36m  File \u001b[1;32m\"<ipython-input-169-2721d8c2b5cf>\"\u001b[1;36m, line \u001b[1;32m7\u001b[0m\n\u001b[1;33m    \"\"\"\u001b[0m\n\u001b[1;37m      ^\u001b[0m\n\u001b[1;31mSyntaxError\u001b[0m\u001b[1;31m:\u001b[0m (unicode error) 'unicodeescape' codec can't decode bytes in position 101-102: truncated \\uXXXX escape\n"
     ]
    }
   ],
   "source": [
    "\"\"\"\n",
    "Writing to a file (locally)\n",
    "\n",
    "Create 'output' folder\n",
    "Opend cmd-line\n",
    "Run: winutils.exe chmod -R 777 C:\\users\\Administrator\\veena\\bigdata\\output\n",
    "\"\"\"\n",
    "\n",
    "df_top_movies.write.mode(\"overwrite\").option(\"encoding\", \"utf-16\").csv(\"output/Top_10_Movies_by_UserRatings.csv\")"
   ]
  },
  {
   "cell_type": "code",
   "execution_count": 171,
   "metadata": {},
   "outputs": [],
   "source": [
    "df_top_movies.toPandas().to_csv(\"output/Top_10_Movies_by_UserRatings.csv\", index=False)"
   ]
  }
 ],
 "metadata": {
  "kernelspec": {
   "display_name": "Python 3",
   "language": "python",
   "name": "python3"
  },
  "language_info": {
   "codemirror_mode": {
    "name": "ipython",
    "version": 3
   },
   "file_extension": ".py",
   "mimetype": "text/x-python",
   "name": "python",
   "nbconvert_exporter": "python",
   "pygments_lexer": "ipython3",
   "version": "3.7.7"
  }
 },
 "nbformat": 4,
 "nbformat_minor": 4
}
