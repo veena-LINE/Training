{
 "cells": [
  {
   "cell_type": "code",
   "execution_count": 1,
   "metadata": {},
   "outputs": [],
   "source": [
    "import findspark\n",
    "findspark.init()\n"
   ]
  },
  {
   "cell_type": "code",
   "execution_count": 2,
   "metadata": {},
   "outputs": [],
   "source": [
    "import pyspark\n",
    "\n",
    "\n",
    "from pyspark.sql import SparkSession\n",
    "spark = SparkSession.builder.master(\"local[1]\")\\\n",
    "                            .appName(\"SparkStreamingKafkaBasic\").getOrCreate()\n",
    "\n"
   ]
  },
  {
   "cell_type": "code",
   "execution_count": 3,
   "metadata": {},
   "outputs": [],
   "source": [
    "# read from kafka, here spark is consumer for kafka topic called invoices\n",
    "# spark streaming works as dataframe/sql\n",
    "kafkaDf = spark.readStream.format(\"kafka\")\\\n",
    "  .option(\"kafka.bootstrap.servers\", \"192.168.93.128:9092\")\\\n",
    "  .option(\"subscribe\", \"invoices\")\\\n",
    "  .load()\n",
    " \n",
    "    "
   ]
  },
  {
   "cell_type": "code",
   "execution_count": 4,
   "metadata": {},
   "outputs": [
    {
     "name": "stdout",
     "output_type": "stream",
     "text": [
      "root\n",
      " |-- key: binary (nullable = true)\n",
      " |-- value: binary (nullable = true)\n",
      " |-- topic: string (nullable = true)\n",
      " |-- partition: integer (nullable = true)\n",
      " |-- offset: long (nullable = true)\n",
      " |-- timestamp: timestamp (nullable = true)\n",
      " |-- timestampType: integer (nullable = true)\n",
      "\n"
     ]
    }
   ],
   "source": [
    "# .show/print will not work directily due to stream..\n",
    "# linesDf.show() # worn't work\n",
    "kafkaDf.printSchema() # works\n",
    "\n",
    "# key is kafka key, in binary format\n",
    "# value is kafka value, in binary format\n",
    "# topic string\n",
    "# parition, integer\n",
    "# offer long \n",
    "# timestamp - longint in ms\n",
    "# timestampType - Source Time, Record write time"
   ]
  },
  {
   "cell_type": "code",
   "execution_count": 5,
   "metadata": {},
   "outputs": [
    {
     "name": "stdout",
     "output_type": "stream",
     "text": [
      "root\n",
      " |-- value: string (nullable = true)\n",
      "\n"
     ]
    }
   ],
   "source": [
    "# now convert kafka value which is in bytes to STRING, we ignore the key for now...\n",
    "# now we pick only value from the stream..\n",
    "invoiceJsonRawDf = kafkaDf.selectExpr(\"CAST(value AS STRING)\")\n",
    "invoiceJsonRawDf.printSchema() # we get only value as string"
   ]
  },
  {
   "cell_type": "code",
   "execution_count": 6,
   "metadata": {},
   "outputs": [],
   "source": [
    "import pyspark.sql.functions as F\n",
    "from pyspark.sql.types import StructField, StructType, IntegerType, StringType, DoubleType, DateType\n",
    "# json is object, spark DF needs schema \n",
    "\n",
    "schema = StructType(\n",
    "        [\n",
    "            StructField(\"InvoiceNo\", IntegerType(), True),\n",
    "            StructField(\"StockCode\", StringType(), True),\n",
    "            StructField(\"Quantity\", IntegerType(), True),\n",
    "            StructField(\"Description\", StringType(), True),\n",
    "            StructField(\"InvoiceDate\", StringType(), True),\n",
    "            #StructField(\"InvoiceDate\", DateType(), True),\n",
    "            StructField(\"UnitPrice\", DoubleType(), True),\n",
    "            StructField(\"CustomerID\", IntegerType(), True),\n",
    "            StructField(\"Country\", StringType(), True),\n",
    "        ]\n",
    ")\n",
    "\n",
    "#{\"InvoiceNo\": 495774, \"StockCode\": \"84406G\", \"Quantity\": 2, \"Description\": \"TODO\", \"InvoiceDate\": \"05/22/2021 00:36\", \"UnitPrice\": 2.0, \"CustomerID\": 17850, \"Country\": \"AT\"}\n",
    "\n",
    "# replacing json string with a json object with schema\n",
    "# now value is a column, it contains a struct\n",
    "jsonDf = invoiceJsonRawDf.withColumn(\"value\", F.from_json(\"value\", schema))\n",
    "\n",
    "# now we will extract value which struct type ewith all schema field mention, to specific columns\n",
    "#InvoiceNo, StockCode, ....\n",
    "invoiceDf = jsonDf.select(F.col(\"value.*\")) "
   ]
  },
  {
   "cell_type": "code",
   "execution_count": 7,
   "metadata": {},
   "outputs": [],
   "source": [
    "# # to print the data on console..\n",
    "# # read the data send by nc command from linux terminal, print it on Jupyter console\n",
    "# echoOnconsole = invoiceDf\\\n",
    "#                 .writeStream\\\n",
    "#                 .outputMode(\"append\")\\\n",
    "#                 .format(\"console\")\\\n",
    "#                 .start() # start the query. spark will subscribe for data"
   ]
  },
  {
   "cell_type": "code",
   "execution_count": 8,
   "metadata": {},
   "outputs": [],
   "source": [
    "# filteredDf = invoiceDf.filter(\"Quantity >= 6\") \n",
    "# echoOnconsole = filteredDf\\\n",
    "#                 .writeStream\\\n",
    "#                 .outputMode(\"append\")\\\n",
    "#                 .format(\"console\")\\\n",
    "#                 .start() # start the query. spark will subscribe for data"
   ]
  },
  {
   "cell_type": "code",
   "execution_count": 9,
   "metadata": {},
   "outputs": [],
   "source": [
    "# # .groupBy() count [unique quantities]\n",
    "# filteredDf = invoiceDf.groupBy(\"InvoiceNo\") .count()\n",
    "# echoOnconsole = filteredDf\\\n",
    "#                 .writeStream\\\n",
    "#                 .outputMode(\"complete\")\\\n",
    "#                 .format(\"console\")\\\n",
    "#                 .start() # start the query. spark will subscribe for data"
   ]
  },
  {
   "cell_type": "code",
   "execution_count": null,
   "metadata": {},
   "outputs": [],
   "source": [
    "# How much money earned in the last 60s?\n",
    "filteredDf = (\n",
    "    invoiceDf\n",
    "    .withColumn(\"Amount\", F.col(\"Quantity\")*F.col(\"UnitPrice\"))\n",
    "    .groupBy(F.window())\n",
    ")\n",
    "\n",
    "echoOnconsole = filteredDf\\\n",
    "                .writeStream\\\n",
    "                .outputMode(\"complete\")\\\n",
    "                .format(\"console\")\\\n",
    "                .start() # start the query. spark will subscribe for data"
   ]
  },
  {
   "cell_type": "code",
   "execution_count": 10,
   "metadata": {},
   "outputs": [],
   "source": [
    "# echoOnconsole.awaitTermination()"
   ]
  }
 ],
 "metadata": {
  "kernelspec": {
   "display_name": "Python 3",
   "language": "python",
   "name": "python3"
  },
  "language_info": {
   "codemirror_mode": {
    "name": "ipython",
    "version": 3
   },
   "file_extension": ".py",
   "mimetype": "text/x-python",
   "name": "python",
   "nbconvert_exporter": "python",
   "pygments_lexer": "ipython3",
   "version": "3.7.7"
  }
 },
 "nbformat": 4,
 "nbformat_minor": 4
}
