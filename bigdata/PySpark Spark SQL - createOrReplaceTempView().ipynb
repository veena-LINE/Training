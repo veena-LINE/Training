{
 "cells": [
  {
   "cell_type": "markdown",
   "metadata": {},
   "source": [
    "Spark SQL, DFs, are APIs.\n",
    "<br>They talk to Spark's core written in Java\n"
   ]
  },
  {
   "cell_type": "code",
   "execution_count": 1,
   "metadata": {},
   "outputs": [],
   "source": [
    "import findspark\n",
    "findspark.init()"
   ]
  },
  {
   "cell_type": "code",
   "execution_count": 3,
   "metadata": {},
   "outputs": [],
   "source": [
    "\"\"\"\n",
    "Configure before creating SparkSession\n",
    "\"\"\"\n",
    "\n",
    "from pyspark.conf import SparkConf\n",
    "\n",
    "config = SparkConf()\n",
    "conf = \\\n",
    "(\n",
    "    config\n",
    "    .setMaster(\"spark://192.168.11.77:7077\").setAppName(\"SparkSQL:CLUSTER\")\n",
    "    .set(\"spark.executor.memory\", \"2g\")\n",
    "    .set(\"spark.executor.cores\", 4)\n",
    "    .set(\"spark.cores.max\", 4)\n",
    "    .set(\"spark.driver.memory\", \"2g\")\n",
    ")"
   ]
  },
  {
   "cell_type": "code",
   "execution_count": 4,
   "metadata": {},
   "outputs": [],
   "source": [
    "from pyspark.sql import SparkSession\n",
    "\n",
    "ss = SparkSession.builder.config(conf=conf).getOrCreate()"
   ]
  },
  {
   "cell_type": "markdown",
   "metadata": {},
   "source": [
    "---"
   ]
  },
  {
   "cell_type": "code",
   "execution_count": 7,
   "metadata": {},
   "outputs": [],
   "source": [
    "from pyspark.sql.types import StructType, IntegerType, DoubleType, StringType, LongType\n",
    "\n",
    "schema_movies = (\n",
    "    StructType()\n",
    "    .add(\"movieId\", IntegerType(), True)\n",
    "    .add(\"title\", StringType(), True)\n",
    "    .add(\"genres\", StringType(), True)\n",
    ")\n",
    "schema_ratings = (\n",
    "    StructType()\n",
    "    .add(\"userId\", IntegerType(), True)\n",
    "    .add(\"movieId\", IntegerType(), True)\n",
    "    .add(\"rating\", DoubleType(), True)\n",
    "    .add(\"timestamp\", LongType(), True)\n",
    ")\n",
    "\n",
    "df_movies_full = (\n",
    "    ss.read\n",
    "    .format(\"csv\")\n",
    "    .option(\"header\", True)\n",
    "    .schema(schema_movies)\n",
    "    .load(\"hdfs://192.168.93.128:9000/input/movie_lens/movies.csv\")\n",
    ")\n",
    "\n",
    "df_ratings_full = (\n",
    "    ss.read\n",
    "    .format(\"csv\")\n",
    "    .option(\"header\", True)\n",
    "    .schema(schema_ratings)\n",
    "    .load(\"hdfs://192.168.93.128:9000/input/movie_lens/ratings.csv\")\n",
    ")"
   ]
  },
  {
   "cell_type": "code",
   "execution_count": 10,
   "metadata": {},
   "outputs": [],
   "source": [
    "\"\"\"\n",
    "DF should be regustered as a Spark SQL View\n",
    "\n",
    "Register..\n",
    "Create a temprorary view called \"movies\"\n",
    "Create a temprorary view called \"ratings\"\n",
    "\"\"\"\n",
    "\n",
    "df_movies_full.createOrReplaceTempView(\"movies\")\n",
    "df_ratings_full.createOrReplaceTempView(\"ratings\")\n"
   ]
  },
  {
   "cell_type": "code",
   "execution_count": 12,
   "metadata": {},
   "outputs": [
    {
     "name": "stdout",
     "output_type": "stream",
     "text": [
      "+-------+--------------------+--------------------+\n",
      "|movieId|               title|              genres|\n",
      "+-------+--------------------+--------------------+\n",
      "|      1|    Toy Story (1995)|Adventure|Animati...|\n",
      "|      2|      Jumanji (1995)|Adventure|Childre...|\n",
      "|      3|Grumpier Old Men ...|      Comedy|Romance|\n",
      "|      4|Waiting to Exhale...|Comedy|Drama|Romance|\n",
      "+-------+--------------------+--------------------+\n",
      "only showing top 4 rows\n",
      "\n"
     ]
    }
   ],
   "source": [
    "\"\"\"\n",
    "Querying via ss.sql returns a DF\n",
    "\n",
    "\"\"\"\n",
    "\n",
    "df_movies = ss.sql(\"SELECT * FROM movies\")\n",
    "df_movies.show(4)"
   ]
  },
  {
   "cell_type": "code",
   "execution_count": 14,
   "metadata": {},
   "outputs": [
    {
     "name": "stdout",
     "output_type": "stream",
     "text": [
      "root\n",
      " |-- movieId: integer (nullable = true)\n",
      " |-- title: string (nullable = true)\n",
      " |-- genres: string (nullable = true)\n",
      "\n"
     ]
    },
    {
     "data": {
      "text/plain": [
       "(None,\n",
       " StructType(List(StructField(movieId,IntegerType,true),StructField(title,StringType,true),StructField(genres,StringType,true))))"
      ]
     },
     "execution_count": 14,
     "metadata": {},
     "output_type": "execute_result"
    }
   ],
   "source": [
    "df_movies.printSchema(), df_movies.schema"
   ]
  },
  {
   "cell_type": "code",
   "execution_count": 19,
   "metadata": {},
   "outputs": [
    {
     "name": "stdout",
     "output_type": "stream",
     "text": [
      "+-------+----------------+--------------------+\n",
      "|movieId|           title|              genres|\n",
      "+-------+----------------+--------------------+\n",
      "|      1|Toy Story (1995)|Adventure|Animati...|\n",
      "|      2|  Jumanji (1995)|Adventure|Childre...|\n",
      "+-------+----------------+--------------------+\n",
      "only showing top 2 rows\n",
      "\n"
     ]
    }
   ],
   "source": [
    "df_movies.select(\"*\").show(2)"
   ]
  },
  {
   "cell_type": "code",
   "execution_count": 24,
   "metadata": {},
   "outputs": [
    {
     "name": "stdout",
     "output_type": "stream",
     "text": [
      "+------+-------+------+---------+\n",
      "|userId|movieId|rating|timestamp|\n",
      "+------+-------+------+---------+\n",
      "|     1|      1|   4.0|964982703|\n",
      "|     1|      3|   4.0|964981247|\n",
      "+------+-------+------+---------+\n",
      "only showing top 2 rows\n",
      "\n",
      "+-------+------+\n",
      "|movieId|rating|\n",
      "+-------+------+\n",
      "|      1|   4.0|\n",
      "|      3|   4.0|\n",
      "+-------+------+\n",
      "only showing top 2 rows\n",
      "\n",
      "+---+------------------------------+\n",
      "| id|(rating + CAST(0.3 AS DOUBLE))|\n",
      "+---+------------------------------+\n",
      "|  1|                           4.3|\n",
      "|  3|                           4.3|\n",
      "+---+------------------------------+\n",
      "only showing top 2 rows\n",
      "\n",
      "+-------+------+\n",
      "|movieId|rating|\n",
      "+-------+------+\n",
      "|     47|   5.0|\n",
      "|     50|   5.0|\n",
      "+-------+------+\n",
      "only showing top 2 rows\n",
      "\n"
     ]
    }
   ],
   "source": [
    "show_n = 2\n",
    "ss.sql(\"SELECT * FROM ratings\").show(show_n)\n",
    "ss.sql(\"SELECT movieId, rating FROM ratings\").show(show_n)\n",
    "ss.sql(\"SELECT movieId AS id, rating + .3 FROM ratings\").show(show_n)\n",
    "ss.sql(\"SELECT movieId, rating FROM ratings WHERE rating > 4\").show(show_n)"
   ]
  },
  {
   "cell_type": "code",
   "execution_count": 25,
   "metadata": {},
   "outputs": [
    {
     "name": "stdout",
     "output_type": "stream",
     "text": [
      "+-------+------+-------------+\n",
      "|movieId|rating|count(rating)|\n",
      "+-------+------+-------------+\n",
      "|    457|   5.0|           46|\n",
      "|   3052|   5.0|           11|\n",
      "+-------+------+-------------+\n",
      "only showing top 2 rows\n",
      "\n"
     ]
    }
   ],
   "source": [
    "ss.sql(\"\"\"\n",
    "SELECT movieId, rating, COUNT(rating)\n",
    "  FROM ratings\n",
    " WHERE rating > 4\n",
    " GROUP BY 1, 2\n",
    "\"\"\").show(show_n)\n"
   ]
  },
  {
   "cell_type": "code",
   "execution_count": 30,
   "metadata": {},
   "outputs": [
    {
     "name": "stdout",
     "output_type": "stream",
     "text": [
      "+-------+--------------------+--------------------+--------------------+---------+----------+\n",
      "|movieId|         title_upper|         title_lower|          title_init|title_len| title_sub|\n",
      "+-------+--------------------+--------------------+--------------------+---------+----------+\n",
      "|      1|    TOY STORY (1995)|    toy story (1995)|    Toy Story (1995)|       16|Toy Story |\n",
      "|      2|      JUMANJI (1995)|      jumanji (1995)|      Jumanji (1995)|       14|Jumanji (1|\n",
      "|      3|GRUMPIER OLD MEN ...|grumpier old men ...|Grumpier Old Men ...|       23|Grumpier O|\n",
      "|      4|WAITING TO EXHALE...|waiting to exhale...|Waiting To Exhale...|       24|Waiting to|\n",
      "|      5|FATHER OF THE BRI...|father of the bri...|Father Of The Bri...|       34|Father of |\n",
      "|      6|         HEAT (1995)|         heat (1995)|         Heat (1995)|       11|Heat (1995|\n",
      "|      7|      SABRINA (1995)|      sabrina (1995)|      Sabrina (1995)|       14|Sabrina (1|\n",
      "|      8| TOM AND HUCK (1995)| tom and huck (1995)| Tom And Huck (1995)|       19|Tom and Hu|\n",
      "|      9| SUDDEN DEATH (1995)| sudden death (1995)| Sudden Death (1995)|       19|Sudden Dea|\n",
      "|     10|    GOLDENEYE (1995)|    goldeneye (1995)|    Goldeneye (1995)|       16|GoldenEye |\n",
      "+-------+--------------------+--------------------+--------------------+---------+----------+\n",
      "\n"
     ]
    }
   ],
   "source": [
    "\"\"\"\n",
    "SQL Indexing begins at 1\n",
    "\"\"\"\n",
    "\n",
    "ss.sql(\"\"\"\n",
    "SELECT movieId,\n",
    "       UPPER(title) AS title_upper,\n",
    "       LOWER(title) AS title_lower,\n",
    "       INITCAP(title) AS title_init,\n",
    "       LENGTH(title) title_len,\n",
    "       SUBSTR(title, 1, 10) AS title_sub\n",
    "  FROM movies\n",
    " LIMIT 10\n",
    "\"\"\").show()\n"
   ]
  },
  {
   "cell_type": "code",
   "execution_count": 35,
   "metadata": {},
   "outputs": [
    {
     "name": "stdout",
     "output_type": "stream",
     "text": [
      "+-------+--------------------+---------+----------+--------------+---------------+\n",
      "|movieId|               title|title_len| title_sub|title_sub_left|title_sub_right|\n",
      "+-------+--------------------+---------+----------+--------------+---------------+\n",
      "|      1|    Toy Story (1995)|       16|Toy Story |          Toy |           995)|\n",
      "|      2|      Jumanji (1995)|       14|Jumanji (1|          Juma|           995)|\n",
      "|      3|Grumpier Old Men ...|       23|Grumpier O|          Grum|           995)|\n",
      "|      4|Waiting to Exhale...|       24|Waiting to|          Wait|           995)|\n",
      "|      5|Father of the Bri...|       34|Father of |          Fath|           995)|\n",
      "|      6|         Heat (1995)|       11|Heat (1995|          Heat|           995)|\n",
      "|      7|      Sabrina (1995)|       14|Sabrina (1|          Sabr|           995)|\n",
      "|      8| Tom and Huck (1995)|       19|Tom and Hu|          Tom |           995)|\n",
      "|      9| Sudden Death (1995)|       19|Sudden Dea|          Sudd|           995)|\n",
      "|     10|    GoldenEye (1995)|       16|GoldenEye |          Gold|           995)|\n",
      "+-------+--------------------+---------+----------+--------------+---------------+\n",
      "\n"
     ]
    }
   ],
   "source": [
    "ss.sql(\"\"\"\n",
    "SELECT movieId,\n",
    "       title,\n",
    "       LENGTH(title) AS title_len,\n",
    "       SUBSTR(title, 1, 10) AS title_sub,\n",
    "       LEFT(title, 4) AS title_sub_left,\n",
    "       RIGHT(title, 4) AS title_sub_right\n",
    "  FROM movies\n",
    " LIMIT 10\n",
    "\"\"\").show()\n"
   ]
  },
  {
   "cell_type": "code",
   "execution_count": 36,
   "metadata": {},
   "outputs": [
    {
     "name": "stdout",
     "output_type": "stream",
     "text": [
      "+-------+------+------------+\n",
      "|movieId|rating|rating_total|\n",
      "+-------+------+------------+\n",
      "|    318|   5.0|         153|\n",
      "|    260|   5.0|         104|\n",
      "+-------+------+------------+\n",
      "only showing top 2 rows\n",
      "\n"
     ]
    }
   ],
   "source": [
    "ss.sql(\"\"\"\n",
    "SELECT movieId, rating, COUNT(rating) AS rating_total\n",
    "  FROM ratings\n",
    " WHERE rating > 4\n",
    " GROUP BY 1, 2\n",
    "HAVING rating_total > 100\n",
    "\"\"\").show(show_n)\n"
   ]
  },
  {
   "cell_type": "code",
   "execution_count": 39,
   "metadata": {},
   "outputs": [
    {
     "name": "stdout",
     "output_type": "stream",
     "text": [
      "+-------+-----------------+------------+\n",
      "|movieId|       rating_avg|rating_total|\n",
      "+-------+-----------------+------------+\n",
      "|    260|          4.90625|         128|\n",
      "|    110|4.896039603960396|         101|\n",
      "+-------+-----------------+------------+\n",
      "only showing top 2 rows\n",
      "\n"
     ]
    }
   ],
   "source": [
    "ss.sql(\"\"\"\n",
    "SELECT movieId, AVG(rating) AS rating_avg, COUNT(rating) AS rating_total\n",
    "  FROM ratings\n",
    " WHERE rating > 4\n",
    " GROUP BY 1\n",
    "HAVING rating_total >= 100\n",
    " ORDER BY 2 DESC\n",
    "\"\"\").show(show_n)"
   ]
  },
  {
   "cell_type": "code",
   "execution_count": 40,
   "metadata": {},
   "outputs": [],
   "source": [
    "df_temp_movies = \\\n",
    "ss.sql(\"\"\"\n",
    "SELECT movieId, AVG(rating) AS rating_avg, COUNT(rating) AS rating_total\n",
    "  FROM ratings\n",
    " WHERE rating > 4\n",
    " GROUP BY 1\n",
    "HAVING rating_total >= 100\n",
    " ORDER BY 2 DESC\n",
    "\"\"\")"
   ]
  },
  {
   "cell_type": "code",
   "execution_count": 41,
   "metadata": {},
   "outputs": [
    {
     "name": "stdout",
     "output_type": "stream",
     "text": [
      "== Parsed Logical Plan ==\n",
      "'Sort [2 DESC NULLS LAST], true\n",
      "+- 'UnresolvedHaving ('rating_total >= 100)\n",
      "   +- 'Aggregate [1], ['movieId, 'AVG('rating) AS rating_avg#513, 'COUNT('rating) AS rating_total#514]\n",
      "      +- 'Filter ('rating > 4)\n",
      "         +- 'UnresolvedRelation `ratings`\n",
      "\n",
      "== Analyzed Logical Plan ==\n",
      "movieId: int, rating_avg: double, rating_total: bigint\n",
      "Sort [rating_avg#513 DESC NULLS LAST], true\n",
      "+- Filter (rating_total#514L >= cast(100 as bigint))\n",
      "   +- Aggregate [movieId#7], [movieId#7, avg(rating#8) AS rating_avg#513, count(rating#8) AS rating_total#514L]\n",
      "      +- Filter (rating#8 > cast(4 as double))\n",
      "         +- SubqueryAlias `ratings`\n",
      "            +- Relation[userId#6,movieId#7,rating#8,timestamp#9L] csv\n",
      "\n",
      "== Optimized Logical Plan ==\n",
      "Sort [rating_avg#513 DESC NULLS LAST], true\n",
      "+- Filter (rating_total#514L >= 100)\n",
      "   +- Aggregate [movieId#7], [movieId#7, avg(rating#8) AS rating_avg#513, count(rating#8) AS rating_total#514L]\n",
      "      +- Project [movieId#7, rating#8]\n",
      "         +- Filter (isnotnull(rating#8) && (rating#8 > 4.0))\n",
      "            +- Relation[userId#6,movieId#7,rating#8,timestamp#9L] csv\n",
      "\n",
      "== Physical Plan ==\n",
      "*(3) Sort [rating_avg#513 DESC NULLS LAST], true, 0\n",
      "+- Exchange rangepartitioning(rating_avg#513 DESC NULLS LAST, 200)\n",
      "   +- *(2) Filter (rating_total#514L >= 100)\n",
      "      +- *(2) HashAggregate(keys=[movieId#7], functions=[avg(rating#8), count(rating#8)], output=[movieId#7, rating_avg#513, rating_total#514L])\n",
      "         +- Exchange hashpartitioning(movieId#7, 200)\n",
      "            +- *(1) HashAggregate(keys=[movieId#7], functions=[partial_avg(rating#8), partial_count(rating#8)], output=[movieId#7, sum#527, count#528L, count#529L])\n",
      "               +- *(1) Project [movieId#7, rating#8]\n",
      "                  +- *(1) Filter (isnotnull(rating#8) && (rating#8 > 4.0))\n",
      "                     +- *(1) FileScan csv [movieId#7,rating#8] Batched: false, Format: CSV, Location: InMemoryFileIndex[hdfs://192.168.93.128:9000/input/movie_lens/ratings.csv], PartitionFilters: [], PushedFilters: [IsNotNull(rating), GreaterThan(rating,4.0)], ReadSchema: struct<movieId:int,rating:double>\n"
     ]
    }
   ],
   "source": [
    "df_temp_movies.explain(True)"
   ]
  },
  {
   "cell_type": "markdown",
   "metadata": {},
   "source": [
    "---"
   ]
  },
  {
   "cell_type": "code",
   "execution_count": 42,
   "metadata": {},
   "outputs": [],
   "source": [
    "df_temp_movies = \\\n",
    "ss.sql(\"\"\"\n",
    "SELECT r.movieId, AVG(r.rating) AS rating_avg, COUNT(r.rating) AS rating_total\n",
    "  FROM ratings AS r\n",
    " WHERE r.rating > 4\n",
    " GROUP BY 1\n",
    "HAVING rating_total >= 100\n",
    " ORDER BY 2 DESC\n",
    "\"\"\")"
   ]
  },
  {
   "cell_type": "code",
   "execution_count": 43,
   "metadata": {},
   "outputs": [
    {
     "name": "stdout",
     "output_type": "stream",
     "text": [
      "== Parsed Logical Plan ==\n",
      "'Sort [2 DESC NULLS LAST], true\n",
      "+- 'UnresolvedHaving ('rating_total >= 100)\n",
      "   +- 'Aggregate [1], ['r.movieId, 'AVG('r.rating) AS rating_avg#530, 'COUNT('r.rating) AS rating_total#531]\n",
      "      +- 'Filter ('r.rating > 4)\n",
      "         +- 'SubqueryAlias `r`\n",
      "            +- 'UnresolvedRelation `ratings`\n",
      "\n",
      "== Analyzed Logical Plan ==\n",
      "movieId: int, rating_avg: double, rating_total: bigint\n",
      "Sort [rating_avg#530 DESC NULLS LAST], true\n",
      "+- Filter (rating_total#531L >= cast(100 as bigint))\n",
      "   +- Aggregate [movieId#7], [movieId#7, avg(rating#8) AS rating_avg#530, count(rating#8) AS rating_total#531L]\n",
      "      +- Filter (rating#8 > cast(4 as double))\n",
      "         +- SubqueryAlias `r`\n",
      "            +- SubqueryAlias `ratings`\n",
      "               +- Relation[userId#6,movieId#7,rating#8,timestamp#9L] csv\n",
      "\n",
      "== Optimized Logical Plan ==\n",
      "Sort [rating_avg#530 DESC NULLS LAST], true\n",
      "+- Filter (rating_total#531L >= 100)\n",
      "   +- Aggregate [movieId#7], [movieId#7, avg(rating#8) AS rating_avg#530, count(rating#8) AS rating_total#531L]\n",
      "      +- Project [movieId#7, rating#8]\n",
      "         +- Filter (isnotnull(rating#8) && (rating#8 > 4.0))\n",
      "            +- Relation[userId#6,movieId#7,rating#8,timestamp#9L] csv\n",
      "\n",
      "== Physical Plan ==\n",
      "*(3) Sort [rating_avg#530 DESC NULLS LAST], true, 0\n",
      "+- Exchange rangepartitioning(rating_avg#530 DESC NULLS LAST, 200)\n",
      "   +- *(2) Filter (rating_total#531L >= 100)\n",
      "      +- *(2) HashAggregate(keys=[movieId#7], functions=[avg(rating#8), count(rating#8)], output=[movieId#7, rating_avg#530, rating_total#531L])\n",
      "         +- Exchange hashpartitioning(movieId#7, 200)\n",
      "            +- *(1) HashAggregate(keys=[movieId#7], functions=[partial_avg(rating#8), partial_count(rating#8)], output=[movieId#7, sum#544, count#545L, count#546L])\n",
      "               +- *(1) Project [movieId#7, rating#8]\n",
      "                  +- *(1) Filter (isnotnull(rating#8) && (rating#8 > 4.0))\n",
      "                     +- *(1) FileScan csv [movieId#7,rating#8] Batched: false, Format: CSV, Location: InMemoryFileIndex[hdfs://192.168.93.128:9000/input/movie_lens/ratings.csv], PartitionFilters: [], PushedFilters: [IsNotNull(rating), GreaterThan(rating,4.0)], ReadSchema: struct<movieId:int,rating:double>\n"
     ]
    }
   ],
   "source": [
    "df_temp_movies.explain(True)"
   ]
  },
  {
   "cell_type": "markdown",
   "metadata": {},
   "source": [
    "----\n",
    "\n",
    "Delete below"
   ]
  },
  {
   "cell_type": "markdown",
   "metadata": {},
   "source": [
    "---"
   ]
  },
  {
   "cell_type": "code",
   "execution_count": null,
   "metadata": {},
   "outputs": [],
   "source": [
    "\"\"\"\n",
    "Writing to a file (locally)\n",
    "\n",
    "Create 'output' folder\n",
    "Opend cmd-line\n",
    "Run: winutils.exe chmod -R 777 C:\\users\\Administrator\\veena\\bigdata\\output\n",
    "\"\"\"\n",
    "\n",
    "# df_top_movies.write.mode(\"overwrite\").csv(\"output/Top_10_Movies_by_UserRatings.csv\")"
   ]
  },
  {
   "cell_type": "code",
   "execution_count": null,
   "metadata": {},
   "outputs": [],
   "source": [
    "df_top_movies.toPandas().to_csv(\"output/Top_10_Movies_by_UserRatings.csv\", index=False)"
   ]
  }
 ],
 "metadata": {
  "kernelspec": {
   "display_name": "Python 3",
   "language": "python",
   "name": "python3"
  },
  "language_info": {
   "codemirror_mode": {
    "name": "ipython",
    "version": 3
   },
   "file_extension": ".py",
   "mimetype": "text/x-python",
   "name": "python",
   "nbconvert_exporter": "python",
   "pygments_lexer": "ipython3",
   "version": "3.7.7"
  }
 },
 "nbformat": 4,
 "nbformat_minor": 4
}
