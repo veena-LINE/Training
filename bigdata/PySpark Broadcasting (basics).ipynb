{
 "cells": [
  {
   "cell_type": "code",
   "execution_count": 1,
   "metadata": {},
   "outputs": [],
   "source": [
    "import findspark\n",
    "findspark.init()"
   ]
  },
  {
   "cell_type": "code",
   "execution_count": 2,
   "metadata": {},
   "outputs": [],
   "source": [
    "from pyspark import SparkContext\n",
    "sc = SparkContext(\"local[1]\", \"BROADCAST\")\n",
    "sc.setLogLevel(\"WARN\")"
   ]
  },
  {
   "cell_type": "code",
   "execution_count": 3,
   "metadata": {},
   "outputs": [
    {
     "data": {
      "text/plain": [
       "(pyspark.broadcast.Broadcast, pyspark.broadcast.Broadcast)"
      ]
     },
     "execution_count": 3,
     "metadata": {},
     "output_type": "execute_result"
    }
   ],
   "source": [
    "# MASTER DATA\n",
    "\n",
    "# Create Broadcast variable in the Driver program\n",
    "# .broadcast() broadcasts it to all nodes\n",
    "\n",
    "category = sc.broadcast([\"Mobile\", \"Tablet\", \"PC\"])\n",
    "states = sc.broadcast([\"CA\", \"WA\", \"NY\", \"WI\", \"WY\", \"TX\", \"DC\"])\n",
    "\n",
    "type(category), type(states)"
   ]
  },
  {
   "cell_type": "code",
   "execution_count": 4,
   "metadata": {},
   "outputs": [
    {
     "data": {
      "text/plain": [
       "['Mobile', 'Tablet', 'PC']"
      ]
     },
     "execution_count": 4,
     "metadata": {},
     "output_type": "execute_result"
    }
   ],
   "source": [
    "# Access broadcast value\n",
    "category.value"
   ]
  },
  {
   "cell_type": "markdown",
   "metadata": {},
   "source": [
    "___"
   ]
  },
  {
   "cell_type": "code",
   "execution_count": null,
   "metadata": {},
   "outputs": [],
   "source": [
    "\"\"\"\n",
    "On a cluster, this global variable (x) won't be avaiable as this is initialized in the Driver only.\n",
    "How do you access across a cluster? Broadcast [SEE NEXT CODE CELL]\n",
    "\"\"\"\n",
    "\n",
    "x = 10\n",
    "\n",
    "rdd = sc.parallelize(range(1, 10))\n",
    "rdd.map(lambda n: n*x).collect()"
   ]
  },
  {
   "cell_type": "code",
   "execution_count": 10,
   "metadata": {},
   "outputs": [
    {
     "data": {
      "text/plain": [
       "[10, 20, 30, 40, 50, 60, 70, 80, 90]"
      ]
     },
     "execution_count": 10,
     "metadata": {},
     "output_type": "execute_result"
    }
   ],
   "source": [
    "\"\"\"\n",
    "x is now broadcast to all worker nodes.\n",
    "\"\"\"\n",
    "x = sc.broadcast(10)\n",
    "\n",
    "rdd = sc.parallelize(range(1, 10))\n",
    "rdd.map(lambda n: n*x.value).collect()"
   ]
  }
 ],
 "metadata": {
  "kernelspec": {
   "display_name": "Python 3",
   "language": "python",
   "name": "python3"
  },
  "language_info": {
   "codemirror_mode": {
    "name": "ipython",
    "version": 3
   },
   "file_extension": ".py",
   "mimetype": "text/x-python",
   "name": "python",
   "nbconvert_exporter": "python",
   "pygments_lexer": "ipython3",
   "version": "3.7.7"
  }
 },
 "nbformat": 4,
 "nbformat_minor": 4
}
