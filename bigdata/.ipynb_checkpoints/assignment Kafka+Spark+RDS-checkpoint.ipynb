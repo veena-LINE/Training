{
 "cells": [
  {
   "cell_type": "markdown",
   "metadata": {},
   "source": [
    "# Kafka / Spark Streaming Assessment\n",
    "\n",
    "Following is my VINSYS id: bigdata10\n",
    "<br>I have attached the code path for each question. Please find it below.\n",
    "\n",
    "__Abstract__\n",
    "<br>The assessment is based on Spark + Kafka, basic Python, streaming of records, performing a real time analytics using On Premise Kafka and Spark.\n",
    "<br>Total 3 assessments."
   ]
  },
  {
   "cell_type": "markdown",
   "metadata": {},
   "source": [
    "## Implement a Kafka + Spark Integration.\n",
    "|Column|Type|Description|\n",
    "|:--|:--|:--|\n",
    "|order_id|Integer|random number, use random generator to generate id upto 100000|\n",
    "|item_id|String|random number, use random generator to generate id up to 100, convert to string|\n",
    "|price|Int|Random generator value from 1 to 50|\n",
    "|qty|Int|Random generator, 1 to 10|\n",
    "|state|String|User state, use USA statecodes, pick random state on every publish|"
   ]
  },
  {
   "cell_type": "markdown",
   "metadata": {},
   "source": [
    "<a id=\"root\"></a>\n",
    "# Q1\n",
    "Implement a Kafka producer in Python, which implements a custom serializer for JSON, produce order data with below attributes to Kafka topic\n",
    "<br>[“orders”, with partition 4, 1 replication]\n",
    "\n",
    "\n",
    "# Q2\n",
    "Implement a Spark Stream, that subscribes to data from Kafka topic “orders” [on step 1] and sums the amount [price * qty] based on state, on every 5 minutes window interval.\n",
    "<br>The result shall be published to Kafka with (state, amount).\n",
    "<br>For example, if the customers ordered 10 items from NY and CO, with in last 5 minutes, then we will sum all items purchased on NY [sum (item.qty * item.price)] and CO [sum (item.qty * item.price)]\n",
    "\n",
    "a. publish the consolidated output [State name, Amount] to Kafka topic [“statewise_earning”] in json format.\n",
    "\n",
    "b. Publish the consolidated output [State name, Amount] to Amazon RDS table using JDBC in append mode\n",
    "\n",
    "\n",
    "# Q3\n",
    "Implement a Kafka consumer in Python which subscribe from “statewise_earning” on step 2, which implements a custom deseriliazer, consumes data from kafka in json format and print the content "
   ]
  },
  {
   "cell_type": "markdown",
   "metadata": {},
   "source": [
    "---"
   ]
  },
  {
   "cell_type": "markdown",
   "metadata": {},
   "source": [
    "### [Run ZooKeeper + Kafka Broker](#root)\n",
    "```bash\n",
    "# --> (new terminal) Run Zookeeper: runs on port 2181\n",
    "ssh ubuntu@192.168.93.128\n",
    "zookeeper-server-start.sh $KAFKA_HOME/config/zookeeper.properties\n",
    "\n",
    "# --> (new terminal) Run Kafka Broker: runs on port 9092\n",
    "ssh ubuntu@192.168.93.128\n",
    "kafka-server-start.sh $KAFKA_HOME/config/server.properties\n",
    "```"
   ]
  },
  {
   "cell_type": "markdown",
   "metadata": {},
   "source": [
    "---"
   ]
  },
  {
   "cell_type": "markdown",
   "metadata": {},
   "source": [
    "### [Create Topic](#root)\n",
    "```bash\n",
    "# Assuming $KAFKA_HOME/bin is available, run..\n",
    "\n",
    "ubuntu@ubuntuvm:~$ kafka-topics.sh --create --bootstrap-server localhost:9092 --replication-factor 1 --partitions 1 --topic orders\n",
    "Created topic orders.\n",
    "\n",
    "ubuntu@ubuntuvm:~$ kafka-topics.sh --list --bootstrap-server localhost:9092\n",
    "__consumer_offsets\n",
    "orders\n",
    "\n",
    "ubuntu@ubuntuvm:~$ kafka-topics.sh --describe --bootstrap-server localhost:9092 --topic orders\n",
    "Topic: orders   TopicId: 2WfpDtBeQGaOiKEkB7N88A PartitionCount: 1       ReplicationFactor: 1    Configs: segment.bytes=1073741824\n",
    "        Topic: orders   Partition: 0    Leader: 0       Replicas: 0     Isr: 0\n",
    "\n",
    "ubuntu@ubuntuvm:~$\n",
    "```"
   ]
  }
 ],
 "metadata": {
  "kernelspec": {
   "display_name": "Python 3",
   "language": "python",
   "name": "python3"
  },
  "language_info": {
   "codemirror_mode": {
    "name": "ipython",
    "version": 3
   },
   "file_extension": ".py",
   "mimetype": "text/x-python",
   "name": "python",
   "nbconvert_exporter": "python",
   "pygments_lexer": "ipython3",
   "version": "3.7.7"
  }
 },
 "nbformat": 4,
 "nbformat_minor": 4
}
