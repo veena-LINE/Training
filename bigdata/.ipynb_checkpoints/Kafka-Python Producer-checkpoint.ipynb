{
 "cells": [
  {
   "cell_type": "markdown",
   "metadata": {},
   "source": [
    "# Requirement\n",
    "\n",
    "Refer Kafka-Python.ipynb"
   ]
  },
  {
   "cell_type": "markdown",
   "metadata": {},
   "source": [
    "# Create Topic\n",
    "```bash\n",
    "kafka-topics.sh --create --bootstrap-server localhost:9092 --replication-factor 1 --partitions 1 --topic transactions\n",
    "kafka-topics.sh --list --bootstrap-server localhost:9092\n",
    "kafka-topics.sh --describe --bootstrap-server localhost:9092 --topic transactions\n",
    "```"
   ]
  },
  {
   "cell_type": "code",
   "execution_count": 1,
   "metadata": {},
   "outputs": [],
   "source": [
    "from kafka import KafkaProducer\n",
    "from kafka.errors import KafkaError"
   ]
  },
  {
   "cell_type": "code",
   "execution_count": 2,
   "metadata": {},
   "outputs": [],
   "source": [
    "topic = 'transactions'"
   ]
  },
  {
   "cell_type": "code",
   "execution_count": 3,
   "metadata": {},
   "outputs": [],
   "source": [
    "# BROKER runs on Linux\n",
    "producer = KafkaProducer(bootstrap_servers=['192.168.93.128:9092'])"
   ]
  },
  {
   "cell_type": "code",
   "execution_count": 8,
   "metadata": {},
   "outputs": [
    {
     "name": "stdout",
     "output_type": "stream",
     "text": [
      "topic transactions\n",
      "partition 0\n",
      "offset 3\n"
     ]
    }
   ],
   "source": [
    "# Send message\n",
    "future = producer.send(topic, b'Welcome to Kafka from Jupyter')\n",
    "# Check CONSUMER console\n",
    "\n",
    "\n",
    "try:\n",
    "    record_metadata = future.get(timeout=10)  # Get ACK from broker\n",
    "except NoBrokerAvailable:\n",
    "    print(\"Broker isn't running!\")\n",
    "except KafkaError:\n",
    "    log.exception()  # What will you do if it times out?\n",
    "\n",
    "\n",
    "# Successful result returns assigned partition, offset, etc\n",
    "print(\"topic\", record_metadata.topic)\n",
    "print(\"partition\", record_metadata.partition)\n",
    "print(\"offset\",record_metadata.offset)"
   ]
  },
  {
   "cell_type": "code",
   "execution_count": 10,
   "metadata": {},
   "outputs": [
    {
     "name": "stdout",
     "output_type": "stream",
     "text": [
      "offset 5\n"
     ]
    }
   ],
   "source": [
    "future = producer.send(topic, b'Welcome to Kafka again!')\n",
    "\n",
    "try:\n",
    "    record_metadata = future.get(timeout=10)\n",
    "except NoBrokerAvailable:\n",
    "    print(\"Broker isn't running!\")\n",
    "except KafkaError:\n",
    "    log.exception()\n",
    "\n",
    "print(\"offset\",record_metadata.offset)"
   ]
  },
  {
   "cell_type": "code",
   "execution_count": 11,
   "metadata": {},
   "outputs": [
    {
     "name": "stdout",
     "output_type": "stream",
     "text": [
      "offset 6\n"
     ]
    }
   ],
   "source": [
    "future = producer.send(topic, b'Read this again!!')\n",
    "\n",
    "try:\n",
    "    record_metadata = future.get(timeout=10)\n",
    "except NoBrokerAvailable:\n",
    "    print(\"Broker isn't running!\")\n",
    "except KafkaError:\n",
    "    log.exception()\n",
    "\n",
    "print(\"offset\",record_metadata.offset)"
   ]
  },
  {
   "cell_type": "code",
   "execution_count": 12,
   "metadata": {},
   "outputs": [
    {
     "name": "stdout",
     "output_type": "stream",
     "text": [
      "offset 8\n"
     ]
    }
   ],
   "source": [
    "future = producer.send(topic, b'Good Luck!!')\n",
    "\n",
    "try:\n",
    "    record_metadata = future.get(timeout=10)\n",
    "except NoBrokerAvailable:\n",
    "    print(\"Broker isn't running!\")\n",
    "except KafkaError:\n",
    "    log.exception()\n",
    "\n",
    "print(\"offset\",record_metadata.offset)"
   ]
  }
 ],
 "metadata": {
  "kernelspec": {
   "display_name": "Python 3",
   "language": "python",
   "name": "python3"
  },
  "language_info": {
   "codemirror_mode": {
    "name": "ipython",
    "version": 3
   },
   "file_extension": ".py",
   "mimetype": "text/x-python",
   "name": "python",
   "nbconvert_exporter": "python",
   "pygments_lexer": "ipython3",
   "version": "3.7.7"
  }
 },
 "nbformat": 4,
 "nbformat_minor": 4
}
