{
 "cells": [
  {
   "cell_type": "markdown",
   "metadata": {},
   "source": [
    "# <a id=\"root\">Business questions?</a>\n",
    ">Use [`e-commerce dataset`](https://www.kaggle.com/carrie1/ecommerce-data) to answer the following business questions:\n",
    "<br><br>1.\tUsing Data Frame, find out the [top 10 countries where people have spent more money on retail store](#1) on whole data set from starting date to ending date. Output to Hadoop as csv to location `/output/top-10-countries` directory\n",
    "<br><br>2.\tUsing Data Frame, find out [Total Quantities of Items sold per StockCode per month](#2), write the output to the HDFS table.\n",
    "<br><br>3.\tUsing Spark SQL, what's the [monthly turnover of the store?](#3)\n",
    "<br><br>4.\tUsing Spark SQL, find out [monthly turnover of the each stock sold.](#4)"
   ]
  },
  {
   "cell_type": "markdown",
   "metadata": {},
   "source": [
    "<br>\n",
    "\n",
    "## SparkSession Setup"
   ]
  },
  {
   "cell_type": "markdown",
   "metadata": {},
   "source": [
    ">__Run Spark Cluster Master/Workers__\n",
    "```bash\n",
    "spark-class org.apache.spark.deploy.master.Master  # 1\n",
    "spark-class org.apache.spark.deploy.worker.Worker spark://192.168.11.77:7077  # 2\n",
    "```\n",
    "<br>__Register Cluster Master with Spark Driver__\n",
    "```bash\n",
    "pyspark --master spark://192.168.11.77:7077 --executor-memory 2G --executor-cores 2 --num-executors 2\n",
    "```"
   ]
  },
  {
   "cell_type": "code",
   "execution_count": 1,
   "metadata": {},
   "outputs": [],
   "source": [
    "import findspark\n",
    "findspark.init()"
   ]
  },
  {
   "cell_type": "code",
   "execution_count": 2,
   "metadata": {},
   "outputs": [],
   "source": [
    "\"\"\"\n",
    "SparkSession conf\n",
    "\"\"\"\n",
    "\n",
    "from pyspark.conf import SparkConf\n",
    "\n",
    "config = SparkConf()\n",
    "conf = \\\n",
    "(\n",
    "    config\n",
    "    .setMaster(\"spark://192.168.11.77:7077\").setAppName(\"E-COMMERCE:CLUSTER\")\n",
    "    .set(\"spark.executor.memory\", \"2g\")\n",
    "    .set(\"spark.executor.cores\", 4)\n",
    "    .set(\"spark.cores.max\", 4)\n",
    "    .set(\"spark.driver.memory\", \"2g\")\n",
    ")"
   ]
  },
  {
   "cell_type": "code",
   "execution_count": 3,
   "metadata": {},
   "outputs": [],
   "source": [
    "\"\"\"\n",
    "SparkSession\n",
    "\"\"\"\n",
    "\n",
    "from pyspark.sql import SparkSession\n",
    "\n",
    "ss = (\n",
    "    SparkSession\n",
    "    .builder\n",
    "    .config(conf=conf)\n",
    "    .getOrCreate()\n",
    ")"
   ]
  },
  {
   "cell_type": "markdown",
   "metadata": {},
   "source": [
    "<br><br>\n",
    "\n",
    "## Read e-commerce data"
   ]
  },
  {
   "cell_type": "code",
   "execution_count": 4,
   "metadata": {},
   "outputs": [],
   "source": [
    "\"\"\"\n",
    "Read CSV from HDFS\n",
    "\"\"\"\n",
    "\n",
    "import datetime as dt\n",
    "import pyspark.sql.functions as F\n",
    "from pyspark.sql.types import StructType, IntegerType, DoubleType, StringType, DateType\n",
    "from pyspark.sql.functions import col, asc, desc, count, sum, avg, to_date\n",
    "\n",
    "\n",
    "schema_ecomm = (\n",
    "    StructType()\n",
    "    .add(\"InvoiceNo\", StringType(), True)\n",
    "    .add(\"StockCode\", StringType(), True)\n",
    "    .add(\"Description\", StringType(), True)\n",
    "    .add(\"Quantity\", IntegerType(), True)\n",
    "    .add(\"InvoiceDate\", DateType(), True)\n",
    "    .add(\"UnitPrice\", DoubleType(), True)\n",
    "    .add(\"CustomerId\", StringType(), True)\n",
    "    .add(\"Country\", StringType(), True)\n",
    ")\n",
    "\n",
    "df_ecomm_full = (\n",
    "    ss.read\n",
    "    .format(\"csv\")\n",
    "    .option(\"header\", True)\n",
    "    .option(\"dateFormat\", \"MM/dd/yyyy HH:mm\")\n",
    "    .schema(schema_ecomm)\n",
    "    .load(\"hdfs://192.168.93.128:9000/input/e-commerce/data.csv\")\n",
    ")\n",
    "\n",
    "\n",
    "\"\"\"\n",
    "DROP un-necessary data/columns by choosing only what's necessary\n",
    "\"\"\"\n",
    "df_ecomm = df_ecomm_full[[\"InvoiceNo\", \"StockCode\", \"Country\", \"CustomerId\", \"Quantity\", \"UnitPrice\", \"InvoiceDate\"]]"
   ]
  },
  {
   "cell_type": "code",
   "execution_count": 5,
   "metadata": {},
   "outputs": [
    {
     "name": "stdout",
     "output_type": "stream",
     "text": [
      "root\n",
      " |-- InvoiceNo: string (nullable = true)\n",
      " |-- StockCode: string (nullable = true)\n",
      " |-- Description: string (nullable = true)\n",
      " |-- Quantity: integer (nullable = true)\n",
      " |-- InvoiceDate: date (nullable = true)\n",
      " |-- UnitPrice: double (nullable = true)\n",
      " |-- CustomerId: string (nullable = true)\n",
      " |-- Country: string (nullable = true)\n",
      "\n"
     ]
    }
   ],
   "source": [
    "df_ecomm_full.printSchema()"
   ]
  },
  {
   "cell_type": "code",
   "execution_count": 6,
   "metadata": {},
   "outputs": [
    {
     "name": "stdout",
     "output_type": "stream",
     "text": [
      "+---------+---------+--------------------+--------+-----------+---------+----------+--------------+\n",
      "|InvoiceNo|StockCode|         Description|Quantity|InvoiceDate|UnitPrice|CustomerId|       Country|\n",
      "+---------+---------+--------------------+--------+-----------+---------+----------+--------------+\n",
      "|   536365|   85123A|WHITE HANGING HEA...|       6| 2010-12-01|     2.55|     17850|United Kingdom|\n",
      "|   536365|    71053| WHITE METAL LANTERN|       6| 2010-12-01|     3.39|     17850|United Kingdom|\n",
      "+---------+---------+--------------------+--------+-----------+---------+----------+--------------+\n",
      "only showing top 2 rows\n",
      "\n"
     ]
    }
   ],
   "source": [
    "df_ecomm_full.show(2)"
   ]
  },
  {
   "cell_type": "code",
   "execution_count": 7,
   "metadata": {},
   "outputs": [
    {
     "name": "stdout",
     "output_type": "stream",
     "text": [
      "+---------+---------+--------+---------+----------+--------------+------------+----+-----+------------------+\n",
      "|InvoiceNo|StockCode|Quantity|UnitPrice|CustomerId|       Country|Invoice_Date|Year|Month|             Sales|\n",
      "+---------+---------+--------+---------+----------+--------------+------------+----+-----+------------------+\n",
      "|   536365|   85123A|       6|     2.55|     17850|United Kingdom|  2010-12-01|2010|   12|15.299999999999999|\n",
      "+---------+---------+--------+---------+----------+--------------+------------+----+-----+------------------+\n",
      "only showing top 1 row\n",
      "\n"
     ]
    }
   ],
   "source": [
    "df_ecomm_full = (\n",
    "    df_ecomm_full\n",
    "    .withColumn(\"Invoice_Date\", F.to_date(col(\"InvoiceDate\"), \"dd/MM/yyyy\"))\n",
    "    .withColumn(\"Year\", F.year(\"Invoice_Date\"))\n",
    "    .withColumn(\"Month\", F.month(\"Invoice_Date\"))\n",
    "    .drop(\"InvoiceDate\", \"Description\")\n",
    "    .withColumn(\"Sales\", col(\"Quantity\") * col(\"UnitPrice\"))\n",
    ")\n",
    "df_ecomm_full.show(1)"
   ]
  },
  {
   "cell_type": "markdown",
   "metadata": {},
   "source": [
    "<br><br>\n",
    "\n",
    "## <a id=\"1\">[Top 10 countries by date/sales](#root)</a>"
   ]
  },
  {
   "cell_type": "code",
   "execution_count": 8,
   "metadata": {},
   "outputs": [],
   "source": [
    "show_n = 10"
   ]
  },
  {
   "cell_type": "code",
   "execution_count": 9,
   "metadata": {
    "scrolled": false
   },
   "outputs": [
    {
     "name": "stdout",
     "output_type": "stream",
     "text": [
      "+------------+--------------+------------------+----+\n",
      "|Invoice_Date|       Country|        TotalSales|rank|\n",
      "+------------+--------------+------------------+----+\n",
      "|  2010-12-01|United Kingdom| 54615.15000000007|   1|\n",
      "|  2010-12-01|        Norway|1919.1400000000008|   2|\n",
      "|  2010-12-01|        France|            855.86|   3|\n",
      "|  2010-12-01|          EIRE| 555.3799999999999|   4|\n",
      "|  2010-12-01|     Australia|            358.25|   5|\n",
      "|  2010-12-01|   Netherlands|192.60000000000002|   6|\n",
      "|  2010-12-01|       Germany|139.18000000000004|   7|\n",
      "|  2010-12-02|United Kingdom| 46053.92999999993|   1|\n",
      "|  2010-12-02|       Germany|138.35000000000002|   2|\n",
      "|  2010-12-02|          EIRE|              15.0|   3|\n",
      "+------------+--------------+------------------+----+\n",
      "only showing top 10 rows\n",
      "\n"
     ]
    }
   ],
   "source": [
    "from pyspark.sql.window import Window\n",
    "\n",
    "df_ecomm = df_ecomm_full[[\"Country\", \"Invoice_Date\", \"Sales\"]]\n",
    "\n",
    "df_top10_sales_date = (\n",
    "    df_ecomm\n",
    "    .groupby([df_ecomm.Invoice_Date, df_ecomm.Country])\n",
    "    .sum()\n",
    "    .withColumnRenamed(\"sum(Sales)\", \"TotalSales\")\n",
    ")\n",
    "\n",
    "\n",
    "window = (\n",
    "    Window.partitionBy(df_top10_sales_date.Invoice_Date)\n",
    "    .orderBy(df_top10_sales_date.TotalSales.desc())\n",
    ")\n",
    "\n",
    "\n",
    "df_top10_sales_date = (\n",
    "    df_top10_sales_date\n",
    "    .select(\"*\", F.rank().over(window).alias(\"rank\"))\n",
    "    .filter(col(\"rank\") <= 10)\n",
    "    .sort(F.asc(\"Invoice_Date\"), F.desc(\"TotalSales\"))\n",
    ")\n",
    "\n",
    "df_top10_sales_date.show(show_n)"
   ]
  },
  {
   "cell_type": "code",
   "execution_count": 10,
   "metadata": {},
   "outputs": [],
   "source": [
    "\"\"\"\n",
    "Write to HDFS as a CSV\n",
    "Output directory: /output/e-commerce/top-10-countries\n",
    "\"\"\"\n",
    "\n",
    "(\n",
    "    df_top10_sales_date\n",
    "    .coalesce(1)\n",
    "    .write.mode('overwrite')\n",
    "    .option(\"header\", True)\n",
    "    .csv(\"hdfs://192.168.93.128:9000/output/e-commerce/top-10-countries\")\n",
    ")"
   ]
  },
  {
   "cell_type": "markdown",
   "metadata": {},
   "source": [
    "```bash\n",
    "ubuntu@ubuntuvm:~$ hdfs dfs -ls /output/e-commerce/top-10-countries\n",
    "Found 2 items\n",
    "-rw-r--r--   3 Administrator supergroup          0 2021-05-22 16:08 /output/e-commerce/top-10-countries/_SUCCESS\n",
    "-rw-r--r--   3 Administrator supergroup      63467 2021-05-22 16:08 /output/e-commerce/top-10-countries/part-00000-3fada342-b26d-42e4-98d1-dab202666412-c000.csv\n",
    "\n",
    "ubuntu@ubuntuvm:~$\n",
    "```"
   ]
  },
  {
   "cell_type": "markdown",
   "metadata": {},
   "source": [
    "### _Verification_"
   ]
  },
  {
   "cell_type": "code",
   "execution_count": 11,
   "metadata": {},
   "outputs": [
    {
     "name": "stdout",
     "output_type": "stream",
     "text": [
      "+------------+--------------+------------------+----+\n",
      "|Invoice_Date|       Country|        TotalSales|rank|\n",
      "+------------+--------------+------------------+----+\n",
      "|  2010-12-01|United Kingdom| 54615.15000000007|   1|\n",
      "|  2010-12-01|        Norway|1919.1400000000008|   2|\n",
      "|  2010-12-01|        France|            855.86|   3|\n",
      "|  2010-12-01|          EIRE| 555.3799999999999|   4|\n",
      "|  2010-12-01|     Australia|            358.25|   5|\n",
      "|  2010-12-01|   Netherlands|192.60000000000002|   6|\n",
      "|  2010-12-01|       Germany|139.18000000000004|   7|\n",
      "|  2010-12-02|United Kingdom| 46053.92999999993|   1|\n",
      "|  2010-12-02|       Germany|138.35000000000002|   2|\n",
      "|  2010-12-02|          EIRE|              15.0|   3|\n",
      "|  2010-12-03|United Kingdom|39985.439999999864|   1|\n",
      "|  2010-12-03|          EIRE|2576.8500000000004|   2|\n",
      "|  2010-12-03|         Spain|             620.0|   3|\n",
      "|  2010-12-03|       Germany| 555.5300000000001|   4|\n",
      "|  2010-12-03|         Italy|427.79999999999995|   5|\n",
      "|  2010-12-03|        France|            425.38|   6|\n",
      "|  2010-12-03|       Belgium|             346.1|   7|\n",
      "|  2010-12-03|   Switzerland|             303.4|   8|\n",
      "|  2010-12-03|        Poland|            248.16|   9|\n",
      "|  2010-12-03|      Portugal|             131.8|  10|\n",
      "+------------+--------------+------------------+----+\n",
      "only showing top 20 rows\n",
      "\n"
     ]
    }
   ],
   "source": [
    "ss.read.format(\"csv\").option(\"header\", True).load(\"hdfs://192.168.93.128:9000/output/e-commerce/top-10-countries/\").show()"
   ]
  },
  {
   "cell_type": "markdown",
   "metadata": {},
   "source": [
    "<br><br>\n",
    "\n",
    "## <a id=\"2\">[Quantities sold by Month/StockCode](#root)</a>"
   ]
  },
  {
   "cell_type": "code",
   "execution_count": 12,
   "metadata": {},
   "outputs": [
    {
     "name": "stdout",
     "output_type": "stream",
     "text": [
      "+-----+---------+--------+\n",
      "|Month|StockCode|Quantity|\n",
      "+-----+---------+--------+\n",
      "|   12|   85123A|       6|\n",
      "|   12|    71053|       6|\n",
      "+-----+---------+--------+\n",
      "only showing top 2 rows\n",
      "\n"
     ]
    }
   ],
   "source": [
    "df_month_stockcode = df_ecomm_full[[\"Month\", \"StockCode\", \"Quantity\"]]\n",
    "df_month_stockcode.show(2)"
   ]
  },
  {
   "cell_type": "code",
   "execution_count": 13,
   "metadata": {},
   "outputs": [
    {
     "name": "stdout",
     "output_type": "stream",
     "text": [
      "+-----+---------+-------------+\n",
      "|Month|StockCode|TotalQuantity|\n",
      "+-----+---------+-------------+\n",
      "|    1|    37413|         5568|\n",
      "|    1|   85123A|         5522|\n",
      "|    1|    21212|         3409|\n",
      "|    1|    21108|         3246|\n",
      "|    1|    17003|         3181|\n",
      "|    1|    22469|         2919|\n",
      "|    1|   85099B|         2639|\n",
      "|    1|   79063D|         2560|\n",
      "|    1|    21175|         2410|\n",
      "|    1|    40016|         2128|\n",
      "+-----+---------+-------------+\n",
      "only showing top 10 rows\n",
      "\n"
     ]
    }
   ],
   "source": [
    "\"\"\"\n",
    "Although the requirement isn't to sort by the most sales by StockCode,\n",
    "I still prefer to see who were at the top, month-wise.\n",
    "Sorted, it'll be easier to spot highest/least selling StockCode.\n",
    "\"\"\"\n",
    "\n",
    "df_month_stockcode = (\n",
    "    df_month_stockcode\n",
    "    .groupby(\"Month\", \"StockCode\")\n",
    "    .agg(F.sum(\"Quantity\").alias(\"TotalQuantity\"))\n",
    "    .sort(F.asc(\"Month\"), F.desc(\"TotalQuantity\"))\n",
    ")\n",
    "df_month_stockcode.show(show_n)"
   ]
  },
  {
   "cell_type": "code",
   "execution_count": 14,
   "metadata": {},
   "outputs": [],
   "source": [
    "\"\"\"\n",
    "Write to HDFS as a table, with month-wise directory\n",
    "Output directory: /output/e-commerce/month_stockcode_quantity/Month=XX\n",
    "\"\"\"\n",
    "\n",
    "(\n",
    "    df_month_stockcode\n",
    "    .coalesce(1)\n",
    "    .write.mode('overwrite')\n",
    "    .option(\"header\", True)\n",
    "    .partitionBy(\"Month\")  # --> Remove to write as a single file\n",
    "    .saveAsTable(\n",
    "        \"month_stockcode_quantity\",\n",
    "        path=\"hdfs://192.168.93.128:9000/output/e-commerce/month_stockcode_quantity\"\n",
    "    )\n",
    ")"
   ]
  },
  {
   "cell_type": "markdown",
   "metadata": {},
   "source": [
    "```bash\n",
    "ubuntu@ubuntuvm:~$ hdfs dfs -ls /output/e-commerce/month_stockcode_quantity\n",
    "Found 13 items\n",
    "drwxr-xr-x   - Administrator supergroup          0 2021-05-22 15:48 /output/e-commerce/month_stockcode_quantity/Month=1\n",
    "drwxr-xr-x   - Administrator supergroup          0 2021-05-22 15:48 /output/e-commerce/month_stockcode_quantity/Month=10\n",
    "drwxr-xr-x   - Administrator supergroup          0 2021-05-22 15:48 /output/e-commerce/month_stockcode_quantity/Month=11\n",
    "drwxr-xr-x   - Administrator supergroup          0 2021-05-22 15:48 /output/e-commerce/month_stockcode_quantity/Month=12\n",
    "drwxr-xr-x   - Administrator supergroup          0 2021-05-22 15:48 /output/e-commerce/month_stockcode_quantity/Month=2\n",
    "drwxr-xr-x   - Administrator supergroup          0 2021-05-22 15:48 /output/e-commerce/month_stockcode_quantity/Month=3\n",
    "drwxr-xr-x   - Administrator supergroup          0 2021-05-22 15:48 /output/e-commerce/month_stockcode_quantity/Month=4\n",
    "drwxr-xr-x   - Administrator supergroup          0 2021-05-22 15:48 /output/e-commerce/month_stockcode_quantity/Month=5\n",
    "drwxr-xr-x   - Administrator supergroup          0 2021-05-22 15:48 /output/e-commerce/month_stockcode_quantity/Month=6\n",
    "drwxr-xr-x   - Administrator supergroup          0 2021-05-22 15:48 /output/e-commerce/month_stockcode_quantity/Month=7\n",
    "drwxr-xr-x   - Administrator supergroup          0 2021-05-22 15:48 /output/e-commerce/month_stockcode_quantity/Month=8\n",
    "drwxr-xr-x   - Administrator supergroup          0 2021-05-22 15:48 /output/e-commerce/month_stockcode_quantity/Month=9\n",
    "-rw-r--r--   3 Administrator supergroup          0 2021-05-22 15:48 /output/e-commerce/month_stockcode_quantity/_SUCCESS\n",
    "\n",
    "ubuntu@ubuntuvm:~$ hdfs dfs -ls /output/e-commerce/month_stockcode_quantity/Month=1\n",
    "Found 1 items\n",
    "-rw-r--r--   3 Administrator supergroup      17789 2021-05-22 15:48 /output/e-commerce/month_stockcode_quantity/Month=1/part-00000-4f9b094e-8ea0-49dc-b878-df1010d81bf4.c000.snappy.parquet\n",
    "\n",
    "ubuntu@ubuntuvm:~$\n",
    "```"
   ]
  },
  {
   "cell_type": "markdown",
   "metadata": {},
   "source": [
    "### _Verification_"
   ]
  },
  {
   "cell_type": "code",
   "execution_count": 15,
   "metadata": {},
   "outputs": [
    {
     "name": "stdout",
     "output_type": "stream",
     "text": [
      "+---------+-------------+-----+\n",
      "|StockCode|TotalQuantity|Month|\n",
      "+---------+-------------+-----+\n",
      "|    22197|         8929|   12|\n",
      "|    84077|         6562|   12|\n",
      "|    22086|         4542|   12|\n",
      "|    21212|         4535|   12|\n",
      "|    23084|         4298|   12|\n",
      "|   85123A|         4039|   12|\n",
      "|    84879|         3701|   12|\n",
      "|    22834|         3481|   12|\n",
      "|    21137|         3418|   12|\n",
      "|    20668|         3381|   12|\n",
      "|    21915|         3348|   12|\n",
      "|    22616|         3317|   12|\n",
      "|   85099B|         3216|   12|\n",
      "|    22355|         3109|   12|\n",
      "|    22492|         3002|   12|\n",
      "|    22693|         2874|   12|\n",
      "|    84946|         2729|   12|\n",
      "|    22189|         2684|   12|\n",
      "|    22961|         2677|   12|\n",
      "|    22188|         2510|   12|\n",
      "+---------+-------------+-----+\n",
      "only showing top 20 rows\n",
      "\n"
     ]
    }
   ],
   "source": [
    "ss.read.load(\"hdfs://192.168.93.128:9000/output/e-commerce/month_stockcode_quantity\").show()"
   ]
  },
  {
   "cell_type": "markdown",
   "metadata": {},
   "source": [
    "<br><br>\n",
    "\n",
    "\n",
    "##  <a id=\"3\">[Monthly Turnover of Store](#root)</a>"
   ]
  },
  {
   "cell_type": "code",
   "execution_count": 16,
   "metadata": {},
   "outputs": [],
   "source": [
    "df_ecomm_full.createOrReplaceTempView(\"ecomm\")"
   ]
  },
  {
   "cell_type": "code",
   "execution_count": 17,
   "metadata": {},
   "outputs": [
    {
     "name": "stdout",
     "output_type": "stream",
     "text": [
      "+----+-----+\n",
      "|Year|Month|\n",
      "+----+-----+\n",
      "|2010|   12|\n",
      "|2011|    1|\n",
      "|2011|    2|\n",
      "|2011|    3|\n",
      "|2011|    4|\n",
      "|2011|    5|\n",
      "|2011|    6|\n",
      "|2011|    7|\n",
      "|2011|    8|\n",
      "|2011|    9|\n",
      "|2011|   10|\n",
      "|2011|   11|\n",
      "|2011|   12|\n",
      "+----+-----+\n",
      "\n"
     ]
    }
   ],
   "source": [
    "\"\"\"\n",
    "NOTE: e-commerce dataset utilized has data for only 1 year\n",
    "\"\"\"\n",
    "\n",
    "ss.sql(\"SELECT DISTINCT Year, Month FROM ecomm ORDER BY 1, 2\").show()"
   ]
  },
  {
   "cell_type": "code",
   "execution_count": 18,
   "metadata": {
    "scrolled": true
   },
   "outputs": [
    {
     "name": "stdout",
     "output_type": "stream",
     "text": [
      "+----+-----+------------------+------------+------------------+----------------+------------------+\n",
      "|Year|Month|             Sales|InventoryEnd|InventoryBeginning|InventoryAverage|          Turnover|\n",
      "+----+-----+------------------+------------+------------------+----------------+------------------+\n",
      "|2010|   12| 748957.0199999774|      342228|                 0|        171114.0| 4.376947648935666|\n",
      "|2011|    1| 560000.2600000234|      308966|                 0|        154483.0|3.6249960189795862|\n",
      "|2011|    2| 498062.6500000268|      277989|            308966|        293477.5|1.6971067628694765|\n",
      "|2011|    3| 683267.0800000189|      351872|            277989|        314930.5|2.1695805264971764|\n",
      "|2011|    4| 493207.1210000137|      289098|            351872|        320485.0|1.5389397974944654|\n",
      "|2011|    5|   723333.51000001|      380391|            289098|        334744.5| 2.160852560684373|\n",
      "|2011|    6| 691123.1200000228|      341623|            380391|        361007.0|1.9144313545167346|\n",
      "|2011|    7| 681300.1110000301|      391116|            341623|        366369.5|1.8595983317389413|\n",
      "|2011|    8| 682680.5100000122|      406199|            391116|        398657.5|1.7124486808852517|\n",
      "|2011|    9| 1019687.622000011|      549817|            406199|        478008.0|2.1332020008033568|\n",
      "|2011|   10| 1070704.669999975|      570532|            549817|        560174.5|1.9113770262658778|\n",
      "|2011|   11|1461756.2499999087|      740286|            570532|        655409.0| 2.230296273014116|\n",
      "|2011|   12| 433668.0100000171|      226333|            740286|        483309.5| 0.897288404221347|\n",
      "+----+-----+------------------+------------+------------------+----------------+------------------+\n",
      "\n"
     ]
    }
   ],
   "source": [
    "\"\"\"\n",
    "Turnover ratio = CostOfGoodsSold / AverageOfInventory for the month\n",
    "Output: Displayed in-line\n",
    "\"\"\"\n",
    "\n",
    "ss.sql(\"\"\"\n",
    "SELECT Year,\n",
    "       Month,\n",
    "       SUM(Sales) AS Sales,\n",
    "       SUM(Quantity) AS InventoryEnd,\n",
    "       LAG(SUM(Quantity), 1, 0) OVER (PARTITION BY Year ORDER BY Month) AS InventoryBeginning,\n",
    "       ((SUM(Quantity) + LAG(SUM(Quantity), 1, 0) OVER (PARTITION BY Year ORDER BY Month))/2) AS InventoryAverage,\n",
    "       SUM(Sales) / ((SUM(Quantity) + LAG(SUM(Quantity), 1, 0) OVER (PARTITION BY Year ORDER BY Month))/2) AS Turnover\n",
    "FROM ecomm\n",
    "GROUP BY 1, 2\n",
    "ORDER BY 1, 2\n",
    "\"\"\").show()"
   ]
  },
  {
   "cell_type": "markdown",
   "metadata": {},
   "source": [
    "<br><br>\n",
    "\n",
    "\n",
    "##  <a id=\"4\">[Monthly Turnover by StockCode](#root)</a>"
   ]
  },
  {
   "cell_type": "code",
   "execution_count": 19,
   "metadata": {},
   "outputs": [
    {
     "data": {
      "text/plain": [
       "4070"
      ]
     },
     "execution_count": 19,
     "metadata": {},
     "output_type": "execute_result"
    }
   ],
   "source": [
    "\"\"\"\n",
    "How many StockCodes does the store have?\n",
    "\"\"\"\n",
    "\n",
    "ss.sql(\"SELECT DISTINCT StockCode FROM ecomm\").count()"
   ]
  },
  {
   "cell_type": "code",
   "execution_count": 20,
   "metadata": {
    "scrolled": true
   },
   "outputs": [
    {
     "data": {
      "text/plain": [
       "DataFrame[Year: int, StockCode: string, Month: int, month_stock_total: bigint, month_stock_total_previous: bigint]"
      ]
     },
     "execution_count": 20,
     "metadata": {},
     "output_type": "execute_result"
    }
   ],
   "source": [
    "ss.sql(\"\"\"\n",
    "SELECT Year,\n",
    "       StockCode,\n",
    "       Month,\n",
    "       COUNT(*) AS month_stock_total,\n",
    "       LAG(COUNT(*), 1, 0) OVER (PARTITION BY Year, StockCode ORDER BY Month) AS month_stock_total_previous\n",
    "  FROM ecomm\n",
    " GROUP BY 1, 2, 3\n",
    " ORDER BY 1, 2, 3\n",
    "\"\"\")"
   ]
  },
  {
   "cell_type": "code",
   "execution_count": 21,
   "metadata": {},
   "outputs": [
    {
     "data": {
      "text/plain": [
       "34691"
      ]
     },
     "execution_count": 21,
     "metadata": {},
     "output_type": "execute_result"
    }
   ],
   "source": [
    "turnover_stockcode_monthly = \\\n",
    "ss.sql(\"\"\"\n",
    "SELECT Year,\n",
    "       StockCode,\n",
    "       Month,\n",
    "       SUM(Sales) AS Sales,\n",
    "       SUM(Quantity) AS InventoryEnd,\n",
    "       LAG(SUM(Quantity), 1, 0) OVER (PARTITION BY Year, StockCode ORDER BY Month) AS InventoryBeginning,\n",
    "       ((SUM(Quantity) + LAG(SUM(Quantity), 1, 0) OVER (PARTITION BY Year, StockCode ORDER BY Month))/2) AS InventoryAverage,\n",
    "       SUM(Sales) / ((SUM(Quantity) + LAG(SUM(Quantity), 1, 0) OVER (PARTITION BY Year, StockCode ORDER BY Month))/2) AS Turnover\n",
    "FROM ecomm\n",
    "GROUP BY 1, 2, 3\n",
    "ORDER BY 1, 2, 3\n",
    "\"\"\")\n",
    "\n",
    "turnover_stockcode_monthly.count()"
   ]
  },
  {
   "cell_type": "code",
   "execution_count": 22,
   "metadata": {
    "scrolled": false
   },
   "outputs": [],
   "source": [
    "\"\"\"\n",
    "Writing to HDFS & reading from there is easier due to the number of records constraint.\n",
    "Output directory: /output/e-commerce/turnover_stockcode_monthly\n",
    "\"\"\"\n",
    "\n",
    "(\n",
    "    turnover_stockcode_monthly\n",
    "    .coalesce(1)\n",
    "    .write.mode('overwrite')\n",
    "    .option(\"header\", True)\n",
    "    .saveAsTable(\n",
    "        \"turnover_stockcode_monthly\",\n",
    "        path=\"hdfs://192.168.93.128:9000/output/e-commerce/turnover_stockcode_monthly\"\n",
    "    )\n",
    ")"
   ]
  },
  {
   "cell_type": "markdown",
   "metadata": {},
   "source": [
    "```bash\n",
    "ubuntu@ubuntuvm:~$ hdfs dfs -ls /output/e-commerce/\n",
    "Found 1 items\n",
    "drwxr-xr-x   - Administrator supergroup          0 2021-05-23 13:00 /output/e-commerce/turnover_stockcode_monthly\n",
    "\n",
    "ubuntu@ubuntuvm:~$ hdfs dfs -ls /output/e-commerce/turnover_stockcode_monthly\n",
    "Found 2 items\n",
    "-rw-r--r--   3 Administrator supergroup          0 2021-05-23 13:00 /output/e-commerce/turnover_stockcode_monthly/_SUCCESS\n",
    "-rw-r--r--   3 Administrator supergroup     184279 2021-05-23 13:00 /output/e-commerce/turnover_stockcode_monthly/part-00000-46336529-17c9-4d5e-9e91-fca03582f349-c000.snappy.parquet\n",
    "\n",
    "ubuntu@ubuntuvm:~$\n",
    "```"
   ]
  },
  {
   "cell_type": "markdown",
   "metadata": {},
   "source": [
    "### _Verification_"
   ]
  },
  {
   "cell_type": "code",
   "execution_count": 23,
   "metadata": {},
   "outputs": [
    {
     "name": "stdout",
     "output_type": "stream",
     "text": [
      "+----+---------+-----+------------------+------------+------------------+----------------+------------------+\n",
      "|Year|StockCode|Month|             Sales|InventoryEnd|InventoryBeginning|InventoryAverage|          Turnover|\n",
      "+----+---------+-----+------------------+------------+------------------+----------------+------------------+\n",
      "|2010|    10002|   12| 234.4099999999999|         251|                 0|           125.5|1.8678087649402384|\n",
      "|2010|    10120|   12|              3.36|          16|                 0|             8.0|              0.42|\n",
      "|2010|   10123C|   12|              0.65|           1|                 0|             0.5|               1.3|\n",
      "|2010|   10124A|   12|              1.68|           4|                 0|             2.0|              0.84|\n",
      "|2010|   10124G|   12|               2.1|           5|                 0|             2.5|0.8400000000000001|\n",
      "|2010|    10125|   12| 90.85999999999999|         154|                 0|            77.0|1.1799999999999997|\n",
      "|2010|    10133|   12|             85.27|         130|                 0|            65.0|1.3118461538461539|\n",
      "|2010|    10135|   12|279.02000000000004|         411|                 0|           205.5|1.3577615571776158|\n",
      "|2010|    11001|   12|136.73000000000002|          73|                 0|            36.5|3.7460273972602747|\n",
      "|2010|    15034|   12|             11.27|          45|                 0|            22.5|0.5008888888888888|\n",
      "|2010|    15036|   12|100.12000000000003|         113|                 0|            56.5|1.7720353982300892|\n",
      "|2010|    15039|   12|             19.43|          20|                 0|            10.0|             1.943|\n",
      "|2010|   15044A|   12|17.700000000000003|           6|                 0|             3.0| 5.900000000000001|\n",
      "|2010|   15044B|   12|             11.81|           3|                 0|             1.5| 7.873333333333334|\n",
      "|2010|   15044C|   12|             38.38|          10|                 0|             5.0|             7.676|\n",
      "|2010|   15044D|   12|              5.91|           1|                 0|             0.5|             11.82|\n",
      "|2010|  15056BL|   12|1148.7600000000004|         188|                 0|            94.0|12.220851063829793|\n",
      "|2010|   15056N|   12| 782.6700000000002|         135|                 0|            67.5|11.595111111111114|\n",
      "|2010|   15056P|   12|347.39000000000004|          67|                 0|            33.5|10.369850746268659|\n",
      "|2010|  15056bl|   12|139.92000000000002|          11|                 0|             5.5|             25.44|\n",
      "+----+---------+-----+------------------+------------+------------------+----------------+------------------+\n",
      "only showing top 20 rows\n",
      "\n"
     ]
    }
   ],
   "source": [
    "ss.read.load(\"hdfs://192.168.93.128:9000/output/e-commerce/turnover_stockcode_monthly\").show()"
   ]
  },
  {
   "cell_type": "markdown",
   "metadata": {},
   "source": [
    "<br><br>\n",
    "\n",
    "### How may partitions in use?"
   ]
  },
  {
   "cell_type": "code",
   "execution_count": 24,
   "metadata": {},
   "outputs": [
    {
     "data": {
      "text/plain": [
       "200"
      ]
     },
     "execution_count": 24,
     "metadata": {},
     "output_type": "execute_result"
    }
   ],
   "source": [
    "turnover_stockcode_monthly.rdd.getNumPartitions()"
   ]
  },
  {
   "cell_type": "code",
   "execution_count": 25,
   "metadata": {},
   "outputs": [],
   "source": [
    "ss.stop()"
   ]
  }
 ],
 "metadata": {
  "kernelspec": {
   "display_name": "Python 3",
   "language": "python",
   "name": "python3"
  },
  "language_info": {
   "codemirror_mode": {
    "name": "ipython",
    "version": 3
   },
   "file_extension": ".py",
   "mimetype": "text/x-python",
   "name": "python",
   "nbconvert_exporter": "python",
   "pygments_lexer": "ipython3",
   "version": "3.7.7"
  }
 },
 "nbformat": 4,
 "nbformat_minor": 4
}
