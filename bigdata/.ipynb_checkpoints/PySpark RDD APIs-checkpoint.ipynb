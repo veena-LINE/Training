{
 "cells": [
  {
   "cell_type": "code",
   "execution_count": 1,
   "metadata": {},
   "outputs": [],
   "source": [
    "import findspark\n",
    "findspark.init()"
   ]
  },
  {
   "cell_type": "code",
   "execution_count": 2,
   "metadata": {},
   "outputs": [],
   "source": [
    "from pyspark import SparkContext\n",
    "sc = SparkContext(\"local[1]\", \"CACHE\")\n",
    "sc.setLogLevel(\"WARN\")"
   ]
  },
  {
   "cell_type": "markdown",
   "metadata": {},
   "source": [
    "---"
   ]
  },
  {
   "cell_type": "code",
   "execution_count": 3,
   "metadata": {},
   "outputs": [
    {
     "data": {
      "text/plain": [
       "('2.4.7', '3.7', 'CACHE', 'local-1620413792493', 1, 1)"
      ]
     },
     "execution_count": 3,
     "metadata": {},
     "output_type": "execute_result"
    }
   ],
   "source": [
    "sc.version, sc.pythonVer, sc.appName, sc.applicationId, sc.defaultParallelism, sc.defaultMinPartitions"
   ]
  },
  {
   "cell_type": "markdown",
   "metadata": {},
   "source": [
    "---"
   ]
  },
  {
   "cell_type": "code",
   "execution_count": 4,
   "metadata": {},
   "outputs": [],
   "source": [
    "sales = [('CA', 10), ('WA', 20), ('DC', 14), ('TX', 12), ('CA', 13)]\n",
    "\n",
    "rdd_sales = sc.parallelize(sales)"
   ]
  },
  {
   "cell_type": "code",
   "execution_count": 5,
   "metadata": {},
   "outputs": [
    {
     "data": {
      "text/plain": [
       "[('CA', 10), ('WA', 20), ('DC', 14), ('TX', 12), ('CA', 13)]"
      ]
     },
     "execution_count": 5,
     "metadata": {},
     "output_type": "execute_result"
    }
   ],
   "source": [
    "\"Return a list of tuples\"\n",
    "rdd_sales.collect()"
   ]
  },
  {
   "cell_type": "code",
   "execution_count": 6,
   "metadata": {},
   "outputs": [
    {
     "data": {
      "text/plain": [
       "{'CA': 13, 'WA': 20, 'DC': 14, 'TX': 12}"
      ]
     },
     "execution_count": 6,
     "metadata": {},
     "output_type": "execute_result"
    }
   ],
   "source": [
    "\"Return a dict\"\n",
    "rdd_sales.collectAsMap()"
   ]
  },
  {
   "cell_type": "code",
   "execution_count": 7,
   "metadata": {},
   "outputs": [
    {
     "data": {
      "text/plain": [
       "True"
      ]
     },
     "execution_count": 7,
     "metadata": {},
     "output_type": "execute_result"
    }
   ],
   "source": [
    "\"RDD empty?\"\n",
    "sc.parallelize([]).isEmpty()"
   ]
  },
  {
   "cell_type": "code",
   "execution_count": 8,
   "metadata": {},
   "outputs": [
    {
     "data": {
      "text/plain": [
       "[('CA', 23), ('WA', 20), ('DC', 14), ('TX', 12)]"
      ]
     },
     "execution_count": 8,
     "metadata": {},
     "output_type": "execute_result"
    }
   ],
   "source": [
    "\"Group by Key: Accumulate values based on Key\"\n",
    "rdd_sales.reduceByKey(lambda acc, v: acc + v).collect()"
   ]
  },
  {
   "cell_type": "markdown",
   "metadata": {},
   "source": [
    "---"
   ]
  },
  {
   "cell_type": "code",
   "execution_count": 9,
   "metadata": {},
   "outputs": [
    {
     "data": {
      "text/plain": [
       "[('CA', <pyspark.resultiterable.ResultIterable at 0x242c7f69bc8>),\n",
       " ('WA', <pyspark.resultiterable.ResultIterable at 0x242c7f69b88>),\n",
       " ('DC', <pyspark.resultiterable.ResultIterable at 0x242c7f69d48>),\n",
       " ('TX', <pyspark.resultiterable.ResultIterable at 0x242c7f69908>)]"
      ]
     },
     "execution_count": 9,
     "metadata": {},
     "output_type": "execute_result"
    }
   ],
   "source": [
    "\"\"\"\n",
    ".groupBy(): is generic, FLEXIBLE [Free to choose what can be a key]\n",
    "t: tuple\n",
    "\n",
    ".mapValues(): convert the iterables into actual values. \n",
    "\"\"\"\n",
    "rdd_sales.groupBy(lambda t: t[0]).collect()"
   ]
  },
  {
   "cell_type": "code",
   "execution_count": 10,
   "metadata": {},
   "outputs": [
    {
     "data": {
      "text/plain": [
       "[('CA', [('CA', 10), ('CA', 13)]),\n",
       " ('WA', [('WA', 20)]),\n",
       " ('DC', [('DC', 14)]),\n",
       " ('TX', [('TX', 12)])]"
      ]
     },
     "execution_count": 10,
     "metadata": {},
     "output_type": "execute_result"
    }
   ],
   "source": [
    "\"\"\"\n",
    ".mapValues()\n",
    "Return the above Iterables (grouped via .groupBy()) into actual values.\n",
    "\"\"\"\n",
    "rdd_sales.groupBy(lambda t: t[0]).mapValues(list).collect()"
   ]
  },
  {
   "cell_type": "code",
   "execution_count": 11,
   "metadata": {},
   "outputs": [
    {
     "data": {
      "text/plain": [
       "[('< 13', [('CA', 10), ('TX', 12), ('CA', 13)]),\n",
       " ('> 13', [('WA', 20), ('DC', 14)])]"
      ]
     },
     "execution_count": 11,
     "metadata": {},
     "output_type": "execute_result"
    }
   ],
   "source": [
    "rdd_sales.groupBy(lambda t: \"> 13\" if t[1] > 13 else \"< 13\").mapValues(list).collect()"
   ]
  },
  {
   "cell_type": "code",
   "execution_count": 12,
   "metadata": {},
   "outputs": [
    {
     "data": {
      "text/plain": [
       "[('CA', [10, 13]), ('WA', [20]), ('DC', [14]), ('TX', [12])]"
      ]
     },
     "execution_count": 12,
     "metadata": {},
     "output_type": "execute_result"
    }
   ],
   "source": [
    "\".groupByKey() uses the first part of the tuple as key\"\n",
    "rdd_sales.groupByKey().mapValues(list).collect()"
   ]
  },
  {
   "cell_type": "markdown",
   "metadata": {},
   "source": [
    "---"
   ]
  },
  {
   "cell_type": "code",
   "execution_count": 22,
   "metadata": {},
   "outputs": [
    {
     "name": "stdout",
     "output_type": "stream",
     "text": [
      "[1, 2, 3, 4, 5, 6, 7, 8, 9, 10, 7, 8, 9, 10, 11, 12, 13, 14, 15, 16, 17, 18, 19, 20]\n",
      "[8, 10, 7, 9]\n",
      "[2, 4, 6, 1, 3, 5]\n",
      "[1, 2, 3, 4, 5, 6, 7, 10]\n",
      "1 10 5.5 2.8722813232690143\n"
     ]
    }
   ],
   "source": [
    "rddA = sc.parallelize(range(1, 11))\n",
    "rddB = sc.parallelize(range(7, 21))\n",
    "rddC = sc.parallelize([1, 2, 3, 4, 5, 6, 7, 3, 4, 5, 6, 7, 10])\n",
    "\n",
    "print(rddA.union(rddB).collect())\n",
    "print(rddA.intersection(rddB).collect())\n",
    "print(rddA.subtract(rddB).collect())\n",
    "print(rddC.distinct().collect())\n",
    "print(rddA.min(), rddA.max(), rddA.mean(), rddA.stdev())"
   ]
  },
  {
   "cell_type": "code",
   "execution_count": 26,
   "metadata": {},
   "outputs": [
    {
     "data": {
      "text/plain": [
       "(['CA', 'WA', 'DC', 'TX', 'CA'], ['CA', 'WA', 'DC', 'TX'])"
      ]
     },
     "execution_count": 26,
     "metadata": {},
     "output_type": "execute_result"
    }
   ],
   "source": [
    "rdd_sales.keys().collect(), rdd_sales.keys().distinct().collect()"
   ]
  },
  {
   "cell_type": "code",
   "execution_count": 30,
   "metadata": {},
   "outputs": [],
   "source": [
    "\"Check jupyter console for print's output\"\n",
    "\n",
    "def show(t): print(t)\n",
    "rdd_sales.foreach(show)"
   ]
  },
  {
   "cell_type": "code",
   "execution_count": 32,
   "metadata": {},
   "outputs": [
    {
     "data": {
      "text/plain": [
       "(5,\n",
       " defaultdict(int, {'CA': 2, 'WA': 1, 'DC': 1, 'TX': 1}),\n",
       " defaultdict(int,\n",
       "             {('CA', 10): 1,\n",
       "              ('WA', 20): 1,\n",
       "              ('DC', 14): 1,\n",
       "              ('TX', 12): 1,\n",
       "              ('CA', 13): 1}))"
      ]
     },
     "execution_count": 32,
     "metadata": {},
     "output_type": "execute_result"
    }
   ],
   "source": [
    "rdd_sales.count(), rdd_sales.countByKey(), rdd_sales.countByValue()"
   ]
  },
  {
   "cell_type": "code",
   "execution_count": 39,
   "metadata": {},
   "outputs": [
    {
     "data": {
      "text/plain": [
       "([('CA', 10), ('CA', 13), ('DC', 14), ('TX', 12), ('WA', 20)],\n",
       " [('WA', 20), ('TX', 12), ('DC', 14), ('CA', 10), ('CA', 13)])"
      ]
     },
     "execution_count": 39,
     "metadata": {},
     "output_type": "execute_result"
    }
   ],
   "source": [
    "\".sortByKey()\"\n",
    "rdd_sales.sortByKey().collect(), rdd_sales.sortByKey(ascending=False).collect() "
   ]
  },
  {
   "cell_type": "code",
   "execution_count": 40,
   "metadata": {},
   "outputs": [
    {
     "data": {
      "text/plain": [
       "[('CA', 10), ('WA', 20), ('CA', 13), ('DC', 14), ('TX', 12)]"
      ]
     },
     "execution_count": 40,
     "metadata": {},
     "output_type": "execute_result"
    }
   ],
   "source": [
    "\".sortBy: Custom sort\"\n",
    "rdd_sales.sortBy(lambda t: t[0][-1]).collect()"
   ]
  },
  {
   "cell_type": "markdown",
   "metadata": {},
   "source": [
    "---"
   ]
  },
  {
   "cell_type": "code",
   "execution_count": null,
   "metadata": {},
   "outputs": [],
   "source": [
    "\".coalesce() LATER\""
   ]
  },
  {
   "cell_type": "markdown",
   "metadata": {},
   "source": [
    "---"
   ]
  },
  {
   "cell_type": "code",
   "execution_count": 47,
   "metadata": {},
   "outputs": [],
   "source": [
    "\"Joins\"\n",
    "rdd_statecodes = sc.textFile(\"hdfs://192.168.93.128:9000/input/all_us_states.csv\")\n",
    "header = rdd_statecodes.first()\n",
    "rdd_statecodes = rdd_statecodes.filter(lambda s: s != header).map(lambda s: tuple(s.split(\",\")))"
   ]
  },
  {
   "cell_type": "code",
   "execution_count": 48,
   "metadata": {},
   "outputs": [
    {
     "data": {
      "text/plain": [
       "[('AL', 'Alabama'), ('AK', 'Alaska')]"
      ]
     },
     "execution_count": 48,
     "metadata": {},
     "output_type": "execute_result"
    }
   ],
   "source": [
    "rdd_statecodes.take(2)"
   ]
  },
  {
   "cell_type": "code",
   "execution_count": 50,
   "metadata": {},
   "outputs": [
    {
     "data": {
      "text/plain": [
       "[('CA', (10, 'California')),\n",
       " ('CA', (13, 'California')),\n",
       " ('DC', (14, 'District of Columbia')),\n",
       " ('TX', (12, 'Texas')),\n",
       " ('WA', (20, 'Washington'))]"
      ]
     },
     "execution_count": 50,
     "metadata": {},
     "output_type": "execute_result"
    }
   ],
   "source": [
    "rdd_sales.join(rdd_statecodes).collect()"
   ]
  },
  {
   "cell_type": "code",
   "execution_count": 53,
   "metadata": {},
   "outputs": [
    {
     "data": {
      "text/plain": [
       "[('CA', ('California', 10)),\n",
       " ('CA', ('California', 13)),\n",
       " ('DC', ('District of Columbia', 14)),\n",
       " ('TX', ('Texas', 12)),\n",
       " ('WA', ('Washington', 20))]"
      ]
     },
     "execution_count": 53,
     "metadata": {},
     "output_type": "execute_result"
    }
   ],
   "source": [
    "rdd_statecodes.rightOuterJoin(rdd_sales).collect()"
   ]
  },
  {
   "cell_type": "code",
   "execution_count": 54,
   "metadata": {},
   "outputs": [
    {
     "data": {
      "text/plain": [
       "[('AK', ('Alaska', None)),\n",
       " ('AR', ('Arkansas', None)),\n",
       " ('CA', ('California', 10)),\n",
       " ('CA', ('California', 13)),\n",
       " ('CO', ('Colorado', None)),\n",
       " ('CT', ('Connecticut', None)),\n",
       " ('DE', ('Delaware', None)),\n",
       " ('DC', ('District of Columbia', 14)),\n",
       " ('HI', ('Hawaii', None)),\n",
       " ('KS', ('Kansas', None)),\n",
       " ('LA', ('Louisiana', None)),\n",
       " ('ME', ('Maine', None)),\n",
       " ('MO', ('Missouri', None)),\n",
       " ('NE', ('Nebraska', None)),\n",
       " ('NM', ('New Mexico', None)),\n",
       " ('NY', ('New York', None)),\n",
       " ('NC', ('North Carolina', None)),\n",
       " ('OH', ('Ohio', None)),\n",
       " ('RI', ('Rhode Island', None)),\n",
       " ('SC', ('South Carolina', None)),\n",
       " ('SD', ('South Dakota', None)),\n",
       " ('TN', ('Tennessee', None)),\n",
       " ('TX', ('Texas', 12)),\n",
       " ('VA', ('Virginia', None)),\n",
       " ('WV', ('West Virginia', None)),\n",
       " ('WI', ('Wisconsin', None)),\n",
       " ('WY', ('Wyoming', None)),\n",
       " ('AL', ('Alabama', None)),\n",
       " ('AZ', ('Arizona', None)),\n",
       " ('FL', ('Florida', None)),\n",
       " ('GA', ('Georgia', None)),\n",
       " ('ID', ('Idaho', None)),\n",
       " ('IL', ('Illinois', None)),\n",
       " ('IN', ('Indiana', None)),\n",
       " ('IA', ('Iowa', None)),\n",
       " ('KY', ('Kentucky', None)),\n",
       " ('MD', ('Maryland', None)),\n",
       " ('MA', ('Massachusetts', None)),\n",
       " ('MI', ('Michigan', None)),\n",
       " ('MN', ('Minnesota', None)),\n",
       " ('MS', ('Mississippi', None)),\n",
       " ('MT', ('Montana', None)),\n",
       " ('NV', ('Nevada', None)),\n",
       " ('NH', ('New Hampshire', None)),\n",
       " ('NJ', ('New Jersey', None)),\n",
       " ('ND', ('North Dakota', None)),\n",
       " ('OK', ('Oklahoma', None)),\n",
       " ('OR', ('Oregon', None)),\n",
       " ('PA', ('Pennsylvania', None)),\n",
       " ('UT', ('Utah', None)),\n",
       " ('VT', ('Vermont', None)),\n",
       " ('WA', ('Washington', 20))]"
      ]
     },
     "execution_count": 54,
     "metadata": {},
     "output_type": "execute_result"
    }
   ],
   "source": [
    "rdd_statecodes.fullOuterJoin(rdd_sales).collect()"
   ]
  }
 ],
 "metadata": {
  "kernelspec": {
   "display_name": "Python 3",
   "language": "python",
   "name": "python3"
  },
  "language_info": {
   "codemirror_mode": {
    "name": "ipython",
    "version": 3
   },
   "file_extension": ".py",
   "mimetype": "text/x-python",
   "name": "python",
   "nbconvert_exporter": "python",
   "pygments_lexer": "ipython3",
   "version": "3.7.7"
  }
 },
 "nbformat": 4,
 "nbformat_minor": 4
}
