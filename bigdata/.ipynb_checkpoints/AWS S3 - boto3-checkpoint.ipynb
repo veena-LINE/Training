{
 "cells": [
  {
   "cell_type": "markdown",
   "metadata": {},
   "source": [
    "# [boto3](https://boto3.amazonaws.com/v1/documentation/api/latest/guide/quickstart.html#installation)"
   ]
  },
  {
   "cell_type": "code",
   "execution_count": 1,
   "metadata": {},
   "outputs": [],
   "source": [
    "\"\"\" pip install boto3 \"\"\"\n",
    "import boto3"
   ]
  },
  {
   "cell_type": "code",
   "execution_count": 2,
   "metadata": {},
   "outputs": [
    {
     "name": "stdout",
     "output_type": "stream",
     "text": [
      "bond-s3-forspark\n"
     ]
    }
   ],
   "source": [
    "\"\"\"\n",
    "Place .aws folder in user's home-directory\n",
    "\n",
    "aws credentials sourced from ~/.aws/credentials file\n",
    "    aws_access_key_id = YOUR_ACESS_KEY\n",
    "    aws_secret_access_key = YOUR_SECRET_ACCESS_KEY\n",
    "\n",
    "aws location sourced from ~/.aws/config file\n",
    "    [default]\n",
    "    region=us-east-2\n",
    "\"\"\"\n",
    "\n",
    "s3 = boto3.resource(\"s3\")\n",
    "for bucket in s3.buckets.all():\n",
    "    print(bucket.name)"
   ]
  },
  {
   "cell_type": "code",
   "execution_count": 3,
   "metadata": {},
   "outputs": [
    {
     "data": {
      "text/plain": [
       "{'ResponseMetadata': {'RequestId': '0PH1J1XKTSEGANBF',\n",
       "  'HostId': 'gBC7WZPg6sp+TzQ6aYvFjK6k524SQKab4Vsv2PUE882rg1aHL8c8DM3ulbNSf0Txvyolhg2Xd8Y=',\n",
       "  'HTTPStatusCode': 200,\n",
       "  'HTTPHeaders': {'x-amz-id-2': 'gBC7WZPg6sp+TzQ6aYvFjK6k524SQKab4Vsv2PUE882rg1aHL8c8DM3ulbNSf0Txvyolhg2Xd8Y=',\n",
       "   'x-amz-request-id': '0PH1J1XKTSEGANBF',\n",
       "   'date': 'Mon, 24 May 2021 14:53:39 GMT',\n",
       "   'etag': '\"d41d8cd98f00b204e9800998ecf8427e\"',\n",
       "   'content-length': '0',\n",
       "   'server': 'AmazonS3'},\n",
       "  'RetryAttempts': 0},\n",
       " 'ETag': '\"d41d8cd98f00b204e9800998ecf8427e\"'}"
      ]
     },
     "execution_count": 3,
     "metadata": {},
     "output_type": "execute_result"
    }
   ],
   "source": [
    "\"\"\"\n",
    "Create folder with a / at the end\n",
    "\"\"\"\n",
    "\n",
    "s3 = boto3.client(\"s3\")\n",
    "s3.put_object(Bucket=\"bond-s3-forspark\", Key=\"knockknock/\")"
   ]
  },
  {
   "cell_type": "code",
   "execution_count": 4,
   "metadata": {},
   "outputs": [
    {
     "name": "stdout",
     "output_type": "stream",
     "text": [
      "{'Key': 'knockknock/', 'LastModified': datetime.datetime(2021, 5, 24, 14, 53, 39, tzinfo=tzutc()), 'ETag': '\"d41d8cd98f00b204e9800998ecf8427e\"', 'Size': 0, 'StorageClass': 'STANDARD', 'Owner': {'ID': 'de93a3f1421e7a8a0cbc8071e8125d9cc4928c1db6d07e756e6da187ea687899'}} knockknock/\n",
      "{'Key': 'movielens/', 'LastModified': datetime.datetime(2021, 5, 24, 14, 3, 14, tzinfo=tzutc()), 'ETag': '\"d41d8cd98f00b204e9800998ecf8427e\"', 'Size': 0, 'StorageClass': 'STANDARD', 'Owner': {'ID': 'de93a3f1421e7a8a0cbc8071e8125d9cc4928c1db6d07e756e6da187ea687899'}} movielens/\n",
      "{'Key': 'movielens/README.txt', 'LastModified': datetime.datetime(2021, 5, 24, 14, 5, 39, tzinfo=tzutc()), 'ETag': '\"9bc20a696092024abe52696ee6c5837f\"', 'Size': 8342, 'StorageClass': 'STANDARD', 'Owner': {'ID': 'de93a3f1421e7a8a0cbc8071e8125d9cc4928c1db6d07e756e6da187ea687899'}} movielens/README.txt\n",
      "{'Key': 'movielens/links.csv', 'LastModified': datetime.datetime(2021, 5, 24, 14, 5, 33, tzinfo=tzutc()), 'ETag': '\"316913f95cdad64c745ca22f3630e230\"', 'Size': 197979, 'StorageClass': 'STANDARD', 'Owner': {'ID': 'de93a3f1421e7a8a0cbc8071e8125d9cc4928c1db6d07e756e6da187ea687899'}} movielens/links.csv\n",
      "{'Key': 'movielens/movies.csv', 'LastModified': datetime.datetime(2021, 5, 24, 14, 5, 35, tzinfo=tzutc()), 'ETag': '\"ed94fab72b62442ef8150d9446e000d6\"', 'Size': 494431, 'StorageClass': 'STANDARD', 'Owner': {'ID': 'de93a3f1421e7a8a0cbc8071e8125d9cc4928c1db6d07e756e6da187ea687899'}} movielens/movies.csv\n",
      "{'Key': 'movielens/ratings.csv', 'LastModified': datetime.datetime(2021, 5, 24, 14, 5, 38, tzinfo=tzutc()), 'ETag': '\"325a6f09399d1c45671f187505e1a100\"', 'Size': 2483723, 'StorageClass': 'STANDARD', 'Owner': {'ID': 'de93a3f1421e7a8a0cbc8071e8125d9cc4928c1db6d07e756e6da187ea687899'}} movielens/ratings.csv\n",
      "{'Key': 'movielens/tags.csv', 'LastModified': datetime.datetime(2021, 5, 24, 14, 5, 40, tzinfo=tzutc()), 'ETag': '\"1b2d21a7be1cc23d327b11155a4a6aea\"', 'Size': 118660, 'StorageClass': 'STANDARD', 'Owner': {'ID': 'de93a3f1421e7a8a0cbc8071e8125d9cc4928c1db6d07e756e6da187ea687899'}} movielens/tags.csv\n"
     ]
    }
   ],
   "source": [
    "\"\"\"\n",
    "List S3 bucket objects and their properties \n",
    "\"\"\"\n",
    "\n",
    "all_objects = s3.list_objects(Bucket=\"bond-s3-forspark\")\n",
    "\n",
    "for obj in all_objects[\"Contents\"]:\n",
    "    print(obj, obj[\"Key\"])"
   ]
  },
  {
   "cell_type": "code",
   "execution_count": 5,
   "metadata": {},
   "outputs": [],
   "source": [
    "\"\"\"\n",
    "Downloading files (S3 -> local)\n",
    "\"\"\"\n",
    "\n",
    "s3.download_file(\"bond-s3-forspark\", \"movielens/tags.csv\", \"c:/Users/Administrator/veena/tags.csv\")"
   ]
  },
  {
   "cell_type": "code",
   "execution_count": 8,
   "metadata": {},
   "outputs": [],
   "source": [
    "\"\"\"\n",
    "Upload files (local -> S3)\n",
    "\"\"\"\n",
    "\n",
    "s3.upload_file(\"c:/Users/Administrator/veena/tags.csv\", \"bond-s3-forspark\", \"knockknock/tags.csv\")"
   ]
  },
  {
   "cell_type": "code",
   "execution_count": 13,
   "metadata": {},
   "outputs": [
    {
     "name": "stdout",
     "output_type": "stream",
     "text": [
      "<class 'str'>\n"
     ]
    }
   ],
   "source": [
    "\"\"\"\n",
    "RETRIEVE FILE CONTENT from S3\n",
    "\"\"\"\n",
    "\n",
    "s3_resource = boto3.resource('s3')\n",
    "obj = s3_resource.Object(\"bond-s3-forspark\", \"knockknock/tags.csv\")\n",
    "content = obj.get()['Body'].read().decode('utf-8')\n",
    "\n",
    "# print(content)\n",
    "print(type(content))"
   ]
  },
  {
   "cell_type": "code",
   "execution_count": 15,
   "metadata": {},
   "outputs": [
    {
     "data": {
      "text/plain": [
       "{'ResponseMetadata': {'RequestId': 'P3MMDRJNJ1R45X15',\n",
       "  'HostId': '2UxY44wZYfcDxHpT86QyNsm29BLN5PT80tXgPyFCSYWJbV3n327Lln/SZJebadw5/yMyrA7K/J4=',\n",
       "  'HTTPStatusCode': 204,\n",
       "  'HTTPHeaders': {'x-amz-id-2': '2UxY44wZYfcDxHpT86QyNsm29BLN5PT80tXgPyFCSYWJbV3n327Lln/SZJebadw5/yMyrA7K/J4=',\n",
       "   'x-amz-request-id': 'P3MMDRJNJ1R45X15',\n",
       "   'date': 'Mon, 24 May 2021 15:12:46 GMT',\n",
       "   'server': 'AmazonS3'},\n",
       "  'RetryAttempts': 0}}"
      ]
     },
     "execution_count": 15,
     "metadata": {},
     "output_type": "execute_result"
    }
   ],
   "source": [
    "\"\"\"\n",
    "DELETE object in s3\n",
    "\"\"\"\n",
    "s3.delete_object(Bucket=\"bond-s3-forspark\", Key=\"knockknock/tags.csv\")"
   ]
  },
  {
   "cell_type": "code",
   "execution_count": 16,
   "metadata": {},
   "outputs": [
    {
     "data": {
      "text/plain": [
       "{'ResponseMetadata': {'RequestId': '4DKNPG2NS7BCWK8Z',\n",
       "  'HostId': 'kNhsbnPM98lJgCysn5l9lA4njRsKg2Yve2EBqJu5OpwlceMR/K3QqUoUcOM8Aa0SnHTgvJjKfQ4=',\n",
       "  'HTTPStatusCode': 204,\n",
       "  'HTTPHeaders': {'x-amz-id-2': 'kNhsbnPM98lJgCysn5l9lA4njRsKg2Yve2EBqJu5OpwlceMR/K3QqUoUcOM8Aa0SnHTgvJjKfQ4=',\n",
       "   'x-amz-request-id': '4DKNPG2NS7BCWK8Z',\n",
       "   'date': 'Mon, 24 May 2021 15:13:33 GMT',\n",
       "   'server': 'AmazonS3'},\n",
       "  'RetryAttempts': 0}}"
      ]
     },
     "execution_count": 16,
     "metadata": {},
     "output_type": "execute_result"
    }
   ],
   "source": [
    "\"\"\"\n",
    "DELETE folder in s3\n",
    "\"\"\"\n",
    "s3.delete_object(Bucket=\"bond-s3-forspark\", Key=\"knockknock/\")"
   ]
  }
 ],
 "metadata": {
  "kernelspec": {
   "display_name": "Python 3",
   "language": "python",
   "name": "python3"
  },
  "language_info": {
   "codemirror_mode": {
    "name": "ipython",
    "version": 3
   },
   "file_extension": ".py",
   "mimetype": "text/x-python",
   "name": "python",
   "nbconvert_exporter": "python",
   "pygments_lexer": "ipython3",
   "version": "3.7.7"
  }
 },
 "nbformat": 4,
 "nbformat_minor": 4
}
