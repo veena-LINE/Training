{
 "cells": [
  {
   "cell_type": "code",
   "execution_count": null,
   "metadata": {},
   "outputs": [],
   "source": [
    "\"\"\"\n",
    "create table if not exists products(product_id int, product_name text, brand_id int);\n",
    "\n",
    "insert into products values(1, 'Xiaomi', 100);\n",
    "\n",
    "select * from products;\n",
    "\n",
    "\"\"\""
   ]
  },
  {
   "cell_type": "code",
   "execution_count": 1,
   "metadata": {},
   "outputs": [],
   "source": [
    "import findspark\n",
    "findspark.init()"
   ]
  },
  {
   "cell_type": "code",
   "execution_count": 2,
   "metadata": {},
   "outputs": [],
   "source": [
    "from pyspark.conf import SparkConf\n",
    "\n",
    "conf = SparkConf()\n",
    "conf.setMaster(\"local[1]\").setAppName(\"JDBCExample\")\n",
    "\n",
    "\n",
    "from pyspark.sql import SparkSession\n",
    "spark = SparkSession.builder.config(conf=conf).getOrCreate()"
   ]
  },
  {
   "cell_type": "markdown",
   "metadata": {},
   "source": [
    "## Read from RDS"
   ]
  },
  {
   "cell_type": "code",
   "execution_count": 3,
   "metadata": {},
   "outputs": [],
   "source": [
    "df = spark.read \\\n",
    "    .format(\"jdbc\") \\\n",
    "    .option(\"url\", \"jdbc:postgresql://bond-psql.ckzprcrersc2.us-east-2.rds.amazonaws.com:5432/productdb\") \\\n",
    "    .option(\"dbtable\", \"products\") \\\n",
    "    .option(\"user\", \"postgres\") \\\n",
    "    .option(\"password\", \"AwCT$May21\") \\\n",
    "    .option(\"driver\", \"org.postgresql.Driver\") \\\n",
    "    .load()"
   ]
  },
  {
   "cell_type": "code",
   "execution_count": 5,
   "metadata": {},
   "outputs": [
    {
     "name": "stdout",
     "output_type": "stream",
     "text": [
      "+----------+------------+--------+\n",
      "|product_id|product_name|brand_id|\n",
      "+----------+------------+--------+\n",
      "|         1|      Xiaomi|     100|\n",
      "|         2|          S5|     200|\n",
      "+----------+------------+--------+\n",
      "\n"
     ]
    }
   ],
   "source": [
    "df.show()"
   ]
  },
  {
   "cell_type": "code",
   "execution_count": 6,
   "metadata": {},
   "outputs": [
    {
     "name": "stdout",
     "output_type": "stream",
     "text": [
      "+----------+------------+--------+\n",
      "|product_id|product_name|brand_id|\n",
      "+----------+------------+--------+\n",
      "|         1|      iPhone|     100|\n",
      "|         2|      Galaxy|     200|\n",
      "|         3|       Redme|     300|\n",
      "|         4|       Pixel|     400|\n",
      "+----------+------------+--------+\n",
      "\n",
      "root\n",
      " |-- product_id: long (nullable = true)\n",
      " |-- product_name: string (nullable = true)\n",
      " |-- brand_id: long (nullable = true)\n",
      "\n"
     ]
    }
   ],
   "source": [
    "products = [ \n",
    "          # (product_id, product_name, brand_id)  \n",
    "         (1, 'iPhone', 100),\n",
    "         (2, 'Galaxy', 200),\n",
    "         (3, 'Redme', 300), # orphan record, no matching brand\n",
    "         (4, 'Pixel', 400),\n",
    "]\n",
    "productDf = spark.createDataFrame(data=products, schema=[\"product_id\", \"product_name\", \"brand_id\"])\n",
    "productDf.show()\n",
    "productDf.printSchema()"
   ]
  },
  {
   "cell_type": "markdown",
   "metadata": {},
   "source": [
    "## Write to RDS"
   ]
  },
  {
   "cell_type": "code",
   "execution_count": 8,
   "metadata": {},
   "outputs": [],
   "source": [
    "productDf.write \\\n",
    "    .format(\"jdbc\") \\\n",
    "    .option(\"url\", \"jdbc:postgresql://bond-psql.ckzprcrersc2.us-east-2.rds.amazonaws.com:5432/productdb\") \\\n",
    "    .option(\"dbtable\", \"products\") \\\n",
    "    .option(\"user\", \"postgres\") \\\n",
    "    .option(\"password\", \"AwCT$May21\") \\\n",
    "    .option(\"driver\", \"org.postgresql.Driver\") \\\n",
    "    .mode(\"append\")\\\n",
    "    .save()"
   ]
  },
  {
   "cell_type": "code",
   "execution_count": 9,
   "metadata": {},
   "outputs": [
    {
     "name": "stdout",
     "output_type": "stream",
     "text": [
      "+----------+------------+--------+\n",
      "|product_id|product_name|brand_id|\n",
      "+----------+------------+--------+\n",
      "|         1|      Xiaomi|     100|\n",
      "|         2|          S5|     200|\n",
      "|         1|      iPhone|     100|\n",
      "|         2|      Galaxy|     200|\n",
      "|         3|       Redme|     300|\n",
      "|         4|       Pixel|     400|\n",
      "+----------+------------+--------+\n",
      "\n"
     ]
    }
   ],
   "source": [
    "df.show()"
   ]
  },
  {
   "cell_type": "markdown",
   "metadata": {},
   "source": [
    "## Overwrite to RDS"
   ]
  },
  {
   "cell_type": "code",
   "execution_count": 10,
   "metadata": {},
   "outputs": [],
   "source": [
    "productDf.write \\\n",
    "    .format(\"jdbc\") \\\n",
    "    .option(\"url\", \"jdbc:postgresql://bond-psql.ckzprcrersc2.us-east-2.rds.amazonaws.com:5432/productdb\") \\\n",
    "    .option(\"dbtable\", \"products\") \\\n",
    "    .option(\"user\", \"postgres\") \\\n",
    "    .option(\"password\", \"AwCT$May21\") \\\n",
    "    .option(\"driver\", \"org.postgresql.Driver\") \\\n",
    "    .mode(\"overwrite\")\\\n",
    "    .save()"
   ]
  },
  {
   "cell_type": "code",
   "execution_count": 11,
   "metadata": {},
   "outputs": [
    {
     "name": "stdout",
     "output_type": "stream",
     "text": [
      "+----------+------------+--------+\n",
      "|product_id|product_name|brand_id|\n",
      "+----------+------------+--------+\n",
      "|         1|      iPhone|     100|\n",
      "|         2|      Galaxy|     200|\n",
      "|         3|       Redme|     300|\n",
      "|         4|       Pixel|     400|\n",
      "+----------+------------+--------+\n",
      "\n"
     ]
    }
   ],
   "source": [
    "productDf.show()"
   ]
  }
 ],
 "metadata": {
  "kernelspec": {
   "display_name": "Python 3",
   "language": "python",
   "name": "python3"
  },
  "language_info": {
   "codemirror_mode": {
    "name": "ipython",
    "version": 3
   },
   "file_extension": ".py",
   "mimetype": "text/x-python",
   "name": "python",
   "nbconvert_exporter": "python",
   "pygments_lexer": "ipython3",
   "version": "3.7.7"
  }
 },
 "nbformat": 4,
 "nbformat_minor": 4
}
