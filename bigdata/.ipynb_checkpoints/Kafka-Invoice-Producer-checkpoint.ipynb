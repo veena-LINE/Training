{
 "cells": [
  {
   "cell_type": "code",
   "execution_count": 1,
   "metadata": {},
   "outputs": [],
   "source": [
    "from kafka import KafkaProducer\n",
    "from kafka.errors import KafkaError\n",
    "import random\n",
    "import uuid\n",
    "import datetime\n",
    "import json\n",
    "import time"
   ]
  },
  {
   "cell_type": "code",
   "execution_count": 2,
   "metadata": {},
   "outputs": [],
   "source": [
    "#  $KAFKA_HOME/bin/kafka-topics.sh  --create --bootstrap-server localhost:9092 --replication-factor 1 --partitions 4 --topic invoices\n",
    "\n",
    "# for testing to check whether we have invoice generated or not.\n",
    "# $KAFKA_HOME/bin/kafka-console-consumer.sh --bootstrap-server localhost:9092 --topic invoices \n"
   ]
  },
  {
   "cell_type": "code",
   "execution_count": 3,
   "metadata": {},
   "outputs": [],
   "source": [
    "\n",
    "TOPIC = \"invoices\"\n",
    "SAMPLES = 200\n",
    "DELAY = 4  # seconds\n",
    "\n",
    "countries = [\"USA\", \"CA\", \"IN\", \"AT\", \"BE\", \"BG\", \"HR\", \"CY\", \"CZ\", \"DK\", \"EE\", \"FI\", \"FR\", \"DE\", \"GR\", \"HU\", \"IE\", \"IT\", \"LV\", \"LT\", \"LU\", \"MT\", \"NL\", \"PL\", \"PT\", \"RO\", \"SK\", \"SI\", \"ES\", \"SE\"]\n",
    "stock_codes = ['85123A', '71053', '84406B', '84406G', '84406E']\n",
    "customer_codes = [17850, 13047, 12583, 17850]\n"
   ]
  },
  {
   "cell_type": "code",
   "execution_count": null,
   "metadata": {},
   "outputs": [
    {
     "name": "stdout",
     "output_type": "stream",
     "text": [
      "POS  {\"InvoiceNo\": 978600, \"StockCode\": \"85123A\", \"Quantity\": 1, \"Description\": \"TODO\", \"InvoiceDate\": \"05/22/2021 02:22\", \"UnitPrice\": 5.0, \"CustomerID\": 17850, \"Country\": \"USA\"}\n",
      "POS  {\"InvoiceNo\": 978600, \"StockCode\": \"84406G\", \"Quantity\": 1, \"Description\": \"TODO\", \"InvoiceDate\": \"05/22/2021 02:22\", \"UnitPrice\": 3.0, \"CustomerID\": 17850, \"Country\": \"USA\"}\n",
      "POS  {\"InvoiceNo\": 978600, \"StockCode\": \"84406E\", \"Quantity\": 5, \"Description\": \"TODO\", \"InvoiceDate\": \"05/22/2021 02:22\", \"UnitPrice\": 3.0, \"CustomerID\": 17850, \"Country\": \"USA\"}\n",
      "POS  {\"InvoiceNo\": 978600, \"StockCode\": \"71053\", \"Quantity\": 2, \"Description\": \"TODO\", \"InvoiceDate\": \"05/22/2021 02:22\", \"UnitPrice\": 1.0, \"CustomerID\": 17850, \"Country\": \"USA\"}\n"
     ]
    }
   ],
   "source": [
    "# broker runs in linux machine\n",
    "producer = KafkaProducer(bootstrap_servers=['192.168.93.128:9092'])\n",
    "\n",
    "\n",
    "for i in range(SAMPLES):\n",
    "    country =  random.choice(countries)\n",
    "    invoice_no = str(uuid.uuid4().fields[-1])[:6]\n",
    "    invoice_no = int(invoice_no)\n",
    "    \n",
    "    customer_code =  random.choice(customer_codes)\n",
    "   \n",
    "    current_time = datetime.datetime.now()\n",
    " \n",
    "    invoice_date = current_time.strftime('%m/%d/%Y %H:%M') \n",
    "    \n",
    "    number_of_items = random.randint(3, 10)\n",
    "    \n",
    "    for j in range(number_of_items):\n",
    "        # MM/dd/yyyy hh:mm\n",
    "        quantity = random.randint(1, 10)\n",
    "        unit_price = float(random.randint(1, 5))\n",
    "        stock_code =  random.choice(stock_codes)\n",
    "        invoice = {  \"InvoiceNo\": invoice_no,\n",
    "                     \"StockCode\": stock_code ,\n",
    "                     \"Quantity\": quantity,\n",
    "                    \"Description\": \"TODO\",\n",
    "                    \"InvoiceDate\": invoice_date,\n",
    "                    \"UnitPrice\": unit_price,\n",
    "                    \"CustomerID\": customer_code,\n",
    "                     \"Country\"  : country   }\n",
    "    \n",
    "        invoice_str = json.dumps(invoice)\n",
    "        print (\"POS \", invoice_str)\n",
    "\n",
    "        key = invoice[\"Country\"]\n",
    "        producer.send(TOPIC, key=bytes(key,'utf-8'), value=bytes(invoice_str, 'utf-8'))\n",
    "        \n",
    "    time.sleep(DELAY)\n"
   ]
  },
  {
   "cell_type": "code",
   "execution_count": null,
   "metadata": {},
   "outputs": [],
   "source": [
    "# try:\n",
    "#     # get acknowledgement from broker\n",
    "#     # if the broker doesn't respond on time within 10 seconds, throws exception\n",
    "#     record_metadata = future.get(timeout=10)\n",
    "# except KafkaError:\n",
    "#     # Decide what to do if produce request failed...\n",
    "#     print(\"Error\")\n",
    "    \n",
    "\n",
    "# # Successful result returns assigned partition and offset\n",
    "# print (\"topic\", record_metadata.topic)\n",
    "# print (\"partition\", record_metadata.partition)\n",
    "# print (\"offset\",record_metadata.offset) # offset given by broker"
   ]
  }
 ],
 "metadata": {
  "kernelspec": {
   "display_name": "Python 3",
   "language": "python",
   "name": "python3"
  },
  "language_info": {
   "codemirror_mode": {
    "name": "ipython",
    "version": 3
   },
   "file_extension": ".py",
   "mimetype": "text/x-python",
   "name": "python",
   "nbconvert_exporter": "python",
   "pygments_lexer": "ipython3",
   "version": "3.7.7"
  }
 },
 "nbformat": 4,
 "nbformat_minor": 4
}
