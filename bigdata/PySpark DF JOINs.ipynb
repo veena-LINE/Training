{
 "cells": [
  {
   "cell_type": "code",
   "execution_count": 1,
   "metadata": {},
   "outputs": [],
   "source": [
    "import findspark\n",
    "findspark.init()"
   ]
  },
  {
   "cell_type": "code",
   "execution_count": 2,
   "metadata": {},
   "outputs": [],
   "source": [
    "from pyspark.conf import SparkConf\n",
    "\n",
    "config = SparkConf()\n",
    "config = config.setMaster(\"spark://192.168.11.77:7077\").setAppName(\"JOINs:CLUSTER\")\n"
   ]
  },
  {
   "cell_type": "code",
   "execution_count": 3,
   "metadata": {},
   "outputs": [],
   "source": [
    "conf = \\\n",
    "(\n",
    "    config\n",
    "    .set(\"spark.executor.memory\", \"2g\")\n",
    "    .set(\"spark.executor.cores\", 4)\n",
    "    .set(\"spark.cores.max\", 4)\n",
    "    .set(\"spark.driver.memory\", \"2g\")\n",
    ")"
   ]
  },
  {
   "cell_type": "code",
   "execution_count": 4,
   "metadata": {},
   "outputs": [],
   "source": [
    "from pyspark.sql import SparkSession\n",
    "\n",
    "ss = SparkSession.builder.config(conf=conf).getOrCreate()"
   ]
  },
  {
   "cell_type": "code",
   "execution_count": 5,
   "metadata": {},
   "outputs": [
    {
     "name": "stdout",
     "output_type": "stream",
     "text": [
      "+----------+------------+--------+\n",
      "|product_id|product_name|brand_id|\n",
      "+----------+------------+--------+\n",
      "|         1|      iPhone|     100|\n",
      "|         2|      Galaxy|     200|\n",
      "|         3|       RedMi|     300|\n",
      "|         4|       Pixel|     400|\n",
      "+----------+------------+--------+\n",
      "\n",
      "+--------+----------+\n",
      "|brand_id|brand_name|\n",
      "+--------+----------+\n",
      "|     100|     Apple|\n",
      "|     200|   Samsung|\n",
      "|     400|    Google|\n",
      "|     500|      Sony|\n",
      "+--------+----------+\n",
      "\n"
     ]
    },
    {
     "data": {
      "text/plain": [
       "(None, None)"
      ]
     },
     "execution_count": 5,
     "metadata": {},
     "output_type": "execute_result"
    }
   ],
   "source": [
    "products = (\n",
    "    # (product_id, product_name, brand_id)  \n",
    "    (1, 'iPhone', 100),\n",
    "    (2, 'Galaxy', 200),\n",
    "    (3, 'RedMi', 300),  # orphan record, no matching brand\n",
    "    (4, 'Pixel', 400),\n",
    ")\n",
    "brands = (\n",
    "    #(brand_id, brand_name)\n",
    "    (100, \"Apple\"),\n",
    "    (200, \"Samsung\"),\n",
    "    (400, \"Google\"),\n",
    "    (500, \"Sony\"),  # no matching product\n",
    ")\n",
    " \n",
    "df_product = ss.createDataFrame(data=products, schema=(\"product_id\", \"product_name\", \"brand_id\"))\n",
    "df_brand = ss.createDataFrame(data=brands, schema=(\"brand_id\", \"brand_name\"))\n",
    "\n",
    "df_product.show(), df_brand.show()"
   ]
  },
  {
   "cell_type": "markdown",
   "metadata": {},
   "source": [
    "---"
   ]
  },
  {
   "cell_type": "code",
   "execution_count": 6,
   "metadata": {},
   "outputs": [
    {
     "name": "stdout",
     "output_type": "stream",
     "text": [
      "+----------+------------+--------+--------+----------+\n",
      "|product_id|product_name|brand_id|brand_id|brand_name|\n",
      "+----------+------------+--------+--------+----------+\n",
      "|         1|      iPhone|     100|     100|     Apple|\n",
      "|         2|      Galaxy|     200|     200|   Samsung|\n",
      "|         4|       Pixel|     400|     400|    Google|\n",
      "+----------+------------+--------+--------+----------+\n",
      "\n"
     ]
    }
   ],
   "source": [
    "\"\"\"\n",
    "INNER JOIN\n",
    "df_product (left side of the join) JOIN df_brand (right side of the join)\n",
    "\"\"\"\n",
    "\n",
    "df_product.join(df_brand, df_product[\"brand_id\"] ==  df_brand[\"brand_id\"], how=\"inner\").show()"
   ]
  },
  {
   "cell_type": "code",
   "execution_count": 7,
   "metadata": {},
   "outputs": [
    {
     "name": "stdout",
     "output_type": "stream",
     "text": [
      "+--------+----------+------------+----------+\n",
      "|brand_id|product_id|product_name|brand_name|\n",
      "+--------+----------+------------+----------+\n",
      "|     100|         1|      iPhone|     Apple|\n",
      "|     200|         2|      Galaxy|   Samsung|\n",
      "|     400|         4|       Pixel|    Google|\n",
      "+--------+----------+------------+----------+\n",
      "\n"
     ]
    }
   ],
   "source": [
    "\"\"\"\n",
    "Same as above.\n",
    "Common join column ca be specified once.\n",
    "\"\"\"\n",
    "\n",
    "df_product.join(df_brand, on=\"brand_id\", how=\"inner\").show()"
   ]
  },
  {
   "cell_type": "markdown",
   "metadata": {},
   "source": [
    "---"
   ]
  },
  {
   "cell_type": "code",
   "execution_count": 8,
   "metadata": {},
   "outputs": [
    {
     "name": "stdout",
     "output_type": "stream",
     "text": [
      "+--------+----------+------------+----------+\n",
      "|brand_id|product_id|product_name|brand_name|\n",
      "+--------+----------+------------+----------+\n",
      "|     500|      null|        null|      Sony|\n",
      "|     100|         1|      iPhone|     Apple|\n",
      "|     200|         2|      Galaxy|   Samsung|\n",
      "|     400|         4|       Pixel|    Google|\n",
      "|     300|         3|       RedMi|      null|\n",
      "+--------+----------+------------+----------+\n",
      "\n"
     ]
    }
   ],
   "source": [
    "\"\"\"\n",
    "OUTER JOIN / FULL OUTER JOIN\n",
    "Records from both the left + right DFs (whether matches or not)\n",
    "\"\"\"\n",
    "\n",
    "df_product.join(df_brand, on=\"brand_id\", how=\"outer\").show()"
   ]
  },
  {
   "cell_type": "code",
   "execution_count": 9,
   "metadata": {},
   "outputs": [
    {
     "name": "stdout",
     "output_type": "stream",
     "text": [
      "+--------+----------+------------+----------+\n",
      "|brand_id|product_id|product_name|brand_name|\n",
      "+--------+----------+------------+----------+\n",
      "|     100|         1|      iPhone|     Apple|\n",
      "|     200|         2|      Galaxy|   Samsung|\n",
      "|     400|         4|       Pixel|    Google|\n",
      "|     300|         3|       RedMi|      null|\n",
      "+--------+----------+------------+----------+\n",
      "\n"
     ]
    }
   ],
   "source": [
    "\"\"\"\n",
    "LEFT / LEFT OUTER JOIN\n",
    "All records from left DF.\n",
    "Unmatched right DF entries appear as null.\n",
    "\"\"\"\n",
    "\n",
    "df_product.join(df_brand, on=\"brand_id\", how=\"leftouter\").show()"
   ]
  },
  {
   "cell_type": "code",
   "execution_count": 10,
   "metadata": {},
   "outputs": [
    {
     "name": "stdout",
     "output_type": "stream",
     "text": [
      "+--------+----------+------------+----------+\n",
      "|brand_id|product_id|product_name|brand_name|\n",
      "+--------+----------+------------+----------+\n",
      "|     500|      null|        null|      Sony|\n",
      "|     100|         1|      iPhone|     Apple|\n",
      "|     200|         2|      Galaxy|   Samsung|\n",
      "|     400|         4|       Pixel|    Google|\n",
      "+--------+----------+------------+----------+\n",
      "\n"
     ]
    }
   ],
   "source": [
    "\"\"\"\n",
    "RIGHT / RIGHT OUTER JOIN\n",
    "All records from right DF.\n",
    "Unmatched left DF entries appear as null.\n",
    "\"\"\"\n",
    "\n",
    "df_product.join(df_brand, on=\"brand_id\", how=\"rightouter\").show()"
   ]
  },
  {
   "cell_type": "code",
   "execution_count": 11,
   "metadata": {},
   "outputs": [
    {
     "name": "stdout",
     "output_type": "stream",
     "text": [
      "-- join(on) --\n",
      "+--------+----------+------------+\n",
      "|brand_id|product_id|product_name|\n",
      "+--------+----------+------------+\n",
      "|     100|         1|      iPhone|\n",
      "|     200|         2|      Galaxy|\n",
      "|     400|         4|       Pixel|\n",
      "+--------+----------+------------+\n",
      "\n",
      "-- join(==) --\n",
      "+----------+------------+--------+\n",
      "|product_id|product_name|brand_id|\n",
      "+----------+------------+--------+\n",
      "|         1|      iPhone|     100|\n",
      "|         2|      Galaxy|     200|\n",
      "|         4|       Pixel|     400|\n",
      "+----------+------------+--------+\n",
      "\n"
     ]
    }
   ],
   "source": [
    "\"\"\"\n",
    "LEFT-SEMI JOIN\n",
    "LEFT join with only left-columns retained.\n",
    "\"\"\"\n",
    "\n",
    "print(\"-- join(on) --\")\n",
    "df_product.join(df_brand, on=\"brand_id\", how=\"leftsemi\").show()\n",
    "\n",
    "print(\"-- join(==) --\")\n",
    "df_product.join(df_brand, df_product[\"brand_id\"] ==  df_brand[\"brand_id\"], \"leftsemi\").show()"
   ]
  },
  {
   "cell_type": "code",
   "execution_count": 12,
   "metadata": {},
   "outputs": [
    {
     "name": "stdout",
     "output_type": "stream",
     "text": [
      "+--------+----------+------------+\n",
      "|brand_id|product_id|product_name|\n",
      "+--------+----------+------------+\n",
      "|     300|         3|       RedMi|\n",
      "+--------+----------+------------+\n",
      "\n",
      "+----------+------------+--------+\n",
      "|product_id|product_name|brand_id|\n",
      "+----------+------------+--------+\n",
      "|         3|       RedMi|     300|\n",
      "+----------+------------+--------+\n",
      "\n"
     ]
    }
   ],
   "source": [
    "\"\"\"\n",
    "LEFT-ANTI JOIN\n",
    "Exact Opposite of LEFT-SEMI.\n",
    "LEFT join returns left df records that don't have a right-df match!\n",
    "\"\"\"\n",
    "\n",
    "df_product.join(df_brand, on=\"brand_id\", how=\"leftanti\").show()\n",
    "df_product.join(df_brand, df_product[\"brand_id\"] ==  df_brand[\"brand_id\"], \"leftanti\").show()"
   ]
  },
  {
   "cell_type": "code",
   "execution_count": 13,
   "metadata": {},
   "outputs": [],
   "source": [
    "# Cross Join\n"
   ]
  }
 ],
 "metadata": {
  "kernelspec": {
   "display_name": "Python 3",
   "language": "python",
   "name": "python3"
  },
  "language_info": {
   "codemirror_mode": {
    "name": "ipython",
    "version": 3
   },
   "file_extension": ".py",
   "mimetype": "text/x-python",
   "name": "python",
   "nbconvert_exporter": "python",
   "pygments_lexer": "ipython3",
   "version": "3.7.7"
  }
 },
 "nbformat": 4,
 "nbformat_minor": 4
}
